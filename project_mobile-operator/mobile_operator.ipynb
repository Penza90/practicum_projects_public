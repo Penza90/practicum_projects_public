{
 "cells": [
  {
   "cell_type": "markdown",
   "id": "00cfe227",
   "metadata": {},
   "source": [
    "# ПРОЕКТ \"ОТТОК КЛИЕНТОВ МОБИЛЬНОГО ОПЕРАТОРА\""
   ]
  },
  {
   "cell_type": "markdown",
   "id": "a31f613c",
   "metadata": {},
   "source": [
    "## Описание проекта"
   ]
  },
  {
   "cell_type": "markdown",
   "id": "141d43c2",
   "metadata": {},
   "source": [
    "Оператор связи хочет научиться прогнозировать отток клиентов. Если выяснится, что пользователь планирует уйти, ему будут предложены промокоды и специальные условия. Команда оператора собрала персональные данные о некоторых клиентах, информацию об их тарифах и договорах. **В рамках проекта перед нами поставлена задача создать и обучить модель, которая бы предсказывала, откажется ли клиент от услуг оператора или нет.**"
   ]
  },
  {
   "cell_type": "markdown",
   "id": "6ef73cd4",
   "metadata": {},
   "source": [
    "### Описание предлагаемых оператором услуг"
   ]
  },
  {
   "cell_type": "markdown",
   "id": "110cdb18",
   "metadata": {},
   "source": [
    "Оператор предоставляет два основных типа услуг: \n",
    "- Стационарную телефонную связь. Возможно подключение телефонного аппарата к нескольким линиям одновременно.\n",
    "- Интернет. Подключение может быть двух типов: через телефонную линию (DSL, от англ. digital subscriber line, «цифровая абонентская линия») или оптоволоконный кабель (Fiber optic).\n",
    "\n",
    "\n",
    "Также доступны такие услуги:\n",
    "- Интернет-безопасность: антивирус (DeviceProtection) и блокировка небезопасных сайтов (OnlineSecurity);\n",
    "- Выделенная линия технической поддержки (TechSupport);\n",
    "- Облачное хранилище файлов для резервного копирования данных (OnlineBackup);\n",
    "- Стриминговое телевидение (StreamingTV) и каталог фильмов (StreamingMovies)."
   ]
  },
  {
   "cell_type": "markdown",
   "id": "5d707f17",
   "metadata": {},
   "source": [
    "### Варианты оплаты услуг"
   ]
  },
  {
   "cell_type": "markdown",
   "id": "8a7bd42d",
   "metadata": {},
   "source": [
    "- За услуги клиенты могут платить каждый месяц или заключить договор на 1–2 года. \n",
    "- Доступны различные способы расчёта и возможность получения электронного чека."
   ]
  },
  {
   "cell_type": "markdown",
   "id": "5acf29d8",
   "metadata": {},
   "source": [
    "### Описание предоставленных данных"
   ]
  },
  {
   "cell_type": "markdown",
   "id": "d182ae8b",
   "metadata": {},
   "source": [
    "Данные состоят из файлов, полученных из разных источников:\n",
    "- contract_new.csv — информация о договоре;\n",
    "- personal_new.csv — персональные данные клиента;\n",
    "- internet_new.csv — информация об интернет-услугах;\n",
    "- phone_new.csv — информация об услугах телефонии.\n",
    "\n",
    "\n",
    "Во всех файлах столбец customerID содержит код клиента.\n",
    "\n",
    "\n",
    "Информация о договорах актуальна на 1 февраля 2020."
   ]
  },
  {
   "cell_type": "markdown",
   "id": "6487c50a",
   "metadata": {},
   "source": [
    "## План выполнения проекта"
   ]
  },
  {
   "cell_type": "markdown",
   "id": "ccf8fd4a",
   "metadata": {},
   "source": [
    "- изучим требования заказчика, приведенные в описании проекта\n",
    "- посредством try/except загрузим предоставленные данные\n",
    "- проведем их исследовательский анализ:\n",
    "  - задействуем методы head, info, describe\n",
    "  - визуализируем признаки\n",
    "  - сделаем выводы, возникшие вопросы зададим teamlead\n",
    "- осуществим предобработку данных:\n",
    "  - объединим данные в единый df\n",
    "  - проверим данные на дубликаты, пропуски и аномалии\n",
    "  - при необходимости создадим новые признаки, отредактируем названия представленных, удалим бесполезные для анализа признаки\n",
    "  - при необходимости изменим типы данных признаков\n",
    "  - проверим признаки на наличие корреляций\n",
    "- разделим данные на две выборки: обучающую и тестовую\n",
    "- осуществим кодирование категориальных признаков\n",
    "- при необходимости осуществим масштабирование признаков\n",
    "- создадим и обучим модели машинного обучения на обучающей выборке:\n",
    "  - будем использовать как минимум три модели, в т.ч. градиентный бустинг\n",
    "  - в рамках обучения и выбора моделей будем осуществлять подбор гиперпараметров посредством кросс-валидации\n",
    "- осуществим проверку качества лучшей модели на тестовой выборке\n",
    "- исследуем важность признаков лучшей модели\n",
    "- напишем вывод по результатам работы с моделями\n",
    "- напишем общий вывод по проекту:\n",
    "  - подсветим какие пункты плана выполнили, а какие нет\n",
    "  - укажем трудности, с которыми столкнулись\n",
    "  - опишем ключевые шаги по проекту\n",
    "  - приведем лучшую модель с гиперпараметрами, укажем ее качество\n",
    "  - обозначим список использованных для обучения признаков, опишем порядок их предобработки\n",
    "  - финализируем рекомендацию заказчику."
   ]
  },
  {
   "cell_type": "markdown",
   "id": "32ff9ccf",
   "metadata": {},
   "source": [
    "## Исследовательский анализ данных"
   ]
  },
  {
   "cell_type": "markdown",
   "id": "4bb0f98a",
   "metadata": {},
   "source": [
    "- в рамках проекта нам предоставлены данные о договорах, заключенных с клиентами с 2014 по 2020 гг., персональная информация о клиентах оператора, данные об использовании клиентами интернет услуг и телефонии;\n",
    "- записей об использовании интернет услуг и телефонии меньше, чем данных о клиентах и заключенных договорах, так как, по видимому, не все клиенты ими пользуются;\n",
    "- большинство клиентов продолжают пользоваться услугами оператора, поэтому в основном EndDate заполнено как No;\n",
    "- в основном клиенты оплачивают услуги на ежемесячной основе посредством электронного чека, при этом большинство не требует бумажный вариант;\n",
    "- у большинства клиентов ежемесячные расходы составляют порядка 20 ед.;\n",
    "- база данных поровну содержит информацию о клиентах как мужского, так и женского пола. Также поровну распределены записи об одиноких клиентах и о клиентах с супругой/супругом;\n",
    "- пенсионеры и клиенты с детьми представляют собой меньшинство в представленных данных;\n",
    "- в части использования интернет-услуг отмечаем, что:\n",
    "  - с небольшим перевесом клиенты предпочитают оптоволоконный кабельный интернет;\n",
    "  - в основном клиенты не пользуются дополнительными интернет-услугами;\n",
    "  - примерно поровну разделились клиенты, которые пользуются и не пользуются стриминговым ТВ и каталогом фильмов.\n",
    "- в части использования услуг телефонии с небольшим перевесом преобладают клиенты, которые не пользуются возможностью подключения телефона к нескольким линиям одновременно;\n",
    "- ряд признаков имеют неверный тип, исправим это далее на этапе предобработки данных."
   ]
  },
  {
   "cell_type": "code",
   "execution_count": 1,
   "id": "e9eeb154",
   "metadata": {},
   "outputs": [
    {
     "name": "stdout",
     "output_type": "stream",
     "text": [
      "Requirement already satisfied: lightgbm in c:\\anaconda\\lib\\site-packages (4.0.0)\n",
      "Requirement already satisfied: numpy in c:\\anaconda\\lib\\site-packages (from lightgbm) (1.21.5)\n",
      "Requirement already satisfied: scipy in c:\\anaconda\\lib\\site-packages (from lightgbm) (1.9.1)\n"
     ]
    }
   ],
   "source": [
    "#загрузка библиотек\n",
    "import pandas as pd\n",
    "import matplotlib.pyplot as plt\n",
    "\n",
    "#!pip install scikit-learn==1.1.3\n",
    "from sklearn.model_selection import train_test_split\n",
    "from sklearn.preprocessing import OrdinalEncoder, OneHotEncoder, StandardScaler\n",
    "from sklearn.tree import DecisionTreeClassifier\n",
    "from sklearn.ensemble import RandomForestClassifier\n",
    "from sklearn.linear_model import LogisticRegression\n",
    "from sklearn.inspection import permutation_importance\n",
    "\n",
    "!pip install lightgbm\n",
    "import lightgbm as lgb\n",
    "\n",
    "from sklearn.model_selection import GridSearchCV\n",
    "from sklearn.metrics import roc_auc_score, precision_score, confusion_matrix\n",
    "\n",
    "import warnings\n",
    "warnings.filterwarnings(\"ignore\")"
   ]
  },
  {
   "cell_type": "code",
   "execution_count": 2,
   "id": "237eb21c",
   "metadata": {},
   "outputs": [],
   "source": [
    "#открываем данные\n",
    "#конструкцию с try/except, а также ссылку на данные в сети убрал в целях обеспечения конфиденциальности данных Практикума\n",
    "contracts = \\\n",
    "    pd.read_csv('C:\\\\Users\\\\Илья\\\\Documents\\\\Программирование\\\\Data Science\\\\Проект_Финальный спринт\\\\contract_new.csv')\n",
    "\n",
    "clients = \\\n",
    "    pd.read_csv('C:\\\\Users\\\\Илья\\\\Documents\\\\Программирование\\\\Data Science\\\\Проект_Финальный спринт\\\\personal_new.csv')\n",
    "    \n",
    "internet = \\\n",
    "    pd.read_csv('C:\\\\Users\\\\Илья\\\\Documents\\\\Программирование\\\\Data Science\\\\Проект_Финальный спринт\\\\internet_new.csv')\n",
    "    \n",
    "phone = \\\n",
    "    pd.read_csv('C:\\\\Users\\\\Илья\\\\Documents\\\\Программирование\\\\Data Science\\\\Проект_Финальный спринт\\\\phone_new.csv')"
   ]
  },
  {
   "cell_type": "markdown",
   "id": "464d04b2",
   "metadata": {},
   "source": [
    "- в рамках проекта нам предоставлены данные о договорах, заключенных с клиентами, персональная информация о клиентах оператора, данные об использовании клиентами интернет услуг и телефонии;\n",
    "- максимальная длина df - более 7 тыс. строк. Это данные о клиентах и заключенных договорах. Записей об использовании интернет услуг и телефонии меньше, так как, по видимому, не все клиенты ими пользуются;\n",
    "- ряд признаков имеют неверный тип, исправим это далее на этапе предобработки данных"
   ]
  },
  {
   "cell_type": "code",
   "execution_count": 3,
   "id": "9e25b7b6",
   "metadata": {},
   "outputs": [
    {
     "name": "stdout",
     "output_type": "stream",
     "text": [
      "contracts\n"
     ]
    },
    {
     "data": {
      "text/html": [
       "<div>\n",
       "<style scoped>\n",
       "    .dataframe tbody tr th:only-of-type {\n",
       "        vertical-align: middle;\n",
       "    }\n",
       "\n",
       "    .dataframe tbody tr th {\n",
       "        vertical-align: top;\n",
       "    }\n",
       "\n",
       "    .dataframe thead th {\n",
       "        text-align: right;\n",
       "    }\n",
       "</style>\n",
       "<table border=\"1\" class=\"dataframe\">\n",
       "  <thead>\n",
       "    <tr style=\"text-align: right;\">\n",
       "      <th></th>\n",
       "      <th>customerID</th>\n",
       "      <th>BeginDate</th>\n",
       "      <th>EndDate</th>\n",
       "      <th>Type</th>\n",
       "      <th>PaperlessBilling</th>\n",
       "      <th>PaymentMethod</th>\n",
       "      <th>MonthlyCharges</th>\n",
       "      <th>TotalCharges</th>\n",
       "    </tr>\n",
       "  </thead>\n",
       "  <tbody>\n",
       "    <tr>\n",
       "      <th>0</th>\n",
       "      <td>7590-VHVEG</td>\n",
       "      <td>2020-01-01</td>\n",
       "      <td>No</td>\n",
       "      <td>Month-to-month</td>\n",
       "      <td>Yes</td>\n",
       "      <td>Electronic check</td>\n",
       "      <td>29.85</td>\n",
       "      <td>31.04</td>\n",
       "    </tr>\n",
       "    <tr>\n",
       "      <th>1</th>\n",
       "      <td>5575-GNVDE</td>\n",
       "      <td>2017-04-01</td>\n",
       "      <td>No</td>\n",
       "      <td>One year</td>\n",
       "      <td>No</td>\n",
       "      <td>Mailed check</td>\n",
       "      <td>56.95</td>\n",
       "      <td>2071.84</td>\n",
       "    </tr>\n",
       "    <tr>\n",
       "      <th>2</th>\n",
       "      <td>3668-QPYBK</td>\n",
       "      <td>2019-10-01</td>\n",
       "      <td>No</td>\n",
       "      <td>Month-to-month</td>\n",
       "      <td>Yes</td>\n",
       "      <td>Mailed check</td>\n",
       "      <td>53.85</td>\n",
       "      <td>226.17</td>\n",
       "    </tr>\n",
       "    <tr>\n",
       "      <th>3</th>\n",
       "      <td>7795-CFOCW</td>\n",
       "      <td>2016-05-01</td>\n",
       "      <td>No</td>\n",
       "      <td>One year</td>\n",
       "      <td>No</td>\n",
       "      <td>Bank transfer (automatic)</td>\n",
       "      <td>42.30</td>\n",
       "      <td>1960.6</td>\n",
       "    </tr>\n",
       "    <tr>\n",
       "      <th>4</th>\n",
       "      <td>9237-HQITU</td>\n",
       "      <td>2019-09-01</td>\n",
       "      <td>No</td>\n",
       "      <td>Month-to-month</td>\n",
       "      <td>Yes</td>\n",
       "      <td>Electronic check</td>\n",
       "      <td>70.70</td>\n",
       "      <td>353.5</td>\n",
       "    </tr>\n",
       "  </tbody>\n",
       "</table>\n",
       "</div>"
      ],
      "text/plain": [
       "   customerID   BeginDate EndDate            Type PaperlessBilling  \\\n",
       "0  7590-VHVEG  2020-01-01      No  Month-to-month              Yes   \n",
       "1  5575-GNVDE  2017-04-01      No        One year               No   \n",
       "2  3668-QPYBK  2019-10-01      No  Month-to-month              Yes   \n",
       "3  7795-CFOCW  2016-05-01      No        One year               No   \n",
       "4  9237-HQITU  2019-09-01      No  Month-to-month              Yes   \n",
       "\n",
       "               PaymentMethod  MonthlyCharges TotalCharges  \n",
       "0           Electronic check           29.85        31.04  \n",
       "1               Mailed check           56.95      2071.84  \n",
       "2               Mailed check           53.85       226.17  \n",
       "3  Bank transfer (automatic)           42.30       1960.6  \n",
       "4           Electronic check           70.70        353.5  "
      ]
     },
     "metadata": {},
     "output_type": "display_data"
    },
    {
     "name": "stdout",
     "output_type": "stream",
     "text": [
      "\n",
      "(7043, 8)\n",
      "\n",
      "customerID           object\n",
      "BeginDate            object\n",
      "EndDate              object\n",
      "Type                 object\n",
      "PaperlessBilling     object\n",
      "PaymentMethod        object\n",
      "MonthlyCharges      float64\n",
      "TotalCharges         object\n",
      "dtype: object\n",
      "\n",
      "clients\n"
     ]
    },
    {
     "data": {
      "text/html": [
       "<div>\n",
       "<style scoped>\n",
       "    .dataframe tbody tr th:only-of-type {\n",
       "        vertical-align: middle;\n",
       "    }\n",
       "\n",
       "    .dataframe tbody tr th {\n",
       "        vertical-align: top;\n",
       "    }\n",
       "\n",
       "    .dataframe thead th {\n",
       "        text-align: right;\n",
       "    }\n",
       "</style>\n",
       "<table border=\"1\" class=\"dataframe\">\n",
       "  <thead>\n",
       "    <tr style=\"text-align: right;\">\n",
       "      <th></th>\n",
       "      <th>customerID</th>\n",
       "      <th>gender</th>\n",
       "      <th>SeniorCitizen</th>\n",
       "      <th>Partner</th>\n",
       "      <th>Dependents</th>\n",
       "    </tr>\n",
       "  </thead>\n",
       "  <tbody>\n",
       "    <tr>\n",
       "      <th>0</th>\n",
       "      <td>7590-VHVEG</td>\n",
       "      <td>Female</td>\n",
       "      <td>0</td>\n",
       "      <td>Yes</td>\n",
       "      <td>No</td>\n",
       "    </tr>\n",
       "    <tr>\n",
       "      <th>1</th>\n",
       "      <td>5575-GNVDE</td>\n",
       "      <td>Male</td>\n",
       "      <td>0</td>\n",
       "      <td>No</td>\n",
       "      <td>No</td>\n",
       "    </tr>\n",
       "    <tr>\n",
       "      <th>2</th>\n",
       "      <td>3668-QPYBK</td>\n",
       "      <td>Male</td>\n",
       "      <td>0</td>\n",
       "      <td>No</td>\n",
       "      <td>No</td>\n",
       "    </tr>\n",
       "    <tr>\n",
       "      <th>3</th>\n",
       "      <td>7795-CFOCW</td>\n",
       "      <td>Male</td>\n",
       "      <td>0</td>\n",
       "      <td>No</td>\n",
       "      <td>No</td>\n",
       "    </tr>\n",
       "    <tr>\n",
       "      <th>4</th>\n",
       "      <td>9237-HQITU</td>\n",
       "      <td>Female</td>\n",
       "      <td>0</td>\n",
       "      <td>No</td>\n",
       "      <td>No</td>\n",
       "    </tr>\n",
       "  </tbody>\n",
       "</table>\n",
       "</div>"
      ],
      "text/plain": [
       "   customerID  gender  SeniorCitizen Partner Dependents\n",
       "0  7590-VHVEG  Female              0     Yes         No\n",
       "1  5575-GNVDE    Male              0      No         No\n",
       "2  3668-QPYBK    Male              0      No         No\n",
       "3  7795-CFOCW    Male              0      No         No\n",
       "4  9237-HQITU  Female              0      No         No"
      ]
     },
     "metadata": {},
     "output_type": "display_data"
    },
    {
     "name": "stdout",
     "output_type": "stream",
     "text": [
      "\n",
      "(7043, 5)\n",
      "\n",
      "customerID       object\n",
      "gender           object\n",
      "SeniorCitizen     int64\n",
      "Partner          object\n",
      "Dependents       object\n",
      "dtype: object\n",
      "\n",
      "internet\n"
     ]
    },
    {
     "data": {
      "text/html": [
       "<div>\n",
       "<style scoped>\n",
       "    .dataframe tbody tr th:only-of-type {\n",
       "        vertical-align: middle;\n",
       "    }\n",
       "\n",
       "    .dataframe tbody tr th {\n",
       "        vertical-align: top;\n",
       "    }\n",
       "\n",
       "    .dataframe thead th {\n",
       "        text-align: right;\n",
       "    }\n",
       "</style>\n",
       "<table border=\"1\" class=\"dataframe\">\n",
       "  <thead>\n",
       "    <tr style=\"text-align: right;\">\n",
       "      <th></th>\n",
       "      <th>customerID</th>\n",
       "      <th>InternetService</th>\n",
       "      <th>OnlineSecurity</th>\n",
       "      <th>OnlineBackup</th>\n",
       "      <th>DeviceProtection</th>\n",
       "      <th>TechSupport</th>\n",
       "      <th>StreamingTV</th>\n",
       "      <th>StreamingMovies</th>\n",
       "    </tr>\n",
       "  </thead>\n",
       "  <tbody>\n",
       "    <tr>\n",
       "      <th>0</th>\n",
       "      <td>7590-VHVEG</td>\n",
       "      <td>DSL</td>\n",
       "      <td>No</td>\n",
       "      <td>Yes</td>\n",
       "      <td>No</td>\n",
       "      <td>No</td>\n",
       "      <td>No</td>\n",
       "      <td>No</td>\n",
       "    </tr>\n",
       "    <tr>\n",
       "      <th>1</th>\n",
       "      <td>5575-GNVDE</td>\n",
       "      <td>DSL</td>\n",
       "      <td>Yes</td>\n",
       "      <td>No</td>\n",
       "      <td>Yes</td>\n",
       "      <td>No</td>\n",
       "      <td>No</td>\n",
       "      <td>No</td>\n",
       "    </tr>\n",
       "    <tr>\n",
       "      <th>2</th>\n",
       "      <td>3668-QPYBK</td>\n",
       "      <td>DSL</td>\n",
       "      <td>Yes</td>\n",
       "      <td>Yes</td>\n",
       "      <td>No</td>\n",
       "      <td>No</td>\n",
       "      <td>No</td>\n",
       "      <td>No</td>\n",
       "    </tr>\n",
       "    <tr>\n",
       "      <th>3</th>\n",
       "      <td>7795-CFOCW</td>\n",
       "      <td>DSL</td>\n",
       "      <td>Yes</td>\n",
       "      <td>No</td>\n",
       "      <td>Yes</td>\n",
       "      <td>Yes</td>\n",
       "      <td>No</td>\n",
       "      <td>No</td>\n",
       "    </tr>\n",
       "    <tr>\n",
       "      <th>4</th>\n",
       "      <td>9237-HQITU</td>\n",
       "      <td>Fiber optic</td>\n",
       "      <td>No</td>\n",
       "      <td>No</td>\n",
       "      <td>No</td>\n",
       "      <td>No</td>\n",
       "      <td>No</td>\n",
       "      <td>No</td>\n",
       "    </tr>\n",
       "  </tbody>\n",
       "</table>\n",
       "</div>"
      ],
      "text/plain": [
       "   customerID InternetService OnlineSecurity OnlineBackup DeviceProtection  \\\n",
       "0  7590-VHVEG             DSL             No          Yes               No   \n",
       "1  5575-GNVDE             DSL            Yes           No              Yes   \n",
       "2  3668-QPYBK             DSL            Yes          Yes               No   \n",
       "3  7795-CFOCW             DSL            Yes           No              Yes   \n",
       "4  9237-HQITU     Fiber optic             No           No               No   \n",
       "\n",
       "  TechSupport StreamingTV StreamingMovies  \n",
       "0          No          No              No  \n",
       "1          No          No              No  \n",
       "2          No          No              No  \n",
       "3         Yes          No              No  \n",
       "4          No          No              No  "
      ]
     },
     "metadata": {},
     "output_type": "display_data"
    },
    {
     "name": "stdout",
     "output_type": "stream",
     "text": [
      "\n",
      "(5517, 8)\n",
      "\n",
      "customerID          object\n",
      "InternetService     object\n",
      "OnlineSecurity      object\n",
      "OnlineBackup        object\n",
      "DeviceProtection    object\n",
      "TechSupport         object\n",
      "StreamingTV         object\n",
      "StreamingMovies     object\n",
      "dtype: object\n",
      "\n",
      "phone\n"
     ]
    },
    {
     "data": {
      "text/html": [
       "<div>\n",
       "<style scoped>\n",
       "    .dataframe tbody tr th:only-of-type {\n",
       "        vertical-align: middle;\n",
       "    }\n",
       "\n",
       "    .dataframe tbody tr th {\n",
       "        vertical-align: top;\n",
       "    }\n",
       "\n",
       "    .dataframe thead th {\n",
       "        text-align: right;\n",
       "    }\n",
       "</style>\n",
       "<table border=\"1\" class=\"dataframe\">\n",
       "  <thead>\n",
       "    <tr style=\"text-align: right;\">\n",
       "      <th></th>\n",
       "      <th>customerID</th>\n",
       "      <th>MultipleLines</th>\n",
       "    </tr>\n",
       "  </thead>\n",
       "  <tbody>\n",
       "    <tr>\n",
       "      <th>0</th>\n",
       "      <td>5575-GNVDE</td>\n",
       "      <td>No</td>\n",
       "    </tr>\n",
       "    <tr>\n",
       "      <th>1</th>\n",
       "      <td>3668-QPYBK</td>\n",
       "      <td>No</td>\n",
       "    </tr>\n",
       "    <tr>\n",
       "      <th>2</th>\n",
       "      <td>9237-HQITU</td>\n",
       "      <td>No</td>\n",
       "    </tr>\n",
       "    <tr>\n",
       "      <th>3</th>\n",
       "      <td>9305-CDSKC</td>\n",
       "      <td>Yes</td>\n",
       "    </tr>\n",
       "    <tr>\n",
       "      <th>4</th>\n",
       "      <td>1452-KIOVK</td>\n",
       "      <td>Yes</td>\n",
       "    </tr>\n",
       "  </tbody>\n",
       "</table>\n",
       "</div>"
      ],
      "text/plain": [
       "   customerID MultipleLines\n",
       "0  5575-GNVDE            No\n",
       "1  3668-QPYBK            No\n",
       "2  9237-HQITU            No\n",
       "3  9305-CDSKC           Yes\n",
       "4  1452-KIOVK           Yes"
      ]
     },
     "metadata": {},
     "output_type": "display_data"
    },
    {
     "name": "stdout",
     "output_type": "stream",
     "text": [
      "\n",
      "(6361, 2)\n",
      "\n",
      "customerID       object\n",
      "MultipleLines    object\n",
      "dtype: object\n",
      "\n"
     ]
    }
   ],
   "source": [
    "#смотрим на представленные данные\n",
    "def data_analysis(df):\n",
    "    display(df.head())\n",
    "    print()\n",
    "    print(df.shape)\n",
    "    print()\n",
    "    print(df.dtypes)\n",
    "    \n",
    "for df_name, df in zip(['contracts', 'clients', 'internet', 'phone'], [contracts, clients, internet, phone]):\n",
    "    print(df_name)\n",
    "    data_analysis(df)\n",
    "    print()"
   ]
  },
  {
   "cell_type": "markdown",
   "id": "0cfe9948",
   "metadata": {},
   "source": [
    "- нам предоставлена информация о договорах, заключенных с 2014 по 2020 гг. Большинство клиентов продолжают пользоваться услугами оператора, поэтому в основном EndDate заполнено как No;\n",
    "- в основном клиенты оплачивают услуги на ежемесячной основе посредством электронного чека, при этом большинство не требует бумажный вариант;\n",
    "- у большинства клиентов ежемесячные расходы составляют порядка 20 ед.;\n",
    "- база данных поровну содержит информацию о клиентах как мужского, так и женского пола. Также поровну распределены записи об одиноких клиентах и о клиентах с супругой/супругом;\n",
    "- пенсионеры и клиенты с детьми представляют собой меньшинство в представленных данных;\n",
    "- в части использования интернет-услуг отмечаем, что:\n",
    "  - с небольшим перевесом клиенты предпочитают оптоволоконный кабельный интернет;\n",
    "  - в основном клиенты не пользуются блокировкой опасных сайтов, облачным хранилищем файлов, антивирусом, выделенной линией технической поддержки;\n",
    "  - примерно поровну разделились клиенты, которые пользуются и не пользуются стриминговым ТВ и каталогом фильмов.\n",
    "- в части использования услуг телефонии с небольшим перевесом преобладают клиенты, которые не пользуются возможностью подключения телефона к нескольким линиям одновременно."
   ]
  },
  {
   "cell_type": "code",
   "execution_count": 4,
   "id": "5b314e38",
   "metadata": {
    "scrolled": false
   },
   "outputs": [
    {
     "name": "stdout",
     "output_type": "stream",
     "text": [
      "contracts\n"
     ]
    },
    {
     "data": {
      "image/png": "[encoded data removed]",
      "text/plain": [
       "<Figure size 1000x400 with 1 Axes>"
      ]
     },
     "metadata": {},
     "output_type": "display_data"
    },
    {
     "data": {
      "image/png": "[encoded data removed]",
      "text/plain": [
       "<Figure size 1000x400 with 1 Axes>"
      ]
     },
     "metadata": {},
     "output_type": "display_data"
    },
    {
     "data": {
      "image/png": "[encoded data removed]",
      "text/plain": [
       "<Figure size 1000x400 with 1 Axes>"
      ]
     },
     "metadata": {},
     "output_type": "display_data"
    },
    {
     "data": {
      "image/png": "[encoded data removed]",
      "text/plain": [
       "<Figure size 1000x400 with 1 Axes>"
      ]
     },
     "metadata": {},
     "output_type": "display_data"
    },
    {
     "data": {
      "image/png": "[encoded data removed]",
      "text/plain": [
       "<Figure size 1000x400 with 1 Axes>"
      ]
     },
     "metadata": {},
     "output_type": "display_data"
    },
    {
     "data": {
      "image/png": "[encoded data removed]",
      "text/plain": [
       "<Figure size 1000x400 with 1 Axes>"
      ]
     },
     "metadata": {},
     "output_type": "display_data"
    },
    {
     "name": "stdout",
     "output_type": "stream",
     "text": [
      "\n",
      "clients\n"
     ]
    },
    {
     "data": {
      "image/png": "[encoded data removed]",
      "text/plain": [
       "<Figure size 1000x400 with 1 Axes>"
      ]
     },
     "metadata": {},
     "output_type": "display_data"
    },
    {
     "data": {
      "image/png": "[encoded data removed]",
      "text/plain": [
       "<Figure size 1000x400 with 1 Axes>"
      ]
     },
     "metadata": {},
     "output_type": "display_data"
    },
    {
     "data": {
      "image/png": "[encoded data removed]",
      "text/plain": [
       "<Figure size 1000x400 with 1 Axes>"
      ]
     },
     "metadata": {},
     "output_type": "display_data"
    },
    {
     "data": {
      "image/png": "[encoded data removed]",
      "text/plain": [
       "<Figure size 1000x400 with 1 Axes>"
      ]
     },
     "metadata": {},
     "output_type": "display_data"
    },
    {
     "name": "stdout",
     "output_type": "stream",
     "text": [
      "\n",
      "internet\n"
     ]
    },
    {
     "data": {
      "image/png": "[encoded data removed]",
      "text/plain": [
       "<Figure size 1000x400 with 1 Axes>"
      ]
     },
     "metadata": {},
     "output_type": "display_data"
    },
    {
     "data": {
      "image/png": "[encoded data removed]",
      "text/plain": [
       "<Figure size 1000x400 with 1 Axes>"
      ]
     },
     "metadata": {},
     "output_type": "display_data"
    },
    {
     "data": {
      "image/png": "[encoded data removed]",
      "text/plain": [
       "<Figure size 1000x400 with 1 Axes>"
      ]
     },
     "metadata": {},
     "output_type": "display_data"
    },
    {
     "data": {
      "image/png": "[encoded data removed]",
      "text/plain": [
       "<Figure size 1000x400 with 1 Axes>"
      ]
     },
     "metadata": {},
     "output_type": "display_data"
    },
    {
     "data": {
      "image/png": "[encoded data removed]",
      "text/plain": [
       "<Figure size 1000x400 with 1 Axes>"
      ]
     },
     "metadata": {},
     "output_type": "display_data"
    },
    {
     "data": {
      "image/png": "[encoded data removed]",
      "text/plain": [
       "<Figure size 1000x400 with 1 Axes>"
      ]
     },
     "metadata": {},
     "output_type": "display_data"
    },
    {
     "data": {
      "image/png": "[encoded data removed]",
      "text/plain": [
       "<Figure size 1000x400 with 1 Axes>"
      ]
     },
     "metadata": {},
     "output_type": "display_data"
    },
    {
     "name": "stdout",
     "output_type": "stream",
     "text": [
      "\n",
      "phone\n"
     ]
    },
    {
     "data": {
      "image/png": "[encoded data removed]",
      "text/plain": [
       "<Figure size 1000x400 with 1 Axes>"
      ]
     },
     "metadata": {},
     "output_type": "display_data"
    },
    {
     "name": "stdout",
     "output_type": "stream",
     "text": [
      "\n"
     ]
    }
   ],
   "source": [
    "#визуализация\n",
    "def data_analysis_graphic(df):\n",
    "    for column in df.columns:\n",
    "        if column == 'MonthlyCharges':\n",
    "            df['MonthlyCharges'].hist(figsize=(10, 4));\n",
    "            plt.title('MonthlyCharges')\n",
    "            plt.show()\n",
    "        else:\n",
    "            if column not in ['customerID', 'TotalCharges']:\n",
    "                df.pivot_table(index=column, values='customerID', aggfunc='count').plot(kind='bar', figsize=(10, 4));\n",
    "                plt.title(column)\n",
    "                plt.show()\n",
    "                \n",
    "for df_name, df in zip(['contracts', 'clients', 'internet', 'phone'], [contracts, clients, internet, phone]):\n",
    "    print(df_name)\n",
    "    data_analysis_graphic(df)\n",
    "    print()"
   ]
  },
  {
   "cell_type": "markdown",
   "id": "f8cccf96",
   "metadata": {},
   "source": [
    "## Предобработка данных"
   ]
  },
  {
   "cell_type": "markdown",
   "id": "8cd002f4",
   "metadata": {},
   "source": [
    "В рамках предобработки данных было сделано следующее:\n",
    "- четыре df объединили в один\n",
    "- проверили данные на дубликаты: они не выявлены\n",
    "- обработали явные пропуски в признаках с дополнительными услугами в части интернета и телефонии, а также неявные пропуски в столбцах EndDate и TotalCharges\n",
    "- изменили тип данных в признаках с датами и TotalCharges\n",
    "- значимых аномалий в количественных столбцах не выявили\n",
    "- зафиксировали положительную корреляцию между количественными признаками MonthlyCharges и TotalCharges, что вполне логично. Учитывая, что в дальнейшем мы не будем работать с данными признаками, выявленную корреляцию можем оставить без изменений\n",
    "- добавили новые признаки: длительность жизни клиента в днях, целевой признак (отказался ли клиент от услуг оператора или нет)\n",
    "- убрали бесполезные для анализа признаки"
   ]
  },
  {
   "cell_type": "markdown",
   "id": "3164222f",
   "metadata": {},
   "source": [
    "Методом merge объединили четыре df в один"
   ]
  },
  {
   "cell_type": "code",
   "execution_count": 5,
   "id": "976fcb10",
   "metadata": {},
   "outputs": [
    {
     "data": {
      "text/html": [
       "<div>\n",
       "<style scoped>\n",
       "    .dataframe tbody tr th:only-of-type {\n",
       "        vertical-align: middle;\n",
       "    }\n",
       "\n",
       "    .dataframe tbody tr th {\n",
       "        vertical-align: top;\n",
       "    }\n",
       "\n",
       "    .dataframe thead th {\n",
       "        text-align: right;\n",
       "    }\n",
       "</style>\n",
       "<table border=\"1\" class=\"dataframe\">\n",
       "  <thead>\n",
       "    <tr style=\"text-align: right;\">\n",
       "      <th></th>\n",
       "      <th>customerID</th>\n",
       "      <th>gender</th>\n",
       "      <th>SeniorCitizen</th>\n",
       "      <th>Partner</th>\n",
       "      <th>Dependents</th>\n",
       "      <th>BeginDate</th>\n",
       "      <th>EndDate</th>\n",
       "      <th>Type</th>\n",
       "      <th>PaperlessBilling</th>\n",
       "      <th>PaymentMethod</th>\n",
       "      <th>MonthlyCharges</th>\n",
       "      <th>TotalCharges</th>\n",
       "      <th>InternetService</th>\n",
       "      <th>OnlineSecurity</th>\n",
       "      <th>OnlineBackup</th>\n",
       "      <th>DeviceProtection</th>\n",
       "      <th>TechSupport</th>\n",
       "      <th>StreamingTV</th>\n",
       "      <th>StreamingMovies</th>\n",
       "      <th>MultipleLines</th>\n",
       "    </tr>\n",
       "  </thead>\n",
       "  <tbody>\n",
       "    <tr>\n",
       "      <th>0</th>\n",
       "      <td>7590-VHVEG</td>\n",
       "      <td>Female</td>\n",
       "      <td>0</td>\n",
       "      <td>Yes</td>\n",
       "      <td>No</td>\n",
       "      <td>2020-01-01</td>\n",
       "      <td>No</td>\n",
       "      <td>Month-to-month</td>\n",
       "      <td>Yes</td>\n",
       "      <td>Electronic check</td>\n",
       "      <td>29.85</td>\n",
       "      <td>31.04</td>\n",
       "      <td>DSL</td>\n",
       "      <td>No</td>\n",
       "      <td>Yes</td>\n",
       "      <td>No</td>\n",
       "      <td>No</td>\n",
       "      <td>No</td>\n",
       "      <td>No</td>\n",
       "      <td>NaN</td>\n",
       "    </tr>\n",
       "    <tr>\n",
       "      <th>1</th>\n",
       "      <td>5575-GNVDE</td>\n",
       "      <td>Male</td>\n",
       "      <td>0</td>\n",
       "      <td>No</td>\n",
       "      <td>No</td>\n",
       "      <td>2017-04-01</td>\n",
       "      <td>No</td>\n",
       "      <td>One year</td>\n",
       "      <td>No</td>\n",
       "      <td>Mailed check</td>\n",
       "      <td>56.95</td>\n",
       "      <td>2071.84</td>\n",
       "      <td>DSL</td>\n",
       "      <td>Yes</td>\n",
       "      <td>No</td>\n",
       "      <td>Yes</td>\n",
       "      <td>No</td>\n",
       "      <td>No</td>\n",
       "      <td>No</td>\n",
       "      <td>No</td>\n",
       "    </tr>\n",
       "    <tr>\n",
       "      <th>2</th>\n",
       "      <td>3668-QPYBK</td>\n",
       "      <td>Male</td>\n",
       "      <td>0</td>\n",
       "      <td>No</td>\n",
       "      <td>No</td>\n",
       "      <td>2019-10-01</td>\n",
       "      <td>No</td>\n",
       "      <td>Month-to-month</td>\n",
       "      <td>Yes</td>\n",
       "      <td>Mailed check</td>\n",
       "      <td>53.85</td>\n",
       "      <td>226.17</td>\n",
       "      <td>DSL</td>\n",
       "      <td>Yes</td>\n",
       "      <td>Yes</td>\n",
       "      <td>No</td>\n",
       "      <td>No</td>\n",
       "      <td>No</td>\n",
       "      <td>No</td>\n",
       "      <td>No</td>\n",
       "    </tr>\n",
       "    <tr>\n",
       "      <th>3</th>\n",
       "      <td>7795-CFOCW</td>\n",
       "      <td>Male</td>\n",
       "      <td>0</td>\n",
       "      <td>No</td>\n",
       "      <td>No</td>\n",
       "      <td>2016-05-01</td>\n",
       "      <td>No</td>\n",
       "      <td>One year</td>\n",
       "      <td>No</td>\n",
       "      <td>Bank transfer (automatic)</td>\n",
       "      <td>42.30</td>\n",
       "      <td>1960.6</td>\n",
       "      <td>DSL</td>\n",
       "      <td>Yes</td>\n",
       "      <td>No</td>\n",
       "      <td>Yes</td>\n",
       "      <td>Yes</td>\n",
       "      <td>No</td>\n",
       "      <td>No</td>\n",
       "      <td>NaN</td>\n",
       "    </tr>\n",
       "    <tr>\n",
       "      <th>4</th>\n",
       "      <td>9237-HQITU</td>\n",
       "      <td>Female</td>\n",
       "      <td>0</td>\n",
       "      <td>No</td>\n",
       "      <td>No</td>\n",
       "      <td>2019-09-01</td>\n",
       "      <td>No</td>\n",
       "      <td>Month-to-month</td>\n",
       "      <td>Yes</td>\n",
       "      <td>Electronic check</td>\n",
       "      <td>70.70</td>\n",
       "      <td>353.5</td>\n",
       "      <td>Fiber optic</td>\n",
       "      <td>No</td>\n",
       "      <td>No</td>\n",
       "      <td>No</td>\n",
       "      <td>No</td>\n",
       "      <td>No</td>\n",
       "      <td>No</td>\n",
       "      <td>No</td>\n",
       "    </tr>\n",
       "  </tbody>\n",
       "</table>\n",
       "</div>"
      ],
      "text/plain": [
       "   customerID  gender  SeniorCitizen Partner Dependents   BeginDate EndDate  \\\n",
       "0  7590-VHVEG  Female              0     Yes         No  2020-01-01      No   \n",
       "1  5575-GNVDE    Male              0      No         No  2017-04-01      No   \n",
       "2  3668-QPYBK    Male              0      No         No  2019-10-01      No   \n",
       "3  7795-CFOCW    Male              0      No         No  2016-05-01      No   \n",
       "4  9237-HQITU  Female              0      No         No  2019-09-01      No   \n",
       "\n",
       "             Type PaperlessBilling              PaymentMethod  MonthlyCharges  \\\n",
       "0  Month-to-month              Yes           Electronic check           29.85   \n",
       "1        One year               No               Mailed check           56.95   \n",
       "2  Month-to-month              Yes               Mailed check           53.85   \n",
       "3        One year               No  Bank transfer (automatic)           42.30   \n",
       "4  Month-to-month              Yes           Electronic check           70.70   \n",
       "\n",
       "  TotalCharges InternetService OnlineSecurity OnlineBackup DeviceProtection  \\\n",
       "0        31.04             DSL             No          Yes               No   \n",
       "1      2071.84             DSL            Yes           No              Yes   \n",
       "2       226.17             DSL            Yes          Yes               No   \n",
       "3       1960.6             DSL            Yes           No              Yes   \n",
       "4        353.5     Fiber optic             No           No               No   \n",
       "\n",
       "  TechSupport StreamingTV StreamingMovies MultipleLines  \n",
       "0          No          No              No           NaN  \n",
       "1          No          No              No            No  \n",
       "2          No          No              No            No  \n",
       "3         Yes          No              No           NaN  \n",
       "4          No          No              No            No  "
      ]
     },
     "metadata": {},
     "output_type": "display_data"
    },
    {
     "name": "stdout",
     "output_type": "stream",
     "text": [
      "\n",
      "(7043, 20)\n",
      "\n",
      "customerID           object\n",
      "gender               object\n",
      "SeniorCitizen         int64\n",
      "Partner              object\n",
      "Dependents           object\n",
      "BeginDate            object\n",
      "EndDate              object\n",
      "Type                 object\n",
      "PaperlessBilling     object\n",
      "PaymentMethod        object\n",
      "MonthlyCharges      float64\n",
      "TotalCharges         object\n",
      "InternetService      object\n",
      "OnlineSecurity       object\n",
      "OnlineBackup         object\n",
      "DeviceProtection     object\n",
      "TechSupport          object\n",
      "StreamingTV          object\n",
      "StreamingMovies      object\n",
      "MultipleLines        object\n",
      "dtype: object\n"
     ]
    }
   ],
   "source": [
    "#объединяем df в один\n",
    "data_clients_contracts = clients.merge(contracts, on='customerID', how='left')\n",
    "data_clients_contracts_internet = data_clients_contracts.merge(internet, on='customerID', how='left')\n",
    "data = data_clients_contracts_internet.merge(phone, on='customerID', how='left')\n",
    "display(data.head())\n",
    "print()\n",
    "print(data.shape)\n",
    "print()\n",
    "print(data.dtypes)"
   ]
  },
  {
   "cell_type": "markdown",
   "id": "b409e141",
   "metadata": {},
   "source": [
    "### Работа с дубликатами и пропусками"
   ]
  },
  {
   "cell_type": "markdown",
   "id": "04be478b",
   "metadata": {},
   "source": [
    "Явные дубликаты отсутствуют. Знакомство с данными, проведенное выше, позволяет сделать вывод о том, что и неявные дубликаты также отсутствуют"
   ]
  },
  {
   "cell_type": "code",
   "execution_count": 6,
   "id": "b1eb8fac",
   "metadata": {},
   "outputs": [
    {
     "name": "stdout",
     "output_type": "stream",
     "text": [
      "0\n"
     ]
    }
   ],
   "source": [
    "#проверка на явные дубликаты\n",
    "print(data.duplicated().sum())"
   ]
  },
  {
   "cell_type": "markdown",
   "id": "f4c08c5e",
   "metadata": {},
   "source": [
    "Пропуски зафиксированы в признаках с дополнительными услугами в части интернета и телефонии"
   ]
  },
  {
   "cell_type": "code",
   "execution_count": 7,
   "id": "18654bf7",
   "metadata": {},
   "outputs": [
    {
     "name": "stdout",
     "output_type": "stream",
     "text": [
      "customerID             0\n",
      "gender                 0\n",
      "SeniorCitizen          0\n",
      "Partner                0\n",
      "Dependents             0\n",
      "BeginDate              0\n",
      "EndDate                0\n",
      "Type                   0\n",
      "PaperlessBilling       0\n",
      "PaymentMethod          0\n",
      "MonthlyCharges         0\n",
      "TotalCharges           0\n",
      "InternetService     1526\n",
      "OnlineSecurity      1526\n",
      "OnlineBackup        1526\n",
      "DeviceProtection    1526\n",
      "TechSupport         1526\n",
      "StreamingTV         1526\n",
      "StreamingMovies     1526\n",
      "MultipleLines        682\n",
      "dtype: int64\n"
     ]
    }
   ],
   "source": [
    "#проверка на пропуски\n",
    "print(data.isna().sum())"
   ]
  },
  {
   "cell_type": "markdown",
   "id": "6c188b45",
   "metadata": {},
   "source": [
    "Максимальная доля пропусков в признаках превышает 20% от общего кол-ва записей. Этого довольно много - удалять их не стоит. Скорее всего пропуск означает, что клиент не пользуется дополнительными услугами. Поэтому заменим пропуски на \"No\""
   ]
  },
  {
   "cell_type": "code",
   "execution_count": 8,
   "id": "bedb67b2",
   "metadata": {},
   "outputs": [
    {
     "name": "stdout",
     "output_type": "stream",
     "text": [
      "0.21666903308249325\n"
     ]
    }
   ],
   "source": [
    "print(len(data.query('InternetService.isna()==True')) / len(data))"
   ]
  },
  {
   "cell_type": "markdown",
   "id": "03da7dc3",
   "metadata": {},
   "source": [
    "Пропуски устранены"
   ]
  },
  {
   "cell_type": "code",
   "execution_count": 9,
   "id": "ee0c6ebb",
   "metadata": {},
   "outputs": [
    {
     "name": "stdout",
     "output_type": "stream",
     "text": [
      "customerID          0\n",
      "gender              0\n",
      "SeniorCitizen       0\n",
      "Partner             0\n",
      "Dependents          0\n",
      "BeginDate           0\n",
      "EndDate             0\n",
      "Type                0\n",
      "PaperlessBilling    0\n",
      "PaymentMethod       0\n",
      "MonthlyCharges      0\n",
      "TotalCharges        0\n",
      "InternetService     0\n",
      "OnlineSecurity      0\n",
      "OnlineBackup        0\n",
      "DeviceProtection    0\n",
      "TechSupport         0\n",
      "StreamingTV         0\n",
      "StreamingMovies     0\n",
      "MultipleLines       0\n",
      "dtype: int64\n"
     ]
    }
   ],
   "source": [
    "#устраняем пропуски\n",
    "data_no_isna = data.fillna(value='No')\n",
    "print(data_no_isna.isna().sum())"
   ]
  },
  {
   "cell_type": "markdown",
   "id": "2577e890",
   "metadata": {},
   "source": [
    "В признаке EndDate пропуски отсутствуют, но есть значение No. Таких значений более 80%. По видимому - это наш целевой признак: отказались ли клиенты от услуг оператора или нет. В целях дальнейшего изменения типов данных в признаках заменим No на текущую дату - 01.02.2020"
   ]
  },
  {
   "cell_type": "code",
   "execution_count": 10,
   "id": "ad08c083",
   "metadata": {},
   "outputs": [
    {
     "name": "stdout",
     "output_type": "stream",
     "text": [
      "5942\n",
      "0.8436745704955275\n"
     ]
    },
    {
     "data": {
      "text/html": [
       "<div>\n",
       "<style scoped>\n",
       "    .dataframe tbody tr th:only-of-type {\n",
       "        vertical-align: middle;\n",
       "    }\n",
       "\n",
       "    .dataframe tbody tr th {\n",
       "        vertical-align: top;\n",
       "    }\n",
       "\n",
       "    .dataframe thead th {\n",
       "        text-align: right;\n",
       "    }\n",
       "</style>\n",
       "<table border=\"1\" class=\"dataframe\">\n",
       "  <thead>\n",
       "    <tr style=\"text-align: right;\">\n",
       "      <th></th>\n",
       "      <th>customerID</th>\n",
       "      <th>gender</th>\n",
       "      <th>SeniorCitizen</th>\n",
       "      <th>Partner</th>\n",
       "      <th>Dependents</th>\n",
       "      <th>BeginDate</th>\n",
       "      <th>EndDate</th>\n",
       "      <th>Type</th>\n",
       "      <th>PaperlessBilling</th>\n",
       "      <th>PaymentMethod</th>\n",
       "      <th>MonthlyCharges</th>\n",
       "      <th>TotalCharges</th>\n",
       "      <th>InternetService</th>\n",
       "      <th>OnlineSecurity</th>\n",
       "      <th>OnlineBackup</th>\n",
       "      <th>DeviceProtection</th>\n",
       "      <th>TechSupport</th>\n",
       "      <th>StreamingTV</th>\n",
       "      <th>StreamingMovies</th>\n",
       "      <th>MultipleLines</th>\n",
       "    </tr>\n",
       "  </thead>\n",
       "  <tbody>\n",
       "    <tr>\n",
       "      <th>0</th>\n",
       "      <td>7590-VHVEG</td>\n",
       "      <td>Female</td>\n",
       "      <td>0</td>\n",
       "      <td>Yes</td>\n",
       "      <td>No</td>\n",
       "      <td>2020-01-01</td>\n",
       "      <td>2020-02-01</td>\n",
       "      <td>Month-to-month</td>\n",
       "      <td>Yes</td>\n",
       "      <td>Electronic check</td>\n",
       "      <td>29.85</td>\n",
       "      <td>31.04</td>\n",
       "      <td>DSL</td>\n",
       "      <td>No</td>\n",
       "      <td>Yes</td>\n",
       "      <td>No</td>\n",
       "      <td>No</td>\n",
       "      <td>No</td>\n",
       "      <td>No</td>\n",
       "      <td>No</td>\n",
       "    </tr>\n",
       "    <tr>\n",
       "      <th>1</th>\n",
       "      <td>5575-GNVDE</td>\n",
       "      <td>Male</td>\n",
       "      <td>0</td>\n",
       "      <td>No</td>\n",
       "      <td>No</td>\n",
       "      <td>2017-04-01</td>\n",
       "      <td>2020-02-01</td>\n",
       "      <td>One year</td>\n",
       "      <td>No</td>\n",
       "      <td>Mailed check</td>\n",
       "      <td>56.95</td>\n",
       "      <td>2071.84</td>\n",
       "      <td>DSL</td>\n",
       "      <td>Yes</td>\n",
       "      <td>No</td>\n",
       "      <td>Yes</td>\n",
       "      <td>No</td>\n",
       "      <td>No</td>\n",
       "      <td>No</td>\n",
       "      <td>No</td>\n",
       "    </tr>\n",
       "    <tr>\n",
       "      <th>2</th>\n",
       "      <td>3668-QPYBK</td>\n",
       "      <td>Male</td>\n",
       "      <td>0</td>\n",
       "      <td>No</td>\n",
       "      <td>No</td>\n",
       "      <td>2019-10-01</td>\n",
       "      <td>2020-02-01</td>\n",
       "      <td>Month-to-month</td>\n",
       "      <td>Yes</td>\n",
       "      <td>Mailed check</td>\n",
       "      <td>53.85</td>\n",
       "      <td>226.17</td>\n",
       "      <td>DSL</td>\n",
       "      <td>Yes</td>\n",
       "      <td>Yes</td>\n",
       "      <td>No</td>\n",
       "      <td>No</td>\n",
       "      <td>No</td>\n",
       "      <td>No</td>\n",
       "      <td>No</td>\n",
       "    </tr>\n",
       "    <tr>\n",
       "      <th>3</th>\n",
       "      <td>7795-CFOCW</td>\n",
       "      <td>Male</td>\n",
       "      <td>0</td>\n",
       "      <td>No</td>\n",
       "      <td>No</td>\n",
       "      <td>2016-05-01</td>\n",
       "      <td>2020-02-01</td>\n",
       "      <td>One year</td>\n",
       "      <td>No</td>\n",
       "      <td>Bank transfer (automatic)</td>\n",
       "      <td>42.30</td>\n",
       "      <td>1960.6</td>\n",
       "      <td>DSL</td>\n",
       "      <td>Yes</td>\n",
       "      <td>No</td>\n",
       "      <td>Yes</td>\n",
       "      <td>Yes</td>\n",
       "      <td>No</td>\n",
       "      <td>No</td>\n",
       "      <td>No</td>\n",
       "    </tr>\n",
       "    <tr>\n",
       "      <th>4</th>\n",
       "      <td>9237-HQITU</td>\n",
       "      <td>Female</td>\n",
       "      <td>0</td>\n",
       "      <td>No</td>\n",
       "      <td>No</td>\n",
       "      <td>2019-09-01</td>\n",
       "      <td>2020-02-01</td>\n",
       "      <td>Month-to-month</td>\n",
       "      <td>Yes</td>\n",
       "      <td>Electronic check</td>\n",
       "      <td>70.70</td>\n",
       "      <td>353.5</td>\n",
       "      <td>Fiber optic</td>\n",
       "      <td>No</td>\n",
       "      <td>No</td>\n",
       "      <td>No</td>\n",
       "      <td>No</td>\n",
       "      <td>No</td>\n",
       "      <td>No</td>\n",
       "      <td>No</td>\n",
       "    </tr>\n",
       "  </tbody>\n",
       "</table>\n",
       "</div>"
      ],
      "text/plain": [
       "   customerID  gender  SeniorCitizen Partner Dependents   BeginDate  \\\n",
       "0  7590-VHVEG  Female              0     Yes         No  2020-01-01   \n",
       "1  5575-GNVDE    Male              0      No         No  2017-04-01   \n",
       "2  3668-QPYBK    Male              0      No         No  2019-10-01   \n",
       "3  7795-CFOCW    Male              0      No         No  2016-05-01   \n",
       "4  9237-HQITU  Female              0      No         No  2019-09-01   \n",
       "\n",
       "      EndDate            Type PaperlessBilling              PaymentMethod  \\\n",
       "0  2020-02-01  Month-to-month              Yes           Electronic check   \n",
       "1  2020-02-01        One year               No               Mailed check   \n",
       "2  2020-02-01  Month-to-month              Yes               Mailed check   \n",
       "3  2020-02-01        One year               No  Bank transfer (automatic)   \n",
       "4  2020-02-01  Month-to-month              Yes           Electronic check   \n",
       "\n",
       "   MonthlyCharges TotalCharges InternetService OnlineSecurity OnlineBackup  \\\n",
       "0           29.85        31.04             DSL             No          Yes   \n",
       "1           56.95      2071.84             DSL            Yes           No   \n",
       "2           53.85       226.17             DSL            Yes          Yes   \n",
       "3           42.30       1960.6             DSL            Yes           No   \n",
       "4           70.70        353.5     Fiber optic             No           No   \n",
       "\n",
       "  DeviceProtection TechSupport StreamingTV StreamingMovies MultipleLines  \n",
       "0               No          No          No              No            No  \n",
       "1              Yes          No          No              No            No  \n",
       "2               No          No          No              No            No  \n",
       "3              Yes         Yes          No              No            No  \n",
       "4               No          No          No              No            No  "
      ]
     },
     "metadata": {},
     "output_type": "display_data"
    },
    {
     "name": "stdout",
     "output_type": "stream",
     "text": [
      "\n",
      "customerID           object\n",
      "gender               object\n",
      "SeniorCitizen         int64\n",
      "Partner              object\n",
      "Dependents           object\n",
      "BeginDate            object\n",
      "EndDate              object\n",
      "Type                 object\n",
      "PaperlessBilling     object\n",
      "PaymentMethod        object\n",
      "MonthlyCharges      float64\n",
      "TotalCharges         object\n",
      "InternetService      object\n",
      "OnlineSecurity       object\n",
      "OnlineBackup         object\n",
      "DeviceProtection     object\n",
      "TechSupport          object\n",
      "StreamingTV          object\n",
      "StreamingMovies      object\n",
      "MultipleLines        object\n",
      "dtype: object\n"
     ]
    },
    {
     "data": {
      "image/png": "[encoded data removed]",
      "text/plain": [
       "<Figure size 1000x400 with 1 Axes>"
      ]
     },
     "metadata": {},
     "output_type": "display_data"
    }
   ],
   "source": [
    "#EndDate\n",
    "print(data_no_isna.loc[data_no_isna['EndDate'] == 'No', 'EndDate'].count())\n",
    "print(data_no_isna.loc[data_no_isna['EndDate'] == 'No', 'EndDate'].count() / len(data_no_isna))\n",
    "data_no_isna.loc[data_no_isna['EndDate'] == 'No', 'EndDate'] = '2020-02-01'\n",
    "display(data_no_isna.head())\n",
    "print()\n",
    "print(data_no_isna.dtypes)\n",
    "data_no_isna.pivot_table(index='EndDate', values='customerID', aggfunc='count').plot(kind='bar', figsize=(10, 4));"
   ]
  },
  {
   "cell_type": "markdown",
   "id": "32fe9b02",
   "metadata": {},
   "source": [
    "Также пробел в формате object зафиксирован в столбце TotalCharges. Доля таких пробелов невысока, избавимся от них"
   ]
  },
  {
   "cell_type": "code",
   "execution_count": 11,
   "id": "cc6ae9b9",
   "metadata": {},
   "outputs": [
    {
     "name": "stdout",
     "output_type": "stream",
     "text": [
      "11\n",
      "0.001561834445548772\n",
      "0\n"
     ]
    }
   ],
   "source": [
    "#TotalCharges\n",
    "print(data_no_isna.loc[data_no_isna['TotalCharges'] == ' ', 'TotalCharges'].count())\n",
    "print(data_no_isna.loc[data_no_isna['TotalCharges'] == ' ', 'TotalCharges'].count() / len(data_no_isna))\n",
    "data_no_isna2 = data_no_isna[data_no_isna['TotalCharges'] != ' ']\n",
    "print(data_no_isna2.loc[data_no_isna2['TotalCharges'] == ' ', 'TotalCharges'].count())"
   ]
  },
  {
   "cell_type": "markdown",
   "id": "d7f2f72c",
   "metadata": {},
   "source": [
    "### Работа с типами данных"
   ]
  },
  {
   "cell_type": "markdown",
   "id": "da794922",
   "metadata": {},
   "source": [
    "Изменили тип данных в признаках с датами"
   ]
  },
  {
   "cell_type": "code",
   "execution_count": 12,
   "id": "5e575e2f",
   "metadata": {},
   "outputs": [
    {
     "data": {
      "text/html": [
       "<div>\n",
       "<style scoped>\n",
       "    .dataframe tbody tr th:only-of-type {\n",
       "        vertical-align: middle;\n",
       "    }\n",
       "\n",
       "    .dataframe tbody tr th {\n",
       "        vertical-align: top;\n",
       "    }\n",
       "\n",
       "    .dataframe thead th {\n",
       "        text-align: right;\n",
       "    }\n",
       "</style>\n",
       "<table border=\"1\" class=\"dataframe\">\n",
       "  <thead>\n",
       "    <tr style=\"text-align: right;\">\n",
       "      <th></th>\n",
       "      <th>customerID</th>\n",
       "      <th>gender</th>\n",
       "      <th>SeniorCitizen</th>\n",
       "      <th>Partner</th>\n",
       "      <th>Dependents</th>\n",
       "      <th>BeginDate</th>\n",
       "      <th>EndDate</th>\n",
       "      <th>Type</th>\n",
       "      <th>PaperlessBilling</th>\n",
       "      <th>PaymentMethod</th>\n",
       "      <th>MonthlyCharges</th>\n",
       "      <th>TotalCharges</th>\n",
       "      <th>InternetService</th>\n",
       "      <th>OnlineSecurity</th>\n",
       "      <th>OnlineBackup</th>\n",
       "      <th>DeviceProtection</th>\n",
       "      <th>TechSupport</th>\n",
       "      <th>StreamingTV</th>\n",
       "      <th>StreamingMovies</th>\n",
       "      <th>MultipleLines</th>\n",
       "    </tr>\n",
       "  </thead>\n",
       "  <tbody>\n",
       "    <tr>\n",
       "      <th>0</th>\n",
       "      <td>7590-VHVEG</td>\n",
       "      <td>Female</td>\n",
       "      <td>0</td>\n",
       "      <td>Yes</td>\n",
       "      <td>No</td>\n",
       "      <td>2020-01-01</td>\n",
       "      <td>2020-02-01</td>\n",
       "      <td>Month-to-month</td>\n",
       "      <td>Yes</td>\n",
       "      <td>Electronic check</td>\n",
       "      <td>29.85</td>\n",
       "      <td>31.04</td>\n",
       "      <td>DSL</td>\n",
       "      <td>No</td>\n",
       "      <td>Yes</td>\n",
       "      <td>No</td>\n",
       "      <td>No</td>\n",
       "      <td>No</td>\n",
       "      <td>No</td>\n",
       "      <td>No</td>\n",
       "    </tr>\n",
       "    <tr>\n",
       "      <th>1</th>\n",
       "      <td>5575-GNVDE</td>\n",
       "      <td>Male</td>\n",
       "      <td>0</td>\n",
       "      <td>No</td>\n",
       "      <td>No</td>\n",
       "      <td>2017-04-01</td>\n",
       "      <td>2020-02-01</td>\n",
       "      <td>One year</td>\n",
       "      <td>No</td>\n",
       "      <td>Mailed check</td>\n",
       "      <td>56.95</td>\n",
       "      <td>2071.84</td>\n",
       "      <td>DSL</td>\n",
       "      <td>Yes</td>\n",
       "      <td>No</td>\n",
       "      <td>Yes</td>\n",
       "      <td>No</td>\n",
       "      <td>No</td>\n",
       "      <td>No</td>\n",
       "      <td>No</td>\n",
       "    </tr>\n",
       "    <tr>\n",
       "      <th>2</th>\n",
       "      <td>3668-QPYBK</td>\n",
       "      <td>Male</td>\n",
       "      <td>0</td>\n",
       "      <td>No</td>\n",
       "      <td>No</td>\n",
       "      <td>2019-10-01</td>\n",
       "      <td>2020-02-01</td>\n",
       "      <td>Month-to-month</td>\n",
       "      <td>Yes</td>\n",
       "      <td>Mailed check</td>\n",
       "      <td>53.85</td>\n",
       "      <td>226.17</td>\n",
       "      <td>DSL</td>\n",
       "      <td>Yes</td>\n",
       "      <td>Yes</td>\n",
       "      <td>No</td>\n",
       "      <td>No</td>\n",
       "      <td>No</td>\n",
       "      <td>No</td>\n",
       "      <td>No</td>\n",
       "    </tr>\n",
       "    <tr>\n",
       "      <th>3</th>\n",
       "      <td>7795-CFOCW</td>\n",
       "      <td>Male</td>\n",
       "      <td>0</td>\n",
       "      <td>No</td>\n",
       "      <td>No</td>\n",
       "      <td>2016-05-01</td>\n",
       "      <td>2020-02-01</td>\n",
       "      <td>One year</td>\n",
       "      <td>No</td>\n",
       "      <td>Bank transfer (automatic)</td>\n",
       "      <td>42.30</td>\n",
       "      <td>1960.6</td>\n",
       "      <td>DSL</td>\n",
       "      <td>Yes</td>\n",
       "      <td>No</td>\n",
       "      <td>Yes</td>\n",
       "      <td>Yes</td>\n",
       "      <td>No</td>\n",
       "      <td>No</td>\n",
       "      <td>No</td>\n",
       "    </tr>\n",
       "    <tr>\n",
       "      <th>4</th>\n",
       "      <td>9237-HQITU</td>\n",
       "      <td>Female</td>\n",
       "      <td>0</td>\n",
       "      <td>No</td>\n",
       "      <td>No</td>\n",
       "      <td>2019-09-01</td>\n",
       "      <td>2020-02-01</td>\n",
       "      <td>Month-to-month</td>\n",
       "      <td>Yes</td>\n",
       "      <td>Electronic check</td>\n",
       "      <td>70.70</td>\n",
       "      <td>353.5</td>\n",
       "      <td>Fiber optic</td>\n",
       "      <td>No</td>\n",
       "      <td>No</td>\n",
       "      <td>No</td>\n",
       "      <td>No</td>\n",
       "      <td>No</td>\n",
       "      <td>No</td>\n",
       "      <td>No</td>\n",
       "    </tr>\n",
       "  </tbody>\n",
       "</table>\n",
       "</div>"
      ],
      "text/plain": [
       "   customerID  gender  SeniorCitizen Partner Dependents  BeginDate    EndDate  \\\n",
       "0  7590-VHVEG  Female              0     Yes         No 2020-01-01 2020-02-01   \n",
       "1  5575-GNVDE    Male              0      No         No 2017-04-01 2020-02-01   \n",
       "2  3668-QPYBK    Male              0      No         No 2019-10-01 2020-02-01   \n",
       "3  7795-CFOCW    Male              0      No         No 2016-05-01 2020-02-01   \n",
       "4  9237-HQITU  Female              0      No         No 2019-09-01 2020-02-01   \n",
       "\n",
       "             Type PaperlessBilling              PaymentMethod  MonthlyCharges  \\\n",
       "0  Month-to-month              Yes           Electronic check           29.85   \n",
       "1        One year               No               Mailed check           56.95   \n",
       "2  Month-to-month              Yes               Mailed check           53.85   \n",
       "3        One year               No  Bank transfer (automatic)           42.30   \n",
       "4  Month-to-month              Yes           Electronic check           70.70   \n",
       "\n",
       "  TotalCharges InternetService OnlineSecurity OnlineBackup DeviceProtection  \\\n",
       "0        31.04             DSL             No          Yes               No   \n",
       "1      2071.84             DSL            Yes           No              Yes   \n",
       "2       226.17             DSL            Yes          Yes               No   \n",
       "3       1960.6             DSL            Yes           No              Yes   \n",
       "4        353.5     Fiber optic             No           No               No   \n",
       "\n",
       "  TechSupport StreamingTV StreamingMovies MultipleLines  \n",
       "0          No          No              No            No  \n",
       "1          No          No              No            No  \n",
       "2          No          No              No            No  \n",
       "3         Yes          No              No            No  \n",
       "4          No          No              No            No  "
      ]
     },
     "metadata": {},
     "output_type": "display_data"
    },
    {
     "name": "stdout",
     "output_type": "stream",
     "text": [
      "\n",
      "customerID                  object\n",
      "gender                      object\n",
      "SeniorCitizen                int64\n",
      "Partner                     object\n",
      "Dependents                  object\n",
      "BeginDate           datetime64[ns]\n",
      "EndDate             datetime64[ns]\n",
      "Type                        object\n",
      "PaperlessBilling            object\n",
      "PaymentMethod               object\n",
      "MonthlyCharges             float64\n",
      "TotalCharges                object\n",
      "InternetService             object\n",
      "OnlineSecurity              object\n",
      "OnlineBackup                object\n",
      "DeviceProtection            object\n",
      "TechSupport                 object\n",
      "StreamingTV                 object\n",
      "StreamingMovies             object\n",
      "MultipleLines               object\n",
      "dtype: object\n"
     ]
    }
   ],
   "source": [
    "for sign in ['BeginDate', 'EndDate']:\n",
    "    data_no_isna2[sign] = pd.to_datetime(data_no_isna2[sign], format='%Y.%m.%d')\n",
    "\n",
    "display(data_no_isna2.head())\n",
    "print()\n",
    "print(data_no_isna2.dtypes)"
   ]
  },
  {
   "cell_type": "markdown",
   "id": "430eb913",
   "metadata": {},
   "source": [
    "Изменили тип данных в признаке TotalCharges"
   ]
  },
  {
   "cell_type": "code",
   "execution_count": 13,
   "id": "6e1ae1ec",
   "metadata": {},
   "outputs": [
    {
     "data": {
      "text/html": [
       "<div>\n",
       "<style scoped>\n",
       "    .dataframe tbody tr th:only-of-type {\n",
       "        vertical-align: middle;\n",
       "    }\n",
       "\n",
       "    .dataframe tbody tr th {\n",
       "        vertical-align: top;\n",
       "    }\n",
       "\n",
       "    .dataframe thead th {\n",
       "        text-align: right;\n",
       "    }\n",
       "</style>\n",
       "<table border=\"1\" class=\"dataframe\">\n",
       "  <thead>\n",
       "    <tr style=\"text-align: right;\">\n",
       "      <th></th>\n",
       "      <th>customerID</th>\n",
       "      <th>gender</th>\n",
       "      <th>SeniorCitizen</th>\n",
       "      <th>Partner</th>\n",
       "      <th>Dependents</th>\n",
       "      <th>BeginDate</th>\n",
       "      <th>EndDate</th>\n",
       "      <th>Type</th>\n",
       "      <th>PaperlessBilling</th>\n",
       "      <th>PaymentMethod</th>\n",
       "      <th>MonthlyCharges</th>\n",
       "      <th>TotalCharges</th>\n",
       "      <th>InternetService</th>\n",
       "      <th>OnlineSecurity</th>\n",
       "      <th>OnlineBackup</th>\n",
       "      <th>DeviceProtection</th>\n",
       "      <th>TechSupport</th>\n",
       "      <th>StreamingTV</th>\n",
       "      <th>StreamingMovies</th>\n",
       "      <th>MultipleLines</th>\n",
       "    </tr>\n",
       "  </thead>\n",
       "  <tbody>\n",
       "    <tr>\n",
       "      <th>0</th>\n",
       "      <td>7590-VHVEG</td>\n",
       "      <td>Female</td>\n",
       "      <td>0</td>\n",
       "      <td>Yes</td>\n",
       "      <td>No</td>\n",
       "      <td>2020-01-01</td>\n",
       "      <td>2020-02-01</td>\n",
       "      <td>Month-to-month</td>\n",
       "      <td>Yes</td>\n",
       "      <td>Electronic check</td>\n",
       "      <td>29.85</td>\n",
       "      <td>31.04</td>\n",
       "      <td>DSL</td>\n",
       "      <td>No</td>\n",
       "      <td>Yes</td>\n",
       "      <td>No</td>\n",
       "      <td>No</td>\n",
       "      <td>No</td>\n",
       "      <td>No</td>\n",
       "      <td>No</td>\n",
       "    </tr>\n",
       "    <tr>\n",
       "      <th>1</th>\n",
       "      <td>5575-GNVDE</td>\n",
       "      <td>Male</td>\n",
       "      <td>0</td>\n",
       "      <td>No</td>\n",
       "      <td>No</td>\n",
       "      <td>2017-04-01</td>\n",
       "      <td>2020-02-01</td>\n",
       "      <td>One year</td>\n",
       "      <td>No</td>\n",
       "      <td>Mailed check</td>\n",
       "      <td>56.95</td>\n",
       "      <td>2071.84</td>\n",
       "      <td>DSL</td>\n",
       "      <td>Yes</td>\n",
       "      <td>No</td>\n",
       "      <td>Yes</td>\n",
       "      <td>No</td>\n",
       "      <td>No</td>\n",
       "      <td>No</td>\n",
       "      <td>No</td>\n",
       "    </tr>\n",
       "    <tr>\n",
       "      <th>2</th>\n",
       "      <td>3668-QPYBK</td>\n",
       "      <td>Male</td>\n",
       "      <td>0</td>\n",
       "      <td>No</td>\n",
       "      <td>No</td>\n",
       "      <td>2019-10-01</td>\n",
       "      <td>2020-02-01</td>\n",
       "      <td>Month-to-month</td>\n",
       "      <td>Yes</td>\n",
       "      <td>Mailed check</td>\n",
       "      <td>53.85</td>\n",
       "      <td>226.17</td>\n",
       "      <td>DSL</td>\n",
       "      <td>Yes</td>\n",
       "      <td>Yes</td>\n",
       "      <td>No</td>\n",
       "      <td>No</td>\n",
       "      <td>No</td>\n",
       "      <td>No</td>\n",
       "      <td>No</td>\n",
       "    </tr>\n",
       "    <tr>\n",
       "      <th>3</th>\n",
       "      <td>7795-CFOCW</td>\n",
       "      <td>Male</td>\n",
       "      <td>0</td>\n",
       "      <td>No</td>\n",
       "      <td>No</td>\n",
       "      <td>2016-05-01</td>\n",
       "      <td>2020-02-01</td>\n",
       "      <td>One year</td>\n",
       "      <td>No</td>\n",
       "      <td>Bank transfer (automatic)</td>\n",
       "      <td>42.30</td>\n",
       "      <td>1960.60</td>\n",
       "      <td>DSL</td>\n",
       "      <td>Yes</td>\n",
       "      <td>No</td>\n",
       "      <td>Yes</td>\n",
       "      <td>Yes</td>\n",
       "      <td>No</td>\n",
       "      <td>No</td>\n",
       "      <td>No</td>\n",
       "    </tr>\n",
       "    <tr>\n",
       "      <th>4</th>\n",
       "      <td>9237-HQITU</td>\n",
       "      <td>Female</td>\n",
       "      <td>0</td>\n",
       "      <td>No</td>\n",
       "      <td>No</td>\n",
       "      <td>2019-09-01</td>\n",
       "      <td>2020-02-01</td>\n",
       "      <td>Month-to-month</td>\n",
       "      <td>Yes</td>\n",
       "      <td>Electronic check</td>\n",
       "      <td>70.70</td>\n",
       "      <td>353.50</td>\n",
       "      <td>Fiber optic</td>\n",
       "      <td>No</td>\n",
       "      <td>No</td>\n",
       "      <td>No</td>\n",
       "      <td>No</td>\n",
       "      <td>No</td>\n",
       "      <td>No</td>\n",
       "      <td>No</td>\n",
       "    </tr>\n",
       "  </tbody>\n",
       "</table>\n",
       "</div>"
      ],
      "text/plain": [
       "   customerID  gender  SeniorCitizen Partner Dependents  BeginDate    EndDate  \\\n",
       "0  7590-VHVEG  Female              0     Yes         No 2020-01-01 2020-02-01   \n",
       "1  5575-GNVDE    Male              0      No         No 2017-04-01 2020-02-01   \n",
       "2  3668-QPYBK    Male              0      No         No 2019-10-01 2020-02-01   \n",
       "3  7795-CFOCW    Male              0      No         No 2016-05-01 2020-02-01   \n",
       "4  9237-HQITU  Female              0      No         No 2019-09-01 2020-02-01   \n",
       "\n",
       "             Type PaperlessBilling              PaymentMethod  MonthlyCharges  \\\n",
       "0  Month-to-month              Yes           Electronic check           29.85   \n",
       "1        One year               No               Mailed check           56.95   \n",
       "2  Month-to-month              Yes               Mailed check           53.85   \n",
       "3        One year               No  Bank transfer (automatic)           42.30   \n",
       "4  Month-to-month              Yes           Electronic check           70.70   \n",
       "\n",
       "   TotalCharges InternetService OnlineSecurity OnlineBackup DeviceProtection  \\\n",
       "0         31.04             DSL             No          Yes               No   \n",
       "1       2071.84             DSL            Yes           No              Yes   \n",
       "2        226.17             DSL            Yes          Yes               No   \n",
       "3       1960.60             DSL            Yes           No              Yes   \n",
       "4        353.50     Fiber optic             No           No               No   \n",
       "\n",
       "  TechSupport StreamingTV StreamingMovies MultipleLines  \n",
       "0          No          No              No            No  \n",
       "1          No          No              No            No  \n",
       "2          No          No              No            No  \n",
       "3         Yes          No              No            No  \n",
       "4          No          No              No            No  "
      ]
     },
     "metadata": {},
     "output_type": "display_data"
    },
    {
     "name": "stdout",
     "output_type": "stream",
     "text": [
      "\n",
      "customerID                  object\n",
      "gender                      object\n",
      "SeniorCitizen                int64\n",
      "Partner                     object\n",
      "Dependents                  object\n",
      "BeginDate           datetime64[ns]\n",
      "EndDate             datetime64[ns]\n",
      "Type                        object\n",
      "PaperlessBilling            object\n",
      "PaymentMethod               object\n",
      "MonthlyCharges             float64\n",
      "TotalCharges               float64\n",
      "InternetService             object\n",
      "OnlineSecurity              object\n",
      "OnlineBackup                object\n",
      "DeviceProtection            object\n",
      "TechSupport                 object\n",
      "StreamingTV                 object\n",
      "StreamingMovies             object\n",
      "MultipleLines               object\n",
      "dtype: object\n"
     ]
    },
    {
     "data": {
      "image/png": "[encoded data removed]",
      "text/plain": [
       "<Figure size 1000x400 with 1 Axes>"
      ]
     },
     "metadata": {},
     "output_type": "display_data"
    }
   ],
   "source": [
    "#TotalCharges\n",
    "data_no_isna2['TotalCharges'] = pd.to_numeric(data_no_isna2['TotalCharges'])\n",
    "display(data_no_isna2.head())\n",
    "print()\n",
    "print(data_no_isna2.dtypes)\n",
    "data_no_isna2['TotalCharges'].hist(figsize=(10, 4));"
   ]
  },
  {
   "cell_type": "markdown",
   "id": "dd9b0b14",
   "metadata": {},
   "source": [
    "### Работа с аномалиями"
   ]
  },
  {
   "cell_type": "markdown",
   "id": "17563899",
   "metadata": {},
   "source": [
    "Значимых аномалий в количественных столбцах не выявлено"
   ]
  },
  {
   "cell_type": "code",
   "execution_count": 14,
   "id": "49ea4ef8",
   "metadata": {
    "scrolled": false
   },
   "outputs": [
    {
     "name": "stdout",
     "output_type": "stream",
     "text": [
      "MonthlyCharges\n"
     ]
    },
    {
     "data": {
      "image/png": "[encoded data removed]",
      "text/plain": [
       "<Figure size 800x800 with 1 Axes>"
      ]
     },
     "metadata": {},
     "output_type": "display_data"
    },
    {
     "name": "stdout",
     "output_type": "stream",
     "text": [
      "\n",
      "count    7032.000000\n",
      "mean       64.798208\n",
      "std        30.085974\n",
      "min        18.250000\n",
      "25%        35.587500\n",
      "50%        70.350000\n",
      "75%        89.862500\n",
      "max       118.750000\n",
      "Name: MonthlyCharges, dtype: float64\n",
      "\n",
      "TotalCharges\n"
     ]
    },
    {
     "data": {
      "image/png": "[encoded data removed]",
      "text/plain": [
       "<Figure size 800x800 with 1 Axes>"
      ]
     },
     "metadata": {},
     "output_type": "display_data"
    },
    {
     "name": "stdout",
     "output_type": "stream",
     "text": [
      "\n",
      "count    7032.000000\n",
      "mean     2118.621822\n",
      "std      2112.736199\n",
      "min        19.050000\n",
      "25%       439.745000\n",
      "50%      1345.275000\n",
      "75%      3239.317500\n",
      "max      9221.380000\n",
      "Name: TotalCharges, dtype: float64\n",
      "\n"
     ]
    }
   ],
   "source": [
    "#проверяем на аномалии количественные столбцы\n",
    "for sign in ['MonthlyCharges', 'TotalCharges']:\n",
    "    print(sign)\n",
    "    data_no_isna2.boxplot(sign, figsize=(8, 8));\n",
    "    plt.title('график \"Ящик с усами\"')\n",
    "    plt.show()\n",
    "    print()\n",
    "    print(data_no_isna2[sign].describe())\n",
    "    print()"
   ]
  },
  {
   "cell_type": "markdown",
   "id": "3faf5a55",
   "metadata": {},
   "source": [
    "### Работа с корреляцией"
   ]
  },
  {
   "cell_type": "markdown",
   "id": "6edb9ae4",
   "metadata": {},
   "source": [
    "Зафиксирована положительная корреляция между количественными признаками MonthlyCharges и TotalCharges, что вполне логично. Учитывая, что в дальнейшем мы не будем работать с данными признаками (только возможно создадим новый категориальный столбец на их основании), выявленную корреляцию можем оставить без изменений"
   ]
  },
  {
   "cell_type": "code",
   "execution_count": 15,
   "id": "e58af98d",
   "metadata": {},
   "outputs": [
    {
     "name": "stdout",
     "output_type": "stream",
     "text": [
      "коэ-т корр-ции: 0.6302966354645495\n"
     ]
    },
    {
     "data": {
      "image/png": "[encoded data removed]",
      "text/plain": [
       "<Figure size 640x480 with 1 Axes>"
      ]
     },
     "metadata": {},
     "output_type": "display_data"
    }
   ],
   "source": [
    "#анализ корреляции между количественными признаками MonthlyCharges и TotalCharges\n",
    "print('коэ-т корр-ции:', data_no_isna2['MonthlyCharges'].corr(data_no_isna2['TotalCharges']))\n",
    "data_no_isna2.plot(x='MonthlyCharges', y='TotalCharges', kind='scatter', alpha=0.3);\n",
    "plt.title('Корреляция между количественными признаками')\n",
    "plt.show()"
   ]
  },
  {
   "cell_type": "markdown",
   "id": "1fb1315b",
   "metadata": {},
   "source": [
    "### Создаем новые признаки"
   ]
  },
  {
   "cell_type": "code",
   "execution_count": 16,
   "id": "b963a7eb",
   "metadata": {
    "scrolled": false
   },
   "outputs": [
    {
     "data": {
      "text/html": [
       "<div>\n",
       "<style scoped>\n",
       "    .dataframe tbody tr th:only-of-type {\n",
       "        vertical-align: middle;\n",
       "    }\n",
       "\n",
       "    .dataframe tbody tr th {\n",
       "        vertical-align: top;\n",
       "    }\n",
       "\n",
       "    .dataframe thead th {\n",
       "        text-align: right;\n",
       "    }\n",
       "</style>\n",
       "<table border=\"1\" class=\"dataframe\">\n",
       "  <thead>\n",
       "    <tr style=\"text-align: right;\">\n",
       "      <th></th>\n",
       "      <th>customerID</th>\n",
       "      <th>gender</th>\n",
       "      <th>SeniorCitizen</th>\n",
       "      <th>Partner</th>\n",
       "      <th>Dependents</th>\n",
       "      <th>BeginDate</th>\n",
       "      <th>EndDate</th>\n",
       "      <th>Type</th>\n",
       "      <th>PaperlessBilling</th>\n",
       "      <th>PaymentMethod</th>\n",
       "      <th>...</th>\n",
       "      <th>TotalCharges</th>\n",
       "      <th>InternetService</th>\n",
       "      <th>OnlineSecurity</th>\n",
       "      <th>OnlineBackup</th>\n",
       "      <th>DeviceProtection</th>\n",
       "      <th>TechSupport</th>\n",
       "      <th>StreamingTV</th>\n",
       "      <th>StreamingMovies</th>\n",
       "      <th>MultipleLines</th>\n",
       "      <th>duration</th>\n",
       "    </tr>\n",
       "  </thead>\n",
       "  <tbody>\n",
       "    <tr>\n",
       "      <th>0</th>\n",
       "      <td>7590-VHVEG</td>\n",
       "      <td>Female</td>\n",
       "      <td>0</td>\n",
       "      <td>Yes</td>\n",
       "      <td>No</td>\n",
       "      <td>2020-01-01</td>\n",
       "      <td>2020-02-01</td>\n",
       "      <td>Month-to-month</td>\n",
       "      <td>Yes</td>\n",
       "      <td>Electronic check</td>\n",
       "      <td>...</td>\n",
       "      <td>31.04</td>\n",
       "      <td>DSL</td>\n",
       "      <td>No</td>\n",
       "      <td>Yes</td>\n",
       "      <td>No</td>\n",
       "      <td>No</td>\n",
       "      <td>No</td>\n",
       "      <td>No</td>\n",
       "      <td>No</td>\n",
       "      <td>31 days</td>\n",
       "    </tr>\n",
       "    <tr>\n",
       "      <th>1</th>\n",
       "      <td>5575-GNVDE</td>\n",
       "      <td>Male</td>\n",
       "      <td>0</td>\n",
       "      <td>No</td>\n",
       "      <td>No</td>\n",
       "      <td>2017-04-01</td>\n",
       "      <td>2020-02-01</td>\n",
       "      <td>One year</td>\n",
       "      <td>No</td>\n",
       "      <td>Mailed check</td>\n",
       "      <td>...</td>\n",
       "      <td>2071.84</td>\n",
       "      <td>DSL</td>\n",
       "      <td>Yes</td>\n",
       "      <td>No</td>\n",
       "      <td>Yes</td>\n",
       "      <td>No</td>\n",
       "      <td>No</td>\n",
       "      <td>No</td>\n",
       "      <td>No</td>\n",
       "      <td>1036 days</td>\n",
       "    </tr>\n",
       "    <tr>\n",
       "      <th>2</th>\n",
       "      <td>3668-QPYBK</td>\n",
       "      <td>Male</td>\n",
       "      <td>0</td>\n",
       "      <td>No</td>\n",
       "      <td>No</td>\n",
       "      <td>2019-10-01</td>\n",
       "      <td>2020-02-01</td>\n",
       "      <td>Month-to-month</td>\n",
       "      <td>Yes</td>\n",
       "      <td>Mailed check</td>\n",
       "      <td>...</td>\n",
       "      <td>226.17</td>\n",
       "      <td>DSL</td>\n",
       "      <td>Yes</td>\n",
       "      <td>Yes</td>\n",
       "      <td>No</td>\n",
       "      <td>No</td>\n",
       "      <td>No</td>\n",
       "      <td>No</td>\n",
       "      <td>No</td>\n",
       "      <td>123 days</td>\n",
       "    </tr>\n",
       "    <tr>\n",
       "      <th>3</th>\n",
       "      <td>7795-CFOCW</td>\n",
       "      <td>Male</td>\n",
       "      <td>0</td>\n",
       "      <td>No</td>\n",
       "      <td>No</td>\n",
       "      <td>2016-05-01</td>\n",
       "      <td>2020-02-01</td>\n",
       "      <td>One year</td>\n",
       "      <td>No</td>\n",
       "      <td>Bank transfer (automatic)</td>\n",
       "      <td>...</td>\n",
       "      <td>1960.60</td>\n",
       "      <td>DSL</td>\n",
       "      <td>Yes</td>\n",
       "      <td>No</td>\n",
       "      <td>Yes</td>\n",
       "      <td>Yes</td>\n",
       "      <td>No</td>\n",
       "      <td>No</td>\n",
       "      <td>No</td>\n",
       "      <td>1371 days</td>\n",
       "    </tr>\n",
       "    <tr>\n",
       "      <th>4</th>\n",
       "      <td>9237-HQITU</td>\n",
       "      <td>Female</td>\n",
       "      <td>0</td>\n",
       "      <td>No</td>\n",
       "      <td>No</td>\n",
       "      <td>2019-09-01</td>\n",
       "      <td>2020-02-01</td>\n",
       "      <td>Month-to-month</td>\n",
       "      <td>Yes</td>\n",
       "      <td>Electronic check</td>\n",
       "      <td>...</td>\n",
       "      <td>353.50</td>\n",
       "      <td>Fiber optic</td>\n",
       "      <td>No</td>\n",
       "      <td>No</td>\n",
       "      <td>No</td>\n",
       "      <td>No</td>\n",
       "      <td>No</td>\n",
       "      <td>No</td>\n",
       "      <td>No</td>\n",
       "      <td>153 days</td>\n",
       "    </tr>\n",
       "  </tbody>\n",
       "</table>\n",
       "<p>5 rows × 21 columns</p>\n",
       "</div>"
      ],
      "text/plain": [
       "   customerID  gender  SeniorCitizen Partner Dependents  BeginDate    EndDate  \\\n",
       "0  7590-VHVEG  Female              0     Yes         No 2020-01-01 2020-02-01   \n",
       "1  5575-GNVDE    Male              0      No         No 2017-04-01 2020-02-01   \n",
       "2  3668-QPYBK    Male              0      No         No 2019-10-01 2020-02-01   \n",
       "3  7795-CFOCW    Male              0      No         No 2016-05-01 2020-02-01   \n",
       "4  9237-HQITU  Female              0      No         No 2019-09-01 2020-02-01   \n",
       "\n",
       "             Type PaperlessBilling              PaymentMethod  ...  \\\n",
       "0  Month-to-month              Yes           Electronic check  ...   \n",
       "1        One year               No               Mailed check  ...   \n",
       "2  Month-to-month              Yes               Mailed check  ...   \n",
       "3        One year               No  Bank transfer (automatic)  ...   \n",
       "4  Month-to-month              Yes           Electronic check  ...   \n",
       "\n",
       "   TotalCharges  InternetService OnlineSecurity OnlineBackup DeviceProtection  \\\n",
       "0         31.04              DSL             No          Yes               No   \n",
       "1       2071.84              DSL            Yes           No              Yes   \n",
       "2        226.17              DSL            Yes          Yes               No   \n",
       "3       1960.60              DSL            Yes           No              Yes   \n",
       "4        353.50      Fiber optic             No           No               No   \n",
       "\n",
       "  TechSupport StreamingTV StreamingMovies MultipleLines  duration  \n",
       "0          No          No              No            No   31 days  \n",
       "1          No          No              No            No 1036 days  \n",
       "2          No          No              No            No  123 days  \n",
       "3         Yes          No              No            No 1371 days  \n",
       "4          No          No              No            No  153 days  \n",
       "\n",
       "[5 rows x 21 columns]"
      ]
     },
     "metadata": {},
     "output_type": "display_data"
    },
    {
     "name": "stdout",
     "output_type": "stream",
     "text": [
      "\n",
      "timedelta64[ns]\n",
      "\n",
      "28 days 00:00:00\n",
      "2314 days 00:00:00\n"
     ]
    }
   ],
   "source": [
    "#длительность жизни клиента в днях\n",
    "data_no_isna2['duration'] = data_no_isna2['EndDate'] - data_no_isna2['BeginDate']\n",
    "display(data_no_isna2.head())\n",
    "print()\n",
    "print(data_no_isna2['duration'].dtypes)\n",
    "print()\n",
    "print(min(data_no_isna2['duration']))\n",
    "print(max(data_no_isna2['duration']))"
   ]
  },
  {
   "cell_type": "code",
   "execution_count": 17,
   "id": "c642d087",
   "metadata": {},
   "outputs": [
    {
     "data": {
      "text/html": [
       "<div>\n",
       "<style scoped>\n",
       "    .dataframe tbody tr th:only-of-type {\n",
       "        vertical-align: middle;\n",
       "    }\n",
       "\n",
       "    .dataframe tbody tr th {\n",
       "        vertical-align: top;\n",
       "    }\n",
       "\n",
       "    .dataframe thead th {\n",
       "        text-align: right;\n",
       "    }\n",
       "</style>\n",
       "<table border=\"1\" class=\"dataframe\">\n",
       "  <thead>\n",
       "    <tr style=\"text-align: right;\">\n",
       "      <th></th>\n",
       "      <th>customerID</th>\n",
       "      <th>gender</th>\n",
       "      <th>SeniorCitizen</th>\n",
       "      <th>Partner</th>\n",
       "      <th>Dependents</th>\n",
       "      <th>BeginDate</th>\n",
       "      <th>EndDate</th>\n",
       "      <th>Type</th>\n",
       "      <th>PaperlessBilling</th>\n",
       "      <th>PaymentMethod</th>\n",
       "      <th>...</th>\n",
       "      <th>InternetService</th>\n",
       "      <th>OnlineSecurity</th>\n",
       "      <th>OnlineBackup</th>\n",
       "      <th>DeviceProtection</th>\n",
       "      <th>TechSupport</th>\n",
       "      <th>StreamingTV</th>\n",
       "      <th>StreamingMovies</th>\n",
       "      <th>MultipleLines</th>\n",
       "      <th>duration</th>\n",
       "      <th>duration2</th>\n",
       "    </tr>\n",
       "  </thead>\n",
       "  <tbody>\n",
       "    <tr>\n",
       "      <th>0</th>\n",
       "      <td>7590-VHVEG</td>\n",
       "      <td>Female</td>\n",
       "      <td>0</td>\n",
       "      <td>Yes</td>\n",
       "      <td>No</td>\n",
       "      <td>2020-01-01</td>\n",
       "      <td>2020-02-01</td>\n",
       "      <td>Month-to-month</td>\n",
       "      <td>Yes</td>\n",
       "      <td>Electronic check</td>\n",
       "      <td>...</td>\n",
       "      <td>DSL</td>\n",
       "      <td>No</td>\n",
       "      <td>Yes</td>\n",
       "      <td>No</td>\n",
       "      <td>No</td>\n",
       "      <td>No</td>\n",
       "      <td>No</td>\n",
       "      <td>No</td>\n",
       "      <td>31 days</td>\n",
       "      <td>31</td>\n",
       "    </tr>\n",
       "    <tr>\n",
       "      <th>1</th>\n",
       "      <td>5575-GNVDE</td>\n",
       "      <td>Male</td>\n",
       "      <td>0</td>\n",
       "      <td>No</td>\n",
       "      <td>No</td>\n",
       "      <td>2017-04-01</td>\n",
       "      <td>2020-02-01</td>\n",
       "      <td>One year</td>\n",
       "      <td>No</td>\n",
       "      <td>Mailed check</td>\n",
       "      <td>...</td>\n",
       "      <td>DSL</td>\n",
       "      <td>Yes</td>\n",
       "      <td>No</td>\n",
       "      <td>Yes</td>\n",
       "      <td>No</td>\n",
       "      <td>No</td>\n",
       "      <td>No</td>\n",
       "      <td>No</td>\n",
       "      <td>1036 days</td>\n",
       "      <td>1036</td>\n",
       "    </tr>\n",
       "    <tr>\n",
       "      <th>2</th>\n",
       "      <td>3668-QPYBK</td>\n",
       "      <td>Male</td>\n",
       "      <td>0</td>\n",
       "      <td>No</td>\n",
       "      <td>No</td>\n",
       "      <td>2019-10-01</td>\n",
       "      <td>2020-02-01</td>\n",
       "      <td>Month-to-month</td>\n",
       "      <td>Yes</td>\n",
       "      <td>Mailed check</td>\n",
       "      <td>...</td>\n",
       "      <td>DSL</td>\n",
       "      <td>Yes</td>\n",
       "      <td>Yes</td>\n",
       "      <td>No</td>\n",
       "      <td>No</td>\n",
       "      <td>No</td>\n",
       "      <td>No</td>\n",
       "      <td>No</td>\n",
       "      <td>123 days</td>\n",
       "      <td>123</td>\n",
       "    </tr>\n",
       "    <tr>\n",
       "      <th>3</th>\n",
       "      <td>7795-CFOCW</td>\n",
       "      <td>Male</td>\n",
       "      <td>0</td>\n",
       "      <td>No</td>\n",
       "      <td>No</td>\n",
       "      <td>2016-05-01</td>\n",
       "      <td>2020-02-01</td>\n",
       "      <td>One year</td>\n",
       "      <td>No</td>\n",
       "      <td>Bank transfer (automatic)</td>\n",
       "      <td>...</td>\n",
       "      <td>DSL</td>\n",
       "      <td>Yes</td>\n",
       "      <td>No</td>\n",
       "      <td>Yes</td>\n",
       "      <td>Yes</td>\n",
       "      <td>No</td>\n",
       "      <td>No</td>\n",
       "      <td>No</td>\n",
       "      <td>1371 days</td>\n",
       "      <td>1371</td>\n",
       "    </tr>\n",
       "    <tr>\n",
       "      <th>4</th>\n",
       "      <td>9237-HQITU</td>\n",
       "      <td>Female</td>\n",
       "      <td>0</td>\n",
       "      <td>No</td>\n",
       "      <td>No</td>\n",
       "      <td>2019-09-01</td>\n",
       "      <td>2020-02-01</td>\n",
       "      <td>Month-to-month</td>\n",
       "      <td>Yes</td>\n",
       "      <td>Electronic check</td>\n",
       "      <td>...</td>\n",
       "      <td>Fiber optic</td>\n",
       "      <td>No</td>\n",
       "      <td>No</td>\n",
       "      <td>No</td>\n",
       "      <td>No</td>\n",
       "      <td>No</td>\n",
       "      <td>No</td>\n",
       "      <td>No</td>\n",
       "      <td>153 days</td>\n",
       "      <td>153</td>\n",
       "    </tr>\n",
       "  </tbody>\n",
       "</table>\n",
       "<p>5 rows × 22 columns</p>\n",
       "</div>"
      ],
      "text/plain": [
       "   customerID  gender  SeniorCitizen Partner Dependents  BeginDate    EndDate  \\\n",
       "0  7590-VHVEG  Female              0     Yes         No 2020-01-01 2020-02-01   \n",
       "1  5575-GNVDE    Male              0      No         No 2017-04-01 2020-02-01   \n",
       "2  3668-QPYBK    Male              0      No         No 2019-10-01 2020-02-01   \n",
       "3  7795-CFOCW    Male              0      No         No 2016-05-01 2020-02-01   \n",
       "4  9237-HQITU  Female              0      No         No 2019-09-01 2020-02-01   \n",
       "\n",
       "             Type PaperlessBilling              PaymentMethod  ...  \\\n",
       "0  Month-to-month              Yes           Electronic check  ...   \n",
       "1        One year               No               Mailed check  ...   \n",
       "2  Month-to-month              Yes               Mailed check  ...   \n",
       "3        One year               No  Bank transfer (automatic)  ...   \n",
       "4  Month-to-month              Yes           Electronic check  ...   \n",
       "\n",
       "   InternetService  OnlineSecurity OnlineBackup DeviceProtection TechSupport  \\\n",
       "0              DSL              No          Yes               No          No   \n",
       "1              DSL             Yes           No              Yes          No   \n",
       "2              DSL             Yes          Yes               No          No   \n",
       "3              DSL             Yes           No              Yes         Yes   \n",
       "4      Fiber optic              No           No               No          No   \n",
       "\n",
       "  StreamingTV StreamingMovies MultipleLines  duration duration2  \n",
       "0          No              No            No   31 days        31  \n",
       "1          No              No            No 1036 days      1036  \n",
       "2          No              No            No  123 days       123  \n",
       "3          No              No            No 1371 days      1371  \n",
       "4          No              No            No  153 days       153  \n",
       "\n",
       "[5 rows x 22 columns]"
      ]
     },
     "metadata": {},
     "output_type": "display_data"
    }
   ],
   "source": [
    "data_no_isna2['duration2'] = data_no_isna2['duration'].dt.days\n",
    "display(data_no_isna2.head())"
   ]
  },
  {
   "cell_type": "markdown",
   "id": "e0ec3b35",
   "metadata": {},
   "source": [
    "Добавили целевой признак для последующего анализа"
   ]
  },
  {
   "cell_type": "code",
   "execution_count": 18,
   "id": "f0b12159",
   "metadata": {},
   "outputs": [
    {
     "data": {
      "text/html": [
       "<div>\n",
       "<style scoped>\n",
       "    .dataframe tbody tr th:only-of-type {\n",
       "        vertical-align: middle;\n",
       "    }\n",
       "\n",
       "    .dataframe tbody tr th {\n",
       "        vertical-align: top;\n",
       "    }\n",
       "\n",
       "    .dataframe thead th {\n",
       "        text-align: right;\n",
       "    }\n",
       "</style>\n",
       "<table border=\"1\" class=\"dataframe\">\n",
       "  <thead>\n",
       "    <tr style=\"text-align: right;\">\n",
       "      <th></th>\n",
       "      <th>customerID</th>\n",
       "      <th>gender</th>\n",
       "      <th>SeniorCitizen</th>\n",
       "      <th>Partner</th>\n",
       "      <th>Dependents</th>\n",
       "      <th>BeginDate</th>\n",
       "      <th>EndDate</th>\n",
       "      <th>Type</th>\n",
       "      <th>PaperlessBilling</th>\n",
       "      <th>PaymentMethod</th>\n",
       "      <th>...</th>\n",
       "      <th>OnlineSecurity</th>\n",
       "      <th>OnlineBackup</th>\n",
       "      <th>DeviceProtection</th>\n",
       "      <th>TechSupport</th>\n",
       "      <th>StreamingTV</th>\n",
       "      <th>StreamingMovies</th>\n",
       "      <th>MultipleLines</th>\n",
       "      <th>duration</th>\n",
       "      <th>duration2</th>\n",
       "      <th>is_active</th>\n",
       "    </tr>\n",
       "  </thead>\n",
       "  <tbody>\n",
       "    <tr>\n",
       "      <th>0</th>\n",
       "      <td>7590-VHVEG</td>\n",
       "      <td>Female</td>\n",
       "      <td>0</td>\n",
       "      <td>Yes</td>\n",
       "      <td>No</td>\n",
       "      <td>2020-01-01</td>\n",
       "      <td>2020-02-01</td>\n",
       "      <td>Month-to-month</td>\n",
       "      <td>Yes</td>\n",
       "      <td>Electronic check</td>\n",
       "      <td>...</td>\n",
       "      <td>No</td>\n",
       "      <td>Yes</td>\n",
       "      <td>No</td>\n",
       "      <td>No</td>\n",
       "      <td>No</td>\n",
       "      <td>No</td>\n",
       "      <td>No</td>\n",
       "      <td>31 days</td>\n",
       "      <td>31</td>\n",
       "      <td>1.0</td>\n",
       "    </tr>\n",
       "    <tr>\n",
       "      <th>1</th>\n",
       "      <td>5575-GNVDE</td>\n",
       "      <td>Male</td>\n",
       "      <td>0</td>\n",
       "      <td>No</td>\n",
       "      <td>No</td>\n",
       "      <td>2017-04-01</td>\n",
       "      <td>2020-02-01</td>\n",
       "      <td>One year</td>\n",
       "      <td>No</td>\n",
       "      <td>Mailed check</td>\n",
       "      <td>...</td>\n",
       "      <td>Yes</td>\n",
       "      <td>No</td>\n",
       "      <td>Yes</td>\n",
       "      <td>No</td>\n",
       "      <td>No</td>\n",
       "      <td>No</td>\n",
       "      <td>No</td>\n",
       "      <td>1036 days</td>\n",
       "      <td>1036</td>\n",
       "      <td>1.0</td>\n",
       "    </tr>\n",
       "    <tr>\n",
       "      <th>2</th>\n",
       "      <td>3668-QPYBK</td>\n",
       "      <td>Male</td>\n",
       "      <td>0</td>\n",
       "      <td>No</td>\n",
       "      <td>No</td>\n",
       "      <td>2019-10-01</td>\n",
       "      <td>2020-02-01</td>\n",
       "      <td>Month-to-month</td>\n",
       "      <td>Yes</td>\n",
       "      <td>Mailed check</td>\n",
       "      <td>...</td>\n",
       "      <td>Yes</td>\n",
       "      <td>Yes</td>\n",
       "      <td>No</td>\n",
       "      <td>No</td>\n",
       "      <td>No</td>\n",
       "      <td>No</td>\n",
       "      <td>No</td>\n",
       "      <td>123 days</td>\n",
       "      <td>123</td>\n",
       "      <td>1.0</td>\n",
       "    </tr>\n",
       "    <tr>\n",
       "      <th>3</th>\n",
       "      <td>7795-CFOCW</td>\n",
       "      <td>Male</td>\n",
       "      <td>0</td>\n",
       "      <td>No</td>\n",
       "      <td>No</td>\n",
       "      <td>2016-05-01</td>\n",
       "      <td>2020-02-01</td>\n",
       "      <td>One year</td>\n",
       "      <td>No</td>\n",
       "      <td>Bank transfer (automatic)</td>\n",
       "      <td>...</td>\n",
       "      <td>Yes</td>\n",
       "      <td>No</td>\n",
       "      <td>Yes</td>\n",
       "      <td>Yes</td>\n",
       "      <td>No</td>\n",
       "      <td>No</td>\n",
       "      <td>No</td>\n",
       "      <td>1371 days</td>\n",
       "      <td>1371</td>\n",
       "      <td>1.0</td>\n",
       "    </tr>\n",
       "    <tr>\n",
       "      <th>4</th>\n",
       "      <td>9237-HQITU</td>\n",
       "      <td>Female</td>\n",
       "      <td>0</td>\n",
       "      <td>No</td>\n",
       "      <td>No</td>\n",
       "      <td>2019-09-01</td>\n",
       "      <td>2020-02-01</td>\n",
       "      <td>Month-to-month</td>\n",
       "      <td>Yes</td>\n",
       "      <td>Electronic check</td>\n",
       "      <td>...</td>\n",
       "      <td>No</td>\n",
       "      <td>No</td>\n",
       "      <td>No</td>\n",
       "      <td>No</td>\n",
       "      <td>No</td>\n",
       "      <td>No</td>\n",
       "      <td>No</td>\n",
       "      <td>153 days</td>\n",
       "      <td>153</td>\n",
       "      <td>1.0</td>\n",
       "    </tr>\n",
       "  </tbody>\n",
       "</table>\n",
       "<p>5 rows × 23 columns</p>\n",
       "</div>"
      ],
      "text/plain": [
       "   customerID  gender  SeniorCitizen Partner Dependents  BeginDate    EndDate  \\\n",
       "0  7590-VHVEG  Female              0     Yes         No 2020-01-01 2020-02-01   \n",
       "1  5575-GNVDE    Male              0      No         No 2017-04-01 2020-02-01   \n",
       "2  3668-QPYBK    Male              0      No         No 2019-10-01 2020-02-01   \n",
       "3  7795-CFOCW    Male              0      No         No 2016-05-01 2020-02-01   \n",
       "4  9237-HQITU  Female              0      No         No 2019-09-01 2020-02-01   \n",
       "\n",
       "             Type PaperlessBilling              PaymentMethod  ...  \\\n",
       "0  Month-to-month              Yes           Electronic check  ...   \n",
       "1        One year               No               Mailed check  ...   \n",
       "2  Month-to-month              Yes               Mailed check  ...   \n",
       "3        One year               No  Bank transfer (automatic)  ...   \n",
       "4  Month-to-month              Yes           Electronic check  ...   \n",
       "\n",
       "   OnlineSecurity  OnlineBackup DeviceProtection TechSupport StreamingTV  \\\n",
       "0              No           Yes               No          No          No   \n",
       "1             Yes            No              Yes          No          No   \n",
       "2             Yes           Yes               No          No          No   \n",
       "3             Yes            No              Yes         Yes          No   \n",
       "4              No            No               No          No          No   \n",
       "\n",
       "  StreamingMovies MultipleLines  duration duration2 is_active  \n",
       "0              No            No   31 days        31       1.0  \n",
       "1              No            No 1036 days      1036       1.0  \n",
       "2              No            No  123 days       123       1.0  \n",
       "3              No            No 1371 days      1371       1.0  \n",
       "4              No            No  153 days       153       1.0  \n",
       "\n",
       "[5 rows x 23 columns]"
      ]
     },
     "metadata": {},
     "output_type": "display_data"
    },
    {
     "data": {
      "image/png": "[encoded data removed]",
      "text/plain": [
       "<Figure size 1000x400 with 1 Axes>"
      ]
     },
     "metadata": {},
     "output_type": "display_data"
    }
   ],
   "source": [
    "#целевой признак\n",
    "data_no_isna2.loc[data_no_isna2['EndDate'] == '2020-02-01', 'is_active'] = 1\n",
    "data_no_isna2.loc[data_no_isna2['EndDate'] < '2020-02-01', 'is_active'] = 0\n",
    "display(data_no_isna2.head())\n",
    "data_no_isna2.pivot_table(index='is_active', values='customerID', aggfunc='count').plot(kind='bar', figsize=(10, 4));\n",
    "plt.title('Баланс записей в целевом признаке')\n",
    "plt.show()"
   ]
  },
  {
   "cell_type": "markdown",
   "id": "8ef20abb",
   "metadata": {},
   "source": [
    "Убираем бесполезные для анализа признаки"
   ]
  },
  {
   "cell_type": "code",
   "execution_count": 19,
   "id": "d1bcff02",
   "metadata": {},
   "outputs": [
    {
     "name": "stdout",
     "output_type": "stream",
     "text": [
      "customerID                   object\n",
      "gender                       object\n",
      "SeniorCitizen                 int64\n",
      "Partner                      object\n",
      "Dependents                   object\n",
      "BeginDate            datetime64[ns]\n",
      "EndDate              datetime64[ns]\n",
      "Type                         object\n",
      "PaperlessBilling             object\n",
      "PaymentMethod                object\n",
      "MonthlyCharges              float64\n",
      "TotalCharges                float64\n",
      "InternetService              object\n",
      "OnlineSecurity               object\n",
      "OnlineBackup                 object\n",
      "DeviceProtection             object\n",
      "TechSupport                  object\n",
      "StreamingTV                  object\n",
      "StreamingMovies              object\n",
      "MultipleLines                object\n",
      "duration            timedelta64[ns]\n",
      "duration2                     int64\n",
      "is_active                   float64\n",
      "dtype: object\n",
      "\n",
      "gender               object\n",
      "SeniorCitizen         int64\n",
      "Partner              object\n",
      "Dependents           object\n",
      "Type                 object\n",
      "PaperlessBilling     object\n",
      "PaymentMethod        object\n",
      "InternetService      object\n",
      "OnlineSecurity       object\n",
      "OnlineBackup         object\n",
      "DeviceProtection     object\n",
      "TechSupport          object\n",
      "StreamingTV          object\n",
      "StreamingMovies      object\n",
      "MultipleLines        object\n",
      "duration2             int64\n",
      "is_active           float64\n",
      "dtype: object\n"
     ]
    }
   ],
   "source": [
    "#убираем бесполезные для работы признаки\n",
    "print(data_no_isna2.dtypes)\n",
    "data_final = data_no_isna2.drop(['customerID', 'BeginDate', 'EndDate', 'MonthlyCharges', 'TotalCharges', 'duration'], axis=True)\n",
    "print()\n",
    "print(data_final.dtypes)"
   ]
  },
  {
   "cell_type": "markdown",
   "id": "12aa2b23",
   "metadata": {},
   "source": [
    "## Создание и обучение моделей"
   ]
  },
  {
   "cell_type": "markdown",
   "id": "b3e8d3e1",
   "metadata": {},
   "source": [
    "В рамках работы с моделями мы:\n",
    "- выделили целевой и обучающие признаки, разделили данные на две выборки\n",
    "- осуществили кодирование категориальных признаков методами One-Hot Encoder Ridge и Ordinal Encoding\n",
    "- осуществили масштабирование численных признаков\n",
    "- для обучения использовали четыре типа моделей (решающего дерева, случайного леса, градиентного бустинга и логистической регрессии)\n",
    "- в рамках работы с моделями использовали различные гипер-параметры\n",
    "- методом кросс-валидации выбрали лучшую модель\n",
    "- науличший результат получили у модели Градиентного бустинга с параметром n_estimators=91\n",
    "- проверили нашу лучшую модель на тестовой выборке: значение оценочной метрики (roc auc score) составило 0.91, что лучше (больше) требуемого заказчиком уровня в 0.85\n",
    "- построили матрицу ошибок: наша модель достаточно хорошо предсказала, что клиент оператора останется. В части предсказания того, что клиент уйдет от оператора кол-во ложных ответов немного превышает кол-во правильных ответов\n",
    "- оценили важность признаков для лучшей модели: наиболее важным признаком оказался добавленный нами duration2 (продолжительность пользования клиентом услугами оператора), также достаточно высокую важность показал признак Type (тип оплаты: раз в год-два или ежемесячно)"
   ]
  },
  {
   "cell_type": "markdown",
   "id": "3d673488",
   "metadata": {},
   "source": [
    "### Разделение данных на две выборки, выделение обучающих и целевого признаков"
   ]
  },
  {
   "cell_type": "markdown",
   "id": "82f93c98",
   "metadata": {},
   "source": [
    "Выделили целевой и обучающие признаки"
   ]
  },
  {
   "cell_type": "code",
   "execution_count": 20,
   "id": "00b5fc7b",
   "metadata": {},
   "outputs": [],
   "source": [
    "#выделяем целевой и обучающие признаки\n",
    "features = data_final.drop('is_active', axis=True)\n",
    "target = data_final['is_active']"
   ]
  },
  {
   "cell_type": "markdown",
   "id": "732e3949",
   "metadata": {},
   "source": [
    "Разделили данные на две выборки"
   ]
  },
  {
   "cell_type": "code",
   "execution_count": 21,
   "id": "0c19c087",
   "metadata": {},
   "outputs": [
    {
     "name": "stdout",
     "output_type": "stream",
     "text": [
      "(5274, 16)\n",
      "(1758, 16)\n",
      "(5274,)\n",
      "(1758,)\n"
     ]
    }
   ],
   "source": [
    "#разбиваем данные на выборки\n",
    "features_train, features_test, target_train, target_test =\\\n",
    "train_test_split(features, target, test_size=0.25, random_state=180723)\n",
    "\n",
    "for df in [features_train, features_test, target_train, target_test]:\n",
    "    print(df.shape)"
   ]
  },
  {
   "cell_type": "markdown",
   "id": "0b96cbe5",
   "metadata": {},
   "source": [
    "### One-Hot Encoder Ridge"
   ]
  },
  {
   "cell_type": "markdown",
   "id": "267a502a",
   "metadata": {},
   "source": [
    "Осуществили кодирование категориальных признаков и масштабирование численных"
   ]
  },
  {
   "cell_type": "code",
   "execution_count": 22,
   "id": "9261803c",
   "metadata": {},
   "outputs": [
    {
     "name": "stdout",
     "output_type": "stream",
     "text": [
      "['gender', 'Partner', 'Dependents', 'Type', 'PaperlessBilling', 'PaymentMethod', 'InternetService', 'OnlineSecurity', 'OnlineBackup', 'DeviceProtection', 'TechSupport', 'StreamingTV', 'StreamingMovies', 'MultipleLines']\n"
     ]
    }
   ],
   "source": [
    "#категориальные признаки для OHE Ridge\n",
    "object_signs_ridge = features_train.select_dtypes(include='object').columns.to_list()\n",
    "print(object_signs_ridge)"
   ]
  },
  {
   "cell_type": "code",
   "execution_count": 23,
   "id": "f9d70c2d",
   "metadata": {},
   "outputs": [
    {
     "name": "stdout",
     "output_type": "stream",
     "text": [
      "['duration2']\n"
     ]
    }
   ],
   "source": [
    "#НОВОЕ\n",
    "#численные признаки\n",
    "digit_signs_ridge = features_train.select_dtypes(exclude='object').columns.to_list()\n",
    "#убираем признак SeniorCitizen, так как он по факту бинарный\n",
    "digit_signs_ridge.remove('SeniorCitizen')\n",
    "print(digit_signs_ridge)"
   ]
  },
  {
   "cell_type": "code",
   "execution_count": 24,
   "id": "92b05dd4",
   "metadata": {},
   "outputs": [],
   "source": [
    "features_train_ridge = features_train.copy()\n",
    "features_test_ridge = features_test.copy()"
   ]
  },
  {
   "cell_type": "code",
   "execution_count": 25,
   "id": "a4afc5ec",
   "metadata": {},
   "outputs": [],
   "source": [
    "encoder_ohe = OneHotEncoder(drop='first', handle_unknown='ignore', sparse=False)\n",
    "encoder_ohe.fit(features_train_ridge[object_signs_ridge])\n",
    "features_train_ridge[encoder_ohe.get_feature_names_out()] = encoder_ohe.transform(features_train_ridge[object_signs_ridge])\n",
    "features_train_ridge = features_train_ridge.drop(object_signs_ridge, axis=1)"
   ]
  },
  {
   "cell_type": "code",
   "execution_count": 26,
   "id": "02aee287",
   "metadata": {},
   "outputs": [
    {
     "data": {
      "text/html": [
       "<div>\n",
       "<style scoped>\n",
       "    .dataframe tbody tr th:only-of-type {\n",
       "        vertical-align: middle;\n",
       "    }\n",
       "\n",
       "    .dataframe tbody tr th {\n",
       "        vertical-align: top;\n",
       "    }\n",
       "\n",
       "    .dataframe thead th {\n",
       "        text-align: right;\n",
       "    }\n",
       "</style>\n",
       "<table border=\"1\" class=\"dataframe\">\n",
       "  <thead>\n",
       "    <tr style=\"text-align: right;\">\n",
       "      <th></th>\n",
       "      <th>SeniorCitizen</th>\n",
       "      <th>duration2</th>\n",
       "      <th>gender_Male</th>\n",
       "      <th>Partner_Yes</th>\n",
       "      <th>Dependents_Yes</th>\n",
       "      <th>Type_One year</th>\n",
       "      <th>Type_Two year</th>\n",
       "      <th>PaperlessBilling_Yes</th>\n",
       "      <th>PaymentMethod_Credit card (automatic)</th>\n",
       "      <th>PaymentMethod_Electronic check</th>\n",
       "      <th>PaymentMethod_Mailed check</th>\n",
       "      <th>InternetService_Fiber optic</th>\n",
       "      <th>InternetService_No</th>\n",
       "      <th>OnlineSecurity_Yes</th>\n",
       "      <th>OnlineBackup_Yes</th>\n",
       "      <th>DeviceProtection_Yes</th>\n",
       "      <th>TechSupport_Yes</th>\n",
       "      <th>StreamingTV_Yes</th>\n",
       "      <th>StreamingMovies_Yes</th>\n",
       "      <th>MultipleLines_Yes</th>\n",
       "    </tr>\n",
       "  </thead>\n",
       "  <tbody>\n",
       "    <tr>\n",
       "      <th>4309</th>\n",
       "      <td>0</td>\n",
       "      <td>-0.346825</td>\n",
       "      <td>0.0</td>\n",
       "      <td>0.0</td>\n",
       "      <td>0.0</td>\n",
       "      <td>0.0</td>\n",
       "      <td>0.0</td>\n",
       "      <td>1.0</td>\n",
       "      <td>0.0</td>\n",
       "      <td>1.0</td>\n",
       "      <td>0.0</td>\n",
       "      <td>0.0</td>\n",
       "      <td>0.0</td>\n",
       "      <td>0.0</td>\n",
       "      <td>0.0</td>\n",
       "      <td>1.0</td>\n",
       "      <td>0.0</td>\n",
       "      <td>1.0</td>\n",
       "      <td>1.0</td>\n",
       "      <td>0.0</td>\n",
       "    </tr>\n",
       "    <tr>\n",
       "      <th>1662</th>\n",
       "      <td>0</td>\n",
       "      <td>-0.971885</td>\n",
       "      <td>1.0</td>\n",
       "      <td>0.0</td>\n",
       "      <td>0.0</td>\n",
       "      <td>0.0</td>\n",
       "      <td>0.0</td>\n",
       "      <td>1.0</td>\n",
       "      <td>0.0</td>\n",
       "      <td>1.0</td>\n",
       "      <td>0.0</td>\n",
       "      <td>1.0</td>\n",
       "      <td>0.0</td>\n",
       "      <td>0.0</td>\n",
       "      <td>0.0</td>\n",
       "      <td>0.0</td>\n",
       "      <td>0.0</td>\n",
       "      <td>0.0</td>\n",
       "      <td>0.0</td>\n",
       "      <td>0.0</td>\n",
       "    </tr>\n",
       "    <tr>\n",
       "      <th>210</th>\n",
       "      <td>0</td>\n",
       "      <td>-1.150892</td>\n",
       "      <td>1.0</td>\n",
       "      <td>0.0</td>\n",
       "      <td>0.0</td>\n",
       "      <td>0.0</td>\n",
       "      <td>0.0</td>\n",
       "      <td>1.0</td>\n",
       "      <td>1.0</td>\n",
       "      <td>0.0</td>\n",
       "      <td>0.0</td>\n",
       "      <td>0.0</td>\n",
       "      <td>0.0</td>\n",
       "      <td>0.0</td>\n",
       "      <td>0.0</td>\n",
       "      <td>0.0</td>\n",
       "      <td>0.0</td>\n",
       "      <td>0.0</td>\n",
       "      <td>0.0</td>\n",
       "      <td>0.0</td>\n",
       "    </tr>\n",
       "    <tr>\n",
       "      <th>847</th>\n",
       "      <td>0</td>\n",
       "      <td>-0.795811</td>\n",
       "      <td>0.0</td>\n",
       "      <td>1.0</td>\n",
       "      <td>1.0</td>\n",
       "      <td>1.0</td>\n",
       "      <td>0.0</td>\n",
       "      <td>0.0</td>\n",
       "      <td>1.0</td>\n",
       "      <td>0.0</td>\n",
       "      <td>0.0</td>\n",
       "      <td>0.0</td>\n",
       "      <td>0.0</td>\n",
       "      <td>1.0</td>\n",
       "      <td>0.0</td>\n",
       "      <td>0.0</td>\n",
       "      <td>1.0</td>\n",
       "      <td>0.0</td>\n",
       "      <td>0.0</td>\n",
       "      <td>0.0</td>\n",
       "    </tr>\n",
       "    <tr>\n",
       "      <th>468</th>\n",
       "      <td>0</td>\n",
       "      <td>0.634783</td>\n",
       "      <td>0.0</td>\n",
       "      <td>0.0</td>\n",
       "      <td>1.0</td>\n",
       "      <td>0.0</td>\n",
       "      <td>1.0</td>\n",
       "      <td>0.0</td>\n",
       "      <td>0.0</td>\n",
       "      <td>0.0</td>\n",
       "      <td>1.0</td>\n",
       "      <td>0.0</td>\n",
       "      <td>1.0</td>\n",
       "      <td>0.0</td>\n",
       "      <td>0.0</td>\n",
       "      <td>0.0</td>\n",
       "      <td>0.0</td>\n",
       "      <td>0.0</td>\n",
       "      <td>0.0</td>\n",
       "      <td>0.0</td>\n",
       "    </tr>\n",
       "  </tbody>\n",
       "</table>\n",
       "</div>"
      ],
      "text/plain": [
       "      SeniorCitizen  duration2  gender_Male  Partner_Yes  Dependents_Yes  \\\n",
       "4309              0  -0.346825          0.0          0.0             0.0   \n",
       "1662              0  -0.971885          1.0          0.0             0.0   \n",
       "210               0  -1.150892          1.0          0.0             0.0   \n",
       "847               0  -0.795811          0.0          1.0             1.0   \n",
       "468               0   0.634783          0.0          0.0             1.0   \n",
       "\n",
       "      Type_One year  Type_Two year  PaperlessBilling_Yes  \\\n",
       "4309            0.0            0.0                   1.0   \n",
       "1662            0.0            0.0                   1.0   \n",
       "210             0.0            0.0                   1.0   \n",
       "847             1.0            0.0                   0.0   \n",
       "468             0.0            1.0                   0.0   \n",
       "\n",
       "      PaymentMethod_Credit card (automatic)  PaymentMethod_Electronic check  \\\n",
       "4309                                    0.0                             1.0   \n",
       "1662                                    0.0                             1.0   \n",
       "210                                     1.0                             0.0   \n",
       "847                                     1.0                             0.0   \n",
       "468                                     0.0                             0.0   \n",
       "\n",
       "      PaymentMethod_Mailed check  InternetService_Fiber optic  \\\n",
       "4309                         0.0                          0.0   \n",
       "1662                         0.0                          1.0   \n",
       "210                          0.0                          0.0   \n",
       "847                          0.0                          0.0   \n",
       "468                          1.0                          0.0   \n",
       "\n",
       "      InternetService_No  OnlineSecurity_Yes  OnlineBackup_Yes  \\\n",
       "4309                 0.0                 0.0               0.0   \n",
       "1662                 0.0                 0.0               0.0   \n",
       "210                  0.0                 0.0               0.0   \n",
       "847                  0.0                 1.0               0.0   \n",
       "468                  1.0                 0.0               0.0   \n",
       "\n",
       "      DeviceProtection_Yes  TechSupport_Yes  StreamingTV_Yes  \\\n",
       "4309                   1.0              0.0              1.0   \n",
       "1662                   0.0              0.0              0.0   \n",
       "210                    0.0              0.0              0.0   \n",
       "847                    0.0              1.0              0.0   \n",
       "468                    0.0              0.0              0.0   \n",
       "\n",
       "      StreamingMovies_Yes  MultipleLines_Yes  \n",
       "4309                  1.0                0.0  \n",
       "1662                  0.0                0.0  \n",
       "210                   0.0                0.0  \n",
       "847                   0.0                0.0  \n",
       "468                   0.0                0.0  "
      ]
     },
     "metadata": {},
     "output_type": "display_data"
    }
   ],
   "source": [
    "#НОВОЕ\n",
    "#масштабирование\n",
    "scaler = StandardScaler()\n",
    "features_train_ridge[digit_signs_ridge] = scaler.fit_transform(features_train_ridge[digit_signs_ridge])\n",
    "display(features_train_ridge.head())"
   ]
  },
  {
   "cell_type": "markdown",
   "id": "66561d0c",
   "metadata": {},
   "source": [
    "### Кодирование категориальных признаков методом Ordinal Encoding"
   ]
  },
  {
   "cell_type": "markdown",
   "id": "fc9443d7",
   "metadata": {},
   "source": [
    "Выделили категориальные признаки, нуждающиеся в кодировании, и цифровые признаки"
   ]
  },
  {
   "cell_type": "code",
   "execution_count": 27,
   "id": "3860f933",
   "metadata": {},
   "outputs": [],
   "source": [
    "object_signs = ['gender', 'Partner', 'Dependents', 'Type', 'PaperlessBilling', 'PaymentMethod', 'InternetService',\\\n",
    "                'OnlineSecurity', 'OnlineBackup', 'DeviceProtection', 'TechSupport', 'StreamingTV', 'StreamingMovies',\\\n",
    "                'MultipleLines']\n",
    "digit_signs = ['SeniorCitizen', 'duration2']"
   ]
  },
  {
   "cell_type": "markdown",
   "id": "bb968a14",
   "metadata": {},
   "source": [
    "Осуществили порядковое кодирование категориальных признаков для обучения моделей Решающего дерева и Случайного леса"
   ]
  },
  {
   "cell_type": "code",
   "execution_count": 28,
   "id": "f3aad522",
   "metadata": {},
   "outputs": [
    {
     "name": "stdout",
     "output_type": "stream",
     "text": [
      "train (5274, 16)\n",
      "test (1758, 16)\n"
     ]
    }
   ],
   "source": [
    "encoder = OrdinalEncoder(handle_unknown='use_encoded_value', unknown_value=9999)\n",
    "encoder.fit(features_train[object_signs])\n",
    "\n",
    "features_train_oe = features_train.copy()\n",
    "features_test_oe = features_test.copy()\n",
    "\n",
    "features_train_oe[object_signs] = encoder.transform(features_train_oe[object_signs])\n",
    "features_test_oe[object_signs] = encoder.transform(features_test_oe[object_signs])\n",
    "\n",
    "print('train', features_train_oe.shape)\n",
    "print('test', features_test_oe.shape)"
   ]
  },
  {
   "cell_type": "markdown",
   "id": "c4ab5055",
   "metadata": {},
   "source": [
    "### Создание и обучение моделей методом кросс-валидации"
   ]
  },
  {
   "cell_type": "markdown",
   "id": "d3f0f4c4",
   "metadata": {},
   "source": [
    "### Решающее дерево"
   ]
  },
  {
   "cell_type": "code",
   "execution_count": 29,
   "id": "dad262e9",
   "metadata": {},
   "outputs": [],
   "source": [
    "model_dt = DecisionTreeClassifier(random_state=180723)\n",
    "parameters_range = {'max_depth': [1, 6, 1], 'min_samples_leaf': [1, 3, 1]}"
   ]
  },
  {
   "cell_type": "code",
   "execution_count": 30,
   "id": "e48e1437",
   "metadata": {},
   "outputs": [],
   "source": [
    "#n_iter=4, random_state=180723, n_jobs=-1, verbose=2\n",
    "#roc_auc_score\n",
    "gscv_dt = GridSearchCV(model_dt, parameters_range, cv=5, scoring='roc_auc')"
   ]
  },
  {
   "cell_type": "code",
   "execution_count": 31,
   "id": "4c13fd63",
   "metadata": {},
   "outputs": [
    {
     "data": {
      "text/html": [
       "<style>#sk-container-id-1 {color: black;background-color: white;}#sk-container-id-1 pre{padding: 0;}#sk-container-id-1 div.sk-toggleable {background-color: white;}#sk-container-id-1 label.sk-toggleable__label {cursor: pointer;display: block;width: 100%;margin-bottom: 0;padding: 0.3em;box-sizing: border-box;text-align: center;}#sk-container-id-1 label.sk-toggleable__label-arrow:before {content: \"▸\";float: left;margin-right: 0.25em;color: #696969;}#sk-container-id-1 label.sk-toggleable__label-arrow:hover:before {color: black;}#sk-container-id-1 div.sk-estimator:hover label.sk-toggleable__label-arrow:before {color: black;}#sk-container-id-1 div.sk-toggleable__content {max-height: 0;max-width: 0;overflow: hidden;text-align: left;background-color: #f0f8ff;}#sk-container-id-1 div.sk-toggleable__content pre {margin: 0.2em;color: black;border-radius: 0.25em;background-color: #f0f8ff;}#sk-container-id-1 input.sk-toggleable__control:checked~div.sk-toggleable__content {max-height: 200px;max-width: 100%;overflow: auto;}#sk-container-id-1 input.sk-toggleable__control:checked~label.sk-toggleable__label-arrow:before {content: \"▾\";}#sk-container-id-1 div.sk-estimator input.sk-toggleable__control:checked~label.sk-toggleable__label {background-color: #d4ebff;}#sk-container-id-1 div.sk-label input.sk-toggleable__control:checked~label.sk-toggleable__label {background-color: #d4ebff;}#sk-container-id-1 input.sk-hidden--visually {border: 0;clip: rect(1px 1px 1px 1px);clip: rect(1px, 1px, 1px, 1px);height: 1px;margin: -1px;overflow: hidden;padding: 0;position: absolute;width: 1px;}#sk-container-id-1 div.sk-estimator {font-family: monospace;background-color: #f0f8ff;border: 1px dotted black;border-radius: 0.25em;box-sizing: border-box;margin-bottom: 0.5em;}#sk-container-id-1 div.sk-estimator:hover {background-color: #d4ebff;}#sk-container-id-1 div.sk-parallel-item::after {content: \"\";width: 100%;border-bottom: 1px solid gray;flex-grow: 1;}#sk-container-id-1 div.sk-label:hover label.sk-toggleable__label {background-color: #d4ebff;}#sk-container-id-1 div.sk-serial::before {content: \"\";position: absolute;border-left: 1px solid gray;box-sizing: border-box;top: 0;bottom: 0;left: 50%;z-index: 0;}#sk-container-id-1 div.sk-serial {display: flex;flex-direction: column;align-items: center;background-color: white;padding-right: 0.2em;padding-left: 0.2em;position: relative;}#sk-container-id-1 div.sk-item {position: relative;z-index: 1;}#sk-container-id-1 div.sk-parallel {display: flex;align-items: stretch;justify-content: center;background-color: white;position: relative;}#sk-container-id-1 div.sk-item::before, #sk-container-id-1 div.sk-parallel-item::before {content: \"\";position: absolute;border-left: 1px solid gray;box-sizing: border-box;top: 0;bottom: 0;left: 50%;z-index: -1;}#sk-container-id-1 div.sk-parallel-item {display: flex;flex-direction: column;z-index: 1;position: relative;background-color: white;}#sk-container-id-1 div.sk-parallel-item:first-child::after {align-self: flex-end;width: 50%;}#sk-container-id-1 div.sk-parallel-item:last-child::after {align-self: flex-start;width: 50%;}#sk-container-id-1 div.sk-parallel-item:only-child::after {width: 0;}#sk-container-id-1 div.sk-dashed-wrapped {border: 1px dashed gray;margin: 0 0.4em 0.5em 0.4em;box-sizing: border-box;padding-bottom: 0.4em;background-color: white;}#sk-container-id-1 div.sk-label label {font-family: monospace;font-weight: bold;display: inline-block;line-height: 1.2em;}#sk-container-id-1 div.sk-label-container {text-align: center;}#sk-container-id-1 div.sk-container {/* jupyter's `normalize.less` sets `[hidden] { display: none; }` but bootstrap.min.css set `[hidden] { display: none !important; }` so we also need the `!important` here to be able to override the default hidden behavior on the sphinx rendered scikit-learn.org. See: https://github.com/scikit-learn/scikit-learn/issues/21755 */display: inline-block !important;position: relative;}#sk-container-id-1 div.sk-text-repr-fallback {display: none;}</style><div id=\"sk-container-id-1\" class=\"sk-top-container\"><div class=\"sk-text-repr-fallback\"><pre>GridSearchCV(cv=5, estimator=DecisionTreeClassifier(random_state=180723),\n",
       "             param_grid={&#x27;max_depth&#x27;: [1, 6, 1], &#x27;min_samples_leaf&#x27;: [1, 3, 1]},\n",
       "             scoring=&#x27;roc_auc&#x27;)</pre><b>In a Jupyter environment, please rerun this cell to show the HTML representation or trust the notebook. <br />On GitHub, the HTML representation is unable to render, please try loading this page with nbviewer.org.</b></div><div class=\"sk-container\" hidden><div class=\"sk-item sk-dashed-wrapped\"><div class=\"sk-label-container\"><div class=\"sk-label sk-toggleable\"><input class=\"sk-toggleable__control sk-hidden--visually\" id=\"sk-estimator-id-1\" type=\"checkbox\" ><label for=\"sk-estimator-id-1\" class=\"sk-toggleable__label sk-toggleable__label-arrow\">GridSearchCV</label><div class=\"sk-toggleable__content\"><pre>GridSearchCV(cv=5, estimator=DecisionTreeClassifier(random_state=180723),\n",
       "             param_grid={&#x27;max_depth&#x27;: [1, 6, 1], &#x27;min_samples_leaf&#x27;: [1, 3, 1]},\n",
       "             scoring=&#x27;roc_auc&#x27;)</pre></div></div></div><div class=\"sk-parallel\"><div class=\"sk-parallel-item\"><div class=\"sk-item\"><div class=\"sk-label-container\"><div class=\"sk-label sk-toggleable\"><input class=\"sk-toggleable__control sk-hidden--visually\" id=\"sk-estimator-id-2\" type=\"checkbox\" ><label for=\"sk-estimator-id-2\" class=\"sk-toggleable__label sk-toggleable__label-arrow\">estimator: DecisionTreeClassifier</label><div class=\"sk-toggleable__content\"><pre>DecisionTreeClassifier(random_state=180723)</pre></div></div></div><div class=\"sk-serial\"><div class=\"sk-item\"><div class=\"sk-estimator sk-toggleable\"><input class=\"sk-toggleable__control sk-hidden--visually\" id=\"sk-estimator-id-3\" type=\"checkbox\" ><label for=\"sk-estimator-id-3\" class=\"sk-toggleable__label sk-toggleable__label-arrow\">DecisionTreeClassifier</label><div class=\"sk-toggleable__content\"><pre>DecisionTreeClassifier(random_state=180723)</pre></div></div></div></div></div></div></div></div></div></div>"
      ],
      "text/plain": [
       "GridSearchCV(cv=5, estimator=DecisionTreeClassifier(random_state=180723),\n",
       "             param_grid={'max_depth': [1, 6, 1], 'min_samples_leaf': [1, 3, 1]},\n",
       "             scoring='roc_auc')"
      ]
     },
     "execution_count": 31,
     "metadata": {},
     "output_type": "execute_result"
    }
   ],
   "source": [
    "gscv_dt.fit(features_train_oe, target_train)"
   ]
  },
  {
   "cell_type": "markdown",
   "id": "6a04e0c7",
   "metadata": {},
   "source": [
    "В рамках модели Решающего дерева науличший результат получили при max_depth=6 и min_samples_leaf=3"
   ]
  },
  {
   "cell_type": "code",
   "execution_count": 32,
   "id": "4f61c68b",
   "metadata": {},
   "outputs": [
    {
     "data": {
      "text/html": [
       "<style>#sk-container-id-2 {color: black;background-color: white;}#sk-container-id-2 pre{padding: 0;}#sk-container-id-2 div.sk-toggleable {background-color: white;}#sk-container-id-2 label.sk-toggleable__label {cursor: pointer;display: block;width: 100%;margin-bottom: 0;padding: 0.3em;box-sizing: border-box;text-align: center;}#sk-container-id-2 label.sk-toggleable__label-arrow:before {content: \"▸\";float: left;margin-right: 0.25em;color: #696969;}#sk-container-id-2 label.sk-toggleable__label-arrow:hover:before {color: black;}#sk-container-id-2 div.sk-estimator:hover label.sk-toggleable__label-arrow:before {color: black;}#sk-container-id-2 div.sk-toggleable__content {max-height: 0;max-width: 0;overflow: hidden;text-align: left;background-color: #f0f8ff;}#sk-container-id-2 div.sk-toggleable__content pre {margin: 0.2em;color: black;border-radius: 0.25em;background-color: #f0f8ff;}#sk-container-id-2 input.sk-toggleable__control:checked~div.sk-toggleable__content {max-height: 200px;max-width: 100%;overflow: auto;}#sk-container-id-2 input.sk-toggleable__control:checked~label.sk-toggleable__label-arrow:before {content: \"▾\";}#sk-container-id-2 div.sk-estimator input.sk-toggleable__control:checked~label.sk-toggleable__label {background-color: #d4ebff;}#sk-container-id-2 div.sk-label input.sk-toggleable__control:checked~label.sk-toggleable__label {background-color: #d4ebff;}#sk-container-id-2 input.sk-hidden--visually {border: 0;clip: rect(1px 1px 1px 1px);clip: rect(1px, 1px, 1px, 1px);height: 1px;margin: -1px;overflow: hidden;padding: 0;position: absolute;width: 1px;}#sk-container-id-2 div.sk-estimator {font-family: monospace;background-color: #f0f8ff;border: 1px dotted black;border-radius: 0.25em;box-sizing: border-box;margin-bottom: 0.5em;}#sk-container-id-2 div.sk-estimator:hover {background-color: #d4ebff;}#sk-container-id-2 div.sk-parallel-item::after {content: \"\";width: 100%;border-bottom: 1px solid gray;flex-grow: 1;}#sk-container-id-2 div.sk-label:hover label.sk-toggleable__label {background-color: #d4ebff;}#sk-container-id-2 div.sk-serial::before {content: \"\";position: absolute;border-left: 1px solid gray;box-sizing: border-box;top: 0;bottom: 0;left: 50%;z-index: 0;}#sk-container-id-2 div.sk-serial {display: flex;flex-direction: column;align-items: center;background-color: white;padding-right: 0.2em;padding-left: 0.2em;position: relative;}#sk-container-id-2 div.sk-item {position: relative;z-index: 1;}#sk-container-id-2 div.sk-parallel {display: flex;align-items: stretch;justify-content: center;background-color: white;position: relative;}#sk-container-id-2 div.sk-item::before, #sk-container-id-2 div.sk-parallel-item::before {content: \"\";position: absolute;border-left: 1px solid gray;box-sizing: border-box;top: 0;bottom: 0;left: 50%;z-index: -1;}#sk-container-id-2 div.sk-parallel-item {display: flex;flex-direction: column;z-index: 1;position: relative;background-color: white;}#sk-container-id-2 div.sk-parallel-item:first-child::after {align-self: flex-end;width: 50%;}#sk-container-id-2 div.sk-parallel-item:last-child::after {align-self: flex-start;width: 50%;}#sk-container-id-2 div.sk-parallel-item:only-child::after {width: 0;}#sk-container-id-2 div.sk-dashed-wrapped {border: 1px dashed gray;margin: 0 0.4em 0.5em 0.4em;box-sizing: border-box;padding-bottom: 0.4em;background-color: white;}#sk-container-id-2 div.sk-label label {font-family: monospace;font-weight: bold;display: inline-block;line-height: 1.2em;}#sk-container-id-2 div.sk-label-container {text-align: center;}#sk-container-id-2 div.sk-container {/* jupyter's `normalize.less` sets `[hidden] { display: none; }` but bootstrap.min.css set `[hidden] { display: none !important; }` so we also need the `!important` here to be able to override the default hidden behavior on the sphinx rendered scikit-learn.org. See: https://github.com/scikit-learn/scikit-learn/issues/21755 */display: inline-block !important;position: relative;}#sk-container-id-2 div.sk-text-repr-fallback {display: none;}</style><div id=\"sk-container-id-2\" class=\"sk-top-container\"><div class=\"sk-text-repr-fallback\"><pre>DecisionTreeClassifier(max_depth=6, random_state=180723)</pre><b>In a Jupyter environment, please rerun this cell to show the HTML representation or trust the notebook. <br />On GitHub, the HTML representation is unable to render, please try loading this page with nbviewer.org.</b></div><div class=\"sk-container\" hidden><div class=\"sk-item\"><div class=\"sk-estimator sk-toggleable\"><input class=\"sk-toggleable__control sk-hidden--visually\" id=\"sk-estimator-id-4\" type=\"checkbox\" checked><label for=\"sk-estimator-id-4\" class=\"sk-toggleable__label sk-toggleable__label-arrow\">DecisionTreeClassifier</label><div class=\"sk-toggleable__content\"><pre>DecisionTreeClassifier(max_depth=6, random_state=180723)</pre></div></div></div></div></div>"
      ],
      "text/plain": [
       "DecisionTreeClassifier(max_depth=6, random_state=180723)"
      ]
     },
     "execution_count": 32,
     "metadata": {},
     "output_type": "execute_result"
    }
   ],
   "source": [
    "gscv_dt.best_estimator_"
   ]
  },
  {
   "cell_type": "code",
   "execution_count": 33,
   "id": "ddd9695b",
   "metadata": {},
   "outputs": [],
   "source": [
    "MAX_DEPTH = 6\n",
    "MIN_SAMPLES_LEAF = 3"
   ]
  },
  {
   "cell_type": "markdown",
   "id": "63121020",
   "metadata": {},
   "source": [
    "При указанных выше параметрах получили значение метрики roc auc score = 0.78954291"
   ]
  },
  {
   "cell_type": "code",
   "execution_count": 34,
   "id": "175b2afa",
   "metadata": {},
   "outputs": [],
   "source": [
    "ROC_AUC_DT = 0.78954291"
   ]
  },
  {
   "cell_type": "code",
   "execution_count": 35,
   "id": "9f52f0ff",
   "metadata": {},
   "outputs": [
    {
     "data": {
      "text/plain": [
       "{'mean_fit_time': array([0.00279284, 0.00259299, 0.00259333, 0.00538535, 0.0053854 ,\n",
       "        0.00498862, 0.00259304, 0.00219173, 0.00239697]),\n",
       " 'std_fit_time': array([3.98994016e-04, 4.88869710e-04, 4.88947841e-04, 4.88559483e-04,\n",
       "        4.88811257e-04, 3.69787139e-06, 4.88811281e-04, 3.99756664e-04,\n",
       "        4.85787356e-04]),\n",
       " 'mean_score_time': array([0.00199456, 0.00159559, 0.00179524, 0.00199494, 0.00179539,\n",
       "        0.00183225, 0.00179524, 0.00199709, 0.00179181]),\n",
       " 'std_score_time': array([1.78416128e-07, 4.88499796e-04, 3.98969665e-04, 1.16800773e-07,\n",
       "        3.98922081e-04, 3.19862458e-04, 3.99208154e-04, 1.47199870e-05,\n",
       "        3.96914467e-04]),\n",
       " 'param_max_depth': masked_array(data=[1, 1, 1, 6, 6, 6, 1, 1, 1],\n",
       "              mask=[False, False, False, False, False, False, False, False,\n",
       "                    False],\n",
       "        fill_value='?',\n",
       "             dtype=object),\n",
       " 'param_min_samples_leaf': masked_array(data=[1, 3, 1, 1, 3, 1, 1, 3, 1],\n",
       "              mask=[False, False, False, False, False, False, False, False,\n",
       "                    False],\n",
       "        fill_value='?',\n",
       "             dtype=object),\n",
       " 'params': [{'max_depth': 1, 'min_samples_leaf': 1},\n",
       "  {'max_depth': 1, 'min_samples_leaf': 3},\n",
       "  {'max_depth': 1, 'min_samples_leaf': 1},\n",
       "  {'max_depth': 6, 'min_samples_leaf': 1},\n",
       "  {'max_depth': 6, 'min_samples_leaf': 3},\n",
       "  {'max_depth': 6, 'min_samples_leaf': 1},\n",
       "  {'max_depth': 1, 'min_samples_leaf': 1},\n",
       "  {'max_depth': 1, 'min_samples_leaf': 3},\n",
       "  {'max_depth': 1, 'min_samples_leaf': 1}],\n",
       " 'split0_test_score': array([0.57453337, 0.57453337, 0.57453337, 0.8134744 , 0.81189648,\n",
       "        0.8134744 , 0.57453337, 0.57453337, 0.57453337]),\n",
       " 'split1_test_score': array([0.60497249, 0.60497249, 0.60497249, 0.77854089, 0.77675055,\n",
       "        0.77854089, 0.60497249, 0.60497249, 0.60497249]),\n",
       " 'split2_test_score': array([0.578404  , 0.578404  , 0.578404  , 0.7768753 , 0.75209716,\n",
       "        0.7768753 , 0.578404  , 0.578404  , 0.578404  ]),\n",
       " 'split3_test_score': array([0.59522172, 0.59522172, 0.59522172, 0.77179762, 0.77486581,\n",
       "        0.77179762, 0.59522172, 0.59522172, 0.59522172]),\n",
       " 'split4_test_score': array([0.60827724, 0.60827724, 0.60827724, 0.80702631, 0.80302979,\n",
       "        0.80702631, 0.60827724, 0.60827724, 0.60827724]),\n",
       " 'mean_test_score': array([0.59228176, 0.59228176, 0.59228176, 0.78954291, 0.78372796,\n",
       "        0.78954291, 0.59228176, 0.59228176, 0.59228176]),\n",
       " 'std_test_score': array([0.01366127, 0.01366127, 0.01366127, 0.01717436, 0.02141848,\n",
       "        0.01717436, 0.01366127, 0.01366127, 0.01366127]),\n",
       " 'rank_test_score': array([4, 4, 4, 1, 3, 1, 4, 4, 4])}"
      ]
     },
     "execution_count": 35,
     "metadata": {},
     "output_type": "execute_result"
    }
   ],
   "source": [
    "gscv_dt.cv_results_"
   ]
  },
  {
   "cell_type": "raw",
   "id": "5c98feef",
   "metadata": {},
   "source": [
    "y_pred = m_best.predict(X_test)\n",
    "precision_score(y_test, y_pred)"
   ]
  },
  {
   "cell_type": "markdown",
   "id": "fbee2a8a",
   "metadata": {},
   "source": [
    "### Случайный лес"
   ]
  },
  {
   "cell_type": "code",
   "execution_count": 36,
   "id": "eec7a6c3",
   "metadata": {},
   "outputs": [],
   "source": [
    "model_rf = RandomForestClassifier(random_state=180723)\n",
    "parameters_range = {'n_estimators': [10, 51, 10]}"
   ]
  },
  {
   "cell_type": "code",
   "execution_count": 37,
   "id": "96585713",
   "metadata": {},
   "outputs": [],
   "source": [
    "gscv_rf = GridSearchCV(model_rf, parameters_range, cv=5, scoring='roc_auc')"
   ]
  },
  {
   "cell_type": "code",
   "execution_count": 38,
   "id": "58adf00e",
   "metadata": {},
   "outputs": [
    {
     "data": {
      "text/html": [
       "<style>#sk-container-id-3 {color: black;background-color: white;}#sk-container-id-3 pre{padding: 0;}#sk-container-id-3 div.sk-toggleable {background-color: white;}#sk-container-id-3 label.sk-toggleable__label {cursor: pointer;display: block;width: 100%;margin-bottom: 0;padding: 0.3em;box-sizing: border-box;text-align: center;}#sk-container-id-3 label.sk-toggleable__label-arrow:before {content: \"▸\";float: left;margin-right: 0.25em;color: #696969;}#sk-container-id-3 label.sk-toggleable__label-arrow:hover:before {color: black;}#sk-container-id-3 div.sk-estimator:hover label.sk-toggleable__label-arrow:before {color: black;}#sk-container-id-3 div.sk-toggleable__content {max-height: 0;max-width: 0;overflow: hidden;text-align: left;background-color: #f0f8ff;}#sk-container-id-3 div.sk-toggleable__content pre {margin: 0.2em;color: black;border-radius: 0.25em;background-color: #f0f8ff;}#sk-container-id-3 input.sk-toggleable__control:checked~div.sk-toggleable__content {max-height: 200px;max-width: 100%;overflow: auto;}#sk-container-id-3 input.sk-toggleable__control:checked~label.sk-toggleable__label-arrow:before {content: \"▾\";}#sk-container-id-3 div.sk-estimator input.sk-toggleable__control:checked~label.sk-toggleable__label {background-color: #d4ebff;}#sk-container-id-3 div.sk-label input.sk-toggleable__control:checked~label.sk-toggleable__label {background-color: #d4ebff;}#sk-container-id-3 input.sk-hidden--visually {border: 0;clip: rect(1px 1px 1px 1px);clip: rect(1px, 1px, 1px, 1px);height: 1px;margin: -1px;overflow: hidden;padding: 0;position: absolute;width: 1px;}#sk-container-id-3 div.sk-estimator {font-family: monospace;background-color: #f0f8ff;border: 1px dotted black;border-radius: 0.25em;box-sizing: border-box;margin-bottom: 0.5em;}#sk-container-id-3 div.sk-estimator:hover {background-color: #d4ebff;}#sk-container-id-3 div.sk-parallel-item::after {content: \"\";width: 100%;border-bottom: 1px solid gray;flex-grow: 1;}#sk-container-id-3 div.sk-label:hover label.sk-toggleable__label {background-color: #d4ebff;}#sk-container-id-3 div.sk-serial::before {content: \"\";position: absolute;border-left: 1px solid gray;box-sizing: border-box;top: 0;bottom: 0;left: 50%;z-index: 0;}#sk-container-id-3 div.sk-serial {display: flex;flex-direction: column;align-items: center;background-color: white;padding-right: 0.2em;padding-left: 0.2em;position: relative;}#sk-container-id-3 div.sk-item {position: relative;z-index: 1;}#sk-container-id-3 div.sk-parallel {display: flex;align-items: stretch;justify-content: center;background-color: white;position: relative;}#sk-container-id-3 div.sk-item::before, #sk-container-id-3 div.sk-parallel-item::before {content: \"\";position: absolute;border-left: 1px solid gray;box-sizing: border-box;top: 0;bottom: 0;left: 50%;z-index: -1;}#sk-container-id-3 div.sk-parallel-item {display: flex;flex-direction: column;z-index: 1;position: relative;background-color: white;}#sk-container-id-3 div.sk-parallel-item:first-child::after {align-self: flex-end;width: 50%;}#sk-container-id-3 div.sk-parallel-item:last-child::after {align-self: flex-start;width: 50%;}#sk-container-id-3 div.sk-parallel-item:only-child::after {width: 0;}#sk-container-id-3 div.sk-dashed-wrapped {border: 1px dashed gray;margin: 0 0.4em 0.5em 0.4em;box-sizing: border-box;padding-bottom: 0.4em;background-color: white;}#sk-container-id-3 div.sk-label label {font-family: monospace;font-weight: bold;display: inline-block;line-height: 1.2em;}#sk-container-id-3 div.sk-label-container {text-align: center;}#sk-container-id-3 div.sk-container {/* jupyter's `normalize.less` sets `[hidden] { display: none; }` but bootstrap.min.css set `[hidden] { display: none !important; }` so we also need the `!important` here to be able to override the default hidden behavior on the sphinx rendered scikit-learn.org. See: https://github.com/scikit-learn/scikit-learn/issues/21755 */display: inline-block !important;position: relative;}#sk-container-id-3 div.sk-text-repr-fallback {display: none;}</style><div id=\"sk-container-id-3\" class=\"sk-top-container\"><div class=\"sk-text-repr-fallback\"><pre>GridSearchCV(cv=5, estimator=RandomForestClassifier(random_state=180723),\n",
       "             param_grid={&#x27;n_estimators&#x27;: [10, 51, 10]}, scoring=&#x27;roc_auc&#x27;)</pre><b>In a Jupyter environment, please rerun this cell to show the HTML representation or trust the notebook. <br />On GitHub, the HTML representation is unable to render, please try loading this page with nbviewer.org.</b></div><div class=\"sk-container\" hidden><div class=\"sk-item sk-dashed-wrapped\"><div class=\"sk-label-container\"><div class=\"sk-label sk-toggleable\"><input class=\"sk-toggleable__control sk-hidden--visually\" id=\"sk-estimator-id-5\" type=\"checkbox\" ><label for=\"sk-estimator-id-5\" class=\"sk-toggleable__label sk-toggleable__label-arrow\">GridSearchCV</label><div class=\"sk-toggleable__content\"><pre>GridSearchCV(cv=5, estimator=RandomForestClassifier(random_state=180723),\n",
       "             param_grid={&#x27;n_estimators&#x27;: [10, 51, 10]}, scoring=&#x27;roc_auc&#x27;)</pre></div></div></div><div class=\"sk-parallel\"><div class=\"sk-parallel-item\"><div class=\"sk-item\"><div class=\"sk-label-container\"><div class=\"sk-label sk-toggleable\"><input class=\"sk-toggleable__control sk-hidden--visually\" id=\"sk-estimator-id-6\" type=\"checkbox\" ><label for=\"sk-estimator-id-6\" class=\"sk-toggleable__label sk-toggleable__label-arrow\">estimator: RandomForestClassifier</label><div class=\"sk-toggleable__content\"><pre>RandomForestClassifier(random_state=180723)</pre></div></div></div><div class=\"sk-serial\"><div class=\"sk-item\"><div class=\"sk-estimator sk-toggleable\"><input class=\"sk-toggleable__control sk-hidden--visually\" id=\"sk-estimator-id-7\" type=\"checkbox\" ><label for=\"sk-estimator-id-7\" class=\"sk-toggleable__label sk-toggleable__label-arrow\">RandomForestClassifier</label><div class=\"sk-toggleable__content\"><pre>RandomForestClassifier(random_state=180723)</pre></div></div></div></div></div></div></div></div></div></div>"
      ],
      "text/plain": [
       "GridSearchCV(cv=5, estimator=RandomForestClassifier(random_state=180723),\n",
       "             param_grid={'n_estimators': [10, 51, 10]}, scoring='roc_auc')"
      ]
     },
     "execution_count": 38,
     "metadata": {},
     "output_type": "execute_result"
    }
   ],
   "source": [
    "gscv_rf.fit(features_train_oe, target_train)"
   ]
  },
  {
   "cell_type": "markdown",
   "id": "eb031165",
   "metadata": {},
   "source": [
    "В рамках модели Случайного леса науличший результат получили при n_estimators=51"
   ]
  },
  {
   "cell_type": "code",
   "execution_count": 39,
   "id": "a8651202",
   "metadata": {},
   "outputs": [
    {
     "data": {
      "text/html": [
       "<style>#sk-container-id-4 {color: black;background-color: white;}#sk-container-id-4 pre{padding: 0;}#sk-container-id-4 div.sk-toggleable {background-color: white;}#sk-container-id-4 label.sk-toggleable__label {cursor: pointer;display: block;width: 100%;margin-bottom: 0;padding: 0.3em;box-sizing: border-box;text-align: center;}#sk-container-id-4 label.sk-toggleable__label-arrow:before {content: \"▸\";float: left;margin-right: 0.25em;color: #696969;}#sk-container-id-4 label.sk-toggleable__label-arrow:hover:before {color: black;}#sk-container-id-4 div.sk-estimator:hover label.sk-toggleable__label-arrow:before {color: black;}#sk-container-id-4 div.sk-toggleable__content {max-height: 0;max-width: 0;overflow: hidden;text-align: left;background-color: #f0f8ff;}#sk-container-id-4 div.sk-toggleable__content pre {margin: 0.2em;color: black;border-radius: 0.25em;background-color: #f0f8ff;}#sk-container-id-4 input.sk-toggleable__control:checked~div.sk-toggleable__content {max-height: 200px;max-width: 100%;overflow: auto;}#sk-container-id-4 input.sk-toggleable__control:checked~label.sk-toggleable__label-arrow:before {content: \"▾\";}#sk-container-id-4 div.sk-estimator input.sk-toggleable__control:checked~label.sk-toggleable__label {background-color: #d4ebff;}#sk-container-id-4 div.sk-label input.sk-toggleable__control:checked~label.sk-toggleable__label {background-color: #d4ebff;}#sk-container-id-4 input.sk-hidden--visually {border: 0;clip: rect(1px 1px 1px 1px);clip: rect(1px, 1px, 1px, 1px);height: 1px;margin: -1px;overflow: hidden;padding: 0;position: absolute;width: 1px;}#sk-container-id-4 div.sk-estimator {font-family: monospace;background-color: #f0f8ff;border: 1px dotted black;border-radius: 0.25em;box-sizing: border-box;margin-bottom: 0.5em;}#sk-container-id-4 div.sk-estimator:hover {background-color: #d4ebff;}#sk-container-id-4 div.sk-parallel-item::after {content: \"\";width: 100%;border-bottom: 1px solid gray;flex-grow: 1;}#sk-container-id-4 div.sk-label:hover label.sk-toggleable__label {background-color: #d4ebff;}#sk-container-id-4 div.sk-serial::before {content: \"\";position: absolute;border-left: 1px solid gray;box-sizing: border-box;top: 0;bottom: 0;left: 50%;z-index: 0;}#sk-container-id-4 div.sk-serial {display: flex;flex-direction: column;align-items: center;background-color: white;padding-right: 0.2em;padding-left: 0.2em;position: relative;}#sk-container-id-4 div.sk-item {position: relative;z-index: 1;}#sk-container-id-4 div.sk-parallel {display: flex;align-items: stretch;justify-content: center;background-color: white;position: relative;}#sk-container-id-4 div.sk-item::before, #sk-container-id-4 div.sk-parallel-item::before {content: \"\";position: absolute;border-left: 1px solid gray;box-sizing: border-box;top: 0;bottom: 0;left: 50%;z-index: -1;}#sk-container-id-4 div.sk-parallel-item {display: flex;flex-direction: column;z-index: 1;position: relative;background-color: white;}#sk-container-id-4 div.sk-parallel-item:first-child::after {align-self: flex-end;width: 50%;}#sk-container-id-4 div.sk-parallel-item:last-child::after {align-self: flex-start;width: 50%;}#sk-container-id-4 div.sk-parallel-item:only-child::after {width: 0;}#sk-container-id-4 div.sk-dashed-wrapped {border: 1px dashed gray;margin: 0 0.4em 0.5em 0.4em;box-sizing: border-box;padding-bottom: 0.4em;background-color: white;}#sk-container-id-4 div.sk-label label {font-family: monospace;font-weight: bold;display: inline-block;line-height: 1.2em;}#sk-container-id-4 div.sk-label-container {text-align: center;}#sk-container-id-4 div.sk-container {/* jupyter's `normalize.less` sets `[hidden] { display: none; }` but bootstrap.min.css set `[hidden] { display: none !important; }` so we also need the `!important` here to be able to override the default hidden behavior on the sphinx rendered scikit-learn.org. See: https://github.com/scikit-learn/scikit-learn/issues/21755 */display: inline-block !important;position: relative;}#sk-container-id-4 div.sk-text-repr-fallback {display: none;}</style><div id=\"sk-container-id-4\" class=\"sk-top-container\"><div class=\"sk-text-repr-fallback\"><pre>RandomForestClassifier(n_estimators=51, random_state=180723)</pre><b>In a Jupyter environment, please rerun this cell to show the HTML representation or trust the notebook. <br />On GitHub, the HTML representation is unable to render, please try loading this page with nbviewer.org.</b></div><div class=\"sk-container\" hidden><div class=\"sk-item\"><div class=\"sk-estimator sk-toggleable\"><input class=\"sk-toggleable__control sk-hidden--visually\" id=\"sk-estimator-id-8\" type=\"checkbox\" checked><label for=\"sk-estimator-id-8\" class=\"sk-toggleable__label sk-toggleable__label-arrow\">RandomForestClassifier</label><div class=\"sk-toggleable__content\"><pre>RandomForestClassifier(n_estimators=51, random_state=180723)</pre></div></div></div></div></div>"
      ],
      "text/plain": [
       "RandomForestClassifier(n_estimators=51, random_state=180723)"
      ]
     },
     "execution_count": 39,
     "metadata": {},
     "output_type": "execute_result"
    }
   ],
   "source": [
    "gscv_rf.best_estimator_"
   ]
  },
  {
   "cell_type": "code",
   "execution_count": 40,
   "id": "4840da59",
   "metadata": {},
   "outputs": [],
   "source": [
    "N_EST_RF = 51"
   ]
  },
  {
   "cell_type": "markdown",
   "id": "4893590e",
   "metadata": {},
   "source": [
    "При указанном выше параметре получили значение метрики roc auc score = 0.79705353"
   ]
  },
  {
   "cell_type": "code",
   "execution_count": 41,
   "id": "56acc79b",
   "metadata": {},
   "outputs": [
    {
     "data": {
      "text/plain": [
       "{'mean_fit_time': array([0.02932162, 0.13853965, 0.02903514]),\n",
       " 'std_fit_time': array([0.00079837, 0.00092667, 0.00427882]),\n",
       " 'mean_score_time': array([0.00319161, 0.01137028, 0.00339227]),\n",
       " 'std_score_time': array([0.00039904, 0.00048825, 0.00173955]),\n",
       " 'param_n_estimators': masked_array(data=[10, 51, 10],\n",
       "              mask=[False, False, False],\n",
       "        fill_value='?',\n",
       "             dtype=object),\n",
       " 'params': [{'n_estimators': 10}, {'n_estimators': 51}, {'n_estimators': 10}],\n",
       " 'split0_test_score': array([0.79678144, 0.81762826, 0.79678144]),\n",
       " 'split1_test_score': array([0.76413727, 0.79756703, 0.76413727]),\n",
       " 'split2_test_score': array([0.76891824, 0.78937733, 0.76891824]),\n",
       " 'split3_test_score': array([0.75407294, 0.78879066, 0.75407294]),\n",
       " 'split4_test_score': array([0.75615173, 0.79190435, 0.75615173]),\n",
       " 'mean_test_score': array([0.76801232, 0.79705353, 0.76801232]),\n",
       " 'std_test_score': array([0.01535239, 0.0107452 , 0.01535239]),\n",
       " 'rank_test_score': array([2, 1, 2])}"
      ]
     },
     "execution_count": 41,
     "metadata": {},
     "output_type": "execute_result"
    }
   ],
   "source": [
    "gscv_rf.cv_results_"
   ]
  },
  {
   "cell_type": "code",
   "execution_count": 42,
   "id": "0f74d507",
   "metadata": {},
   "outputs": [],
   "source": [
    "ROC_AUC_RF = 0.79705353"
   ]
  },
  {
   "cell_type": "markdown",
   "id": "e4d7c649",
   "metadata": {},
   "source": [
    "### Градиентный бустинг"
   ]
  },
  {
   "cell_type": "markdown",
   "id": "54500690",
   "metadata": {},
   "source": [
    "Чтобы поработать с LGBM на незакодированных выборках, изменили тип данных у категориальных признаков на category"
   ]
  },
  {
   "cell_type": "code",
   "execution_count": 43,
   "id": "5af47ecf",
   "metadata": {},
   "outputs": [
    {
     "name": "stdout",
     "output_type": "stream",
     "text": [
      "gender              category\n",
      "SeniorCitizen          int64\n",
      "Partner             category\n",
      "Dependents          category\n",
      "Type                category\n",
      "PaperlessBilling    category\n",
      "PaymentMethod       category\n",
      "InternetService     category\n",
      "OnlineSecurity      category\n",
      "OnlineBackup        category\n",
      "DeviceProtection    category\n",
      "TechSupport         category\n",
      "StreamingTV         category\n",
      "StreamingMovies     category\n",
      "MultipleLines       category\n",
      "duration2              int64\n",
      "dtype: object\n"
     ]
    }
   ],
   "source": [
    "#features_train\n",
    "features_train_booster = features_train.copy()\n",
    "\n",
    "for signs in object_signs:\n",
    "    features_train_booster[signs] = features_train_booster[signs].astype('category')\n",
    "    \n",
    "print(features_train_booster.dtypes)"
   ]
  },
  {
   "cell_type": "code",
   "execution_count": 44,
   "id": "b5d199d9",
   "metadata": {},
   "outputs": [
    {
     "name": "stdout",
     "output_type": "stream",
     "text": [
      "gender              category\n",
      "SeniorCitizen          int64\n",
      "Partner             category\n",
      "Dependents          category\n",
      "Type                category\n",
      "PaperlessBilling    category\n",
      "PaymentMethod       category\n",
      "InternetService     category\n",
      "OnlineSecurity      category\n",
      "OnlineBackup        category\n",
      "DeviceProtection    category\n",
      "TechSupport         category\n",
      "StreamingTV         category\n",
      "StreamingMovies     category\n",
      "MultipleLines       category\n",
      "duration2              int64\n",
      "dtype: object\n"
     ]
    }
   ],
   "source": [
    "#features_test\n",
    "features_test_booster = features_test.copy()\n",
    "\n",
    "for signs in object_signs:\n",
    "    features_test_booster[signs] = features_test_booster[signs].astype('category')\n",
    "    \n",
    "print(features_test_booster.dtypes)"
   ]
  },
  {
   "cell_type": "code",
   "execution_count": 45,
   "id": "5f34943d",
   "metadata": {},
   "outputs": [],
   "source": [
    "model_booster = lgb.LGBMClassifier(objective=\"binary\", random_state=180723)\n",
    "parameters_range = {'n_estimators': [10, 91, 10]}"
   ]
  },
  {
   "cell_type": "code",
   "execution_count": 46,
   "id": "cb74bdda",
   "metadata": {},
   "outputs": [],
   "source": [
    "gscv_booster = GridSearchCV(model_booster, parameters_range, cv=5, scoring='roc_auc')"
   ]
  },
  {
   "cell_type": "code",
   "execution_count": 47,
   "id": "0603b321",
   "metadata": {
    "scrolled": true
   },
   "outputs": [
    {
     "name": "stdout",
     "output_type": "stream",
     "text": [
      "[LightGBM] [Info] Number of positive: 3551, number of negative: 668\n",
      "[LightGBM] [Warning] Auto-choosing row-wise multi-threading, the overhead of testing was 0.000226 seconds.\n",
      "You can set `force_row_wise=true` to remove the overhead.\n",
      "And if memory is not enough, you can set `force_col_wise=true`.\n",
      "[LightGBM] [Info] Total Bins 214\n",
      "[LightGBM] [Info] Number of data points in the train set: 4219, number of used features: 16\n",
      "[LightGBM] [Info] [binary:BoostFromScore]: pavg=0.841669 -> initscore=1.670696\n",
      "[LightGBM] [Info] Start training from score 1.670696\n",
      "[LightGBM] [Info] Number of positive: 3551, number of negative: 668\n",
      "[LightGBM] [Warning] Auto-choosing row-wise multi-threading, the overhead of testing was 0.000237 seconds.\n",
      "You can set `force_row_wise=true` to remove the overhead.\n",
      "And if memory is not enough, you can set `force_col_wise=true`.\n",
      "[LightGBM] [Info] Total Bins 214\n",
      "[LightGBM] [Info] Number of data points in the train set: 4219, number of used features: 16\n",
      "[LightGBM] [Info] [binary:BoostFromScore]: pavg=0.841669 -> initscore=1.670696\n",
      "[LightGBM] [Info] Start training from score 1.670696\n",
      "[LightGBM] [Info] Number of positive: 3551, number of negative: 668\n",
      "[LightGBM] [Warning] Auto-choosing row-wise multi-threading, the overhead of testing was 0.000252 seconds.\n",
      "You can set `force_row_wise=true` to remove the overhead.\n",
      "And if memory is not enough, you can set `force_col_wise=true`.\n",
      "[LightGBM] [Info] Total Bins 214\n",
      "[LightGBM] [Info] Number of data points in the train set: 4219, number of used features: 16\n",
      "[LightGBM] [Info] [binary:BoostFromScore]: pavg=0.841669 -> initscore=1.670696\n",
      "[LightGBM] [Info] Start training from score 1.670696\n",
      "[LightGBM] [Info] Number of positive: 3551, number of negative: 668\n",
      "[LightGBM] [Warning] Auto-choosing row-wise multi-threading, the overhead of testing was 0.000231 seconds.\n",
      "You can set `force_row_wise=true` to remove the overhead.\n",
      "And if memory is not enough, you can set `force_col_wise=true`.\n",
      "[LightGBM] [Info] Total Bins 212\n",
      "[LightGBM] [Info] Number of data points in the train set: 4219, number of used features: 16\n",
      "[LightGBM] [Info] [binary:BoostFromScore]: pavg=0.841669 -> initscore=1.670696\n",
      "[LightGBM] [Info] Start training from score 1.670696\n",
      "[LightGBM] [Info] Number of positive: 3552, number of negative: 668\n",
      "[LightGBM] [Warning] Auto-choosing row-wise multi-threading, the overhead of testing was 0.000241 seconds.\n",
      "You can set `force_row_wise=true` to remove the overhead.\n",
      "And if memory is not enough, you can set `force_col_wise=true`.\n",
      "[LightGBM] [Info] Total Bins 216\n",
      "[LightGBM] [Info] Number of data points in the train set: 4220, number of used features: 16\n",
      "[LightGBM] [Info] [binary:BoostFromScore]: pavg=0.841706 -> initscore=1.670978\n",
      "[LightGBM] [Info] Start training from score 1.670978\n",
      "[LightGBM] [Info] Number of positive: 3551, number of negative: 668\n",
      "[LightGBM] [Warning] Auto-choosing row-wise multi-threading, the overhead of testing was 0.000180 seconds.\n",
      "You can set `force_row_wise=true` to remove the overhead.\n",
      "And if memory is not enough, you can set `force_col_wise=true`.\n",
      "[LightGBM] [Info] Total Bins 214\n",
      "[LightGBM] [Info] Number of data points in the train set: 4219, number of used features: 16\n",
      "[LightGBM] [Info] [binary:BoostFromScore]: pavg=0.841669 -> initscore=1.670696\n",
      "[LightGBM] [Info] Start training from score 1.670696\n",
      "[LightGBM] [Info] Number of positive: 3551, number of negative: 668\n",
      "[LightGBM] [Warning] Auto-choosing row-wise multi-threading, the overhead of testing was 0.000219 seconds.\n",
      "You can set `force_row_wise=true` to remove the overhead.\n",
      "And if memory is not enough, you can set `force_col_wise=true`.\n",
      "[LightGBM] [Info] Total Bins 214\n",
      "[LightGBM] [Info] Number of data points in the train set: 4219, number of used features: 16\n",
      "[LightGBM] [Info] [binary:BoostFromScore]: pavg=0.841669 -> initscore=1.670696\n",
      "[LightGBM] [Info] Start training from score 1.670696\n",
      "[LightGBM] [Info] Number of positive: 3551, number of negative: 668\n",
      "[LightGBM] [Warning] Auto-choosing row-wise multi-threading, the overhead of testing was 0.000246 seconds.\n",
      "You can set `force_row_wise=true` to remove the overhead.\n",
      "And if memory is not enough, you can set `force_col_wise=true`.\n",
      "[LightGBM] [Info] Total Bins 214\n",
      "[LightGBM] [Info] Number of data points in the train set: 4219, number of used features: 16\n",
      "[LightGBM] [Info] [binary:BoostFromScore]: pavg=0.841669 -> initscore=1.670696\n",
      "[LightGBM] [Info] Start training from score 1.670696\n",
      "[LightGBM] [Info] Number of positive: 3551, number of negative: 668\n",
      "[LightGBM] [Warning] Auto-choosing row-wise multi-threading, the overhead of testing was 0.000239 seconds.\n",
      "You can set `force_row_wise=true` to remove the overhead.\n",
      "And if memory is not enough, you can set `force_col_wise=true`.\n",
      "[LightGBM] [Info] Total Bins 212\n",
      "[LightGBM] [Info] Number of data points in the train set: 4219, number of used features: 16\n",
      "[LightGBM] [Info] [binary:BoostFromScore]: pavg=0.841669 -> initscore=1.670696\n",
      "[LightGBM] [Info] Start training from score 1.670696\n",
      "[LightGBM] [Info] Number of positive: 3552, number of negative: 668\n",
      "[LightGBM] [Warning] Auto-choosing row-wise multi-threading, the overhead of testing was 0.000244 seconds.\n",
      "You can set `force_row_wise=true` to remove the overhead.\n",
      "And if memory is not enough, you can set `force_col_wise=true`.\n",
      "[LightGBM] [Info] Total Bins 216\n",
      "[LightGBM] [Info] Number of data points in the train set: 4220, number of used features: 16\n",
      "[LightGBM] [Info] [binary:BoostFromScore]: pavg=0.841706 -> initscore=1.670978\n",
      "[LightGBM] [Info] Start training from score 1.670978\n",
      "[LightGBM] [Info] Number of positive: 3551, number of negative: 668\n",
      "[LightGBM] [Warning] Auto-choosing row-wise multi-threading, the overhead of testing was 0.000251 seconds.\n",
      "You can set `force_row_wise=true` to remove the overhead.\n",
      "And if memory is not enough, you can set `force_col_wise=true`.\n",
      "[LightGBM] [Info] Total Bins 214\n",
      "[LightGBM] [Info] Number of data points in the train set: 4219, number of used features: 16\n",
      "[LightGBM] [Info] [binary:BoostFromScore]: pavg=0.841669 -> initscore=1.670696\n",
      "[LightGBM] [Info] Start training from score 1.670696\n",
      "[LightGBM] [Info] Number of positive: 3551, number of negative: 668\n",
      "[LightGBM] [Warning] Auto-choosing row-wise multi-threading, the overhead of testing was 0.000258 seconds.\n",
      "You can set `force_row_wise=true` to remove the overhead.\n",
      "And if memory is not enough, you can set `force_col_wise=true`.\n",
      "[LightGBM] [Info] Total Bins 214\n",
      "[LightGBM] [Info] Number of data points in the train set: 4219, number of used features: 16\n",
      "[LightGBM] [Info] [binary:BoostFromScore]: pavg=0.841669 -> initscore=1.670696\n",
      "[LightGBM] [Info] Start training from score 1.670696\n",
      "[LightGBM] [Info] Number of positive: 3551, number of negative: 668\n",
      "[LightGBM] [Warning] Auto-choosing row-wise multi-threading, the overhead of testing was 0.000229 seconds.\n",
      "You can set `force_row_wise=true` to remove the overhead.\n",
      "And if memory is not enough, you can set `force_col_wise=true`.\n",
      "[LightGBM] [Info] Total Bins 214\n",
      "[LightGBM] [Info] Number of data points in the train set: 4219, number of used features: 16\n",
      "[LightGBM] [Info] [binary:BoostFromScore]: pavg=0.841669 -> initscore=1.670696\n",
      "[LightGBM] [Info] Start training from score 1.670696\n",
      "[LightGBM] [Info] Number of positive: 3551, number of negative: 668\n",
      "[LightGBM] [Warning] Auto-choosing row-wise multi-threading, the overhead of testing was 0.000231 seconds.\n",
      "You can set `force_row_wise=true` to remove the overhead.\n",
      "And if memory is not enough, you can set `force_col_wise=true`.\n",
      "[LightGBM] [Info] Total Bins 212\n",
      "[LightGBM] [Info] Number of data points in the train set: 4219, number of used features: 16\n",
      "[LightGBM] [Info] [binary:BoostFromScore]: pavg=0.841669 -> initscore=1.670696\n",
      "[LightGBM] [Info] Start training from score 1.670696\n",
      "[LightGBM] [Info] Number of positive: 3552, number of negative: 668\n",
      "[LightGBM] [Warning] Auto-choosing row-wise multi-threading, the overhead of testing was 0.000259 seconds.\n",
      "You can set `force_row_wise=true` to remove the overhead.\n",
      "And if memory is not enough, you can set `force_col_wise=true`.\n",
      "[LightGBM] [Info] Total Bins 216\n",
      "[LightGBM] [Info] Number of data points in the train set: 4220, number of used features: 16\n",
      "[LightGBM] [Info] [binary:BoostFromScore]: pavg=0.841706 -> initscore=1.670978\n",
      "[LightGBM] [Info] Start training from score 1.670978\n",
      "[LightGBM] [Info] Number of positive: 4439, number of negative: 835\n",
      "[LightGBM] [Warning] Auto-choosing row-wise multi-threading, the overhead of testing was 0.000286 seconds.\n",
      "You can set `force_row_wise=true` to remove the overhead.\n",
      "And if memory is not enough, you can set `force_col_wise=true`.\n",
      "[LightGBM] [Info] Total Bins 228\n",
      "[LightGBM] [Info] Number of data points in the train set: 5274, number of used features: 16\n",
      "[LightGBM] [Info] [binary:BoostFromScore]: pavg=0.841676 -> initscore=1.670753\n",
      "[LightGBM] [Info] Start training from score 1.670753\n"
     ]
    },
    {
     "data": {
      "text/html": [
       "<style>#sk-container-id-5 {color: black;background-color: white;}#sk-container-id-5 pre{padding: 0;}#sk-container-id-5 div.sk-toggleable {background-color: white;}#sk-container-id-5 label.sk-toggleable__label {cursor: pointer;display: block;width: 100%;margin-bottom: 0;padding: 0.3em;box-sizing: border-box;text-align: center;}#sk-container-id-5 label.sk-toggleable__label-arrow:before {content: \"▸\";float: left;margin-right: 0.25em;color: #696969;}#sk-container-id-5 label.sk-toggleable__label-arrow:hover:before {color: black;}#sk-container-id-5 div.sk-estimator:hover label.sk-toggleable__label-arrow:before {color: black;}#sk-container-id-5 div.sk-toggleable__content {max-height: 0;max-width: 0;overflow: hidden;text-align: left;background-color: #f0f8ff;}#sk-container-id-5 div.sk-toggleable__content pre {margin: 0.2em;color: black;border-radius: 0.25em;background-color: #f0f8ff;}#sk-container-id-5 input.sk-toggleable__control:checked~div.sk-toggleable__content {max-height: 200px;max-width: 100%;overflow: auto;}#sk-container-id-5 input.sk-toggleable__control:checked~label.sk-toggleable__label-arrow:before {content: \"▾\";}#sk-container-id-5 div.sk-estimator input.sk-toggleable__control:checked~label.sk-toggleable__label {background-color: #d4ebff;}#sk-container-id-5 div.sk-label input.sk-toggleable__control:checked~label.sk-toggleable__label {background-color: #d4ebff;}#sk-container-id-5 input.sk-hidden--visually {border: 0;clip: rect(1px 1px 1px 1px);clip: rect(1px, 1px, 1px, 1px);height: 1px;margin: -1px;overflow: hidden;padding: 0;position: absolute;width: 1px;}#sk-container-id-5 div.sk-estimator {font-family: monospace;background-color: #f0f8ff;border: 1px dotted black;border-radius: 0.25em;box-sizing: border-box;margin-bottom: 0.5em;}#sk-container-id-5 div.sk-estimator:hover {background-color: #d4ebff;}#sk-container-id-5 div.sk-parallel-item::after {content: \"\";width: 100%;border-bottom: 1px solid gray;flex-grow: 1;}#sk-container-id-5 div.sk-label:hover label.sk-toggleable__label {background-color: #d4ebff;}#sk-container-id-5 div.sk-serial::before {content: \"\";position: absolute;border-left: 1px solid gray;box-sizing: border-box;top: 0;bottom: 0;left: 50%;z-index: 0;}#sk-container-id-5 div.sk-serial {display: flex;flex-direction: column;align-items: center;background-color: white;padding-right: 0.2em;padding-left: 0.2em;position: relative;}#sk-container-id-5 div.sk-item {position: relative;z-index: 1;}#sk-container-id-5 div.sk-parallel {display: flex;align-items: stretch;justify-content: center;background-color: white;position: relative;}#sk-container-id-5 div.sk-item::before, #sk-container-id-5 div.sk-parallel-item::before {content: \"\";position: absolute;border-left: 1px solid gray;box-sizing: border-box;top: 0;bottom: 0;left: 50%;z-index: -1;}#sk-container-id-5 div.sk-parallel-item {display: flex;flex-direction: column;z-index: 1;position: relative;background-color: white;}#sk-container-id-5 div.sk-parallel-item:first-child::after {align-self: flex-end;width: 50%;}#sk-container-id-5 div.sk-parallel-item:last-child::after {align-self: flex-start;width: 50%;}#sk-container-id-5 div.sk-parallel-item:only-child::after {width: 0;}#sk-container-id-5 div.sk-dashed-wrapped {border: 1px dashed gray;margin: 0 0.4em 0.5em 0.4em;box-sizing: border-box;padding-bottom: 0.4em;background-color: white;}#sk-container-id-5 div.sk-label label {font-family: monospace;font-weight: bold;display: inline-block;line-height: 1.2em;}#sk-container-id-5 div.sk-label-container {text-align: center;}#sk-container-id-5 div.sk-container {/* jupyter's `normalize.less` sets `[hidden] { display: none; }` but bootstrap.min.css set `[hidden] { display: none !important; }` so we also need the `!important` here to be able to override the default hidden behavior on the sphinx rendered scikit-learn.org. See: https://github.com/scikit-learn/scikit-learn/issues/21755 */display: inline-block !important;position: relative;}#sk-container-id-5 div.sk-text-repr-fallback {display: none;}</style><div id=\"sk-container-id-5\" class=\"sk-top-container\"><div class=\"sk-text-repr-fallback\"><pre>GridSearchCV(cv=5,\n",
       "             estimator=LGBMClassifier(objective=&#x27;binary&#x27;, random_state=180723),\n",
       "             param_grid={&#x27;n_estimators&#x27;: [10, 91, 10]}, scoring=&#x27;roc_auc&#x27;)</pre><b>In a Jupyter environment, please rerun this cell to show the HTML representation or trust the notebook. <br />On GitHub, the HTML representation is unable to render, please try loading this page with nbviewer.org.</b></div><div class=\"sk-container\" hidden><div class=\"sk-item sk-dashed-wrapped\"><div class=\"sk-label-container\"><div class=\"sk-label sk-toggleable\"><input class=\"sk-toggleable__control sk-hidden--visually\" id=\"sk-estimator-id-9\" type=\"checkbox\" ><label for=\"sk-estimator-id-9\" class=\"sk-toggleable__label sk-toggleable__label-arrow\">GridSearchCV</label><div class=\"sk-toggleable__content\"><pre>GridSearchCV(cv=5,\n",
       "             estimator=LGBMClassifier(objective=&#x27;binary&#x27;, random_state=180723),\n",
       "             param_grid={&#x27;n_estimators&#x27;: [10, 91, 10]}, scoring=&#x27;roc_auc&#x27;)</pre></div></div></div><div class=\"sk-parallel\"><div class=\"sk-parallel-item\"><div class=\"sk-item\"><div class=\"sk-label-container\"><div class=\"sk-label sk-toggleable\"><input class=\"sk-toggleable__control sk-hidden--visually\" id=\"sk-estimator-id-10\" type=\"checkbox\" ><label for=\"sk-estimator-id-10\" class=\"sk-toggleable__label sk-toggleable__label-arrow\">estimator: LGBMClassifier</label><div class=\"sk-toggleable__content\"><pre>LGBMClassifier(objective=&#x27;binary&#x27;, random_state=180723)</pre></div></div></div><div class=\"sk-serial\"><div class=\"sk-item\"><div class=\"sk-estimator sk-toggleable\"><input class=\"sk-toggleable__control sk-hidden--visually\" id=\"sk-estimator-id-11\" type=\"checkbox\" ><label for=\"sk-estimator-id-11\" class=\"sk-toggleable__label sk-toggleable__label-arrow\">LGBMClassifier</label><div class=\"sk-toggleable__content\"><pre>LGBMClassifier(objective=&#x27;binary&#x27;, random_state=180723)</pre></div></div></div></div></div></div></div></div></div></div>"
      ],
      "text/plain": [
       "GridSearchCV(cv=5,\n",
       "             estimator=LGBMClassifier(objective='binary', random_state=180723),\n",
       "             param_grid={'n_estimators': [10, 91, 10]}, scoring='roc_auc')"
      ]
     },
     "execution_count": 47,
     "metadata": {},
     "output_type": "execute_result"
    }
   ],
   "source": [
    "gscv_booster.fit(features_train_booster, target_train)"
   ]
  },
  {
   "cell_type": "markdown",
   "id": "0ef75d1c",
   "metadata": {},
   "source": [
    "В рамках модели Градиентного бустинга науличший результат получили при n_estimators=91"
   ]
  },
  {
   "cell_type": "code",
   "execution_count": 48,
   "id": "94bae09e",
   "metadata": {},
   "outputs": [
    {
     "data": {
      "text/html": [
       "<style>#sk-container-id-6 {color: black;background-color: white;}#sk-container-id-6 pre{padding: 0;}#sk-container-id-6 div.sk-toggleable {background-color: white;}#sk-container-id-6 label.sk-toggleable__label {cursor: pointer;display: block;width: 100%;margin-bottom: 0;padding: 0.3em;box-sizing: border-box;text-align: center;}#sk-container-id-6 label.sk-toggleable__label-arrow:before {content: \"▸\";float: left;margin-right: 0.25em;color: #696969;}#sk-container-id-6 label.sk-toggleable__label-arrow:hover:before {color: black;}#sk-container-id-6 div.sk-estimator:hover label.sk-toggleable__label-arrow:before {color: black;}#sk-container-id-6 div.sk-toggleable__content {max-height: 0;max-width: 0;overflow: hidden;text-align: left;background-color: #f0f8ff;}#sk-container-id-6 div.sk-toggleable__content pre {margin: 0.2em;color: black;border-radius: 0.25em;background-color: #f0f8ff;}#sk-container-id-6 input.sk-toggleable__control:checked~div.sk-toggleable__content {max-height: 200px;max-width: 100%;overflow: auto;}#sk-container-id-6 input.sk-toggleable__control:checked~label.sk-toggleable__label-arrow:before {content: \"▾\";}#sk-container-id-6 div.sk-estimator input.sk-toggleable__control:checked~label.sk-toggleable__label {background-color: #d4ebff;}#sk-container-id-6 div.sk-label input.sk-toggleable__control:checked~label.sk-toggleable__label {background-color: #d4ebff;}#sk-container-id-6 input.sk-hidden--visually {border: 0;clip: rect(1px 1px 1px 1px);clip: rect(1px, 1px, 1px, 1px);height: 1px;margin: -1px;overflow: hidden;padding: 0;position: absolute;width: 1px;}#sk-container-id-6 div.sk-estimator {font-family: monospace;background-color: #f0f8ff;border: 1px dotted black;border-radius: 0.25em;box-sizing: border-box;margin-bottom: 0.5em;}#sk-container-id-6 div.sk-estimator:hover {background-color: #d4ebff;}#sk-container-id-6 div.sk-parallel-item::after {content: \"\";width: 100%;border-bottom: 1px solid gray;flex-grow: 1;}#sk-container-id-6 div.sk-label:hover label.sk-toggleable__label {background-color: #d4ebff;}#sk-container-id-6 div.sk-serial::before {content: \"\";position: absolute;border-left: 1px solid gray;box-sizing: border-box;top: 0;bottom: 0;left: 50%;z-index: 0;}#sk-container-id-6 div.sk-serial {display: flex;flex-direction: column;align-items: center;background-color: white;padding-right: 0.2em;padding-left: 0.2em;position: relative;}#sk-container-id-6 div.sk-item {position: relative;z-index: 1;}#sk-container-id-6 div.sk-parallel {display: flex;align-items: stretch;justify-content: center;background-color: white;position: relative;}#sk-container-id-6 div.sk-item::before, #sk-container-id-6 div.sk-parallel-item::before {content: \"\";position: absolute;border-left: 1px solid gray;box-sizing: border-box;top: 0;bottom: 0;left: 50%;z-index: -1;}#sk-container-id-6 div.sk-parallel-item {display: flex;flex-direction: column;z-index: 1;position: relative;background-color: white;}#sk-container-id-6 div.sk-parallel-item:first-child::after {align-self: flex-end;width: 50%;}#sk-container-id-6 div.sk-parallel-item:last-child::after {align-self: flex-start;width: 50%;}#sk-container-id-6 div.sk-parallel-item:only-child::after {width: 0;}#sk-container-id-6 div.sk-dashed-wrapped {border: 1px dashed gray;margin: 0 0.4em 0.5em 0.4em;box-sizing: border-box;padding-bottom: 0.4em;background-color: white;}#sk-container-id-6 div.sk-label label {font-family: monospace;font-weight: bold;display: inline-block;line-height: 1.2em;}#sk-container-id-6 div.sk-label-container {text-align: center;}#sk-container-id-6 div.sk-container {/* jupyter's `normalize.less` sets `[hidden] { display: none; }` but bootstrap.min.css set `[hidden] { display: none !important; }` so we also need the `!important` here to be able to override the default hidden behavior on the sphinx rendered scikit-learn.org. See: https://github.com/scikit-learn/scikit-learn/issues/21755 */display: inline-block !important;position: relative;}#sk-container-id-6 div.sk-text-repr-fallback {display: none;}</style><div id=\"sk-container-id-6\" class=\"sk-top-container\"><div class=\"sk-text-repr-fallback\"><pre>LGBMClassifier(n_estimators=91, objective=&#x27;binary&#x27;, random_state=180723)</pre><b>In a Jupyter environment, please rerun this cell to show the HTML representation or trust the notebook. <br />On GitHub, the HTML representation is unable to render, please try loading this page with nbviewer.org.</b></div><div class=\"sk-container\" hidden><div class=\"sk-item\"><div class=\"sk-estimator sk-toggleable\"><input class=\"sk-toggleable__control sk-hidden--visually\" id=\"sk-estimator-id-12\" type=\"checkbox\" checked><label for=\"sk-estimator-id-12\" class=\"sk-toggleable__label sk-toggleable__label-arrow\">LGBMClassifier</label><div class=\"sk-toggleable__content\"><pre>LGBMClassifier(n_estimators=91, objective=&#x27;binary&#x27;, random_state=180723)</pre></div></div></div></div></div>"
      ],
      "text/plain": [
       "LGBMClassifier(n_estimators=91, objective='binary', random_state=180723)"
      ]
     },
     "execution_count": 48,
     "metadata": {},
     "output_type": "execute_result"
    }
   ],
   "source": [
    "gscv_booster.best_estimator_"
   ]
  },
  {
   "cell_type": "code",
   "execution_count": 49,
   "id": "3a1b9e2c",
   "metadata": {},
   "outputs": [],
   "source": [
    "N_EST_BOOST = 91"
   ]
  },
  {
   "cell_type": "markdown",
   "id": "3748f368",
   "metadata": {},
   "source": [
    "При указанном выше параметре получили значение метрики roc auc score = 0.87455634"
   ]
  },
  {
   "cell_type": "code",
   "execution_count": 50,
   "id": "4d57713c",
   "metadata": {},
   "outputs": [
    {
     "data": {
      "text/plain": [
       "{'mean_fit_time': array([0.0349956 , 0.05168362, 0.0159627 ]),\n",
       " 'std_fit_time': array([0.03506207, 0.00220466, 0.0006314 ]),\n",
       " 'mean_score_time': array([0.00538554, 0.00857749, 0.0063776 ]),\n",
       " 'std_score_time': array([0.00279246, 0.00048854, 0.00080443]),\n",
       " 'param_n_estimators': masked_array(data=[10, 91, 10],\n",
       "              mask=[False, False, False],\n",
       "        fill_value='?',\n",
       "             dtype=object),\n",
       " 'params': [{'n_estimators': 10}, {'n_estimators': 91}, {'n_estimators': 10}],\n",
       " 'split0_test_score': array([0.84271322, 0.90042213, 0.84271322]),\n",
       " 'split1_test_score': array([0.83134407, 0.86806792, 0.83134407]),\n",
       " 'split2_test_score': array([0.80613098, 0.87410989, 0.80613098]),\n",
       " 'split3_test_score': array([0.80389559, 0.86768355, 0.80389559]),\n",
       " 'split4_test_score': array([0.83734785, 0.86249823, 0.83734785]),\n",
       " 'mean_test_score': array([0.82428634, 0.87455634, 0.82428634]),\n",
       " 'std_test_score': array([0.01615775, 0.01344598, 0.01615775]),\n",
       " 'rank_test_score': array([2, 1, 2])}"
      ]
     },
     "execution_count": 50,
     "metadata": {},
     "output_type": "execute_result"
    }
   ],
   "source": [
    "gscv_booster.cv_results_"
   ]
  },
  {
   "cell_type": "code",
   "execution_count": 51,
   "id": "3d80457a",
   "metadata": {},
   "outputs": [],
   "source": [
    "ROC_AUC_BOOST = 0.87455634"
   ]
  },
  {
   "cell_type": "markdown",
   "id": "da595c2c",
   "metadata": {},
   "source": [
    "### Логистическая регрессия"
   ]
  },
  {
   "cell_type": "code",
   "execution_count": 52,
   "id": "6a3eaa40",
   "metadata": {},
   "outputs": [],
   "source": [
    "model_lr = LogisticRegression(random_state=180723, solver='lbfgs')\n",
    "parameters_range = {'max_iter': [100, 1000, 100]}"
   ]
  },
  {
   "cell_type": "code",
   "execution_count": 53,
   "id": "14d12be0",
   "metadata": {},
   "outputs": [],
   "source": [
    "gscv_lr = GridSearchCV(model_lr, parameters_range, cv=5, scoring='roc_auc')"
   ]
  },
  {
   "cell_type": "code",
   "execution_count": 54,
   "id": "a9e82a1a",
   "metadata": {},
   "outputs": [
    {
     "data": {
      "text/html": [
       "<style>#sk-container-id-7 {color: black;background-color: white;}#sk-container-id-7 pre{padding: 0;}#sk-container-id-7 div.sk-toggleable {background-color: white;}#sk-container-id-7 label.sk-toggleable__label {cursor: pointer;display: block;width: 100%;margin-bottom: 0;padding: 0.3em;box-sizing: border-box;text-align: center;}#sk-container-id-7 label.sk-toggleable__label-arrow:before {content: \"▸\";float: left;margin-right: 0.25em;color: #696969;}#sk-container-id-7 label.sk-toggleable__label-arrow:hover:before {color: black;}#sk-container-id-7 div.sk-estimator:hover label.sk-toggleable__label-arrow:before {color: black;}#sk-container-id-7 div.sk-toggleable__content {max-height: 0;max-width: 0;overflow: hidden;text-align: left;background-color: #f0f8ff;}#sk-container-id-7 div.sk-toggleable__content pre {margin: 0.2em;color: black;border-radius: 0.25em;background-color: #f0f8ff;}#sk-container-id-7 input.sk-toggleable__control:checked~div.sk-toggleable__content {max-height: 200px;max-width: 100%;overflow: auto;}#sk-container-id-7 input.sk-toggleable__control:checked~label.sk-toggleable__label-arrow:before {content: \"▾\";}#sk-container-id-7 div.sk-estimator input.sk-toggleable__control:checked~label.sk-toggleable__label {background-color: #d4ebff;}#sk-container-id-7 div.sk-label input.sk-toggleable__control:checked~label.sk-toggleable__label {background-color: #d4ebff;}#sk-container-id-7 input.sk-hidden--visually {border: 0;clip: rect(1px 1px 1px 1px);clip: rect(1px, 1px, 1px, 1px);height: 1px;margin: -1px;overflow: hidden;padding: 0;position: absolute;width: 1px;}#sk-container-id-7 div.sk-estimator {font-family: monospace;background-color: #f0f8ff;border: 1px dotted black;border-radius: 0.25em;box-sizing: border-box;margin-bottom: 0.5em;}#sk-container-id-7 div.sk-estimator:hover {background-color: #d4ebff;}#sk-container-id-7 div.sk-parallel-item::after {content: \"\";width: 100%;border-bottom: 1px solid gray;flex-grow: 1;}#sk-container-id-7 div.sk-label:hover label.sk-toggleable__label {background-color: #d4ebff;}#sk-container-id-7 div.sk-serial::before {content: \"\";position: absolute;border-left: 1px solid gray;box-sizing: border-box;top: 0;bottom: 0;left: 50%;z-index: 0;}#sk-container-id-7 div.sk-serial {display: flex;flex-direction: column;align-items: center;background-color: white;padding-right: 0.2em;padding-left: 0.2em;position: relative;}#sk-container-id-7 div.sk-item {position: relative;z-index: 1;}#sk-container-id-7 div.sk-parallel {display: flex;align-items: stretch;justify-content: center;background-color: white;position: relative;}#sk-container-id-7 div.sk-item::before, #sk-container-id-7 div.sk-parallel-item::before {content: \"\";position: absolute;border-left: 1px solid gray;box-sizing: border-box;top: 0;bottom: 0;left: 50%;z-index: -1;}#sk-container-id-7 div.sk-parallel-item {display: flex;flex-direction: column;z-index: 1;position: relative;background-color: white;}#sk-container-id-7 div.sk-parallel-item:first-child::after {align-self: flex-end;width: 50%;}#sk-container-id-7 div.sk-parallel-item:last-child::after {align-self: flex-start;width: 50%;}#sk-container-id-7 div.sk-parallel-item:only-child::after {width: 0;}#sk-container-id-7 div.sk-dashed-wrapped {border: 1px dashed gray;margin: 0 0.4em 0.5em 0.4em;box-sizing: border-box;padding-bottom: 0.4em;background-color: white;}#sk-container-id-7 div.sk-label label {font-family: monospace;font-weight: bold;display: inline-block;line-height: 1.2em;}#sk-container-id-7 div.sk-label-container {text-align: center;}#sk-container-id-7 div.sk-container {/* jupyter's `normalize.less` sets `[hidden] { display: none; }` but bootstrap.min.css set `[hidden] { display: none !important; }` so we also need the `!important` here to be able to override the default hidden behavior on the sphinx rendered scikit-learn.org. See: https://github.com/scikit-learn/scikit-learn/issues/21755 */display: inline-block !important;position: relative;}#sk-container-id-7 div.sk-text-repr-fallback {display: none;}</style><div id=\"sk-container-id-7\" class=\"sk-top-container\"><div class=\"sk-text-repr-fallback\"><pre>GridSearchCV(cv=5, estimator=LogisticRegression(random_state=180723),\n",
       "             param_grid={&#x27;max_iter&#x27;: [100, 1000, 100]}, scoring=&#x27;roc_auc&#x27;)</pre><b>In a Jupyter environment, please rerun this cell to show the HTML representation or trust the notebook. <br />On GitHub, the HTML representation is unable to render, please try loading this page with nbviewer.org.</b></div><div class=\"sk-container\" hidden><div class=\"sk-item sk-dashed-wrapped\"><div class=\"sk-label-container\"><div class=\"sk-label sk-toggleable\"><input class=\"sk-toggleable__control sk-hidden--visually\" id=\"sk-estimator-id-13\" type=\"checkbox\" ><label for=\"sk-estimator-id-13\" class=\"sk-toggleable__label sk-toggleable__label-arrow\">GridSearchCV</label><div class=\"sk-toggleable__content\"><pre>GridSearchCV(cv=5, estimator=LogisticRegression(random_state=180723),\n",
       "             param_grid={&#x27;max_iter&#x27;: [100, 1000, 100]}, scoring=&#x27;roc_auc&#x27;)</pre></div></div></div><div class=\"sk-parallel\"><div class=\"sk-parallel-item\"><div class=\"sk-item\"><div class=\"sk-label-container\"><div class=\"sk-label sk-toggleable\"><input class=\"sk-toggleable__control sk-hidden--visually\" id=\"sk-estimator-id-14\" type=\"checkbox\" ><label for=\"sk-estimator-id-14\" class=\"sk-toggleable__label sk-toggleable__label-arrow\">estimator: LogisticRegression</label><div class=\"sk-toggleable__content\"><pre>LogisticRegression(random_state=180723)</pre></div></div></div><div class=\"sk-serial\"><div class=\"sk-item\"><div class=\"sk-estimator sk-toggleable\"><input class=\"sk-toggleable__control sk-hidden--visually\" id=\"sk-estimator-id-15\" type=\"checkbox\" ><label for=\"sk-estimator-id-15\" class=\"sk-toggleable__label sk-toggleable__label-arrow\">LogisticRegression</label><div class=\"sk-toggleable__content\"><pre>LogisticRegression(random_state=180723)</pre></div></div></div></div></div></div></div></div></div></div>"
      ],
      "text/plain": [
       "GridSearchCV(cv=5, estimator=LogisticRegression(random_state=180723),\n",
       "             param_grid={'max_iter': [100, 1000, 100]}, scoring='roc_auc')"
      ]
     },
     "execution_count": 54,
     "metadata": {},
     "output_type": "execute_result"
    }
   ],
   "source": [
    "gscv_lr.fit(features_train_ridge, target_train)"
   ]
  },
  {
   "cell_type": "markdown",
   "id": "d75d1a01",
   "metadata": {},
   "source": [
    "В рамках модели Логистической регрессии одинаковый результат получили при различных значениях max_iter. Для сводной таблицы с результатами всех моделей возьмем значение 1000"
   ]
  },
  {
   "cell_type": "code",
   "execution_count": 55,
   "id": "e17ba4b2",
   "metadata": {},
   "outputs": [
    {
     "data": {
      "text/html": [
       "<style>#sk-container-id-8 {color: black;background-color: white;}#sk-container-id-8 pre{padding: 0;}#sk-container-id-8 div.sk-toggleable {background-color: white;}#sk-container-id-8 label.sk-toggleable__label {cursor: pointer;display: block;width: 100%;margin-bottom: 0;padding: 0.3em;box-sizing: border-box;text-align: center;}#sk-container-id-8 label.sk-toggleable__label-arrow:before {content: \"▸\";float: left;margin-right: 0.25em;color: #696969;}#sk-container-id-8 label.sk-toggleable__label-arrow:hover:before {color: black;}#sk-container-id-8 div.sk-estimator:hover label.sk-toggleable__label-arrow:before {color: black;}#sk-container-id-8 div.sk-toggleable__content {max-height: 0;max-width: 0;overflow: hidden;text-align: left;background-color: #f0f8ff;}#sk-container-id-8 div.sk-toggleable__content pre {margin: 0.2em;color: black;border-radius: 0.25em;background-color: #f0f8ff;}#sk-container-id-8 input.sk-toggleable__control:checked~div.sk-toggleable__content {max-height: 200px;max-width: 100%;overflow: auto;}#sk-container-id-8 input.sk-toggleable__control:checked~label.sk-toggleable__label-arrow:before {content: \"▾\";}#sk-container-id-8 div.sk-estimator input.sk-toggleable__control:checked~label.sk-toggleable__label {background-color: #d4ebff;}#sk-container-id-8 div.sk-label input.sk-toggleable__control:checked~label.sk-toggleable__label {background-color: #d4ebff;}#sk-container-id-8 input.sk-hidden--visually {border: 0;clip: rect(1px 1px 1px 1px);clip: rect(1px, 1px, 1px, 1px);height: 1px;margin: -1px;overflow: hidden;padding: 0;position: absolute;width: 1px;}#sk-container-id-8 div.sk-estimator {font-family: monospace;background-color: #f0f8ff;border: 1px dotted black;border-radius: 0.25em;box-sizing: border-box;margin-bottom: 0.5em;}#sk-container-id-8 div.sk-estimator:hover {background-color: #d4ebff;}#sk-container-id-8 div.sk-parallel-item::after {content: \"\";width: 100%;border-bottom: 1px solid gray;flex-grow: 1;}#sk-container-id-8 div.sk-label:hover label.sk-toggleable__label {background-color: #d4ebff;}#sk-container-id-8 div.sk-serial::before {content: \"\";position: absolute;border-left: 1px solid gray;box-sizing: border-box;top: 0;bottom: 0;left: 50%;z-index: 0;}#sk-container-id-8 div.sk-serial {display: flex;flex-direction: column;align-items: center;background-color: white;padding-right: 0.2em;padding-left: 0.2em;position: relative;}#sk-container-id-8 div.sk-item {position: relative;z-index: 1;}#sk-container-id-8 div.sk-parallel {display: flex;align-items: stretch;justify-content: center;background-color: white;position: relative;}#sk-container-id-8 div.sk-item::before, #sk-container-id-8 div.sk-parallel-item::before {content: \"\";position: absolute;border-left: 1px solid gray;box-sizing: border-box;top: 0;bottom: 0;left: 50%;z-index: -1;}#sk-container-id-8 div.sk-parallel-item {display: flex;flex-direction: column;z-index: 1;position: relative;background-color: white;}#sk-container-id-8 div.sk-parallel-item:first-child::after {align-self: flex-end;width: 50%;}#sk-container-id-8 div.sk-parallel-item:last-child::after {align-self: flex-start;width: 50%;}#sk-container-id-8 div.sk-parallel-item:only-child::after {width: 0;}#sk-container-id-8 div.sk-dashed-wrapped {border: 1px dashed gray;margin: 0 0.4em 0.5em 0.4em;box-sizing: border-box;padding-bottom: 0.4em;background-color: white;}#sk-container-id-8 div.sk-label label {font-family: monospace;font-weight: bold;display: inline-block;line-height: 1.2em;}#sk-container-id-8 div.sk-label-container {text-align: center;}#sk-container-id-8 div.sk-container {/* jupyter's `normalize.less` sets `[hidden] { display: none; }` but bootstrap.min.css set `[hidden] { display: none !important; }` so we also need the `!important` here to be able to override the default hidden behavior on the sphinx rendered scikit-learn.org. See: https://github.com/scikit-learn/scikit-learn/issues/21755 */display: inline-block !important;position: relative;}#sk-container-id-8 div.sk-text-repr-fallback {display: none;}</style><div id=\"sk-container-id-8\" class=\"sk-top-container\"><div class=\"sk-text-repr-fallback\"><pre>LogisticRegression(random_state=180723)</pre><b>In a Jupyter environment, please rerun this cell to show the HTML representation or trust the notebook. <br />On GitHub, the HTML representation is unable to render, please try loading this page with nbviewer.org.</b></div><div class=\"sk-container\" hidden><div class=\"sk-item\"><div class=\"sk-estimator sk-toggleable\"><input class=\"sk-toggleable__control sk-hidden--visually\" id=\"sk-estimator-id-16\" type=\"checkbox\" checked><label for=\"sk-estimator-id-16\" class=\"sk-toggleable__label sk-toggleable__label-arrow\">LogisticRegression</label><div class=\"sk-toggleable__content\"><pre>LogisticRegression(random_state=180723)</pre></div></div></div></div></div>"
      ],
      "text/plain": [
       "LogisticRegression(random_state=180723)"
      ]
     },
     "execution_count": 55,
     "metadata": {},
     "output_type": "execute_result"
    }
   ],
   "source": [
    "gscv_lr.best_estimator_"
   ]
  },
  {
   "cell_type": "code",
   "execution_count": 56,
   "id": "89034353",
   "metadata": {},
   "outputs": [
    {
     "data": {
      "text/plain": [
       "{'mean_fit_time': array([0.01156898, 0.01136956, 0.01077113]),\n",
       " 'std_fit_time': array([0.00119677, 0.0007977 , 0.00116342]),\n",
       " 'mean_score_time': array([0.00219421, 0.00199485, 0.00199461]),\n",
       " 'std_score_time': array([3.98850537e-04, 2.61174468e-07, 3.37174788e-07]),\n",
       " 'param_max_iter': masked_array(data=[100, 1000, 100],\n",
       "              mask=[False, False, False],\n",
       "        fill_value='?',\n",
       "             dtype=object),\n",
       " 'params': [{'max_iter': 100}, {'max_iter': 1000}, {'max_iter': 100}],\n",
       " 'split0_test_score': array([0.76494309, 0.76494309, 0.76494309]),\n",
       " 'split1_test_score': array([0.73418703, 0.73418703, 0.73418703]),\n",
       " 'split2_test_score': array([0.72844851, 0.72844851, 0.72844851]),\n",
       " 'split3_test_score': array([0.74870529, 0.74870529, 0.74870529]),\n",
       " 'split4_test_score': array([0.77805156, 0.77805156, 0.77805156]),\n",
       " 'mean_test_score': array([0.7508671, 0.7508671, 0.7508671]),\n",
       " 'std_test_score': array([0.01856136, 0.01856136, 0.01856136]),\n",
       " 'rank_test_score': array([1, 1, 1])}"
      ]
     },
     "execution_count": 56,
     "metadata": {},
     "output_type": "execute_result"
    }
   ],
   "source": [
    "gscv_lr.cv_results_"
   ]
  },
  {
   "cell_type": "code",
   "execution_count": 57,
   "id": "c5a588ee",
   "metadata": {},
   "outputs": [],
   "source": [
    "MAX_ITER = 1000"
   ]
  },
  {
   "cell_type": "markdown",
   "id": "29437a7e",
   "metadata": {},
   "source": [
    "При указанном выше параметре получили значение метрики roc auc score = 0.7508670963627455"
   ]
  },
  {
   "cell_type": "code",
   "execution_count": 58,
   "id": "958f7ea8",
   "metadata": {},
   "outputs": [
    {
     "name": "stdout",
     "output_type": "stream",
     "text": [
      "0.7508670963627455\n"
     ]
    }
   ],
   "source": [
    "ROC_AUC_LR = gscv_lr.best_score_\n",
    "print(ROC_AUC_LR)"
   ]
  },
  {
   "cell_type": "markdown",
   "id": "6ea7e26f",
   "metadata": {},
   "source": [
    "### Выбор лучшей модели"
   ]
  },
  {
   "cell_type": "markdown",
   "id": "840be5c6",
   "metadata": {},
   "source": [
    "Науличший результат получили у модели Градиентного бустинга с параметром n_estimators=91"
   ]
  },
  {
   "cell_type": "code",
   "execution_count": 59,
   "id": "841166eb",
   "metadata": {},
   "outputs": [
    {
     "data": {
      "text/html": [
       "<div>\n",
       "<style scoped>\n",
       "    .dataframe tbody tr th:only-of-type {\n",
       "        vertical-align: middle;\n",
       "    }\n",
       "\n",
       "    .dataframe tbody tr th {\n",
       "        vertical-align: top;\n",
       "    }\n",
       "\n",
       "    .dataframe thead th {\n",
       "        text-align: right;\n",
       "    }\n",
       "</style>\n",
       "<table border=\"1\" class=\"dataframe\">\n",
       "  <thead>\n",
       "    <tr style=\"text-align: right;\">\n",
       "      <th></th>\n",
       "      <th>Model</th>\n",
       "      <th>Param1 name</th>\n",
       "      <th>Param1</th>\n",
       "      <th>Param2 name</th>\n",
       "      <th>Param2</th>\n",
       "      <th>ROC_AUC</th>\n",
       "    </tr>\n",
       "  </thead>\n",
       "  <tbody>\n",
       "    <tr>\n",
       "      <th>0</th>\n",
       "      <td>Градиентный бустинг</td>\n",
       "      <td>n_estimators</td>\n",
       "      <td>91</td>\n",
       "      <td></td>\n",
       "      <td></td>\n",
       "      <td>0.874556</td>\n",
       "    </tr>\n",
       "    <tr>\n",
       "      <th>1</th>\n",
       "      <td>Решающее дерево</td>\n",
       "      <td>max_depth</td>\n",
       "      <td>6</td>\n",
       "      <td>min_samples_leaf</td>\n",
       "      <td>3</td>\n",
       "      <td>0.789543</td>\n",
       "    </tr>\n",
       "    <tr>\n",
       "      <th>2</th>\n",
       "      <td>Случайный лес</td>\n",
       "      <td>n_estimators</td>\n",
       "      <td>51</td>\n",
       "      <td></td>\n",
       "      <td></td>\n",
       "      <td>0.797054</td>\n",
       "    </tr>\n",
       "    <tr>\n",
       "      <th>3</th>\n",
       "      <td>Логистическая регрессия</td>\n",
       "      <td>max_iter</td>\n",
       "      <td>1000</td>\n",
       "      <td></td>\n",
       "      <td></td>\n",
       "      <td>0.750867</td>\n",
       "    </tr>\n",
       "  </tbody>\n",
       "</table>\n",
       "</div>"
      ],
      "text/plain": [
       "                     Model   Param1 name  Param1       Param2 name Param2  \\\n",
       "0      Градиентный бустинг  n_estimators      91                            \n",
       "1          Решающее дерево     max_depth       6  min_samples_leaf      3   \n",
       "2            Случайный лес  n_estimators      51                            \n",
       "3  Логистическая регрессия      max_iter    1000                            \n",
       "\n",
       "    ROC_AUC  \n",
       "0  0.874556  \n",
       "1  0.789543  \n",
       "2  0.797054  \n",
       "3  0.750867  "
      ]
     },
     "metadata": {},
     "output_type": "display_data"
    }
   ],
   "source": [
    "columns_df = ['Model', 'Param1 name', 'Param1', 'Param2 name', 'Param2', 'ROC_AUC']\n",
    "data_df = [\n",
    "    ['Градиентный бустинг', 'n_estimators', N_EST_BOOST, '', '', ROC_AUC_BOOST],\n",
    "    ['Решающее дерево', 'max_depth', MAX_DEPTH, 'min_samples_leaf', MIN_SAMPLES_LEAF, ROC_AUC_DT],\n",
    "    ['Случайный лес', 'n_estimators', N_EST_RF, '', '', ROC_AUC_RF],\n",
    "    ['Логистическая регрессия', 'max_iter', MAX_ITER, '', '', ROC_AUC_LR]\n",
    "]\n",
    "result = pd.DataFrame(data=data_df, columns=columns_df)\n",
    "display(result)"
   ]
  },
  {
   "cell_type": "markdown",
   "id": "02283220",
   "metadata": {},
   "source": [
    "### Проверяем качество модели на тестовой выборке"
   ]
  },
  {
   "cell_type": "markdown",
   "id": "cbf2d231",
   "metadata": {},
   "source": [
    "По результатам проверки нашей лучшей модели на тестовой выборке, значение оценочной метрики (roc auc score) составило 0.913547692958939, что лучше (больше) требуемого заказчиком уровня в 0.85"
   ]
  },
  {
   "cell_type": "code",
   "execution_count": 60,
   "id": "f58f202f",
   "metadata": {},
   "outputs": [
    {
     "name": "stdout",
     "output_type": "stream",
     "text": [
      "0.913547692958939\n"
     ]
    }
   ],
   "source": [
    "probabilities_test = gscv_booster.predict_proba(features_test_booster)\n",
    "probabilities_one_test = probabilities_test[:, 1]\n",
    "\n",
    "print(roc_auc_score(target_test, probabilities_one_test))"
   ]
  },
  {
   "cell_type": "markdown",
   "id": "510a4219",
   "metadata": {},
   "source": [
    "Построили матрицу ошибок: наша модель достаточно хорошо предсказала, что клиент оператора останется. В части предсказания того, что клиент уйдет от оператора кол-во ложных ответов немного превышает кол-во правильных ответов"
   ]
  },
  {
   "cell_type": "code",
   "execution_count": 61,
   "id": "cc9c068b",
   "metadata": {},
   "outputs": [
    {
     "name": "stdout",
     "output_type": "stream",
     "text": [
      "[[ 126  140]\n",
      " [  24 1468]]\n"
     ]
    }
   ],
   "source": [
    "predictions = gscv_booster.predict(features_test_booster)\n",
    "print(confusion_matrix(target_test, predictions))"
   ]
  },
  {
   "cell_type": "markdown",
   "id": "74c72602",
   "metadata": {},
   "source": [
    "### Важность признаков для лучшей модели"
   ]
  },
  {
   "cell_type": "markdown",
   "id": "d8d5b66f",
   "metadata": {},
   "source": [
    "Для нашей лучшей модели наиболее важным признаком оказался добавленный нами duration2 (продолжительность пользования клиентом услугами оператора), также достаточно высокую важность показал признак Type (тип оплаты: раз в год-два или ежемесячно)"
   ]
  },
  {
   "cell_type": "code",
   "execution_count": 62,
   "id": "e64eb38c",
   "metadata": {},
   "outputs": [
    {
     "name": "stdout",
     "output_type": "stream",
     "text": [
      "gender -0.0\n",
      "SeniorCitizen 1.0\n",
      "Partner 10.0\n",
      "Dependents 2.0\n",
      "Type 51.0\n",
      "PaperlessBilling 1.0\n",
      "PaymentMethod 7.0\n",
      "InternetService 8.0\n",
      "OnlineSecurity 1.0\n",
      "OnlineBackup 3.0\n",
      "DeviceProtection 4.0\n",
      "TechSupport 2.0\n",
      "StreamingTV 0.0\n",
      "StreamingMovies 4.0\n",
      "MultipleLines 9.0\n",
      "duration2 277.0\n"
     ]
    }
   ],
   "source": [
    "model_fi = permutation_importance(gscv_booster, features_test_booster, target_test, n_repeats=30, random_state=180723)\n",
    "imp_array = model_fi['importances_mean'] * 1000\n",
    "for sign, imp in zip(features_test_booster.columns, imp_array.round()):\n",
    "    print(sign, imp)"
   ]
  },
  {
   "cell_type": "markdown",
   "id": "f1aee77d",
   "metadata": {},
   "source": [
    "## Отчет по проекту"
   ]
  },
  {
   "cell_type": "markdown",
   "id": "dd031654",
   "metadata": {},
   "source": [
    "В рамках проекта перед нами была поставлена задача подготовить модель машинного обучения, которая бы предсказывала, откажется ли клиент мобильного оператора от его услуг или нет. **Поставленная задача была выполнена**."
   ]
  },
  {
   "cell_type": "markdown",
   "id": "fa80d985",
   "metadata": {},
   "source": [
    "Все пункты намеченного плана работ были **реализованы.**"
   ]
  },
  {
   "cell_type": "markdown",
   "id": "e746a92e",
   "metadata": {},
   "source": [
    "Проект в соответствии с Планом выполнялся в следующей последовательности.\n",
    "\n",
    "Первоначально мы **изучили требования заказчика** и загрузили предоставленные данные. В рамках проекта нам предоставлены данные о договорах, заключенных с клиентами с 2014 по 2020 гг., персональная информация о клиентах оператора, данные об использовании клиентами интернет услуг и телефонии.\n",
    "\n",
    "Далее провели их **исследовательский анализ**. Оценили, какой период превалирует в представленных данных, каково соотношение записей по клиентам, способам оплаты услуг, использованию дополнительных предложений оператора.  \n",
    "\n",
    "После этого провели **предобработку данных**. На данном этапе:\n",
    "- четыре df объединили в один, \n",
    "- проверили данные на дубликаты (которые не были выявлены), \n",
    "- обработали явные (в столбцах с доп. услугами) и неявные (в столбце с датой и совокупном объеме расходов клиента за услуги связи, TotalCharges) пропуски, \n",
    "- изменили тип данных в признаках с датами и TotalCharges, \n",
    "- проверили данные на аномалии и корреляцию признаков (которые не были выявлены), \n",
    "- добавили новые признаки (длительность жизни клиента в днях и целевой признак (отказался ли клиент от услуг оператора или нет),\n",
    "- убрали бесполезные для анализа признаки.\n",
    "\n",
    "Основной этап проекта - непосредственно **работа с моделями**. В рамках нее мы:\n",
    "- выделили целевой и обучающие признаки, разделили данные на две выборки;\n",
    "- осуществили кодирование категориальных признаков методами One-Hot Encoder Ridge и Ordinal Encoding;\n",
    "- осуществили масштабирование численных признаков;\n",
    "- использовали четыре типа моделей *(решающего дерева, случайного леса, градиентного бустинга и логистической регрессии)*;\n",
    "- в рамках работы с моделями использовали различные гипер-параметры;\n",
    "- методом кросс-валидации выбрали лучшую модель;\n",
    "- проверили нашу лучшую модель на тестовой выборке; \n",
    "- построили матрицу ошибок; \n",
    "- оценили важность признаков для лучшей модели."
   ]
  },
  {
   "cell_type": "markdown",
   "id": "d961259f",
   "metadata": {},
   "source": [
    "По итогам науличший результат мы получили при использовании **модели Градиентного бустинга** с параметром n_estimators=91. Значение оценочной метрики (roc auc score) на тестовой выборке составило **0.91**, что лучше (больше) требуемого заказчиком уровня в 0.85.\n",
    "\n",
    "Отмечаем, что наша модель достаточно хорошо предсказала, что клиент оператора останется. В части предсказания того, что клиент уйет от оператора кол-во ложных ответов немного превышает кол-во правильных ответов."
   ]
  },
  {
   "cell_type": "markdown",
   "id": "f5f0a0f0",
   "metadata": {},
   "source": [
    "Учитывая это, **рекомендуем использовать нашу модель в работе оператора связи!**"
   ]
  },
  {
   "cell_type": "markdown",
   "id": "399cda20",
   "metadata": {},
   "source": [
    "- Отмечаем, что наиболее важным для обучения модели оказался добавленный нами признак, характеризующий продолжительность пользования клиентом услуг оператора *(duration2)*;\n",
    "- также достаточно высокую важность показал признак  с типом оплаты: раз в год-два или ежемесячно *(Type)*;\n",
    "- помимо указанных выше в работе использовались следующие признаки, характеризующие клиента *(gender, SeniorCitizen, Partner, Dependents)*, а также порядок оплаты услуг *(PaperlessBilling, PaymentMethod)*. Необходимости в предобработке указанных признаков не было;\n",
    "- также анализ проводился по признакам, характеризующим дополнительные услуги оператора в части интернета и телефонии *(InternetService, OnlineSecurity, OnlineBackup, DeviceProtection, TechSupport, StreamingTV, StreamingMovies, MultipleLines)*. В указанных признаках были зафиксированы обработанные позже пропуски."
   ]
  },
  {
   "cell_type": "markdown",
   "id": "ca1000d5",
   "metadata": {},
   "source": [
    "Значимых трудностей в рамках проекта не было. Отдельно можно отменить наличие неявных пропусков в двух признаках, которые пришлось обработать отдельно. Также внимание стоит уделить выбору подходящего к конкретной модели способа кодирования категориальных признаков и масштабирования численных признаков."
   ]
  }
 ],
 "metadata": {
  "ExecuteTimeLog": [
   {
    "duration": 2043,
    "start_time": "2023-07-20T21:58:38.672Z"
   },
   {
    "duration": 508,
    "start_time": "2023-07-20T21:58:40.717Z"
   },
   {
    "duration": 37,
    "start_time": "2023-07-20T21:58:42.682Z"
   },
   {
    "duration": 4359,
    "start_time": "2023-07-20T21:58:50.011Z"
   },
   {
    "duration": 5474,
    "start_time": "2023-07-23T13:03:53.614Z"
   },
   {
    "duration": 676,
    "start_time": "2023-07-23T13:03:59.090Z"
   },
   {
    "duration": 34,
    "start_time": "2023-07-23T13:03:59.767Z"
   },
   {
    "duration": 4219,
    "start_time": "2023-07-23T13:03:59.803Z"
   },
   {
    "duration": 34,
    "start_time": "2023-07-23T13:04:04.024Z"
   },
   {
    "duration": 15,
    "start_time": "2023-07-23T13:04:09.976Z"
   },
   {
    "duration": 12,
    "start_time": "2023-07-23T13:04:10.706Z"
   },
   {
    "duration": 10,
    "start_time": "2023-07-23T13:04:11.649Z"
   },
   {
    "duration": 19,
    "start_time": "2023-07-23T13:04:20.198Z"
   },
   {
    "duration": 999,
    "start_time": "2023-07-23T13:04:21.043Z"
   },
   {
    "duration": 8,
    "start_time": "2023-07-23T13:04:22.044Z"
   },
   {
    "duration": 24,
    "start_time": "2023-07-23T13:04:23.109Z"
   },
   {
    "duration": 123,
    "start_time": "2023-07-23T13:04:23.915Z"
   },
   {
    "duration": 244,
    "start_time": "2023-07-23T13:04:24.847Z"
   },
   {
    "duration": 222,
    "start_time": "2023-07-23T13:04:25.999Z"
   },
   {
    "duration": 71,
    "start_time": "2023-07-23T13:04:26.906Z"
   },
   {
    "duration": 22,
    "start_time": "2023-07-23T13:04:27.506Z"
   },
   {
    "duration": 173,
    "start_time": "2023-07-23T13:04:28.945Z"
   },
   {
    "duration": 157,
    "start_time": "2023-07-23T13:04:29.705Z"
   },
   {
    "duration": 7,
    "start_time": "2023-07-23T13:04:30.514Z"
   },
   {
    "duration": 4,
    "start_time": "2023-07-23T13:04:31.546Z"
   },
   {
    "duration": 7,
    "start_time": "2023-07-23T13:04:32.006Z"
   },
   {
    "duration": 3,
    "start_time": "2023-07-23T13:04:33.006Z"
   },
   {
    "duration": 29,
    "start_time": "2023-07-23T13:04:33.815Z"
   },
   {
    "duration": 23,
    "start_time": "2023-07-23T13:04:34.143Z"
   },
   {
    "duration": 53,
    "start_time": "2023-07-23T13:04:35.549Z"
   },
   {
    "duration": 2,
    "start_time": "2023-07-23T13:04:36.947Z"
   },
   {
    "duration": 3,
    "start_time": "2023-07-23T13:04:37.393Z"
   },
   {
    "duration": 343,
    "start_time": "2023-07-23T13:04:39.914Z"
   },
   {
    "duration": 3,
    "start_time": "2023-07-23T13:04:49.144Z"
   },
   {
    "duration": 4,
    "start_time": "2023-07-23T13:05:20.312Z"
   },
   {
    "duration": 3,
    "start_time": "2023-07-23T13:06:28.313Z"
   },
   {
    "duration": 3,
    "start_time": "2023-07-23T13:06:28.944Z"
   },
   {
    "duration": 1477,
    "start_time": "2023-07-23T13:06:33.514Z"
   },
   {
    "duration": 3,
    "start_time": "2023-07-23T13:06:37.276Z"
   },
   {
    "duration": 2,
    "start_time": "2023-07-23T13:06:38.345Z"
   },
   {
    "duration": 3,
    "start_time": "2023-07-23T13:06:59.620Z"
   },
   {
    "duration": 3,
    "start_time": "2023-07-23T13:08:06.109Z"
   },
   {
    "duration": 3,
    "start_time": "2023-07-23T13:08:08.338Z"
   },
   {
    "duration": 9290,
    "start_time": "2023-07-23T13:08:11.543Z"
   },
   {
    "duration": 4,
    "start_time": "2023-07-23T13:08:35.704Z"
   },
   {
    "duration": 2,
    "start_time": "2023-07-23T13:08:37.098Z"
   },
   {
    "duration": 3,
    "start_time": "2023-07-23T13:09:05.947Z"
   }
  ],
  "kernelspec": {
   "display_name": "Python 3 (ipykernel)",
   "language": "python",
   "name": "python3"
  },
  "language_info": {
   "codemirror_mode": {
    "name": "ipython",
    "version": 3
   },
   "file_extension": ".py",
   "mimetype": "text/x-python",
   "name": "python",
   "nbconvert_exporter": "python",
   "pygments_lexer": "ipython3",
   "version": "3.9.13"
  },
  "toc": {
   "base_numbering": 1,
   "nav_menu": {},
   "number_sections": true,
   "sideBar": true,
   "skip_h1_title": true,
   "title_cell": "Table of Contents",
   "title_sidebar": "Contents",
   "toc_cell": false,
   "toc_position": {},
   "toc_section_display": true,
   "toc_window_display": false
  }
 },
 "nbformat": 4,
 "nbformat_minor": 5
}
