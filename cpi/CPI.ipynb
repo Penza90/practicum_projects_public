{
 "cells": [
  {
   "cell_type": "markdown",
   "id": "e160ff7e",
   "metadata": {},
   "source": [
    "# ПРОЕКТ \"ПРОГНОЗ ИНФЛЯЦИИ\""
   ]
  },
  {
   "cell_type": "markdown",
   "id": "0e6350fb",
   "metadata": {},
   "source": [
    "В рамках проекта перед нами поставлена задача разработать программное решение, которое будет автоматически скачивать или загружать с помощью пользователя данные по индексам потребительских цен с официального сайта Росстата (https://rosstat.gov.ru/), анализировать полученные данные и строить модель прогноза на 6 месяцев вперед"
   ]
  },
  {
   "cell_type": "code",
   "execution_count": 1,
   "id": "3e841e90",
   "metadata": {},
   "outputs": [],
   "source": [
    "#библиотеки\n",
    "import pandas as pd\n",
    "import numpy as np\n",
    "import matplotlib.pyplot as plt\n",
    "import math\n",
    "from sklearn.model_selection import train_test_split\n",
    "from sklearn.linear_model import LinearRegression, LogisticRegression\n",
    "from sklearn.tree import DecisionTreeRegressor\n",
    "from sklearn.ensemble import RandomForestRegressor\n",
    "import lightgbm as lgb\n",
    "from sklearn.metrics import mean_squared_error, r2_score\n",
    "from statsmodels.tsa.seasonal import seasonal_decompose\n",
    "\n",
    "from sklearn.model_selection import GridSearchCV\n",
    "from sklearn.metrics import roc_auc_score, precision_score, confusion_matrix\n",
    "\n",
    "from dateutil.relativedelta import relativedelta\n",
    "\n",
    "from datetime import datetime\n",
    "\n",
    "import pickle"
   ]
  },
  {
   "cell_type": "markdown",
   "id": "c516caf6",
   "metadata": {},
   "source": [
    "Исходные данные - значения Индекса потребительских цен на все товары и услуги (код 11521100300010200001) с 2002 г. с помесячной разбивкой. Вид показателя - к декабрю предыдущего года"
   ]
  },
  {
   "cell_type": "markdown",
   "id": "f8626bf0",
   "metadata": {},
   "source": [
    "## Обработка данных"
   ]
  },
  {
   "cell_type": "code",
   "execution_count": 2,
   "id": "c977d7b1",
   "metadata": {},
   "outputs": [],
   "source": [
    "#открываем предоставленные данные\n",
    "cpi = pd.read_csv('C:\\\\Users\\\\Илья\\\\Documents\\\\Программирование\\\\Data Science_projects\\\\ИПЦ\\\\cpi_since_2002.csv', sep=';')"
   ]
  },
  {
   "cell_type": "markdown",
   "id": "bedda007",
   "metadata": {},
   "source": [
    "Расчет индексов цен в среднем в отчетном (например, втором) полугодии текущего года по сравнению с предыдущим полугодием текущего года проводился на месячных данных (за базу принят декабрь предыдущего года) по следующей формуле:\n",
    "\n",
    "$CPI2hy = \\dfrac{(CPIjul + CPIaug + CPIsep + CPIoct + CPInov + CPIdec) / 6}{(CPIjan + CPIfeb + CPImar + CPIapr + CPImay + CPIjun) / 6}$"
   ]
  },
  {
   "cell_type": "code",
   "execution_count": 3,
   "id": "7ff10a39",
   "metadata": {},
   "outputs": [
    {
     "data": {
      "text/html": [
       "<div>\n",
       "<style scoped>\n",
       "    .dataframe tbody tr th:only-of-type {\n",
       "        vertical-align: middle;\n",
       "    }\n",
       "\n",
       "    .dataframe tbody tr th {\n",
       "        vertical-align: top;\n",
       "    }\n",
       "\n",
       "    .dataframe thead th {\n",
       "        text-align: right;\n",
       "    }\n",
       "</style>\n",
       "<table border=\"1\" class=\"dataframe\">\n",
       "  <thead>\n",
       "    <tr style=\"text-align: right;\">\n",
       "      <th></th>\n",
       "      <th>date</th>\n",
       "      <th>cpi</th>\n",
       "      <th>half_year</th>\n",
       "    </tr>\n",
       "  </thead>\n",
       "  <tbody>\n",
       "    <tr>\n",
       "      <th>0</th>\n",
       "      <td>01.01.2003</td>\n",
       "      <td>105.189279</td>\n",
       "      <td>2</td>\n",
       "    </tr>\n",
       "    <tr>\n",
       "      <th>1</th>\n",
       "      <td>01.01.2003</td>\n",
       "      <td>94.468161</td>\n",
       "      <td>1</td>\n",
       "    </tr>\n",
       "    <tr>\n",
       "      <th>2</th>\n",
       "      <td>01.01.2004</td>\n",
       "      <td>103.981797</td>\n",
       "      <td>2</td>\n",
       "    </tr>\n",
       "    <tr>\n",
       "      <th>3</th>\n",
       "      <td>01.07.2004</td>\n",
       "      <td>94.828896</td>\n",
       "      <td>1</td>\n",
       "    </tr>\n",
       "    <tr>\n",
       "      <th>4</th>\n",
       "      <td>01.01.2005</td>\n",
       "      <td>104.828139</td>\n",
       "      <td>2</td>\n",
       "    </tr>\n",
       "  </tbody>\n",
       "</table>\n",
       "</div>"
      ],
      "text/plain": [
       "         date         cpi  half_year\n",
       "0  01.01.2003  105.189279          2\n",
       "1  01.01.2003   94.468161          1\n",
       "2  01.01.2004  103.981797          2\n",
       "3  01.07.2004   94.828896          1\n",
       "4  01.01.2005  104.828139          2"
      ]
     },
     "metadata": {},
     "output_type": "display_data"
    },
    {
     "name": "stdout",
     "output_type": "stream",
     "text": [
      "\n",
      "(43, 3)\n",
      "\n",
      "date          object\n",
      "cpi          float64\n",
      "half_year      int64\n",
      "dtype: object\n"
     ]
    }
   ],
   "source": [
    "#смотрим на представленные данные\n",
    "display(cpi.head())\n",
    "print()\n",
    "print(cpi.shape)\n",
    "print()\n",
    "print(cpi.dtypes)"
   ]
  },
  {
   "cell_type": "markdown",
   "id": "522fe745",
   "metadata": {},
   "source": [
    "Поменяли тип данных столбца \"date\""
   ]
  },
  {
   "cell_type": "code",
   "execution_count": 4,
   "id": "267ac266",
   "metadata": {},
   "outputs": [
    {
     "name": "stdout",
     "output_type": "stream",
     "text": [
      "date         datetime64[ns]\n",
      "cpi                 float64\n",
      "half_year             int64\n",
      "dtype: object\n"
     ]
    }
   ],
   "source": [
    "#меняем тип данных столбца date\n",
    "cpi['date'] = pd.to_datetime(cpi['date'])\n",
    "print(cpi.dtypes)"
   ]
  },
  {
   "cell_type": "markdown",
   "id": "b03c5e38",
   "metadata": {},
   "source": [
    "Установили столбец \"date\" в качестве индекса"
   ]
  },
  {
   "cell_type": "code",
   "execution_count": 5,
   "id": "1587c396",
   "metadata": {},
   "outputs": [
    {
     "data": {
      "text/html": [
       "<div>\n",
       "<style scoped>\n",
       "    .dataframe tbody tr th:only-of-type {\n",
       "        vertical-align: middle;\n",
       "    }\n",
       "\n",
       "    .dataframe tbody tr th {\n",
       "        vertical-align: top;\n",
       "    }\n",
       "\n",
       "    .dataframe thead th {\n",
       "        text-align: right;\n",
       "    }\n",
       "</style>\n",
       "<table border=\"1\" class=\"dataframe\">\n",
       "  <thead>\n",
       "    <tr style=\"text-align: right;\">\n",
       "      <th></th>\n",
       "      <th>cpi</th>\n",
       "      <th>half_year</th>\n",
       "    </tr>\n",
       "    <tr>\n",
       "      <th>date</th>\n",
       "      <th></th>\n",
       "      <th></th>\n",
       "    </tr>\n",
       "  </thead>\n",
       "  <tbody>\n",
       "    <tr>\n",
       "      <th>2003-01-01</th>\n",
       "      <td>105.189279</td>\n",
       "      <td>2</td>\n",
       "    </tr>\n",
       "    <tr>\n",
       "      <th>2003-01-01</th>\n",
       "      <td>94.468161</td>\n",
       "      <td>1</td>\n",
       "    </tr>\n",
       "    <tr>\n",
       "      <th>2004-01-01</th>\n",
       "      <td>103.981797</td>\n",
       "      <td>2</td>\n",
       "    </tr>\n",
       "    <tr>\n",
       "      <th>2004-01-07</th>\n",
       "      <td>94.828896</td>\n",
       "      <td>1</td>\n",
       "    </tr>\n",
       "    <tr>\n",
       "      <th>2005-01-01</th>\n",
       "      <td>104.828139</td>\n",
       "      <td>2</td>\n",
       "    </tr>\n",
       "  </tbody>\n",
       "</table>\n",
       "</div>"
      ],
      "text/plain": [
       "                   cpi  half_year\n",
       "date                             \n",
       "2003-01-01  105.189279          2\n",
       "2003-01-01   94.468161          1\n",
       "2004-01-01  103.981797          2\n",
       "2004-01-07   94.828896          1\n",
       "2005-01-01  104.828139          2"
      ]
     },
     "metadata": {},
     "output_type": "display_data"
    }
   ],
   "source": [
    "#устанавливаем столбец date в качестве индекса\n",
    "cpi2 = cpi.set_index('date')\n",
    "display(cpi2.head())"
   ]
  },
  {
   "cell_type": "markdown",
   "id": "5d05848e",
   "metadata": {},
   "source": [
    "Даты расположены в хронологическом порядке"
   ]
  },
  {
   "cell_type": "code",
   "execution_count": 6,
   "id": "815ad46f",
   "metadata": {},
   "outputs": [
    {
     "name": "stdout",
     "output_type": "stream",
     "text": [
      "True\n"
     ]
    }
   ],
   "source": [
    "#в хронологическом ли порядке расположены даты и время\n",
    "print(cpi2.index.is_monotonic)"
   ]
  },
  {
   "cell_type": "markdown",
   "id": "6f0eba3e",
   "metadata": {},
   "source": [
    "Явная тенденция в динамике ИПЦ не прослеживается"
   ]
  },
  {
   "cell_type": "code",
   "execution_count": 7,
   "id": "6d39e180",
   "metadata": {},
   "outputs": [
    {
     "data": {
      "image/png": "[encoded data removed]",
      "text/plain": [
       "<Figure size 640x480 with 1 Axes>"
      ]
     },
     "metadata": {},
     "output_type": "display_data"
    }
   ],
   "source": [
    "#график\n",
    "cpi2.plot(y='cpi', xlabel = 'год', ylabel = 'ИПЦ, %', grid=True, ylim = (70, 120))\n",
    "plt.title('Динамика ИПЦ');"
   ]
  },
  {
   "cell_type": "markdown",
   "id": "7b4de25e",
   "metadata": {},
   "source": [
    "### Дополнительные признаки"
   ]
  },
  {
   "cell_type": "markdown",
   "id": "c6a77736",
   "metadata": {},
   "source": [
    "В качестве дополнительных признаков добавили лаги и скользящие средние"
   ]
  },
  {
   "cell_type": "code",
   "execution_count": 8,
   "id": "211af229",
   "metadata": {},
   "outputs": [
    {
     "data": {
      "text/html": [
       "<div>\n",
       "<style scoped>\n",
       "    .dataframe tbody tr th:only-of-type {\n",
       "        vertical-align: middle;\n",
       "    }\n",
       "\n",
       "    .dataframe tbody tr th {\n",
       "        vertical-align: top;\n",
       "    }\n",
       "\n",
       "    .dataframe thead th {\n",
       "        text-align: right;\n",
       "    }\n",
       "</style>\n",
       "<table border=\"1\" class=\"dataframe\">\n",
       "  <thead>\n",
       "    <tr style=\"text-align: right;\">\n",
       "      <th></th>\n",
       "      <th>cpi</th>\n",
       "      <th>half_year</th>\n",
       "      <th>lag_1</th>\n",
       "      <th>lag_2</th>\n",
       "      <th>lag_4</th>\n",
       "    </tr>\n",
       "    <tr>\n",
       "      <th>date</th>\n",
       "      <th></th>\n",
       "      <th></th>\n",
       "      <th></th>\n",
       "      <th></th>\n",
       "      <th></th>\n",
       "    </tr>\n",
       "  </thead>\n",
       "  <tbody>\n",
       "    <tr>\n",
       "      <th>2003-01-01</th>\n",
       "      <td>105.189279</td>\n",
       "      <td>2</td>\n",
       "      <td>NaN</td>\n",
       "      <td>NaN</td>\n",
       "      <td>NaN</td>\n",
       "    </tr>\n",
       "    <tr>\n",
       "      <th>2003-01-01</th>\n",
       "      <td>94.468161</td>\n",
       "      <td>1</td>\n",
       "      <td>105.189279</td>\n",
       "      <td>NaN</td>\n",
       "      <td>NaN</td>\n",
       "    </tr>\n",
       "    <tr>\n",
       "      <th>2004-01-01</th>\n",
       "      <td>103.981797</td>\n",
       "      <td>2</td>\n",
       "      <td>94.468161</td>\n",
       "      <td>105.189279</td>\n",
       "      <td>NaN</td>\n",
       "    </tr>\n",
       "    <tr>\n",
       "      <th>2004-01-07</th>\n",
       "      <td>94.828896</td>\n",
       "      <td>1</td>\n",
       "      <td>103.981797</td>\n",
       "      <td>94.468161</td>\n",
       "      <td>NaN</td>\n",
       "    </tr>\n",
       "    <tr>\n",
       "      <th>2005-01-01</th>\n",
       "      <td>104.828139</td>\n",
       "      <td>2</td>\n",
       "      <td>94.828896</td>\n",
       "      <td>103.981797</td>\n",
       "      <td>105.189279</td>\n",
       "    </tr>\n",
       "  </tbody>\n",
       "</table>\n",
       "</div>"
      ],
      "text/plain": [
       "                   cpi  half_year       lag_1       lag_2       lag_4\n",
       "date                                                                 \n",
       "2003-01-01  105.189279          2         NaN         NaN         NaN\n",
       "2003-01-01   94.468161          1  105.189279         NaN         NaN\n",
       "2004-01-01  103.981797          2   94.468161  105.189279         NaN\n",
       "2004-01-07   94.828896          1  103.981797   94.468161         NaN\n",
       "2005-01-01  104.828139          2   94.828896  103.981797  105.189279"
      ]
     },
     "metadata": {},
     "output_type": "display_data"
    }
   ],
   "source": [
    "#определяем важные для анализа отстающие значения\n",
    "cpi2['lag_{}'.format(1)] = cpi2['cpi'].shift(1)\n",
    "cpi2['lag_{}'.format(2)] = cpi2['cpi'].shift(2)\n",
    "cpi2['lag_{}'.format(4)] = cpi2['cpi'].shift(4)\n",
    "display(cpi2.head())"
   ]
  },
  {
   "cell_type": "code",
   "execution_count": 9,
   "id": "fc406b3e",
   "metadata": {},
   "outputs": [
    {
     "data": {
      "text/html": [
       "<div>\n",
       "<style scoped>\n",
       "    .dataframe tbody tr th:only-of-type {\n",
       "        vertical-align: middle;\n",
       "    }\n",
       "\n",
       "    .dataframe tbody tr th {\n",
       "        vertical-align: top;\n",
       "    }\n",
       "\n",
       "    .dataframe thead th {\n",
       "        text-align: right;\n",
       "    }\n",
       "</style>\n",
       "<table border=\"1\" class=\"dataframe\">\n",
       "  <thead>\n",
       "    <tr style=\"text-align: right;\">\n",
       "      <th></th>\n",
       "      <th>cpi</th>\n",
       "      <th>half_year</th>\n",
       "      <th>lag_1</th>\n",
       "      <th>lag_2</th>\n",
       "      <th>lag_4</th>\n",
       "      <th>rolling_mean_2</th>\n",
       "      <th>rolling_mean_4</th>\n",
       "    </tr>\n",
       "    <tr>\n",
       "      <th>date</th>\n",
       "      <th></th>\n",
       "      <th></th>\n",
       "      <th></th>\n",
       "      <th></th>\n",
       "      <th></th>\n",
       "      <th></th>\n",
       "      <th></th>\n",
       "    </tr>\n",
       "  </thead>\n",
       "  <tbody>\n",
       "    <tr>\n",
       "      <th>2003-01-01</th>\n",
       "      <td>105.189279</td>\n",
       "      <td>2</td>\n",
       "      <td>NaN</td>\n",
       "      <td>NaN</td>\n",
       "      <td>NaN</td>\n",
       "      <td>NaN</td>\n",
       "      <td>NaN</td>\n",
       "    </tr>\n",
       "    <tr>\n",
       "      <th>2003-01-01</th>\n",
       "      <td>94.468161</td>\n",
       "      <td>1</td>\n",
       "      <td>105.189279</td>\n",
       "      <td>NaN</td>\n",
       "      <td>NaN</td>\n",
       "      <td>NaN</td>\n",
       "      <td>NaN</td>\n",
       "    </tr>\n",
       "    <tr>\n",
       "      <th>2004-01-01</th>\n",
       "      <td>103.981797</td>\n",
       "      <td>2</td>\n",
       "      <td>94.468161</td>\n",
       "      <td>105.189279</td>\n",
       "      <td>NaN</td>\n",
       "      <td>99.828720</td>\n",
       "      <td>NaN</td>\n",
       "    </tr>\n",
       "    <tr>\n",
       "      <th>2004-01-07</th>\n",
       "      <td>94.828896</td>\n",
       "      <td>1</td>\n",
       "      <td>103.981797</td>\n",
       "      <td>94.468161</td>\n",
       "      <td>NaN</td>\n",
       "      <td>99.224979</td>\n",
       "      <td>NaN</td>\n",
       "    </tr>\n",
       "    <tr>\n",
       "      <th>2005-01-01</th>\n",
       "      <td>104.828139</td>\n",
       "      <td>2</td>\n",
       "      <td>94.828896</td>\n",
       "      <td>103.981797</td>\n",
       "      <td>105.189279</td>\n",
       "      <td>99.405347</td>\n",
       "      <td>99.617034</td>\n",
       "    </tr>\n",
       "  </tbody>\n",
       "</table>\n",
       "</div>"
      ],
      "text/plain": [
       "                   cpi  half_year       lag_1       lag_2       lag_4  \\\n",
       "date                                                                    \n",
       "2003-01-01  105.189279          2         NaN         NaN         NaN   \n",
       "2003-01-01   94.468161          1  105.189279         NaN         NaN   \n",
       "2004-01-01  103.981797          2   94.468161  105.189279         NaN   \n",
       "2004-01-07   94.828896          1  103.981797   94.468161         NaN   \n",
       "2005-01-01  104.828139          2   94.828896  103.981797  105.189279   \n",
       "\n",
       "            rolling_mean_2  rolling_mean_4  \n",
       "date                                        \n",
       "2003-01-01             NaN             NaN  \n",
       "2003-01-01             NaN             NaN  \n",
       "2004-01-01       99.828720             NaN  \n",
       "2004-01-07       99.224979             NaN  \n",
       "2005-01-01       99.405347       99.617034  "
      ]
     },
     "metadata": {},
     "output_type": "display_data"
    },
    {
     "name": "stdout",
     "output_type": "stream",
     "text": [
      "\n"
     ]
    },
    {
     "data": {
      "text/html": [
       "<div>\n",
       "<style scoped>\n",
       "    .dataframe tbody tr th:only-of-type {\n",
       "        vertical-align: middle;\n",
       "    }\n",
       "\n",
       "    .dataframe tbody tr th {\n",
       "        vertical-align: top;\n",
       "    }\n",
       "\n",
       "    .dataframe thead th {\n",
       "        text-align: right;\n",
       "    }\n",
       "</style>\n",
       "<table border=\"1\" class=\"dataframe\">\n",
       "  <thead>\n",
       "    <tr style=\"text-align: right;\">\n",
       "      <th></th>\n",
       "      <th>cpi</th>\n",
       "      <th>half_year</th>\n",
       "      <th>lag_1</th>\n",
       "      <th>lag_2</th>\n",
       "      <th>lag_4</th>\n",
       "      <th>rolling_mean_2</th>\n",
       "      <th>rolling_mean_4</th>\n",
       "    </tr>\n",
       "    <tr>\n",
       "      <th>date</th>\n",
       "      <th></th>\n",
       "      <th></th>\n",
       "      <th></th>\n",
       "      <th></th>\n",
       "      <th></th>\n",
       "      <th></th>\n",
       "      <th></th>\n",
       "    </tr>\n",
       "  </thead>\n",
       "  <tbody>\n",
       "    <tr>\n",
       "      <th>2022-01-01</th>\n",
       "      <td>103.621573</td>\n",
       "      <td>2</td>\n",
       "      <td>98.961520</td>\n",
       "      <td>101.893169</td>\n",
       "      <td>100.692104</td>\n",
       "      <td>100.427344</td>\n",
       "      <td>100.149052</td>\n",
       "    </tr>\n",
       "    <tr>\n",
       "      <th>2022-01-07</th>\n",
       "      <td>101.739649</td>\n",
       "      <td>1</td>\n",
       "      <td>103.621573</td>\n",
       "      <td>98.961520</td>\n",
       "      <td>99.049414</td>\n",
       "      <td>101.291547</td>\n",
       "      <td>100.881419</td>\n",
       "    </tr>\n",
       "    <tr>\n",
       "      <th>2023-01-01</th>\n",
       "      <td>102.703745</td>\n",
       "      <td>2</td>\n",
       "      <td>101.739649</td>\n",
       "      <td>103.621573</td>\n",
       "      <td>101.893169</td>\n",
       "      <td>102.680611</td>\n",
       "      <td>101.553978</td>\n",
       "    </tr>\n",
       "    <tr>\n",
       "      <th>2023-01-07</th>\n",
       "      <td>91.810792</td>\n",
       "      <td>1</td>\n",
       "      <td>102.703745</td>\n",
       "      <td>101.739649</td>\n",
       "      <td>98.961520</td>\n",
       "      <td>102.221697</td>\n",
       "      <td>101.756622</td>\n",
       "    </tr>\n",
       "    <tr>\n",
       "      <th>2024-01-01</th>\n",
       "      <td>103.310911</td>\n",
       "      <td>2</td>\n",
       "      <td>91.810792</td>\n",
       "      <td>102.703745</td>\n",
       "      <td>103.621573</td>\n",
       "      <td>97.257269</td>\n",
       "      <td>99.968940</td>\n",
       "    </tr>\n",
       "  </tbody>\n",
       "</table>\n",
       "</div>"
      ],
      "text/plain": [
       "                   cpi  half_year       lag_1       lag_2       lag_4  \\\n",
       "date                                                                    \n",
       "2022-01-01  103.621573          2   98.961520  101.893169  100.692104   \n",
       "2022-01-07  101.739649          1  103.621573   98.961520   99.049414   \n",
       "2023-01-01  102.703745          2  101.739649  103.621573  101.893169   \n",
       "2023-01-07   91.810792          1  102.703745  101.739649   98.961520   \n",
       "2024-01-01  103.310911          2   91.810792  102.703745  103.621573   \n",
       "\n",
       "            rolling_mean_2  rolling_mean_4  \n",
       "date                                        \n",
       "2022-01-01      100.427344      100.149052  \n",
       "2022-01-07      101.291547      100.881419  \n",
       "2023-01-01      102.680611      101.553978  \n",
       "2023-01-07      102.221697      101.756622  \n",
       "2024-01-01       97.257269       99.968940  "
      ]
     },
     "metadata": {},
     "output_type": "display_data"
    }
   ],
   "source": [
    "#определяем важные для анализа скользящие средние\n",
    "cpi2['rolling_mean_{}'.format(2)] = cpi2['cpi'].shift().rolling(2).mean()\n",
    "cpi2['rolling_mean_{}'.format(4)] = cpi2['cpi'].shift().rolling(4).mean()\n",
    "display(cpi2.head())\n",
    "print()\n",
    "display(cpi2.tail())"
   ]
  },
  {
   "cell_type": "markdown",
   "id": "c3a78b20",
   "metadata": {},
   "source": [
    "## Подготовка данных для работы с моделями"
   ]
  },
  {
   "cell_type": "markdown",
   "id": "f319d437",
   "metadata": {},
   "source": [
    "Разбили данные на две выборки, удалили пропуски в обучающей выборке, выделили целевой и иные признаки"
   ]
  },
  {
   "cell_type": "code",
   "execution_count": 10,
   "id": "9cbab859",
   "metadata": {},
   "outputs": [],
   "source": [
    "#разбиваем данные на выборки\n",
    "train, test = train_test_split(cpi2, test_size=0.2, shuffle=False)"
   ]
  },
  {
   "cell_type": "code",
   "execution_count": 11,
   "id": "41fdae80",
   "metadata": {},
   "outputs": [
    {
     "name": "stdout",
     "output_type": "stream",
     "text": [
      "(34, 7)\n",
      "(30, 7)\n"
     ]
    }
   ],
   "source": [
    "#удаляем пропуски в обучающей выборке\n",
    "print(train.shape)\n",
    "train = train.dropna()\n",
    "print(train.shape)"
   ]
  },
  {
   "cell_type": "code",
   "execution_count": 12,
   "id": "69ed0f79",
   "metadata": {},
   "outputs": [
    {
     "name": "stdout",
     "output_type": "stream",
     "text": [
      "features_train 2005-01-01 00:00:00 2019-01-07 00:00:00\n",
      "(30, 6)\n",
      "features_test 2020-01-01 00:00:00 2024-01-01 00:00:00\n",
      "(9, 6)\n",
      "\n",
      "target_train 2005-01-01 00:00:00 2019-01-07 00:00:00\n",
      "(30,)\n",
      "target_test 2020-01-01 00:00:00 2024-01-01 00:00:00\n",
      "(9,)\n"
     ]
    }
   ],
   "source": [
    "#выделяем целевой и иные признаки\n",
    "features_train = train.drop('cpi', axis=True)\n",
    "target_train = train['cpi']\n",
    "    \n",
    "features_test = test.drop('cpi', axis=True)\n",
    "target_test = test['cpi']\n",
    "      \n",
    "#проверяем корректность разделения на выборки\n",
    "print('features_train', features_train.index.min(), features_train.index.max())\n",
    "print(features_train.shape)\n",
    "print('features_test', features_test.index.min(), features_test.index.max())\n",
    "print(features_test.shape)\n",
    "print()\n",
    "print('target_train', target_train.index.min(), target_train.index.max())\n",
    "print(target_train.shape)\n",
    "print('target_test', target_test.index.min(), target_test.index.max())\n",
    "print(target_test.shape)"
   ]
  },
  {
   "cell_type": "markdown",
   "id": "92619727",
   "metadata": {},
   "source": [
    "## Работа с моделями"
   ]
  },
  {
   "cell_type": "markdown",
   "id": "3f5fc79e",
   "metadata": {},
   "source": [
    "### Случайный лес"
   ]
  },
  {
   "cell_type": "markdown",
   "id": "7119b71c",
   "metadata": {},
   "source": [
    "- методом кросс-валидации выбрали параметры лучшей модели, построенной с использованием Случайного леса\n",
    "- науличший результат получили при n_estimators = 10\n",
    "- проверили нашу модель на тестовой выборке: значение оценочной метрики (коэффициент детерминации, R2) составило 0.52 при наилучшем качесте модели (1) и наихудшем (0)"
   ]
  },
  {
   "cell_type": "code",
   "execution_count": 13,
   "id": "c3078ba9",
   "metadata": {},
   "outputs": [],
   "source": [
    "#случайный лес\n",
    "model_rf = RandomForestRegressor(random_state=180723)\n",
    "parameters_range = {'n_estimators': [10, 51, 10]}"
   ]
  },
  {
   "cell_type": "code",
   "execution_count": 14,
   "id": "fa94bb02",
   "metadata": {},
   "outputs": [],
   "source": [
    "gscv_rf = GridSearchCV(model_rf, parameters_range, cv=5, scoring='r2')"
   ]
  },
  {
   "cell_type": "raw",
   "id": "7140b131",
   "metadata": {},
   "source": [
    "from sklearn.metrics import get_scorer_names\n",
    "all_scorers = get_scorer_names()\n",
    "type(all_scorers)\n",
    "print(all_scorers)"
   ]
  },
  {
   "cell_type": "code",
   "execution_count": 15,
   "id": "9f77bf38",
   "metadata": {},
   "outputs": [
    {
     "data": {
      "text/html": [
       "<style>#sk-container-id-1 {color: black;background-color: white;}#sk-container-id-1 pre{padding: 0;}#sk-container-id-1 div.sk-toggleable {background-color: white;}#sk-container-id-1 label.sk-toggleable__label {cursor: pointer;display: block;width: 100%;margin-bottom: 0;padding: 0.3em;box-sizing: border-box;text-align: center;}#sk-container-id-1 label.sk-toggleable__label-arrow:before {content: \"▸\";float: left;margin-right: 0.25em;color: #696969;}#sk-container-id-1 label.sk-toggleable__label-arrow:hover:before {color: black;}#sk-container-id-1 div.sk-estimator:hover label.sk-toggleable__label-arrow:before {color: black;}#sk-container-id-1 div.sk-toggleable__content {max-height: 0;max-width: 0;overflow: hidden;text-align: left;background-color: #f0f8ff;}#sk-container-id-1 div.sk-toggleable__content pre {margin: 0.2em;color: black;border-radius: 0.25em;background-color: #f0f8ff;}#sk-container-id-1 input.sk-toggleable__control:checked~div.sk-toggleable__content {max-height: 200px;max-width: 100%;overflow: auto;}#sk-container-id-1 input.sk-toggleable__control:checked~label.sk-toggleable__label-arrow:before {content: \"▾\";}#sk-container-id-1 div.sk-estimator input.sk-toggleable__control:checked~label.sk-toggleable__label {background-color: #d4ebff;}#sk-container-id-1 div.sk-label input.sk-toggleable__control:checked~label.sk-toggleable__label {background-color: #d4ebff;}#sk-container-id-1 input.sk-hidden--visually {border: 0;clip: rect(1px 1px 1px 1px);clip: rect(1px, 1px, 1px, 1px);height: 1px;margin: -1px;overflow: hidden;padding: 0;position: absolute;width: 1px;}#sk-container-id-1 div.sk-estimator {font-family: monospace;background-color: #f0f8ff;border: 1px dotted black;border-radius: 0.25em;box-sizing: border-box;margin-bottom: 0.5em;}#sk-container-id-1 div.sk-estimator:hover {background-color: #d4ebff;}#sk-container-id-1 div.sk-parallel-item::after {content: \"\";width: 100%;border-bottom: 1px solid gray;flex-grow: 1;}#sk-container-id-1 div.sk-label:hover label.sk-toggleable__label {background-color: #d4ebff;}#sk-container-id-1 div.sk-serial::before {content: \"\";position: absolute;border-left: 1px solid gray;box-sizing: border-box;top: 0;bottom: 0;left: 50%;z-index: 0;}#sk-container-id-1 div.sk-serial {display: flex;flex-direction: column;align-items: center;background-color: white;padding-right: 0.2em;padding-left: 0.2em;position: relative;}#sk-container-id-1 div.sk-item {position: relative;z-index: 1;}#sk-container-id-1 div.sk-parallel {display: flex;align-items: stretch;justify-content: center;background-color: white;position: relative;}#sk-container-id-1 div.sk-item::before, #sk-container-id-1 div.sk-parallel-item::before {content: \"\";position: absolute;border-left: 1px solid gray;box-sizing: border-box;top: 0;bottom: 0;left: 50%;z-index: -1;}#sk-container-id-1 div.sk-parallel-item {display: flex;flex-direction: column;z-index: 1;position: relative;background-color: white;}#sk-container-id-1 div.sk-parallel-item:first-child::after {align-self: flex-end;width: 50%;}#sk-container-id-1 div.sk-parallel-item:last-child::after {align-self: flex-start;width: 50%;}#sk-container-id-1 div.sk-parallel-item:only-child::after {width: 0;}#sk-container-id-1 div.sk-dashed-wrapped {border: 1px dashed gray;margin: 0 0.4em 0.5em 0.4em;box-sizing: border-box;padding-bottom: 0.4em;background-color: white;}#sk-container-id-1 div.sk-label label {font-family: monospace;font-weight: bold;display: inline-block;line-height: 1.2em;}#sk-container-id-1 div.sk-label-container {text-align: center;}#sk-container-id-1 div.sk-container {/* jupyter's `normalize.less` sets `[hidden] { display: none; }` but bootstrap.min.css set `[hidden] { display: none !important; }` so we also need the `!important` here to be able to override the default hidden behavior on the sphinx rendered scikit-learn.org. See: https://github.com/scikit-learn/scikit-learn/issues/21755 */display: inline-block !important;position: relative;}#sk-container-id-1 div.sk-text-repr-fallback {display: none;}</style><div id=\"sk-container-id-1\" class=\"sk-top-container\"><div class=\"sk-text-repr-fallback\"><pre>GridSearchCV(cv=5, estimator=RandomForestRegressor(random_state=180723),\n",
       "             param_grid={&#x27;n_estimators&#x27;: [10, 51, 10]}, scoring=&#x27;r2&#x27;)</pre><b>In a Jupyter environment, please rerun this cell to show the HTML representation or trust the notebook. <br />On GitHub, the HTML representation is unable to render, please try loading this page with nbviewer.org.</b></div><div class=\"sk-container\" hidden><div class=\"sk-item sk-dashed-wrapped\"><div class=\"sk-label-container\"><div class=\"sk-label sk-toggleable\"><input class=\"sk-toggleable__control sk-hidden--visually\" id=\"sk-estimator-id-1\" type=\"checkbox\" ><label for=\"sk-estimator-id-1\" class=\"sk-toggleable__label sk-toggleable__label-arrow\">GridSearchCV</label><div class=\"sk-toggleable__content\"><pre>GridSearchCV(cv=5, estimator=RandomForestRegressor(random_state=180723),\n",
       "             param_grid={&#x27;n_estimators&#x27;: [10, 51, 10]}, scoring=&#x27;r2&#x27;)</pre></div></div></div><div class=\"sk-parallel\"><div class=\"sk-parallel-item\"><div class=\"sk-item\"><div class=\"sk-label-container\"><div class=\"sk-label sk-toggleable\"><input class=\"sk-toggleable__control sk-hidden--visually\" id=\"sk-estimator-id-2\" type=\"checkbox\" ><label for=\"sk-estimator-id-2\" class=\"sk-toggleable__label sk-toggleable__label-arrow\">estimator: RandomForestRegressor</label><div class=\"sk-toggleable__content\"><pre>RandomForestRegressor(random_state=180723)</pre></div></div></div><div class=\"sk-serial\"><div class=\"sk-item\"><div class=\"sk-estimator sk-toggleable\"><input class=\"sk-toggleable__control sk-hidden--visually\" id=\"sk-estimator-id-3\" type=\"checkbox\" ><label for=\"sk-estimator-id-3\" class=\"sk-toggleable__label sk-toggleable__label-arrow\">RandomForestRegressor</label><div class=\"sk-toggleable__content\"><pre>RandomForestRegressor(random_state=180723)</pre></div></div></div></div></div></div></div></div></div></div>"
      ],
      "text/plain": [
       "GridSearchCV(cv=5, estimator=RandomForestRegressor(random_state=180723),\n",
       "             param_grid={'n_estimators': [10, 51, 10]}, scoring='r2')"
      ]
     },
     "execution_count": 15,
     "metadata": {},
     "output_type": "execute_result"
    }
   ],
   "source": [
    "gscv_rf.fit(features_train, target_train)"
   ]
  },
  {
   "cell_type": "code",
   "execution_count": 16,
   "id": "6428bd59",
   "metadata": {},
   "outputs": [
    {
     "data": {
      "text/html": [
       "<style>#sk-container-id-2 {color: black;background-color: white;}#sk-container-id-2 pre{padding: 0;}#sk-container-id-2 div.sk-toggleable {background-color: white;}#sk-container-id-2 label.sk-toggleable__label {cursor: pointer;display: block;width: 100%;margin-bottom: 0;padding: 0.3em;box-sizing: border-box;text-align: center;}#sk-container-id-2 label.sk-toggleable__label-arrow:before {content: \"▸\";float: left;margin-right: 0.25em;color: #696969;}#sk-container-id-2 label.sk-toggleable__label-arrow:hover:before {color: black;}#sk-container-id-2 div.sk-estimator:hover label.sk-toggleable__label-arrow:before {color: black;}#sk-container-id-2 div.sk-toggleable__content {max-height: 0;max-width: 0;overflow: hidden;text-align: left;background-color: #f0f8ff;}#sk-container-id-2 div.sk-toggleable__content pre {margin: 0.2em;color: black;border-radius: 0.25em;background-color: #f0f8ff;}#sk-container-id-2 input.sk-toggleable__control:checked~div.sk-toggleable__content {max-height: 200px;max-width: 100%;overflow: auto;}#sk-container-id-2 input.sk-toggleable__control:checked~label.sk-toggleable__label-arrow:before {content: \"▾\";}#sk-container-id-2 div.sk-estimator input.sk-toggleable__control:checked~label.sk-toggleable__label {background-color: #d4ebff;}#sk-container-id-2 div.sk-label input.sk-toggleable__control:checked~label.sk-toggleable__label {background-color: #d4ebff;}#sk-container-id-2 input.sk-hidden--visually {border: 0;clip: rect(1px 1px 1px 1px);clip: rect(1px, 1px, 1px, 1px);height: 1px;margin: -1px;overflow: hidden;padding: 0;position: absolute;width: 1px;}#sk-container-id-2 div.sk-estimator {font-family: monospace;background-color: #f0f8ff;border: 1px dotted black;border-radius: 0.25em;box-sizing: border-box;margin-bottom: 0.5em;}#sk-container-id-2 div.sk-estimator:hover {background-color: #d4ebff;}#sk-container-id-2 div.sk-parallel-item::after {content: \"\";width: 100%;border-bottom: 1px solid gray;flex-grow: 1;}#sk-container-id-2 div.sk-label:hover label.sk-toggleable__label {background-color: #d4ebff;}#sk-container-id-2 div.sk-serial::before {content: \"\";position: absolute;border-left: 1px solid gray;box-sizing: border-box;top: 0;bottom: 0;left: 50%;z-index: 0;}#sk-container-id-2 div.sk-serial {display: flex;flex-direction: column;align-items: center;background-color: white;padding-right: 0.2em;padding-left: 0.2em;position: relative;}#sk-container-id-2 div.sk-item {position: relative;z-index: 1;}#sk-container-id-2 div.sk-parallel {display: flex;align-items: stretch;justify-content: center;background-color: white;position: relative;}#sk-container-id-2 div.sk-item::before, #sk-container-id-2 div.sk-parallel-item::before {content: \"\";position: absolute;border-left: 1px solid gray;box-sizing: border-box;top: 0;bottom: 0;left: 50%;z-index: -1;}#sk-container-id-2 div.sk-parallel-item {display: flex;flex-direction: column;z-index: 1;position: relative;background-color: white;}#sk-container-id-2 div.sk-parallel-item:first-child::after {align-self: flex-end;width: 50%;}#sk-container-id-2 div.sk-parallel-item:last-child::after {align-self: flex-start;width: 50%;}#sk-container-id-2 div.sk-parallel-item:only-child::after {width: 0;}#sk-container-id-2 div.sk-dashed-wrapped {border: 1px dashed gray;margin: 0 0.4em 0.5em 0.4em;box-sizing: border-box;padding-bottom: 0.4em;background-color: white;}#sk-container-id-2 div.sk-label label {font-family: monospace;font-weight: bold;display: inline-block;line-height: 1.2em;}#sk-container-id-2 div.sk-label-container {text-align: center;}#sk-container-id-2 div.sk-container {/* jupyter's `normalize.less` sets `[hidden] { display: none; }` but bootstrap.min.css set `[hidden] { display: none !important; }` so we also need the `!important` here to be able to override the default hidden behavior on the sphinx rendered scikit-learn.org. See: https://github.com/scikit-learn/scikit-learn/issues/21755 */display: inline-block !important;position: relative;}#sk-container-id-2 div.sk-text-repr-fallback {display: none;}</style><div id=\"sk-container-id-2\" class=\"sk-top-container\"><div class=\"sk-text-repr-fallback\"><pre>RandomForestRegressor(n_estimators=10, random_state=180723)</pre><b>In a Jupyter environment, please rerun this cell to show the HTML representation or trust the notebook. <br />On GitHub, the HTML representation is unable to render, please try loading this page with nbviewer.org.</b></div><div class=\"sk-container\" hidden><div class=\"sk-item\"><div class=\"sk-estimator sk-toggleable\"><input class=\"sk-toggleable__control sk-hidden--visually\" id=\"sk-estimator-id-4\" type=\"checkbox\" checked><label for=\"sk-estimator-id-4\" class=\"sk-toggleable__label sk-toggleable__label-arrow\">RandomForestRegressor</label><div class=\"sk-toggleable__content\"><pre>RandomForestRegressor(n_estimators=10, random_state=180723)</pre></div></div></div></div></div>"
      ],
      "text/plain": [
       "RandomForestRegressor(n_estimators=10, random_state=180723)"
      ]
     },
     "execution_count": 16,
     "metadata": {},
     "output_type": "execute_result"
    }
   ],
   "source": [
    "gscv_rf.best_estimator_"
   ]
  },
  {
   "cell_type": "code",
   "execution_count": 17,
   "id": "fffa2767",
   "metadata": {},
   "outputs": [
    {
     "data": {
      "text/plain": [
       "0.6126232678322182"
      ]
     },
     "execution_count": 17,
     "metadata": {},
     "output_type": "execute_result"
    }
   ],
   "source": [
    "gscv_rf.best_score_"
   ]
  },
  {
   "cell_type": "markdown",
   "id": "2669ee2f",
   "metadata": {},
   "source": [
    "### Проверка качества модели на тесте"
   ]
  },
  {
   "cell_type": "code",
   "execution_count": 18,
   "id": "b013882c",
   "metadata": {},
   "outputs": [
    {
     "name": "stdout",
     "output_type": "stream",
     "text": [
      "R2 = 0.5227049683488152\n"
     ]
    }
   ],
   "source": [
    "prediction_test = gscv_rf.predict(features_test)\n",
    "print(\"R2 =\", r2_score(target_test, prediction_test))"
   ]
  },
  {
   "cell_type": "markdown",
   "id": "6bc23d1e",
   "metadata": {},
   "source": [
    "### Сохраняем модель для дальнейшей работы с ней на веб-сайте"
   ]
  },
  {
   "cell_type": "code",
   "execution_count": 19,
   "id": "4077c43b",
   "metadata": {},
   "outputs": [],
   "source": [
    "pickle.dump(gscv_rf, open('model.pkl', 'wb'))"
   ]
  },
  {
   "cell_type": "markdown",
   "id": "8ee10d25",
   "metadata": {},
   "source": [
    "### Прогноз нашей модели"
   ]
  },
  {
   "cell_type": "code",
   "execution_count": 20,
   "id": "467762ea",
   "metadata": {},
   "outputs": [
    {
     "data": {
      "text/html": [
       "<div>\n",
       "<style scoped>\n",
       "    .dataframe tbody tr th:only-of-type {\n",
       "        vertical-align: middle;\n",
       "    }\n",
       "\n",
       "    .dataframe tbody tr th {\n",
       "        vertical-align: top;\n",
       "    }\n",
       "\n",
       "    .dataframe thead th {\n",
       "        text-align: right;\n",
       "    }\n",
       "</style>\n",
       "<table border=\"1\" class=\"dataframe\">\n",
       "  <thead>\n",
       "    <tr style=\"text-align: right;\">\n",
       "      <th></th>\n",
       "      <th>date</th>\n",
       "      <th>cpi</th>\n",
       "      <th>half_year</th>\n",
       "      <th>lag_1</th>\n",
       "      <th>lag_2</th>\n",
       "      <th>lag_4</th>\n",
       "      <th>rolling_mean_2</th>\n",
       "      <th>rolling_mean_4</th>\n",
       "    </tr>\n",
       "  </thead>\n",
       "  <tbody>\n",
       "    <tr>\n",
       "      <th>0</th>\n",
       "      <td>2003-01-01</td>\n",
       "      <td>105.189279</td>\n",
       "      <td>2</td>\n",
       "      <td>NaN</td>\n",
       "      <td>NaN</td>\n",
       "      <td>NaN</td>\n",
       "      <td>NaN</td>\n",
       "      <td>NaN</td>\n",
       "    </tr>\n",
       "    <tr>\n",
       "      <th>1</th>\n",
       "      <td>2003-01-01</td>\n",
       "      <td>94.468161</td>\n",
       "      <td>1</td>\n",
       "      <td>105.189279</td>\n",
       "      <td>NaN</td>\n",
       "      <td>NaN</td>\n",
       "      <td>NaN</td>\n",
       "      <td>NaN</td>\n",
       "    </tr>\n",
       "    <tr>\n",
       "      <th>2</th>\n",
       "      <td>2004-01-01</td>\n",
       "      <td>103.981797</td>\n",
       "      <td>2</td>\n",
       "      <td>94.468161</td>\n",
       "      <td>105.189279</td>\n",
       "      <td>NaN</td>\n",
       "      <td>99.828720</td>\n",
       "      <td>NaN</td>\n",
       "    </tr>\n",
       "    <tr>\n",
       "      <th>3</th>\n",
       "      <td>2004-01-07</td>\n",
       "      <td>94.828896</td>\n",
       "      <td>1</td>\n",
       "      <td>103.981797</td>\n",
       "      <td>94.468161</td>\n",
       "      <td>NaN</td>\n",
       "      <td>99.224979</td>\n",
       "      <td>NaN</td>\n",
       "    </tr>\n",
       "    <tr>\n",
       "      <th>4</th>\n",
       "      <td>2005-01-01</td>\n",
       "      <td>104.828139</td>\n",
       "      <td>2</td>\n",
       "      <td>94.828896</td>\n",
       "      <td>103.981797</td>\n",
       "      <td>105.189279</td>\n",
       "      <td>99.405347</td>\n",
       "      <td>99.617034</td>\n",
       "    </tr>\n",
       "  </tbody>\n",
       "</table>\n",
       "</div>"
      ],
      "text/plain": [
       "        date         cpi  half_year       lag_1       lag_2       lag_4  \\\n",
       "0 2003-01-01  105.189279          2         NaN         NaN         NaN   \n",
       "1 2003-01-01   94.468161          1  105.189279         NaN         NaN   \n",
       "2 2004-01-01  103.981797          2   94.468161  105.189279         NaN   \n",
       "3 2004-01-07   94.828896          1  103.981797   94.468161         NaN   \n",
       "4 2005-01-01  104.828139          2   94.828896  103.981797  105.189279   \n",
       "\n",
       "   rolling_mean_2  rolling_mean_4  \n",
       "0             NaN             NaN  \n",
       "1             NaN             NaN  \n",
       "2       99.828720             NaN  \n",
       "3       99.224979             NaN  \n",
       "4       99.405347       99.617034  "
      ]
     },
     "metadata": {},
     "output_type": "display_data"
    },
    {
     "name": "stdout",
     "output_type": "stream",
     "text": [
      "\n"
     ]
    },
    {
     "data": {
      "text/html": [
       "<div>\n",
       "<style scoped>\n",
       "    .dataframe tbody tr th:only-of-type {\n",
       "        vertical-align: middle;\n",
       "    }\n",
       "\n",
       "    .dataframe tbody tr th {\n",
       "        vertical-align: top;\n",
       "    }\n",
       "\n",
       "    .dataframe thead th {\n",
       "        text-align: right;\n",
       "    }\n",
       "</style>\n",
       "<table border=\"1\" class=\"dataframe\">\n",
       "  <thead>\n",
       "    <tr style=\"text-align: right;\">\n",
       "      <th></th>\n",
       "      <th>date</th>\n",
       "      <th>cpi</th>\n",
       "      <th>half_year</th>\n",
       "      <th>lag_1</th>\n",
       "      <th>lag_2</th>\n",
       "      <th>lag_4</th>\n",
       "      <th>rolling_mean_2</th>\n",
       "      <th>rolling_mean_4</th>\n",
       "    </tr>\n",
       "  </thead>\n",
       "  <tbody>\n",
       "    <tr>\n",
       "      <th>38</th>\n",
       "      <td>2022-01-01</td>\n",
       "      <td>103.621573</td>\n",
       "      <td>2</td>\n",
       "      <td>98.961520</td>\n",
       "      <td>101.893169</td>\n",
       "      <td>100.692104</td>\n",
       "      <td>100.427344</td>\n",
       "      <td>100.149052</td>\n",
       "    </tr>\n",
       "    <tr>\n",
       "      <th>39</th>\n",
       "      <td>2022-01-07</td>\n",
       "      <td>101.739649</td>\n",
       "      <td>1</td>\n",
       "      <td>103.621573</td>\n",
       "      <td>98.961520</td>\n",
       "      <td>99.049414</td>\n",
       "      <td>101.291547</td>\n",
       "      <td>100.881419</td>\n",
       "    </tr>\n",
       "    <tr>\n",
       "      <th>40</th>\n",
       "      <td>2023-01-01</td>\n",
       "      <td>102.703745</td>\n",
       "      <td>2</td>\n",
       "      <td>101.739649</td>\n",
       "      <td>103.621573</td>\n",
       "      <td>101.893169</td>\n",
       "      <td>102.680611</td>\n",
       "      <td>101.553978</td>\n",
       "    </tr>\n",
       "    <tr>\n",
       "      <th>41</th>\n",
       "      <td>2023-01-07</td>\n",
       "      <td>91.810792</td>\n",
       "      <td>1</td>\n",
       "      <td>102.703745</td>\n",
       "      <td>101.739649</td>\n",
       "      <td>98.961520</td>\n",
       "      <td>102.221697</td>\n",
       "      <td>101.756622</td>\n",
       "    </tr>\n",
       "    <tr>\n",
       "      <th>42</th>\n",
       "      <td>2024-01-01</td>\n",
       "      <td>103.310911</td>\n",
       "      <td>2</td>\n",
       "      <td>91.810792</td>\n",
       "      <td>102.703745</td>\n",
       "      <td>103.621573</td>\n",
       "      <td>97.257269</td>\n",
       "      <td>99.968940</td>\n",
       "    </tr>\n",
       "  </tbody>\n",
       "</table>\n",
       "</div>"
      ],
      "text/plain": [
       "         date         cpi  half_year       lag_1       lag_2       lag_4  \\\n",
       "38 2022-01-01  103.621573          2   98.961520  101.893169  100.692104   \n",
       "39 2022-01-07  101.739649          1  103.621573   98.961520   99.049414   \n",
       "40 2023-01-01  102.703745          2  101.739649  103.621573  101.893169   \n",
       "41 2023-01-07   91.810792          1  102.703745  101.739649   98.961520   \n",
       "42 2024-01-01  103.310911          2   91.810792  102.703745  103.621573   \n",
       "\n",
       "    rolling_mean_2  rolling_mean_4  \n",
       "38      100.427344      100.149052  \n",
       "39      101.291547      100.881419  \n",
       "40      102.680611      101.553978  \n",
       "41      102.221697      101.756622  \n",
       "42       97.257269       99.968940  "
      ]
     },
     "metadata": {},
     "output_type": "display_data"
    }
   ],
   "source": [
    "#готовим df для прогноза нашей модели\n",
    "cpi['lag_{}'.format(1)] = cpi['cpi'].shift(1)\n",
    "cpi['lag_{}'.format(2)] = cpi['cpi'].shift(2)\n",
    "cpi['lag_{}'.format(4)] = cpi['cpi'].shift(4)\n",
    "cpi['rolling_mean_{}'.format(2)] = cpi['cpi'].shift().rolling(2).mean()\n",
    "cpi['rolling_mean_{}'.format(4)] = cpi['cpi'].shift().rolling(4).mean()\n",
    "display(cpi.head())\n",
    "print()\n",
    "display(cpi.tail())"
   ]
  },
  {
   "cell_type": "code",
   "execution_count": 21,
   "id": "5cb358db",
   "metadata": {},
   "outputs": [
    {
     "data": {
      "text/html": [
       "<div>\n",
       "<style scoped>\n",
       "    .dataframe tbody tr th:only-of-type {\n",
       "        vertical-align: middle;\n",
       "    }\n",
       "\n",
       "    .dataframe tbody tr th {\n",
       "        vertical-align: top;\n",
       "    }\n",
       "\n",
       "    .dataframe thead th {\n",
       "        text-align: right;\n",
       "    }\n",
       "</style>\n",
       "<table border=\"1\" class=\"dataframe\">\n",
       "  <thead>\n",
       "    <tr style=\"text-align: right;\">\n",
       "      <th></th>\n",
       "      <th>half_year</th>\n",
       "      <th>lag_1</th>\n",
       "      <th>lag_2</th>\n",
       "      <th>lag_4</th>\n",
       "      <th>rolling_mean_2</th>\n",
       "      <th>rolling_mean_4</th>\n",
       "    </tr>\n",
       "  </thead>\n",
       "  <tbody>\n",
       "    <tr>\n",
       "      <th>0</th>\n",
       "      <td>1.0</td>\n",
       "      <td>103.310911</td>\n",
       "      <td>91.810792</td>\n",
       "      <td>101.739649</td>\n",
       "      <td>97.560852</td>\n",
       "      <td>99.891274</td>\n",
       "    </tr>\n",
       "  </tbody>\n",
       "</table>\n",
       "</div>"
      ],
      "text/plain": [
       "   half_year       lag_1      lag_2       lag_4  rolling_mean_2  \\\n",
       "0        1.0  103.310911  91.810792  101.739649       97.560852   \n",
       "\n",
       "   rolling_mean_4  \n",
       "0       99.891274  "
      ]
     },
     "metadata": {},
     "output_type": "display_data"
    }
   ],
   "source": [
    "df_col = ['half_year', 'lag_1', 'lag_2', 'lag_4', 'rolling_mean_2', 'rolling_mean_4']\n",
    "df_date = [[1.0, cpi.loc[cpi.shape[0]-1, 'cpi'], cpi.loc[cpi.shape[0]-2, 'cpi'], cpi.loc[cpi.shape[0]-4, 'cpi'], \\\n",
    "            (cpi.loc[cpi.shape[0]-1, 'cpi'] + cpi.loc[cpi.shape[0]-2, 'cpi']) / 2, \\\n",
    "            (cpi.loc[cpi.shape[0]-1, 'cpi'] + cpi.loc[cpi.shape[0]-2, 'cpi'] + \\\n",
    "             cpi.loc[cpi.shape[0]-3, 'cpi'] + cpi.loc[cpi.shape[0]-4, 'cpi']) / 4]]\n",
    "features_20240701 = pd.DataFrame(columns = df_col, data = df_date)\n",
    "display(features_20240701)"
   ]
  },
  {
   "cell_type": "code",
   "execution_count": 22,
   "id": "db299852",
   "metadata": {},
   "outputs": [
    {
     "name": "stdout",
     "output_type": "stream",
     "text": [
      "[98.08203305]\n"
     ]
    }
   ],
   "source": [
    "#делаем предсказание модели\n",
    "forecast = gscv_rf.predict(features_20240701)\n",
    "print(forecast)"
   ]
  },
  {
   "cell_type": "code",
   "execution_count": 23,
   "id": "d0feec73",
   "metadata": {},
   "outputs": [
    {
     "data": {
      "text/html": [
       "<div>\n",
       "<style scoped>\n",
       "    .dataframe tbody tr th:only-of-type {\n",
       "        vertical-align: middle;\n",
       "    }\n",
       "\n",
       "    .dataframe tbody tr th {\n",
       "        vertical-align: top;\n",
       "    }\n",
       "\n",
       "    .dataframe thead th {\n",
       "        text-align: right;\n",
       "    }\n",
       "</style>\n",
       "<table border=\"1\" class=\"dataframe\">\n",
       "  <thead>\n",
       "    <tr style=\"text-align: right;\">\n",
       "      <th></th>\n",
       "      <th>date</th>\n",
       "      <th>cpi</th>\n",
       "    </tr>\n",
       "  </thead>\n",
       "  <tbody>\n",
       "    <tr>\n",
       "      <th>0</th>\n",
       "      <td>2003-01-01</td>\n",
       "      <td>105.189279</td>\n",
       "    </tr>\n",
       "    <tr>\n",
       "      <th>1</th>\n",
       "      <td>2003-01-01</td>\n",
       "      <td>94.468161</td>\n",
       "    </tr>\n",
       "    <tr>\n",
       "      <th>2</th>\n",
       "      <td>2004-01-01</td>\n",
       "      <td>103.981797</td>\n",
       "    </tr>\n",
       "    <tr>\n",
       "      <th>3</th>\n",
       "      <td>2004-01-07</td>\n",
       "      <td>94.828896</td>\n",
       "    </tr>\n",
       "    <tr>\n",
       "      <th>4</th>\n",
       "      <td>2005-01-01</td>\n",
       "      <td>104.828139</td>\n",
       "    </tr>\n",
       "  </tbody>\n",
       "</table>\n",
       "</div>"
      ],
      "text/plain": [
       "        date         cpi\n",
       "0 2003-01-01  105.189279\n",
       "1 2003-01-01   94.468161\n",
       "2 2004-01-01  103.981797\n",
       "3 2004-01-07   94.828896\n",
       "4 2005-01-01  104.828139"
      ]
     },
     "metadata": {},
     "output_type": "display_data"
    }
   ],
   "source": [
    "#строим df для посроения графика с учетом прогноза\n",
    "cpi3 = cpi.drop(['half_year', 'lag_1', 'lag_2', 'lag_4', 'rolling_mean_2', 'rolling_mean_4'], axis=True)\n",
    "display(cpi3.head())"
   ]
  },
  {
   "cell_type": "code",
   "execution_count": 24,
   "id": "bbc7fc56",
   "metadata": {},
   "outputs": [
    {
     "data": {
      "text/html": [
       "<div>\n",
       "<style scoped>\n",
       "    .dataframe tbody tr th:only-of-type {\n",
       "        vertical-align: middle;\n",
       "    }\n",
       "\n",
       "    .dataframe tbody tr th {\n",
       "        vertical-align: top;\n",
       "    }\n",
       "\n",
       "    .dataframe thead th {\n",
       "        text-align: right;\n",
       "    }\n",
       "</style>\n",
       "<table border=\"1\" class=\"dataframe\">\n",
       "  <thead>\n",
       "    <tr style=\"text-align: right;\">\n",
       "      <th></th>\n",
       "      <th>date</th>\n",
       "      <th>cpi</th>\n",
       "    </tr>\n",
       "  </thead>\n",
       "  <tbody>\n",
       "    <tr>\n",
       "      <th>0</th>\n",
       "      <td>2024-07-01</td>\n",
       "      <td>98.082033</td>\n",
       "    </tr>\n",
       "  </tbody>\n",
       "</table>\n",
       "</div>"
      ],
      "text/plain": [
       "        date        cpi\n",
       "0 2024-07-01  98.082033"
      ]
     },
     "metadata": {},
     "output_type": "display_data"
    },
    {
     "name": "stdout",
     "output_type": "stream",
     "text": [
      "date    datetime64[ns]\n",
      "cpi            float64\n",
      "dtype: object\n"
     ]
    }
   ],
   "source": [
    "df_col = ['date', 'cpi']\n",
    "df_data = [[cpi.loc[cpi.shape[0]-1, 'date'] + relativedelta(months=6), forecast[0]]]\n",
    "df_forecast = pd.DataFrame(columns=df_col, data = df_data)\n",
    "display(df_forecast.head())\n",
    "print(df_forecast.dtypes)"
   ]
  },
  {
   "cell_type": "code",
   "execution_count": 25,
   "id": "46dd8720",
   "metadata": {},
   "outputs": [
    {
     "data": {
      "text/html": [
       "<div>\n",
       "<style scoped>\n",
       "    .dataframe tbody tr th:only-of-type {\n",
       "        vertical-align: middle;\n",
       "    }\n",
       "\n",
       "    .dataframe tbody tr th {\n",
       "        vertical-align: top;\n",
       "    }\n",
       "\n",
       "    .dataframe thead th {\n",
       "        text-align: right;\n",
       "    }\n",
       "</style>\n",
       "<table border=\"1\" class=\"dataframe\">\n",
       "  <thead>\n",
       "    <tr style=\"text-align: right;\">\n",
       "      <th></th>\n",
       "      <th>date</th>\n",
       "      <th>cpi</th>\n",
       "    </tr>\n",
       "  </thead>\n",
       "  <tbody>\n",
       "    <tr>\n",
       "      <th>39</th>\n",
       "      <td>2022-01-07</td>\n",
       "      <td>101.739649</td>\n",
       "    </tr>\n",
       "    <tr>\n",
       "      <th>40</th>\n",
       "      <td>2023-01-01</td>\n",
       "      <td>102.703745</td>\n",
       "    </tr>\n",
       "    <tr>\n",
       "      <th>41</th>\n",
       "      <td>2023-01-07</td>\n",
       "      <td>91.810792</td>\n",
       "    </tr>\n",
       "    <tr>\n",
       "      <th>42</th>\n",
       "      <td>2024-01-01</td>\n",
       "      <td>103.310911</td>\n",
       "    </tr>\n",
       "    <tr>\n",
       "      <th>43</th>\n",
       "      <td>2024-07-01</td>\n",
       "      <td>98.082033</td>\n",
       "    </tr>\n",
       "  </tbody>\n",
       "</table>\n",
       "</div>"
      ],
      "text/plain": [
       "         date         cpi\n",
       "39 2022-01-07  101.739649\n",
       "40 2023-01-01  102.703745\n",
       "41 2023-01-07   91.810792\n",
       "42 2024-01-01  103.310911\n",
       "43 2024-07-01   98.082033"
      ]
     },
     "metadata": {},
     "output_type": "display_data"
    }
   ],
   "source": [
    "cpi3_final = pd.concat([cpi3, df_forecast]).reset_index(drop=True)\n",
    "display(cpi3_final.tail())"
   ]
  },
  {
   "cell_type": "code",
   "execution_count": 26,
   "id": "ba5a4755",
   "metadata": {},
   "outputs": [
    {
     "data": {
      "image/png": "[encoded data removed]",
      "text/plain": [
       "<Figure size 640x480 with 1 Axes>"
      ]
     },
     "metadata": {},
     "output_type": "display_data"
    }
   ],
   "source": [
    "#строим график\n",
    "cpi3_final.plot(x='date', y='cpi', xlabel = 'год', ylabel = 'ИПЦ, %', grid=True, ylim = (70, 120))\n",
    "plt.title('Динамика ИПЦ с учетом прогноза');"
   ]
  },
  {
   "cell_type": "markdown",
   "id": "eddf06e9",
   "metadata": {},
   "source": [
    "## Вывод по проекту"
   ]
  },
  {
   "cell_type": "markdown",
   "id": "8ce3b991",
   "metadata": {},
   "source": [
    "- В рамках проекта удалось построить модель машинного обучения, которая прогнозирует индекс ИПЦ на 6 месяцев вперед. \n",
    "- На тестовой выборке значение оценочной метрики (коэффициент детерминации, R2) нашей модели составило 0.52 при наилучшем качесте модели (1) и наихудшем (0).\n",
    "- Модель была сохранена и использована в дальнейшем для работы с ней на веб-сайте"
   ]
  },
  {
   "cell_type": "code",
   "execution_count": null,
   "id": "6eddd2d8",
   "metadata": {},
   "outputs": [],
   "source": []
  }
 ],
 "metadata": {
  "kernelspec": {
   "display_name": "Python 3 (ipykernel)",
   "language": "python",
   "name": "python3"
  },
  "language_info": {
   "codemirror_mode": {
    "name": "ipython",
    "version": 3
   },
   "file_extension": ".py",
   "mimetype": "text/x-python",
   "name": "python",
   "nbconvert_exporter": "python",
   "pygments_lexer": "ipython3",
   "version": "3.9.13"
  }
 },
 "nbformat": 4,
 "nbformat_minor": 5
}
