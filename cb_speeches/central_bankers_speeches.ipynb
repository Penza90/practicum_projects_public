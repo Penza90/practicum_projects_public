{
 "cells": [
  {
   "cell_type": "markdown",
   "id": "139dbea7",
   "metadata": {},
   "source": [
    "## ПРОЕКТ \"РЕАКЦИЯ РЫНКОВ НА ВЫСТУПЛЕНИЯ ГЛАВ ЦЕНТРАЛЬНЫХ БАНКОВ\""
   ]
  },
  {
   "cell_type": "markdown",
   "id": "a3ace39b",
   "metadata": {},
   "source": [
    "Банком международных расчетов опубликованы тексты выступлений глав центральных банков разных стран с 1996 года по настоящее время (https://www.bis.org/cbspeeches/download.htm). В рамках проекта поставлена задача подготовить модель, которая бы прогнозировала реакцию рынков (на примере Индекса американских компаний S&P500) на текст выступления глав регуляторов (на примере выступлений представителей ФРС)"
   ]
  },
  {
   "cell_type": "code",
   "execution_count": 59,
   "id": "cc1d2433",
   "metadata": {},
   "outputs": [
    {
     "name": "stderr",
     "output_type": "stream",
     "text": [
      "[nltk_data] Downloading package wordnet to\n",
      "[nltk_data]     C:\\Users\\Илья\\AppData\\Roaming\\nltk_data...\n",
      "[nltk_data]   Package wordnet is already up-to-date!\n",
      "[nltk_data] Downloading package punkt to\n",
      "[nltk_data]     C:\\Users\\Илья\\AppData\\Roaming\\nltk_data...\n",
      "[nltk_data]   Package punkt is already up-to-date!\n",
      "[nltk_data] Downloading package omw-1.4 to\n",
      "[nltk_data]     C:\\Users\\Илья\\AppData\\Roaming\\nltk_data...\n",
      "[nltk_data]   Package omw-1.4 is already up-to-date!\n",
      "[nltk_data] Downloading package averaged_perceptron_tagger to\n",
      "[nltk_data]     C:\\Users\\Илья\\AppData\\Roaming\\nltk_data...\n",
      "[nltk_data]   Package averaged_perceptron_tagger is already up-to-\n",
      "[nltk_data]       date!\n",
      "[nltk_data] Downloading package stopwords to\n",
      "[nltk_data]     C:\\Users\\Илья\\AppData\\Roaming\\nltk_data...\n",
      "[nltk_data]   Package stopwords is already up-to-date!\n"
     ]
    }
   ],
   "source": [
    "#импортируем библиотеки\n",
    "import pandas as pd\n",
    "from sklearn.linear_model import LogisticRegression, LinearRegression\n",
    "from sklearn.tree import DecisionTreeClassifier, DecisionTreeRegressor\n",
    "from sklearn.ensemble import RandomForestClassifier\n",
    "import lightgbm as lgb\n",
    "from sklearn.model_selection import train_test_split\n",
    "from sklearn.metrics import f1_score, mean_squared_error, r2_score\n",
    "#from pymystem3 import Mystem\n",
    "#m = Mystem()\n",
    "from sklearn.feature_extraction.text import TfidfVectorizer\n",
    "import nltk\n",
    "nltk.download('wordnet')\n",
    "nltk.download('punkt')\n",
    "nltk.download('omw-1.4')\n",
    "from nltk.stem import WordNetLemmatizer\n",
    "from nltk.corpus import wordnet\n",
    "from nltk.corpus import stopwords\n",
    "nltk.download('averaged_perceptron_tagger')\n",
    "nltk.download('stopwords')\n",
    "import re"
   ]
  },
  {
   "cell_type": "code",
   "execution_count": 2,
   "id": "4b57efc2",
   "metadata": {},
   "outputs": [],
   "source": [
    "#открываем предоставленные данные, выступления глав ЦБ\n",
    "speeches = pd.read_csv('C:\\\\Users\\\\Илья\\\\Documents\\\\Программирование\\\\Data Science_projects\\\\BIS\\\\speeches.csv')"
   ]
  },
  {
   "cell_type": "code",
   "execution_count": 62,
   "id": "e1db733f",
   "metadata": {},
   "outputs": [],
   "source": [
    "#выступления исключительно 2024 года\n",
    "speeches_2024 = pd.read_csv('C:\\\\Users\\\\Илья\\\\Documents\\\\Программирование\\\\Data Science_projects\\\\BIS\\\\speeches_2024.csv')"
   ]
  },
  {
   "cell_type": "code",
   "execution_count": 3,
   "id": "3cf70bc9",
   "metadata": {},
   "outputs": [],
   "source": [
    "#динамика индекса американских компаний, S&P500\n",
    "spx = pd.read_csv('C:\\\\Users\\\\Илья\\\\Documents\\\\Программирование\\\\Data Science_projects\\\\BIS\\\\SPX.csv')"
   ]
  },
  {
   "cell_type": "markdown",
   "id": "db8b4a5c",
   "metadata": {},
   "source": [
    "### Анализ публикаций 2024 года"
   ]
  },
  {
   "cell_type": "code",
   "execution_count": 66,
   "id": "aa3568c7",
   "metadata": {},
   "outputs": [
    {
     "data": {
      "text/html": [
       "<div>\n",
       "<style scoped>\n",
       "    .dataframe tbody tr th:only-of-type {\n",
       "        vertical-align: middle;\n",
       "    }\n",
       "\n",
       "    .dataframe tbody tr th {\n",
       "        vertical-align: top;\n",
       "    }\n",
       "\n",
       "    .dataframe thead th {\n",
       "        text-align: right;\n",
       "    }\n",
       "</style>\n",
       "<table border=\"1\" class=\"dataframe\">\n",
       "  <thead>\n",
       "    <tr style=\"text-align: right;\">\n",
       "      <th></th>\n",
       "      <th>url</th>\n",
       "      <th>title</th>\n",
       "      <th>description</th>\n",
       "      <th>date</th>\n",
       "      <th>text</th>\n",
       "      <th>author</th>\n",
       "    </tr>\n",
       "  </thead>\n",
       "  <tbody>\n",
       "    <tr>\n",
       "      <th>0</th>\n",
       "      <td>https://www.bis.org/review/r240109a.htm</td>\n",
       "      <td>Michelle W Bowman: New year's resolutions for ...</td>\n",
       "      <td>Speech by Ms Michelle W Bowman, Member of the ...</td>\n",
       "      <td>2024-12-08 00:00:00</td>\n",
       "      <td>For release on delivery\\n4:30 p.m. EST\\nJanuar...</td>\n",
       "      <td>Michelle W Bowman</td>\n",
       "    </tr>\n",
       "    <tr>\n",
       "      <th>1</th>\n",
       "      <td>https://www.bis.org/review/r240123b.htm</td>\n",
       "      <td>Michelle W Bowman: The path forward for bank c...</td>\n",
       "      <td>Speech (virtual) by Ms Michelle W Bowman, Memb...</td>\n",
       "      <td>2024-01-17 00:00:00</td>\n",
       "      <td>For release on delivery\\n9:00 a.m. EST\\nJanuar...</td>\n",
       "      <td>Michelle W Bowman</td>\n",
       "    </tr>\n",
       "    <tr>\n",
       "      <th>2</th>\n",
       "      <td>https://www.bis.org/review/r240123a.htm</td>\n",
       "      <td>Michael S Barr: Measuring cyber risk in the fi...</td>\n",
       "      <td>Opening remarks by Mr Michael S Barr, Vice Cha...</td>\n",
       "      <td>2024-01-17 00:00:00</td>\n",
       "      <td>Michael S Barr: Measuring cyber risk in the fi...</td>\n",
       "      <td>Michael S Barr</td>\n",
       "    </tr>\n",
       "    <tr>\n",
       "      <th>3</th>\n",
       "      <td>https://www.bis.org/review/r240117a.htm</td>\n",
       "      <td>John C Williams: Rules of three</td>\n",
       "      <td>Remarks by Mr John C Williams, President and C...</td>\n",
       "      <td>2024-01-10 00:00:00</td>\n",
       "      <td>FEDERAL RESERVE BANK of NEW YORK Serving the S...</td>\n",
       "      <td>John C Williams</td>\n",
       "    </tr>\n",
       "    <tr>\n",
       "      <th>4</th>\n",
       "      <td>https://www.bis.org/review/r240117g.htm</td>\n",
       "      <td>Swaminathan J: Resolution of stressed assets a...</td>\n",
       "      <td>Speech by Mr Swaminathan J, Deputy Governor of...</td>\n",
       "      <td>2024-01-10 00:00:00</td>\n",
       "      <td>Swaminathan J: Resolution of stressed assets a...</td>\n",
       "      <td>Shri Swaminathan J</td>\n",
       "    </tr>\n",
       "  </tbody>\n",
       "</table>\n",
       "</div>"
      ],
      "text/plain": [
       "                                       url  \\\n",
       "0  https://www.bis.org/review/r240109a.htm   \n",
       "1  https://www.bis.org/review/r240123b.htm   \n",
       "2  https://www.bis.org/review/r240123a.htm   \n",
       "3  https://www.bis.org/review/r240117a.htm   \n",
       "4  https://www.bis.org/review/r240117g.htm   \n",
       "\n",
       "                                               title  \\\n",
       "0  Michelle W Bowman: New year's resolutions for ...   \n",
       "1  Michelle W Bowman: The path forward for bank c...   \n",
       "2  Michael S Barr: Measuring cyber risk in the fi...   \n",
       "3                    John C Williams: Rules of three   \n",
       "4  Swaminathan J: Resolution of stressed assets a...   \n",
       "\n",
       "                                         description                 date  \\\n",
       "0  Speech by Ms Michelle W Bowman, Member of the ...  2024-12-08 00:00:00   \n",
       "1  Speech (virtual) by Ms Michelle W Bowman, Memb...  2024-01-17 00:00:00   \n",
       "2  Opening remarks by Mr Michael S Barr, Vice Cha...  2024-01-17 00:00:00   \n",
       "3  Remarks by Mr John C Williams, President and C...  2024-01-10 00:00:00   \n",
       "4  Speech by Mr Swaminathan J, Deputy Governor of...  2024-01-10 00:00:00   \n",
       "\n",
       "                                                text              author  \n",
       "0  For release on delivery\\n4:30 p.m. EST\\nJanuar...   Michelle W Bowman  \n",
       "1  For release on delivery\\n9:00 a.m. EST\\nJanuar...   Michelle W Bowman  \n",
       "2  Michael S Barr: Measuring cyber risk in the fi...      Michael S Barr  \n",
       "3  FEDERAL RESERVE BANK of NEW YORK Serving the S...     John C Williams  \n",
       "4  Swaminathan J: Resolution of stressed assets a...  Shri Swaminathan J  "
      ]
     },
     "metadata": {},
     "output_type": "display_data"
    },
    {
     "name": "stdout",
     "output_type": "stream",
     "text": [
      "\n",
      "(28, 6)\n",
      "\n",
      "url            object\n",
      "title          object\n",
      "description    object\n",
      "date           object\n",
      "text           object\n",
      "author         object\n",
      "dtype: object\n"
     ]
    }
   ],
   "source": [
    "#смотрим на представленные данные\n",
    "display(speeches_2024.head())\n",
    "print()\n",
    "print(speeches_2024.shape)\n",
    "print()\n",
    "print(speeches_2024.dtypes)"
   ]
  },
  {
   "cell_type": "markdown",
   "id": "2508ca81",
   "metadata": {},
   "source": [
    "- публикации с 10 января по 8 декабря. Декабрьские публикации - явно ошибка"
   ]
  },
  {
   "cell_type": "code",
   "execution_count": 63,
   "id": "f6efbe90",
   "metadata": {},
   "outputs": [
    {
     "name": "stdout",
     "output_type": "stream",
     "text": [
      "2024-01-10 00:00:00\n",
      "2024-12-08 00:00:00\n"
     ]
    }
   ],
   "source": [
    "#период публикаций\n",
    "print(speeches_2024['date'].min())\n",
    "print(speeches_2024['date'].max())"
   ]
  },
  {
   "cell_type": "code",
   "execution_count": 64,
   "id": "103f4aae",
   "metadata": {},
   "outputs": [
    {
     "name": "stdout",
     "output_type": "stream",
     "text": [
      "['Michelle W Bowman' 'Michael S Barr' 'John C Williams'\n",
      " 'Shri Swaminathan J' 'Shaktikanta Das' 'Luis de Guindos'\n",
      " 'Christopher J Waller' 'Michael Debabrata Patra'\n",
      " 'Encik Adnan Zaylani Mohamad Zahid' 'Tiff Macklem' 'Fabio Panetta'\n",
      " 'Ida Wolden Bache' 'Luigi Federico Signorini' 'Piero Cipollone'\n",
      " 'Gabriel Makhlouf' 'Boris Vujčić' 'Jorgovanka Tabaković' 'Dimitar Radev'\n",
      " 'Burkhard Balz' 'Andriy Pyshnyy']\n"
     ]
    }
   ],
   "source": [
    "#авторы публикаций\n",
    "print(speeches_2024['author'].unique())"
   ]
  },
  {
   "cell_type": "code",
   "execution_count": 65,
   "id": "a60e5721",
   "metadata": {
    "scrolled": true
   },
   "outputs": [
    {
     "name": "stdout",
     "output_type": "stream",
     "text": [
      "['Speech by Ms Michelle W Bowman, Member of the Board of Governors of the Federal Reserve System, at the South Carolina Bankers Association 2024 Community Bankers Conference, Columbia, South Carolina, 8 December 2024.'\n",
      " 'Speech (virtual) by Ms Michelle W Bowman, Member of the Board of Governors of the Federal Reserve System, at the Protect Main Street, sponsored by the Center for Capital Markets at the US Chamber of Commerce, Washington DC, 17 January 2024.'\n",
      " 'Opening remarks by Mr Michael S Barr, Vice Chair for Supervision of the Board of Governors of the Federal Reserve System, at the conference on Measuring Cyber Risk in the Financial Services Sector, Boston, Massachusetts, 17 January 2024.'\n",
      " \"Remarks by Mr John C Williams, President and Chief Executive Officer of the Federal Reserve Bank of New York, at the Bronx EDC and BICNY's 2024 Regional Economic Outlook, White Plains, New York, 10 January 2024. \"\n",
      " 'Speech by Mr Swaminathan J, Deputy Governor of the Reserve Bank of India, at the Conference on Resolution of Stressed Assets, and IBC, organised by CAFRAL, Mumbai, 10 January 2024.'\n",
      " 'Speech by Mr Swaminathan J, Deputy Governor of the Reserve Bank of India, at the Conference for Heads of Assurance Functions, Mumbai, 10 January 2024.'\n",
      " 'Keynote address by Mr Shaktikanta Das, Governor of the Reserve Bank of India, at the Mint BFSI summit, Mumbai, 11 January 2024.'\n",
      " 'Keynote address by Mr Shaktikanta Das, Governor of the Reserve Bank of India, at the conference on Resolution of Stressed Assets and IBC – Future Road Map, organised by the Centre for Advanced Financial Research and Learning (CAFRAL), Mumbai, 11 January 2024.'\n",
      " 'Speech by Mr Luis de Guindos, Vice-President of the European Central Bank, at the 14th edition of Spain Investors Day, Madrid, 10 January 2024. '\n",
      " 'Speech by Mr Christopher J Waller, Member of the Board of Governors of the Federal Reserve System, at the Brookings Institution, Washington DC, 16 January 2024. '\n",
      " 'Keynote address by Dr Michael Debabrata Patra, Deputy Governor of the Reserve Bank of India, at the SAARCFINANCE seminar on Emerging Digital Technologies in Central Banking and Finance, Goa, 17 January 2024.'\n",
      " 'Speech by Mr Swaminathan J, Deputy Governor of the Reserve Bank of India, at the Conference of Internal Ombudsman, Mumbai, 16 January 2024.'\n",
      " 'Speech by Mr Swaminathan J, Deputy Governor of the Reserve Bank of India, at the Conference of Governance in Urban Co-operative Banks for UCBs in Andhra Pradesh, Karnataka, Kerala and Telangana, Hyderabad, 24 January 2024.'\n",
      " 'Speech by Mr Shaktikanta Das, Governor of the Reserve Bank of India, at an event organised by the Confederation of Indian Industry (CII), Davos, 17 January 2024. '\n",
      " 'Keynote address by Mr Adnan Zaylani Mohamad Zahid, Deputy Governor of the Central Bank of Malaysia (Bank Negara Malaysia), at the Affin Market Outlook \"Propelling Malaysia Forward\", organised by Menara Affin, Kuala Lumpur, 30 January 2024.'\n",
      " 'Opening statement by Mr Tiff Macklem, Governor of the Bank of Canada, at the press conference following the release of the Monetary Policy Report, Ottawa, Ontario, 24 January 2024. '\n",
      " 'Address by Mr Fabio Panetta, Governor of the Bank of Italy, at the conference \"Ten years with the euro\", Riga, 26 January 2024.'\n",
      " \"Introductory statement by Ms Ida Wolden Bache, Governor of Norges Bank (Central Bank of Norway), at the press conference following Norway's announcement of the policy rate, Oslo, 25 January 2024.\"\n",
      " 'Speech by Mr Luigi Federico Signorini, Senior Deputy Governor of the Bank of Italy, at the Vienna University of Economics and Business, Vienna, 24 January 2024.'\n",
      " 'Introductory remarks by Mr Piero Cipollone, Deputy Governor of the Bank of Italy, at the ninth meeting of the Euro Cyber Resilience Board for pan-European Financial Infrastructures, Frankfurt am Main, 17 January 2024.'\n",
      " 'Remarks by Mr Gabriel Makhlouf, Governor of the Central Bank of Ireland, at the University College, Cork, 30 January 2024. '\n",
      " 'Speech by Mr Boris Vujčić, Governor of the Croatian National Bank, at the conference \"One year with the euro\", Zagreb, 30 January 2024.'\n",
      " 'Speech by Ms Michelle W Bowman, Member of the Board of Governors of the Federal Reserve System, at the 157th Assembly for Bank Directors, Southwestern Graduate School of Banking, Maui, Hawaii, 2 February 2024. '\n",
      " \"Introductory address by Dr Jorgovanka Tabaković, Governor of the National Bank of Serbia, at the at the presentation of the European Bank for Reconstruction and Development's Transition Report, Belgrade, 31 January 2024.\"\n",
      " 'Publication by Mr Dimitar Radev, Governor of the Bulgarian National Bank, in the Bulletin of the Association of Banks in Bulgaria, issue 77, January 2024.'\n",
      " 'Address by Mr Burkhard Balz, Member of the Executive Board of the Deutsche Bundesbank, to mark the occasion of a Bundesbank representative taking up office in Riga, Riga, 31 January 2024. '\n",
      " 'Opening statement by Mr Tiff Macklem, Governor of the Bank of Canada, before the House of Commons Standing Committee on Finance, Ottawa, Ontario, 1 February 2024.'\n",
      " 'Speech by Mr Andriy Pyshnyy, Governor of the National Bank of Ukraine, at a press briefing on monetary policy decisions, Kyiv, 25 January 2024.']\n"
     ]
    }
   ],
   "source": [
    "#уникальные описания\n",
    "print(speeches_2024['description'].unique())"
   ]
  },
  {
   "cell_type": "markdown",
   "id": "bb2ed518",
   "metadata": {},
   "source": [
    "Пропуски отсутствуют"
   ]
  },
  {
   "cell_type": "code",
   "execution_count": 67,
   "id": "08ce3f52",
   "metadata": {},
   "outputs": [
    {
     "name": "stdout",
     "output_type": "stream",
     "text": [
      "url            0\n",
      "title          0\n",
      "description    0\n",
      "date           0\n",
      "text           0\n",
      "author         0\n",
      "dtype: int64\n"
     ]
    }
   ],
   "source": [
    "#проверка на пропуски\n",
    "print(speeches_2024.isna().sum())"
   ]
  },
  {
   "cell_type": "markdown",
   "id": "d44a3283",
   "metadata": {},
   "source": [
    "Создали справочник с должностью и организацией выступающих"
   ]
  },
  {
   "cell_type": "code",
   "execution_count": 68,
   "id": "fee4fa33",
   "metadata": {},
   "outputs": [],
   "source": [
    "#справочник\n",
    "col = ['position', 'organization']\n",
    "df_data = [['Member of the Board of Governors of the Federal Reserve System', 'Federal Reserve System'],\n",
    "['Member of the Board of Governors of the Federal Reserve System', 'Federal Reserve System'],\n",
    "['Vice Chair for Supervision of the Board of Governors of the Federal Reserve System', 'Federal Reserve System'],\n",
    "['President and Chief Executive Officer of the Federal Reserve Bank of New York', 'Federal Reserve Bank of New York'],\n",
    "['Deputy Governor of the Reserve Bank of India', 'Reserve Bank of India'],\n",
    "['Deputy Governor of the Reserve Bank of India', 'Reserve Bank of India'],\n",
    "['Governor of the Reserve Bank of India', 'Reserve Bank of India'],\n",
    "['Governor of the Reserve Bank of India', 'Reserve Bank of India'],\n",
    "['Vice-President of the European Central Bank', 'European Central Bank'],\n",
    "['Member of the Board of Governors of the Federal Reserve System', 'Federal Reserve System'],\n",
    "['Deputy Governor of the Reserve Bank of India', 'Reserve Bank of India'],\n",
    "['Deputy Governor of the Reserve Bank of India', 'Reserve Bank of India'],\n",
    "['Deputy Governor of the Reserve Bank of India', 'Reserve Bank of India'],\n",
    "['Governor of the Reserve Bank of India', 'Reserve Bank of India'],\n",
    "['Deputy Governor of the Central Bank of Malaysia', 'Central Bank of Malaysia'],\n",
    "['Governor of the Bank of Canada', 'Bank of Canada'],\n",
    "['Governor of the Bank of Italy', 'Bank of Italy'],\n",
    "['Governor of Norges Bank (Central Bank of Norway)', 'Central Bank of Norway'],\n",
    "['Senior Deputy Governor of the Bank of Italy', 'Bank of Italy'],\n",
    "['Deputy Governor of the Bank of Italy', 'Bank of Italy'],\n",
    "['Governor of the Central Bank of Ireland', 'Central Bank of Ireland'],\n",
    "['Governor of the Croatian National Bank', 'Croatian National Bank'],\n",
    "['Member of the Board of Governors of the Federal Reserve System', 'Federal Reserve System'],\n",
    "['Governor of the National Bank of Serbia', 'National Bank of Serbia'],\n",
    "['Governor of the Bulgarian National Bank', 'Bulgarian National Bank'],\n",
    "['Member of the Executive Board of the Deutsche Bundesbank', 'Deutsche Bundesbank'],\n",
    "['Governor of the Bank of Canada', 'Bank of Canada'],\n",
    "['Governor of the National Bank of Ukraine', 'National Bank of Ukraine']]\n",
    "df_pos_org = pd.DataFrame(columns = col, data = df_data)"
   ]
  },
  {
   "cell_type": "code",
   "execution_count": 69,
   "id": "5de715c3",
   "metadata": {},
   "outputs": [
    {
     "data": {
      "text/html": [
       "<div>\n",
       "<style scoped>\n",
       "    .dataframe tbody tr th:only-of-type {\n",
       "        vertical-align: middle;\n",
       "    }\n",
       "\n",
       "    .dataframe tbody tr th {\n",
       "        vertical-align: top;\n",
       "    }\n",
       "\n",
       "    .dataframe thead th {\n",
       "        text-align: right;\n",
       "    }\n",
       "</style>\n",
       "<table border=\"1\" class=\"dataframe\">\n",
       "  <thead>\n",
       "    <tr style=\"text-align: right;\">\n",
       "      <th></th>\n",
       "      <th>position</th>\n",
       "      <th>organization</th>\n",
       "    </tr>\n",
       "  </thead>\n",
       "  <tbody>\n",
       "    <tr>\n",
       "      <th>0</th>\n",
       "      <td>Member of the Board of Governors of the Federa...</td>\n",
       "      <td>Federal Reserve System</td>\n",
       "    </tr>\n",
       "    <tr>\n",
       "      <th>1</th>\n",
       "      <td>Member of the Board of Governors of the Federa...</td>\n",
       "      <td>Federal Reserve System</td>\n",
       "    </tr>\n",
       "    <tr>\n",
       "      <th>2</th>\n",
       "      <td>Vice Chair for Supervision of the Board of Gov...</td>\n",
       "      <td>Federal Reserve System</td>\n",
       "    </tr>\n",
       "    <tr>\n",
       "      <th>3</th>\n",
       "      <td>President and Chief Executive Officer of the F...</td>\n",
       "      <td>Federal Reserve Bank of New York</td>\n",
       "    </tr>\n",
       "    <tr>\n",
       "      <th>4</th>\n",
       "      <td>Deputy Governor of the Reserve Bank of India</td>\n",
       "      <td>Reserve Bank of India</td>\n",
       "    </tr>\n",
       "  </tbody>\n",
       "</table>\n",
       "</div>"
      ],
      "text/plain": [
       "                                            position  \\\n",
       "0  Member of the Board of Governors of the Federa...   \n",
       "1  Member of the Board of Governors of the Federa...   \n",
       "2  Vice Chair for Supervision of the Board of Gov...   \n",
       "3  President and Chief Executive Officer of the F...   \n",
       "4       Deputy Governor of the Reserve Bank of India   \n",
       "\n",
       "                       organization  \n",
       "0            Federal Reserve System  \n",
       "1            Federal Reserve System  \n",
       "2            Federal Reserve System  \n",
       "3  Federal Reserve Bank of New York  \n",
       "4             Reserve Bank of India  "
      ]
     },
     "metadata": {},
     "output_type": "display_data"
    },
    {
     "name": "stdout",
     "output_type": "stream",
     "text": [
      "\n",
      "(28, 2)\n"
     ]
    }
   ],
   "source": [
    "#смотрим на представленные данные\n",
    "display(df_pos_org.head())\n",
    "print()\n",
    "print(df_pos_org.shape)"
   ]
  },
  {
   "cell_type": "markdown",
   "id": "c653027f",
   "metadata": {},
   "source": [
    "Присоединили справочник к основной таблице"
   ]
  },
  {
   "cell_type": "code",
   "execution_count": 70,
   "id": "b1692fbc",
   "metadata": {},
   "outputs": [],
   "source": [
    "#присоединяем к основной табл\n",
    "speeches_2024_2 = speeches_2024.merge(df_pos_org, how='left', left_index=True, right_index=True)"
   ]
  },
  {
   "cell_type": "code",
   "execution_count": 71,
   "id": "0bc3b909",
   "metadata": {
    "scrolled": true
   },
   "outputs": [
    {
     "data": {
      "text/html": [
       "<div>\n",
       "<style scoped>\n",
       "    .dataframe tbody tr th:only-of-type {\n",
       "        vertical-align: middle;\n",
       "    }\n",
       "\n",
       "    .dataframe tbody tr th {\n",
       "        vertical-align: top;\n",
       "    }\n",
       "\n",
       "    .dataframe thead th {\n",
       "        text-align: right;\n",
       "    }\n",
       "</style>\n",
       "<table border=\"1\" class=\"dataframe\">\n",
       "  <thead>\n",
       "    <tr style=\"text-align: right;\">\n",
       "      <th></th>\n",
       "      <th>url</th>\n",
       "      <th>title</th>\n",
       "      <th>description</th>\n",
       "      <th>date</th>\n",
       "      <th>text</th>\n",
       "      <th>author</th>\n",
       "      <th>position</th>\n",
       "      <th>organization</th>\n",
       "    </tr>\n",
       "  </thead>\n",
       "  <tbody>\n",
       "    <tr>\n",
       "      <th>0</th>\n",
       "      <td>https://www.bis.org/review/r240109a.htm</td>\n",
       "      <td>Michelle W Bowman: New year's resolutions for ...</td>\n",
       "      <td>Speech by Ms Michelle W Bowman, Member of the ...</td>\n",
       "      <td>2024-12-08 00:00:00</td>\n",
       "      <td>For release on delivery\\n4:30 p.m. EST\\nJanuar...</td>\n",
       "      <td>Michelle W Bowman</td>\n",
       "      <td>Member of the Board of Governors of the Federa...</td>\n",
       "      <td>Federal Reserve System</td>\n",
       "    </tr>\n",
       "    <tr>\n",
       "      <th>1</th>\n",
       "      <td>https://www.bis.org/review/r240123b.htm</td>\n",
       "      <td>Michelle W Bowman: The path forward for bank c...</td>\n",
       "      <td>Speech (virtual) by Ms Michelle W Bowman, Memb...</td>\n",
       "      <td>2024-01-17 00:00:00</td>\n",
       "      <td>For release on delivery\\n9:00 a.m. EST\\nJanuar...</td>\n",
       "      <td>Michelle W Bowman</td>\n",
       "      <td>Member of the Board of Governors of the Federa...</td>\n",
       "      <td>Federal Reserve System</td>\n",
       "    </tr>\n",
       "    <tr>\n",
       "      <th>2</th>\n",
       "      <td>https://www.bis.org/review/r240123a.htm</td>\n",
       "      <td>Michael S Barr: Measuring cyber risk in the fi...</td>\n",
       "      <td>Opening remarks by Mr Michael S Barr, Vice Cha...</td>\n",
       "      <td>2024-01-17 00:00:00</td>\n",
       "      <td>Michael S Barr: Measuring cyber risk in the fi...</td>\n",
       "      <td>Michael S Barr</td>\n",
       "      <td>Vice Chair for Supervision of the Board of Gov...</td>\n",
       "      <td>Federal Reserve System</td>\n",
       "    </tr>\n",
       "    <tr>\n",
       "      <th>3</th>\n",
       "      <td>https://www.bis.org/review/r240117a.htm</td>\n",
       "      <td>John C Williams: Rules of three</td>\n",
       "      <td>Remarks by Mr John C Williams, President and C...</td>\n",
       "      <td>2024-01-10 00:00:00</td>\n",
       "      <td>FEDERAL RESERVE BANK of NEW YORK Serving the S...</td>\n",
       "      <td>John C Williams</td>\n",
       "      <td>President and Chief Executive Officer of the F...</td>\n",
       "      <td>Federal Reserve Bank of New York</td>\n",
       "    </tr>\n",
       "    <tr>\n",
       "      <th>4</th>\n",
       "      <td>https://www.bis.org/review/r240117g.htm</td>\n",
       "      <td>Swaminathan J: Resolution of stressed assets a...</td>\n",
       "      <td>Speech by Mr Swaminathan J, Deputy Governor of...</td>\n",
       "      <td>2024-01-10 00:00:00</td>\n",
       "      <td>Swaminathan J: Resolution of stressed assets a...</td>\n",
       "      <td>Shri Swaminathan J</td>\n",
       "      <td>Deputy Governor of the Reserve Bank of India</td>\n",
       "      <td>Reserve Bank of India</td>\n",
       "    </tr>\n",
       "  </tbody>\n",
       "</table>\n",
       "</div>"
      ],
      "text/plain": [
       "                                       url  \\\n",
       "0  https://www.bis.org/review/r240109a.htm   \n",
       "1  https://www.bis.org/review/r240123b.htm   \n",
       "2  https://www.bis.org/review/r240123a.htm   \n",
       "3  https://www.bis.org/review/r240117a.htm   \n",
       "4  https://www.bis.org/review/r240117g.htm   \n",
       "\n",
       "                                               title  \\\n",
       "0  Michelle W Bowman: New year's resolutions for ...   \n",
       "1  Michelle W Bowman: The path forward for bank c...   \n",
       "2  Michael S Barr: Measuring cyber risk in the fi...   \n",
       "3                    John C Williams: Rules of three   \n",
       "4  Swaminathan J: Resolution of stressed assets a...   \n",
       "\n",
       "                                         description                 date  \\\n",
       "0  Speech by Ms Michelle W Bowman, Member of the ...  2024-12-08 00:00:00   \n",
       "1  Speech (virtual) by Ms Michelle W Bowman, Memb...  2024-01-17 00:00:00   \n",
       "2  Opening remarks by Mr Michael S Barr, Vice Cha...  2024-01-17 00:00:00   \n",
       "3  Remarks by Mr John C Williams, President and C...  2024-01-10 00:00:00   \n",
       "4  Speech by Mr Swaminathan J, Deputy Governor of...  2024-01-10 00:00:00   \n",
       "\n",
       "                                                text              author  \\\n",
       "0  For release on delivery\\n4:30 p.m. EST\\nJanuar...   Michelle W Bowman   \n",
       "1  For release on delivery\\n9:00 a.m. EST\\nJanuar...   Michelle W Bowman   \n",
       "2  Michael S Barr: Measuring cyber risk in the fi...      Michael S Barr   \n",
       "3  FEDERAL RESERVE BANK of NEW YORK Serving the S...     John C Williams   \n",
       "4  Swaminathan J: Resolution of stressed assets a...  Shri Swaminathan J   \n",
       "\n",
       "                                            position  \\\n",
       "0  Member of the Board of Governors of the Federa...   \n",
       "1  Member of the Board of Governors of the Federa...   \n",
       "2  Vice Chair for Supervision of the Board of Gov...   \n",
       "3  President and Chief Executive Officer of the F...   \n",
       "4       Deputy Governor of the Reserve Bank of India   \n",
       "\n",
       "                       organization  \n",
       "0            Federal Reserve System  \n",
       "1            Federal Reserve System  \n",
       "2            Federal Reserve System  \n",
       "3  Federal Reserve Bank of New York  \n",
       "4             Reserve Bank of India  "
      ]
     },
     "metadata": {},
     "output_type": "display_data"
    },
    {
     "name": "stdout",
     "output_type": "stream",
     "text": [
      "\n"
     ]
    },
    {
     "data": {
      "text/html": [
       "<div>\n",
       "<style scoped>\n",
       "    .dataframe tbody tr th:only-of-type {\n",
       "        vertical-align: middle;\n",
       "    }\n",
       "\n",
       "    .dataframe tbody tr th {\n",
       "        vertical-align: top;\n",
       "    }\n",
       "\n",
       "    .dataframe thead th {\n",
       "        text-align: right;\n",
       "    }\n",
       "</style>\n",
       "<table border=\"1\" class=\"dataframe\">\n",
       "  <thead>\n",
       "    <tr style=\"text-align: right;\">\n",
       "      <th></th>\n",
       "      <th>url</th>\n",
       "      <th>title</th>\n",
       "      <th>description</th>\n",
       "      <th>date</th>\n",
       "      <th>text</th>\n",
       "      <th>author</th>\n",
       "      <th>position</th>\n",
       "      <th>organization</th>\n",
       "    </tr>\n",
       "  </thead>\n",
       "  <tbody>\n",
       "    <tr>\n",
       "      <th>23</th>\n",
       "      <td>https://www.bis.org/review/r240202d.htm</td>\n",
       "      <td>Jorgovanka Tabaković: Transitions big and small</td>\n",
       "      <td>Introductory address by Dr Jorgovanka Tabakovi...</td>\n",
       "      <td>2024-01-31 00:00:00</td>\n",
       "      <td>Jorgovanka Tabakovi: Transitions big and small...</td>\n",
       "      <td>Jorgovanka Tabaković</td>\n",
       "      <td>Governor of the National Bank of Serbia</td>\n",
       "      <td>National Bank of Serbia</td>\n",
       "    </tr>\n",
       "    <tr>\n",
       "      <th>24</th>\n",
       "      <td>https://www.bis.org/review/r240202c.htm</td>\n",
       "      <td>Dimitar Radev: 2024 - the focus is still on cu...</td>\n",
       "      <td>Publication by Mr Dimitar Radev, Governor of t...</td>\n",
       "      <td>2024-02-02 09:44:00</td>\n",
       "      <td>Dimitar Radev: 2024 - the focus is still on cu...</td>\n",
       "      <td>Dimitar Radev</td>\n",
       "      <td>Governor of the Bulgarian National Bank</td>\n",
       "      <td>Bulgarian National Bank</td>\n",
       "    </tr>\n",
       "    <tr>\n",
       "      <th>25</th>\n",
       "      <td>https://www.bis.org/review/r240202b.htm</td>\n",
       "      <td>Burkhard Balz: Overcoming challenges together</td>\n",
       "      <td>Address by Mr Burkhard Balz, Member of the Exe...</td>\n",
       "      <td>2024-01-31 00:00:00</td>\n",
       "      <td>Burkhard Balz: Overcoming challenges together\\...</td>\n",
       "      <td>Burkhard Balz</td>\n",
       "      <td>Member of the Executive Board of the Deutsche ...</td>\n",
       "      <td>Deutsche Bundesbank</td>\n",
       "    </tr>\n",
       "    <tr>\n",
       "      <th>26</th>\n",
       "      <td>https://www.bis.org/review/r240202a.htm</td>\n",
       "      <td>Tiff Macklem: Opening statement before the Hou...</td>\n",
       "      <td>Opening statement by Mr Tiff Macklem, Governor...</td>\n",
       "      <td>2024-02-01 00:00:00</td>\n",
       "      <td>Tiff Macklem: Opening statement before the Hou...</td>\n",
       "      <td>Tiff Macklem</td>\n",
       "      <td>Governor of the Bank of Canada</td>\n",
       "      <td>Bank of Canada</td>\n",
       "    </tr>\n",
       "    <tr>\n",
       "      <th>27</th>\n",
       "      <td>https://www.bis.org/review/r240202e.htm</td>\n",
       "      <td>Andriy Pyshnyy: National Bank of Ukraine press...</td>\n",
       "      <td>Speech by Mr Andriy Pyshnyy, Governor of the N...</td>\n",
       "      <td>2024-01-25 00:00:00</td>\n",
       "      <td>Andriy Pyshnyy: National Bank of Ukraine press...</td>\n",
       "      <td>Andriy Pyshnyy</td>\n",
       "      <td>Governor of the National Bank of Ukraine</td>\n",
       "      <td>National Bank of Ukraine</td>\n",
       "    </tr>\n",
       "  </tbody>\n",
       "</table>\n",
       "</div>"
      ],
      "text/plain": [
       "                                        url  \\\n",
       "23  https://www.bis.org/review/r240202d.htm   \n",
       "24  https://www.bis.org/review/r240202c.htm   \n",
       "25  https://www.bis.org/review/r240202b.htm   \n",
       "26  https://www.bis.org/review/r240202a.htm   \n",
       "27  https://www.bis.org/review/r240202e.htm   \n",
       "\n",
       "                                                title  \\\n",
       "23    Jorgovanka Tabaković: Transitions big and small   \n",
       "24  Dimitar Radev: 2024 - the focus is still on cu...   \n",
       "25      Burkhard Balz: Overcoming challenges together   \n",
       "26  Tiff Macklem: Opening statement before the Hou...   \n",
       "27  Andriy Pyshnyy: National Bank of Ukraine press...   \n",
       "\n",
       "                                          description                 date  \\\n",
       "23  Introductory address by Dr Jorgovanka Tabakovi...  2024-01-31 00:00:00   \n",
       "24  Publication by Mr Dimitar Radev, Governor of t...  2024-02-02 09:44:00   \n",
       "25  Address by Mr Burkhard Balz, Member of the Exe...  2024-01-31 00:00:00   \n",
       "26  Opening statement by Mr Tiff Macklem, Governor...  2024-02-01 00:00:00   \n",
       "27  Speech by Mr Andriy Pyshnyy, Governor of the N...  2024-01-25 00:00:00   \n",
       "\n",
       "                                                 text                author  \\\n",
       "23  Jorgovanka Tabakovi: Transitions big and small...  Jorgovanka Tabaković   \n",
       "24  Dimitar Radev: 2024 - the focus is still on cu...         Dimitar Radev   \n",
       "25  Burkhard Balz: Overcoming challenges together\\...         Burkhard Balz   \n",
       "26  Tiff Macklem: Opening statement before the Hou...          Tiff Macklem   \n",
       "27  Andriy Pyshnyy: National Bank of Ukraine press...        Andriy Pyshnyy   \n",
       "\n",
       "                                             position  \\\n",
       "23            Governor of the National Bank of Serbia   \n",
       "24            Governor of the Bulgarian National Bank   \n",
       "25  Member of the Executive Board of the Deutsche ...   \n",
       "26                     Governor of the Bank of Canada   \n",
       "27           Governor of the National Bank of Ukraine   \n",
       "\n",
       "                organization  \n",
       "23   National Bank of Serbia  \n",
       "24   Bulgarian National Bank  \n",
       "25       Deutsche Bundesbank  \n",
       "26            Bank of Canada  \n",
       "27  National Bank of Ukraine  "
      ]
     },
     "metadata": {},
     "output_type": "display_data"
    }
   ],
   "source": [
    "display(speeches_2024_2.head())\n",
    "print()\n",
    "display(speeches_2024_2.tail())"
   ]
  },
  {
   "cell_type": "markdown",
   "id": "f67eef08",
   "metadata": {},
   "source": [
    "Больше всего выступлений у Reserve Bank of India и Federal Reserve System (США)"
   ]
  },
  {
   "cell_type": "code",
   "execution_count": 72,
   "id": "d64f9d55",
   "metadata": {
    "scrolled": true
   },
   "outputs": [
    {
     "data": {
      "text/html": [
       "<div>\n",
       "<style scoped>\n",
       "    .dataframe tbody tr th:only-of-type {\n",
       "        vertical-align: middle;\n",
       "    }\n",
       "\n",
       "    .dataframe tbody tr th {\n",
       "        vertical-align: top;\n",
       "    }\n",
       "\n",
       "    .dataframe thead th {\n",
       "        text-align: right;\n",
       "    }\n",
       "</style>\n",
       "<table border=\"1\" class=\"dataframe\">\n",
       "  <thead>\n",
       "    <tr style=\"text-align: right;\">\n",
       "      <th></th>\n",
       "      <th>title</th>\n",
       "    </tr>\n",
       "    <tr>\n",
       "      <th>organization</th>\n",
       "      <th></th>\n",
       "    </tr>\n",
       "  </thead>\n",
       "  <tbody>\n",
       "    <tr>\n",
       "      <th>Bank of Canada</th>\n",
       "      <td>2</td>\n",
       "    </tr>\n",
       "    <tr>\n",
       "      <th>Bank of Italy</th>\n",
       "      <td>3</td>\n",
       "    </tr>\n",
       "    <tr>\n",
       "      <th>Bulgarian National Bank</th>\n",
       "      <td>1</td>\n",
       "    </tr>\n",
       "    <tr>\n",
       "      <th>Central Bank of Ireland</th>\n",
       "      <td>1</td>\n",
       "    </tr>\n",
       "    <tr>\n",
       "      <th>Central Bank of Malaysia</th>\n",
       "      <td>1</td>\n",
       "    </tr>\n",
       "    <tr>\n",
       "      <th>Central Bank of Norway</th>\n",
       "      <td>1</td>\n",
       "    </tr>\n",
       "    <tr>\n",
       "      <th>Croatian National Bank</th>\n",
       "      <td>1</td>\n",
       "    </tr>\n",
       "    <tr>\n",
       "      <th>Deutsche Bundesbank</th>\n",
       "      <td>1</td>\n",
       "    </tr>\n",
       "    <tr>\n",
       "      <th>European Central Bank</th>\n",
       "      <td>1</td>\n",
       "    </tr>\n",
       "    <tr>\n",
       "      <th>Federal Reserve Bank of New York</th>\n",
       "      <td>1</td>\n",
       "    </tr>\n",
       "    <tr>\n",
       "      <th>Federal Reserve System</th>\n",
       "      <td>5</td>\n",
       "    </tr>\n",
       "    <tr>\n",
       "      <th>National Bank of Serbia</th>\n",
       "      <td>1</td>\n",
       "    </tr>\n",
       "    <tr>\n",
       "      <th>National Bank of Ukraine</th>\n",
       "      <td>1</td>\n",
       "    </tr>\n",
       "    <tr>\n",
       "      <th>Reserve Bank of India</th>\n",
       "      <td>8</td>\n",
       "    </tr>\n",
       "  </tbody>\n",
       "</table>\n",
       "</div>"
      ],
      "text/plain": [
       "                                  title\n",
       "organization                           \n",
       "Bank of Canada                        2\n",
       "Bank of Italy                         3\n",
       "Bulgarian National Bank               1\n",
       "Central Bank of Ireland               1\n",
       "Central Bank of Malaysia              1\n",
       "Central Bank of Norway                1\n",
       "Croatian National Bank                1\n",
       "Deutsche Bundesbank                   1\n",
       "European Central Bank                 1\n",
       "Federal Reserve Bank of New York      1\n",
       "Federal Reserve System                5\n",
       "National Bank of Serbia               1\n",
       "National Bank of Ukraine              1\n",
       "Reserve Bank of India                 8"
      ]
     },
     "metadata": {},
     "output_type": "display_data"
    }
   ],
   "source": [
    "display(speeches_2024_2.pivot_table(index='organization', values='title', aggfunc='count'))"
   ]
  },
  {
   "cell_type": "markdown",
   "id": "b5186649",
   "metadata": {},
   "source": [
    "#### Дательнее посмотрим на выступления представителей FRS"
   ]
  },
  {
   "cell_type": "code",
   "execution_count": 73,
   "id": "d4cf2be3",
   "metadata": {},
   "outputs": [
    {
     "name": "stdout",
     "output_type": "stream",
     "text": [
      "(6, 8)\n"
     ]
    }
   ],
   "source": [
    "#детальнее посмотрим на Federal Reserve System и Federal Reserve Bank of New York\n",
    "speeches_2024_frs = speeches_2024_2.query('organization in [\"Federal Reserve System\", \"Federal Reserve Bank of New York\"]')\n",
    "print(speeches_2024_frs.shape)"
   ]
  },
  {
   "cell_type": "markdown",
   "id": "cb1e6ba1",
   "metadata": {},
   "source": [
    "В основном по банковской тематике выступали, что логично"
   ]
  },
  {
   "cell_type": "code",
   "execution_count": 74,
   "id": "5007037f",
   "metadata": {},
   "outputs": [
    {
     "name": "stdout",
     "output_type": "stream",
     "text": [
      "[\"Michelle W Bowman: New year's resolutions for bank regulatory policymakers\"\n",
      " 'Michelle W Bowman: The path forward for bank capital reform'\n",
      " 'Michael S Barr: Measuring cyber risk in the financial services sector'\n",
      " 'John C Williams: Rules of three'\n",
      " 'Christopher J Waller: Almost as good as it gets-but will it last?'\n",
      " 'Michelle W Bowman: The future of banking']\n"
     ]
    }
   ],
   "source": [
    "#на какие темы выступали представители ФРС\n",
    "print(speeches_2024_frs['title'].unique())"
   ]
  },
  {
   "cell_type": "raw",
   "id": "76bd0bcc",
   "metadata": {
    "scrolled": false
   },
   "source": [
    "#первое выступление ФРС\n",
    "print(speeches_2024_frs.loc[0, 'text'])"
   ]
  },
  {
   "cell_type": "markdown",
   "id": "dc646ba1",
   "metadata": {},
   "source": [
    "#### Дательнее посмотрим на выступления представителей RBI"
   ]
  },
  {
   "cell_type": "code",
   "execution_count": 76,
   "id": "6e82c5f5",
   "metadata": {},
   "outputs": [
    {
     "data": {
      "text/html": [
       "<div>\n",
       "<style scoped>\n",
       "    .dataframe tbody tr th:only-of-type {\n",
       "        vertical-align: middle;\n",
       "    }\n",
       "\n",
       "    .dataframe tbody tr th {\n",
       "        vertical-align: top;\n",
       "    }\n",
       "\n",
       "    .dataframe thead th {\n",
       "        text-align: right;\n",
       "    }\n",
       "</style>\n",
       "<table border=\"1\" class=\"dataframe\">\n",
       "  <thead>\n",
       "    <tr style=\"text-align: right;\">\n",
       "      <th></th>\n",
       "      <th>url</th>\n",
       "      <th>title</th>\n",
       "      <th>description</th>\n",
       "      <th>date</th>\n",
       "      <th>text</th>\n",
       "      <th>author</th>\n",
       "      <th>position</th>\n",
       "      <th>organization</th>\n",
       "    </tr>\n",
       "  </thead>\n",
       "  <tbody>\n",
       "    <tr>\n",
       "      <th>0</th>\n",
       "      <td>https://www.bis.org/review/r240117g.htm</td>\n",
       "      <td>Swaminathan J: Resolution of stressed assets a...</td>\n",
       "      <td>Speech by Mr Swaminathan J, Deputy Governor of...</td>\n",
       "      <td>2024-01-10 00:00:00</td>\n",
       "      <td>Swaminathan J: Resolution of stressed assets a...</td>\n",
       "      <td>Shri Swaminathan J</td>\n",
       "      <td>Deputy Governor of the Reserve Bank of India</td>\n",
       "      <td>Reserve Bank of India</td>\n",
       "    </tr>\n",
       "    <tr>\n",
       "      <th>1</th>\n",
       "      <td>https://www.bis.org/review/r240117h.htm</td>\n",
       "      <td>Swaminathan J: Safeguarding financial stabilit...</td>\n",
       "      <td>Speech by Mr Swaminathan J, Deputy Governor of...</td>\n",
       "      <td>2024-01-10 00:00:00</td>\n",
       "      <td>Swaminathan J: Safeguarding financial stabilit...</td>\n",
       "      <td>Shri Swaminathan J</td>\n",
       "      <td>Deputy Governor of the Reserve Bank of India</td>\n",
       "      <td>Reserve Bank of India</td>\n",
       "    </tr>\n",
       "    <tr>\n",
       "      <th>2</th>\n",
       "      <td>https://www.bis.org/review/r240117e.htm</td>\n",
       "      <td>Shaktikanta Das: Turnaround of the Indian bank...</td>\n",
       "      <td>Keynote address by Mr Shaktikanta Das, Governo...</td>\n",
       "      <td>2024-01-11 00:00:00</td>\n",
       "      <td>Turnaround of the Indian Banking System\\n\\nKey...</td>\n",
       "      <td>Shaktikanta Das</td>\n",
       "      <td>Governor of the Reserve Bank of India</td>\n",
       "      <td>Reserve Bank of India</td>\n",
       "    </tr>\n",
       "    <tr>\n",
       "      <th>3</th>\n",
       "      <td>https://www.bis.org/review/r240117f.htm</td>\n",
       "      <td>Shaktikanta Das: Insolvency and bankruptcy cod...</td>\n",
       "      <td>Keynote address by Mr Shaktikanta Das, Governo...</td>\n",
       "      <td>2024-01-11 00:00:00</td>\n",
       "      <td>Shaktikanta Das: Insolvency and bankruptcy cod...</td>\n",
       "      <td>Shaktikanta Das</td>\n",
       "      <td>Governor of the Reserve Bank of India</td>\n",
       "      <td>Reserve Bank of India</td>\n",
       "    </tr>\n",
       "    <tr>\n",
       "      <th>4</th>\n",
       "      <td>https://www.bis.org/review/r240130h.htm</td>\n",
       "      <td>Michael Debabrata Patra: Harnessing digital te...</td>\n",
       "      <td>Keynote address by Dr Michael Debabrata Patra,...</td>\n",
       "      <td>2024-01-17 00:00:00</td>\n",
       "      <td>Michael Debabrata Patra: Harnessing digital te...</td>\n",
       "      <td>Michael Debabrata Patra</td>\n",
       "      <td>Deputy Governor of the Reserve Bank of India</td>\n",
       "      <td>Reserve Bank of India</td>\n",
       "    </tr>\n",
       "  </tbody>\n",
       "</table>\n",
       "</div>"
      ],
      "text/plain": [
       "                                       url  \\\n",
       "0  https://www.bis.org/review/r240117g.htm   \n",
       "1  https://www.bis.org/review/r240117h.htm   \n",
       "2  https://www.bis.org/review/r240117e.htm   \n",
       "3  https://www.bis.org/review/r240117f.htm   \n",
       "4  https://www.bis.org/review/r240130h.htm   \n",
       "\n",
       "                                               title  \\\n",
       "0  Swaminathan J: Resolution of stressed assets a...   \n",
       "1  Swaminathan J: Safeguarding financial stabilit...   \n",
       "2  Shaktikanta Das: Turnaround of the Indian bank...   \n",
       "3  Shaktikanta Das: Insolvency and bankruptcy cod...   \n",
       "4  Michael Debabrata Patra: Harnessing digital te...   \n",
       "\n",
       "                                         description                 date  \\\n",
       "0  Speech by Mr Swaminathan J, Deputy Governor of...  2024-01-10 00:00:00   \n",
       "1  Speech by Mr Swaminathan J, Deputy Governor of...  2024-01-10 00:00:00   \n",
       "2  Keynote address by Mr Shaktikanta Das, Governo...  2024-01-11 00:00:00   \n",
       "3  Keynote address by Mr Shaktikanta Das, Governo...  2024-01-11 00:00:00   \n",
       "4  Keynote address by Dr Michael Debabrata Patra,...  2024-01-17 00:00:00   \n",
       "\n",
       "                                                text                   author  \\\n",
       "0  Swaminathan J: Resolution of stressed assets a...       Shri Swaminathan J   \n",
       "1  Swaminathan J: Safeguarding financial stabilit...       Shri Swaminathan J   \n",
       "2  Turnaround of the Indian Banking System\\n\\nKey...          Shaktikanta Das   \n",
       "3  Shaktikanta Das: Insolvency and bankruptcy cod...          Shaktikanta Das   \n",
       "4  Michael Debabrata Patra: Harnessing digital te...  Michael Debabrata Patra   \n",
       "\n",
       "                                       position           organization  \n",
       "0  Deputy Governor of the Reserve Bank of India  Reserve Bank of India  \n",
       "1  Deputy Governor of the Reserve Bank of India  Reserve Bank of India  \n",
       "2         Governor of the Reserve Bank of India  Reserve Bank of India  \n",
       "3         Governor of the Reserve Bank of India  Reserve Bank of India  \n",
       "4  Deputy Governor of the Reserve Bank of India  Reserve Bank of India  "
      ]
     },
     "metadata": {},
     "output_type": "display_data"
    },
    {
     "name": "stdout",
     "output_type": "stream",
     "text": [
      "(8, 8)\n"
     ]
    }
   ],
   "source": [
    "#детальнее посмотрим на Reserve Bank of India\n",
    "speeches_2024_rbi = speeches_2024_2.query('organization == \"Reserve Bank of India\"').reset_index(drop=True)\n",
    "display(speeches_2024_rbi.head())\n",
    "print(speeches_2024_rbi.shape)"
   ]
  },
  {
   "cell_type": "markdown",
   "id": "10461e98",
   "metadata": {},
   "source": [
    "Также в основном на банковскую тематику"
   ]
  },
  {
   "cell_type": "code",
   "execution_count": 77,
   "id": "433e194a",
   "metadata": {},
   "outputs": [
    {
     "name": "stdout",
     "output_type": "stream",
     "text": [
      "['Swaminathan J: Resolution of stressed assets and IBC – the future road map'\n",
      " 'Swaminathan J: Safeguarding financial stability - the crucial role of assurance functions'\n",
      " 'Shaktikanta Das: Turnaround of the Indian banking system'\n",
      " 'Shaktikanta Das: Insolvency and bankruptcy code – towards achieving full potential'\n",
      " 'Michael Debabrata Patra: Harnessing digital technologies in central banks - opportunities and challenges'\n",
      " 'Swaminathan J: The vital role of Internal Ombudsman in ensuring customer-centric financial excellence'\n",
      " 'Swaminathan J: Role and expectations of directors of urban co-operative banks - upholding governance and professionalism with capacity buidling and technology upgradation'\n",
      " \"Shaktikanta Das: India's journey from crisis to confidence\"]\n"
     ]
    }
   ],
   "source": [
    "#на какие темя выступали представители Банка Индии\n",
    "print(speeches_2024_rbi['title'].unique())"
   ]
  },
  {
   "cell_type": "raw",
   "id": "5513ed9d",
   "metadata": {
    "scrolled": true
   },
   "source": [
    "#последнее выступление RBI\n",
    "print(speeches_2024_rbi.loc[7, 'text'])"
   ]
  },
  {
   "cell_type": "markdown",
   "id": "ff664c6c",
   "metadata": {},
   "source": [
    "### Анализ публикаций 1996 - 2024 гг."
   ]
  },
  {
   "cell_type": "code",
   "execution_count": 4,
   "id": "7cfe466f",
   "metadata": {},
   "outputs": [
    {
     "data": {
      "text/html": [
       "<div>\n",
       "<style scoped>\n",
       "    .dataframe tbody tr th:only-of-type {\n",
       "        vertical-align: middle;\n",
       "    }\n",
       "\n",
       "    .dataframe tbody tr th {\n",
       "        vertical-align: top;\n",
       "    }\n",
       "\n",
       "    .dataframe thead th {\n",
       "        text-align: right;\n",
       "    }\n",
       "</style>\n",
       "<table border=\"1\" class=\"dataframe\">\n",
       "  <thead>\n",
       "    <tr style=\"text-align: right;\">\n",
       "      <th></th>\n",
       "      <th>url</th>\n",
       "      <th>title</th>\n",
       "      <th>description</th>\n",
       "      <th>date</th>\n",
       "      <th>text</th>\n",
       "      <th>author</th>\n",
       "    </tr>\n",
       "  </thead>\n",
       "  <tbody>\n",
       "    <tr>\n",
       "      <th>0</th>\n",
       "      <td>https://www.bis.org/review/r971001f.pdf</td>\n",
       "      <td>Mr. Bäckström elucidates the problems Sweden w...</td>\n",
       "      <td>Talk given by the Governor of the Swedish Risk...</td>\n",
       "      <td>1987-08-29 00:00:00</td>\n",
       "      <td>Mr. Bäckström elucidates the problems Sweden...</td>\n",
       "      <td>Urban Bäckström</td>\n",
       "    </tr>\n",
       "    <tr>\n",
       "      <th>1</th>\n",
       "      <td>https://www.bis.org/review/r970211c.pdf</td>\n",
       "      <td>Mr. Chen discusses monetary relations between ...</td>\n",
       "      <td>Speech by the Deputy Governor of the People's ...</td>\n",
       "      <td>1996-09-10 00:00:00</td>\n",
       "      <td>Mr. Chen discusses monetary relations between ...</td>\n",
       "      <td>Chen Yuan</td>\n",
       "    </tr>\n",
       "    <tr>\n",
       "      <th>2</th>\n",
       "      <td>https://www.bis.org/review/r970211b.pdf</td>\n",
       "      <td>Mr. Dai looks at the possibilities of strength...</td>\n",
       "      <td>Speech by the Governor of the People's Bank of...</td>\n",
       "      <td>1996-11-13 00:00:00</td>\n",
       "      <td>Mr. Dai looks at the possibilities of strength...</td>\n",
       "      <td>Dai Xianglong</td>\n",
       "    </tr>\n",
       "    <tr>\n",
       "      <th>3</th>\n",
       "      <td>https://www.bis.org/review/r970211a.pdf</td>\n",
       "      <td>Mr. Dai assesses the outlook for Hong Kong as ...</td>\n",
       "      <td>Speech by the Governor of the People's Bank of...</td>\n",
       "      <td>1996-09-30 00:00:00</td>\n",
       "      <td>Mr. Dai assesses the outlook for Hong Kong as ...</td>\n",
       "      <td>Dai Xianglong</td>\n",
       "    </tr>\n",
       "    <tr>\n",
       "      <th>4</th>\n",
       "      <td>https://www.bis.org/review/r970203b.pdf</td>\n",
       "      <td>Mr. Rangarajan examines the objectives of mone...</td>\n",
       "      <td>Address by the Governor of the Reserve Bank of...</td>\n",
       "      <td>1996-12-28 00:00:00</td>\n",
       "      <td>Mr. Rangarajan examines the objectives of mone...</td>\n",
       "      <td>Bimal Jalan</td>\n",
       "    </tr>\n",
       "  </tbody>\n",
       "</table>\n",
       "</div>"
      ],
      "text/plain": [
       "                                       url  \\\n",
       "0  https://www.bis.org/review/r971001f.pdf   \n",
       "1  https://www.bis.org/review/r970211c.pdf   \n",
       "2  https://www.bis.org/review/r970211b.pdf   \n",
       "3  https://www.bis.org/review/r970211a.pdf   \n",
       "4  https://www.bis.org/review/r970203b.pdf   \n",
       "\n",
       "                                               title  \\\n",
       "0  Mr. Bäckström elucidates the problems Sweden w...   \n",
       "1  Mr. Chen discusses monetary relations between ...   \n",
       "2  Mr. Dai looks at the possibilities of strength...   \n",
       "3  Mr. Dai assesses the outlook for Hong Kong as ...   \n",
       "4  Mr. Rangarajan examines the objectives of mone...   \n",
       "\n",
       "                                         description                 date  \\\n",
       "0  Talk given by the Governor of the Swedish Risk...  1987-08-29 00:00:00   \n",
       "1  Speech by the Deputy Governor of the People's ...  1996-09-10 00:00:00   \n",
       "2  Speech by the Governor of the People's Bank of...  1996-11-13 00:00:00   \n",
       "3  Speech by the Governor of the People's Bank of...  1996-09-30 00:00:00   \n",
       "4  Address by the Governor of the Reserve Bank of...  1996-12-28 00:00:00   \n",
       "\n",
       "                                                text           author  \n",
       "0  Mr. Bäckström elucidates the problems Sweden...  Urban Bäckström  \n",
       "1  Mr. Chen discusses monetary relations between ...        Chen Yuan  \n",
       "2  Mr. Dai looks at the possibilities of strength...    Dai Xianglong  \n",
       "3  Mr. Dai assesses the outlook for Hong Kong as ...    Dai Xianglong  \n",
       "4  Mr. Rangarajan examines the objectives of mone...      Bimal Jalan  "
      ]
     },
     "metadata": {},
     "output_type": "display_data"
    },
    {
     "name": "stdout",
     "output_type": "stream",
     "text": [
      "\n",
      "(18827, 6)\n",
      "\n",
      "url            object\n",
      "title          object\n",
      "description    object\n",
      "date           object\n",
      "text           object\n",
      "author         object\n",
      "dtype: object\n"
     ]
    }
   ],
   "source": [
    "#смотрим на представленные данные\n",
    "display(speeches.head())\n",
    "print()\n",
    "print(speeches.shape)\n",
    "print()\n",
    "print(speeches.dtypes)"
   ]
  },
  {
   "cell_type": "markdown",
   "id": "61227670",
   "metadata": {},
   "source": [
    "Публикации с 1987 по 2024. Публикации от декабря 2024 явно ошибка"
   ]
  },
  {
   "cell_type": "code",
   "execution_count": 78,
   "id": "f89efc30",
   "metadata": {},
   "outputs": [
    {
     "name": "stdout",
     "output_type": "stream",
     "text": [
      "1987-08-29 00:00:00\n",
      "2024-12-08 00:00:00\n"
     ]
    }
   ],
   "source": [
    "#период публикаций\n",
    "print(speeches['date'].min())\n",
    "print(speeches['date'].max())"
   ]
  },
  {
   "cell_type": "markdown",
   "id": "9e60c7fc",
   "metadata": {},
   "source": [
    "Для анализа взяли публикации с 1996 по 2023 гг."
   ]
  },
  {
   "cell_type": "code",
   "execution_count": 5,
   "id": "4cf6da90",
   "metadata": {},
   "outputs": [],
   "source": [
    "#возьмем публикации с 1996 по 2023 гг.\n",
    "speeches_1996_2023 = speeches.query('date >= \"1996-01-01\" and date <= \"2023-12-31\"')"
   ]
  },
  {
   "cell_type": "raw",
   "id": "05706889",
   "metadata": {},
   "source": [
    "АНАЛИЗ ТЕМ ПУБЛИКАЦИЙ ФРС"
   ]
  },
  {
   "cell_type": "raw",
   "id": "7aefa535",
   "metadata": {},
   "source": [
    "INFLATION\n",
    "'Lisa D Cook: Thoughts on inflation in a supply-constrained economy', 'Lael Brainard: Staying the course to bring inflation down', 'Christopher J Waller: The inflation rate for necessities - a look at food, energy and shelter inflation', 'Philip N Jefferson: Recent inflation and the dual mandate', 'Jerome H Powell: Inflation - progress and the path ahead'"
   ]
  },
  {
   "cell_type": "raw",
   "id": "25ce7a9d",
   "metadata": {},
   "source": [
    "OTHER\n",
    "\"Christopher J Waller: February's hot data releases\""
   ]
  },
  {
   "cell_type": "raw",
   "id": "5f6d7e09",
   "metadata": {},
   "source": [
    "FMI\n",
    "'Fabio Panetta: Central clearing in turbulent times - frontiers in regulation and oversight'"
   ]
  },
  {
   "cell_type": "raw",
   "id": "cf605001",
   "metadata": {},
   "source": [
    "MONETARY POLICY\n",
    "'Philip N Jefferson: Implementation and transmission of monetary policy', 'Jerome H Powell: Semiannual Monetary Policy Report to the Congress', 'Philip N Jefferson: On the assessment of current monetary policy', 'Philip N Jefferson: US economic outlook and monetary policy transmission'"
   ]
  },
  {
   "cell_type": "raw",
   "id": "b09f5a94",
   "metadata": {},
   "source": [
    "TOP\n",
    "'Lisa D Cook: The US economic outlook and monetary policy', 'Philip N Jefferson: The US economic outlook and considerations for monetary policy'"
   ]
  },
  {
   "cell_type": "markdown",
   "id": "cea6d78b",
   "metadata": {},
   "source": [
    "Убрали пропуск в столбце \"description\""
   ]
  },
  {
   "cell_type": "code",
   "execution_count": 6,
   "id": "713d06aa",
   "metadata": {},
   "outputs": [
    {
     "name": "stdout",
     "output_type": "stream",
     "text": [
      "url             0\n",
      "title           0\n",
      "description     1\n",
      "date            0\n",
      "text            0\n",
      "author         25\n",
      "dtype: int64\n"
     ]
    }
   ],
   "source": [
    "#пропуски\n",
    "print(speeches_1996_2023.isna().sum())"
   ]
  },
  {
   "cell_type": "code",
   "execution_count": 7,
   "id": "f30c206f",
   "metadata": {},
   "outputs": [
    {
     "name": "stdout",
     "output_type": "stream",
     "text": [
      "(18797, 6)\n"
     ]
    }
   ],
   "source": [
    "speeches_1996_2023 = speeches_1996_2023.dropna(subset=['description'])\n",
    "print(speeches_1996_2023.shape)"
   ]
  },
  {
   "cell_type": "markdown",
   "id": "dcc519b8",
   "metadata": {},
   "source": [
    "Для дальнейшей работы взяли выступления исключительно представителей ФРС"
   ]
  },
  {
   "cell_type": "code",
   "execution_count": 8,
   "id": "707e3b48",
   "metadata": {},
   "outputs": [],
   "source": [
    "#публикации ФРС\n",
    "speeches_1996_2023_frs = speeches_1996_2023.query('description.str.contains(\"Federal Reserve\")', engine='python')"
   ]
  },
  {
   "cell_type": "code",
   "execution_count": 79,
   "id": "887c36f3",
   "metadata": {},
   "outputs": [
    {
     "data": {
      "text/html": [
       "<div>\n",
       "<style scoped>\n",
       "    .dataframe tbody tr th:only-of-type {\n",
       "        vertical-align: middle;\n",
       "    }\n",
       "\n",
       "    .dataframe tbody tr th {\n",
       "        vertical-align: top;\n",
       "    }\n",
       "\n",
       "    .dataframe thead th {\n",
       "        text-align: right;\n",
       "    }\n",
       "</style>\n",
       "<table border=\"1\" class=\"dataframe\">\n",
       "  <thead>\n",
       "    <tr style=\"text-align: right;\">\n",
       "      <th></th>\n",
       "      <th>url</th>\n",
       "      <th>title</th>\n",
       "      <th>description</th>\n",
       "      <th>date</th>\n",
       "      <th>text</th>\n",
       "      <th>author</th>\n",
       "      <th>date2</th>\n",
       "      <th>date_datetime</th>\n",
       "    </tr>\n",
       "  </thead>\n",
       "  <tbody>\n",
       "    <tr>\n",
       "      <th>7</th>\n",
       "      <td>https://www.bis.org/review/r970108b.pdf</td>\n",
       "      <td>Ms. Rivlin discusses the prudential regulation...</td>\n",
       "      <td>Remarks by the Vice Chairman of the Board of G...</td>\n",
       "      <td>1996-12-19 00:00:00</td>\n",
       "      <td>Ms. Rivlin discusses the prudential regulation...</td>\n",
       "      <td>Alice M Rivlin</td>\n",
       "      <td>1996-12-19</td>\n",
       "      <td>1996-12-19</td>\n",
       "    </tr>\n",
       "    <tr>\n",
       "      <th>11</th>\n",
       "      <td>https://www.bis.org/review/r970512a.pdf</td>\n",
       "      <td>Mr. Meyer discusses the economic outlook and t...</td>\n",
       "      <td>Remarks by Mr. Laurence H. Meyer, a member of ...</td>\n",
       "      <td>1997-04-24 00:00:00</td>\n",
       "      <td>Mr. Meyer discusses the economic outlook and t...</td>\n",
       "      <td>Laurence H Meyer</td>\n",
       "      <td>1997-04-24</td>\n",
       "      <td>1997-04-24</td>\n",
       "    </tr>\n",
       "    <tr>\n",
       "      <th>19</th>\n",
       "      <td>https://www.bis.org/review/r980102e.pdf</td>\n",
       "      <td>Mr. Kelley discusses the 'Millennium Bug' from...</td>\n",
       "      <td>Remarks by Mr. Edward W. Kelley, Jr., a member...</td>\n",
       "      <td>1997-12-15 00:00:00</td>\n",
       "      <td>Mr. Kelley discusses the \"Millennium Bug\" from...</td>\n",
       "      <td>Edward W Kelley, Jr</td>\n",
       "      <td>1997-12-15</td>\n",
       "      <td>1997-12-15</td>\n",
       "    </tr>\n",
       "    <tr>\n",
       "      <th>29</th>\n",
       "      <td>https://www.bis.org/review/r971208d.pdf</td>\n",
       "      <td>Mr. Greenspan's remarks to the Economic Club o...</td>\n",
       "      <td>Remarks by the Chairman of the Board of the U ...</td>\n",
       "      <td>1997-12-02 00:00:00</td>\n",
       "      <td>Mr. Greenspan's remarks to the Economic Club o...</td>\n",
       "      <td>Alan Greenspan</td>\n",
       "      <td>1997-12-02</td>\n",
       "      <td>1997-12-02</td>\n",
       "    </tr>\n",
       "    <tr>\n",
       "      <th>33</th>\n",
       "      <td>https://www.bis.org/review/r971202b.pdf</td>\n",
       "      <td>Mr. McDonough gives a US perspective on Econom...</td>\n",
       "      <td>Remarks by the President of the Federal Reserv...</td>\n",
       "      <td>1997-11-17 00:00:00</td>\n",
       "      <td>Mr. McDonough gives a US perspective on Econom...</td>\n",
       "      <td>William J McDonough</td>\n",
       "      <td>1997-11-17</td>\n",
       "      <td>1997-11-17</td>\n",
       "    </tr>\n",
       "  </tbody>\n",
       "</table>\n",
       "</div>"
      ],
      "text/plain": [
       "                                        url  \\\n",
       "7   https://www.bis.org/review/r970108b.pdf   \n",
       "11  https://www.bis.org/review/r970512a.pdf   \n",
       "19  https://www.bis.org/review/r980102e.pdf   \n",
       "29  https://www.bis.org/review/r971208d.pdf   \n",
       "33  https://www.bis.org/review/r971202b.pdf   \n",
       "\n",
       "                                                title  \\\n",
       "7   Ms. Rivlin discusses the prudential regulation...   \n",
       "11  Mr. Meyer discusses the economic outlook and t...   \n",
       "19  Mr. Kelley discusses the 'Millennium Bug' from...   \n",
       "29  Mr. Greenspan's remarks to the Economic Club o...   \n",
       "33  Mr. McDonough gives a US perspective on Econom...   \n",
       "\n",
       "                                          description                 date  \\\n",
       "7   Remarks by the Vice Chairman of the Board of G...  1996-12-19 00:00:00   \n",
       "11  Remarks by Mr. Laurence H. Meyer, a member of ...  1997-04-24 00:00:00   \n",
       "19  Remarks by Mr. Edward W. Kelley, Jr., a member...  1997-12-15 00:00:00   \n",
       "29  Remarks by the Chairman of the Board of the U ...  1997-12-02 00:00:00   \n",
       "33  Remarks by the President of the Federal Reserv...  1997-11-17 00:00:00   \n",
       "\n",
       "                                                 text               author  \\\n",
       "7   Ms. Rivlin discusses the prudential regulation...       Alice M Rivlin   \n",
       "11  Mr. Meyer discusses the economic outlook and t...     Laurence H Meyer   \n",
       "19  Mr. Kelley discusses the \"Millennium Bug\" from...  Edward W Kelley, Jr   \n",
       "29  Mr. Greenspan's remarks to the Economic Club o...       Alan Greenspan   \n",
       "33  Mr. McDonough gives a US perspective on Econom...  William J McDonough   \n",
       "\n",
       "         date2 date_datetime  \n",
       "7   1996-12-19    1996-12-19  \n",
       "11  1997-04-24    1997-04-24  \n",
       "19  1997-12-15    1997-12-15  \n",
       "29  1997-12-02    1997-12-02  \n",
       "33  1997-11-17    1997-11-17  "
      ]
     },
     "metadata": {},
     "output_type": "display_data"
    },
    {
     "name": "stdout",
     "output_type": "stream",
     "text": [
      "\n",
      "(2345, 8)\n"
     ]
    }
   ],
   "source": [
    "display(speeches_1996_2023_frs.head())\n",
    "print()\n",
    "print(speeches_1996_2023_frs.shape)"
   ]
  },
  {
   "cell_type": "markdown",
   "id": "05524c8c",
   "metadata": {},
   "source": [
    "Доля выступлений ФРС - 12%"
   ]
  },
  {
   "cell_type": "code",
   "execution_count": 80,
   "id": "28f941d0",
   "metadata": {},
   "outputs": [
    {
     "name": "stdout",
     "output_type": "stream",
     "text": [
      "0.12475395009841996\n"
     ]
    }
   ],
   "source": [
    "print(speeches_1996_2023_frs.shape[0] / speeches_1996_2023.shape[0])"
   ]
  },
  {
   "cell_type": "code",
   "execution_count": 9,
   "id": "daa641de",
   "metadata": {},
   "outputs": [
    {
     "name": "stdout",
     "output_type": "stream",
     "text": [
      "url            object\n",
      "title          object\n",
      "description    object\n",
      "date           object\n",
      "text           object\n",
      "author         object\n",
      "dtype: object\n"
     ]
    }
   ],
   "source": [
    "#типы данных\n",
    "print(speeches_1996_2023_frs.dtypes)"
   ]
  },
  {
   "cell_type": "markdown",
   "id": "c6ac178a",
   "metadata": {},
   "source": [
    "Добавили признак date2 без времени"
   ]
  },
  {
   "cell_type": "code",
   "execution_count": 10,
   "id": "810bb871",
   "metadata": {},
   "outputs": [
    {
     "name": "stderr",
     "output_type": "stream",
     "text": [
      "C:\\Users\\Илья\\AppData\\Local\\Temp\\ipykernel_12108\\3646647569.py:1: SettingWithCopyWarning: \n",
      "A value is trying to be set on a copy of a slice from a DataFrame.\n",
      "Try using .loc[row_indexer,col_indexer] = value instead\n",
      "\n",
      "See the caveats in the documentation: https://pandas.pydata.org/pandas-docs/stable/user_guide/indexing.html#returning-a-view-versus-a-copy\n",
      "  speeches_1996_2023_frs['date2'] = pd.to_datetime(speeches_1996_2023_frs['date']).dt.date\n"
     ]
    }
   ],
   "source": [
    "speeches_1996_2023_frs['date2'] = pd.to_datetime(speeches_1996_2023_frs['date']).dt.date"
   ]
  },
  {
   "cell_type": "code",
   "execution_count": 11,
   "id": "e20535e1",
   "metadata": {},
   "outputs": [
    {
     "name": "stdout",
     "output_type": "stream",
     "text": [
      "url            object\n",
      "title          object\n",
      "description    object\n",
      "date           object\n",
      "text           object\n",
      "author         object\n",
      "date2          object\n",
      "dtype: object\n",
      "\n"
     ]
    },
    {
     "data": {
      "text/html": [
       "<div>\n",
       "<style scoped>\n",
       "    .dataframe tbody tr th:only-of-type {\n",
       "        vertical-align: middle;\n",
       "    }\n",
       "\n",
       "    .dataframe tbody tr th {\n",
       "        vertical-align: top;\n",
       "    }\n",
       "\n",
       "    .dataframe thead th {\n",
       "        text-align: right;\n",
       "    }\n",
       "</style>\n",
       "<table border=\"1\" class=\"dataframe\">\n",
       "  <thead>\n",
       "    <tr style=\"text-align: right;\">\n",
       "      <th></th>\n",
       "      <th>url</th>\n",
       "      <th>title</th>\n",
       "      <th>description</th>\n",
       "      <th>date</th>\n",
       "      <th>text</th>\n",
       "      <th>author</th>\n",
       "      <th>date2</th>\n",
       "    </tr>\n",
       "  </thead>\n",
       "  <tbody>\n",
       "    <tr>\n",
       "      <th>7</th>\n",
       "      <td>https://www.bis.org/review/r970108b.pdf</td>\n",
       "      <td>Ms. Rivlin discusses the prudential regulation...</td>\n",
       "      <td>Remarks by the Vice Chairman of the Board of G...</td>\n",
       "      <td>1996-12-19 00:00:00</td>\n",
       "      <td>Ms. Rivlin discusses the prudential regulation...</td>\n",
       "      <td>Alice M Rivlin</td>\n",
       "      <td>1996-12-19</td>\n",
       "    </tr>\n",
       "    <tr>\n",
       "      <th>11</th>\n",
       "      <td>https://www.bis.org/review/r970512a.pdf</td>\n",
       "      <td>Mr. Meyer discusses the economic outlook and t...</td>\n",
       "      <td>Remarks by Mr. Laurence H. Meyer, a member of ...</td>\n",
       "      <td>1997-04-24 00:00:00</td>\n",
       "      <td>Mr. Meyer discusses the economic outlook and t...</td>\n",
       "      <td>Laurence H Meyer</td>\n",
       "      <td>1997-04-24</td>\n",
       "    </tr>\n",
       "    <tr>\n",
       "      <th>19</th>\n",
       "      <td>https://www.bis.org/review/r980102e.pdf</td>\n",
       "      <td>Mr. Kelley discusses the 'Millennium Bug' from...</td>\n",
       "      <td>Remarks by Mr. Edward W. Kelley, Jr., a member...</td>\n",
       "      <td>1997-12-15 00:00:00</td>\n",
       "      <td>Mr. Kelley discusses the \"Millennium Bug\" from...</td>\n",
       "      <td>Edward W Kelley, Jr</td>\n",
       "      <td>1997-12-15</td>\n",
       "    </tr>\n",
       "    <tr>\n",
       "      <th>29</th>\n",
       "      <td>https://www.bis.org/review/r971208d.pdf</td>\n",
       "      <td>Mr. Greenspan's remarks to the Economic Club o...</td>\n",
       "      <td>Remarks by the Chairman of the Board of the U ...</td>\n",
       "      <td>1997-12-02 00:00:00</td>\n",
       "      <td>Mr. Greenspan's remarks to the Economic Club o...</td>\n",
       "      <td>Alan Greenspan</td>\n",
       "      <td>1997-12-02</td>\n",
       "    </tr>\n",
       "    <tr>\n",
       "      <th>33</th>\n",
       "      <td>https://www.bis.org/review/r971202b.pdf</td>\n",
       "      <td>Mr. McDonough gives a US perspective on Econom...</td>\n",
       "      <td>Remarks by the President of the Federal Reserv...</td>\n",
       "      <td>1997-11-17 00:00:00</td>\n",
       "      <td>Mr. McDonough gives a US perspective on Econom...</td>\n",
       "      <td>William J McDonough</td>\n",
       "      <td>1997-11-17</td>\n",
       "    </tr>\n",
       "  </tbody>\n",
       "</table>\n",
       "</div>"
      ],
      "text/plain": [
       "                                        url  \\\n",
       "7   https://www.bis.org/review/r970108b.pdf   \n",
       "11  https://www.bis.org/review/r970512a.pdf   \n",
       "19  https://www.bis.org/review/r980102e.pdf   \n",
       "29  https://www.bis.org/review/r971208d.pdf   \n",
       "33  https://www.bis.org/review/r971202b.pdf   \n",
       "\n",
       "                                                title  \\\n",
       "7   Ms. Rivlin discusses the prudential regulation...   \n",
       "11  Mr. Meyer discusses the economic outlook and t...   \n",
       "19  Mr. Kelley discusses the 'Millennium Bug' from...   \n",
       "29  Mr. Greenspan's remarks to the Economic Club o...   \n",
       "33  Mr. McDonough gives a US perspective on Econom...   \n",
       "\n",
       "                                          description                 date  \\\n",
       "7   Remarks by the Vice Chairman of the Board of G...  1996-12-19 00:00:00   \n",
       "11  Remarks by Mr. Laurence H. Meyer, a member of ...  1997-04-24 00:00:00   \n",
       "19  Remarks by Mr. Edward W. Kelley, Jr., a member...  1997-12-15 00:00:00   \n",
       "29  Remarks by the Chairman of the Board of the U ...  1997-12-02 00:00:00   \n",
       "33  Remarks by the President of the Federal Reserv...  1997-11-17 00:00:00   \n",
       "\n",
       "                                                 text               author  \\\n",
       "7   Ms. Rivlin discusses the prudential regulation...       Alice M Rivlin   \n",
       "11  Mr. Meyer discusses the economic outlook and t...     Laurence H Meyer   \n",
       "19  Mr. Kelley discusses the \"Millennium Bug\" from...  Edward W Kelley, Jr   \n",
       "29  Mr. Greenspan's remarks to the Economic Club o...       Alan Greenspan   \n",
       "33  Mr. McDonough gives a US perspective on Econom...  William J McDonough   \n",
       "\n",
       "         date2  \n",
       "7   1996-12-19  \n",
       "11  1997-04-24  \n",
       "19  1997-12-15  \n",
       "29  1997-12-02  \n",
       "33  1997-11-17  "
      ]
     },
     "metadata": {},
     "output_type": "display_data"
    }
   ],
   "source": [
    "print(speeches_1996_2023_frs.dtypes)\n",
    "print()\n",
    "display(speeches_1996_2023_frs.head())"
   ]
  },
  {
   "cell_type": "markdown",
   "id": "5080de8e",
   "metadata": {},
   "source": [
    "Добавили признак date_datetime в формате даты"
   ]
  },
  {
   "cell_type": "code",
   "execution_count": 12,
   "id": "dbc4f4d8",
   "metadata": {},
   "outputs": [
    {
     "name": "stderr",
     "output_type": "stream",
     "text": [
      "C:\\Users\\Илья\\AppData\\Local\\Temp\\ipykernel_12108\\3354746500.py:1: SettingWithCopyWarning: \n",
      "A value is trying to be set on a copy of a slice from a DataFrame.\n",
      "Try using .loc[row_indexer,col_indexer] = value instead\n",
      "\n",
      "See the caveats in the documentation: https://pandas.pydata.org/pandas-docs/stable/user_guide/indexing.html#returning-a-view-versus-a-copy\n",
      "  speeches_1996_2023_frs['date_datetime'] = pd.to_datetime(speeches_1996_2023_frs['date2'], format='%Y-%m-%d')\n"
     ]
    }
   ],
   "source": [
    "speeches_1996_2023_frs['date_datetime'] = pd.to_datetime(speeches_1996_2023_frs['date2'], format='%Y-%m-%d')"
   ]
  },
  {
   "cell_type": "code",
   "execution_count": 13,
   "id": "fe7cc536",
   "metadata": {},
   "outputs": [
    {
     "name": "stdout",
     "output_type": "stream",
     "text": [
      "url                      object\n",
      "title                    object\n",
      "description              object\n",
      "date                     object\n",
      "text                     object\n",
      "author                   object\n",
      "date2                    object\n",
      "date_datetime    datetime64[ns]\n",
      "dtype: object\n",
      "\n"
     ]
    },
    {
     "data": {
      "text/html": [
       "<div>\n",
       "<style scoped>\n",
       "    .dataframe tbody tr th:only-of-type {\n",
       "        vertical-align: middle;\n",
       "    }\n",
       "\n",
       "    .dataframe tbody tr th {\n",
       "        vertical-align: top;\n",
       "    }\n",
       "\n",
       "    .dataframe thead th {\n",
       "        text-align: right;\n",
       "    }\n",
       "</style>\n",
       "<table border=\"1\" class=\"dataframe\">\n",
       "  <thead>\n",
       "    <tr style=\"text-align: right;\">\n",
       "      <th></th>\n",
       "      <th>url</th>\n",
       "      <th>title</th>\n",
       "      <th>description</th>\n",
       "      <th>date</th>\n",
       "      <th>text</th>\n",
       "      <th>author</th>\n",
       "      <th>date2</th>\n",
       "      <th>date_datetime</th>\n",
       "    </tr>\n",
       "  </thead>\n",
       "  <tbody>\n",
       "    <tr>\n",
       "      <th>7</th>\n",
       "      <td>https://www.bis.org/review/r970108b.pdf</td>\n",
       "      <td>Ms. Rivlin discusses the prudential regulation...</td>\n",
       "      <td>Remarks by the Vice Chairman of the Board of G...</td>\n",
       "      <td>1996-12-19 00:00:00</td>\n",
       "      <td>Ms. Rivlin discusses the prudential regulation...</td>\n",
       "      <td>Alice M Rivlin</td>\n",
       "      <td>1996-12-19</td>\n",
       "      <td>1996-12-19</td>\n",
       "    </tr>\n",
       "    <tr>\n",
       "      <th>11</th>\n",
       "      <td>https://www.bis.org/review/r970512a.pdf</td>\n",
       "      <td>Mr. Meyer discusses the economic outlook and t...</td>\n",
       "      <td>Remarks by Mr. Laurence H. Meyer, a member of ...</td>\n",
       "      <td>1997-04-24 00:00:00</td>\n",
       "      <td>Mr. Meyer discusses the economic outlook and t...</td>\n",
       "      <td>Laurence H Meyer</td>\n",
       "      <td>1997-04-24</td>\n",
       "      <td>1997-04-24</td>\n",
       "    </tr>\n",
       "    <tr>\n",
       "      <th>19</th>\n",
       "      <td>https://www.bis.org/review/r980102e.pdf</td>\n",
       "      <td>Mr. Kelley discusses the 'Millennium Bug' from...</td>\n",
       "      <td>Remarks by Mr. Edward W. Kelley, Jr., a member...</td>\n",
       "      <td>1997-12-15 00:00:00</td>\n",
       "      <td>Mr. Kelley discusses the \"Millennium Bug\" from...</td>\n",
       "      <td>Edward W Kelley, Jr</td>\n",
       "      <td>1997-12-15</td>\n",
       "      <td>1997-12-15</td>\n",
       "    </tr>\n",
       "    <tr>\n",
       "      <th>29</th>\n",
       "      <td>https://www.bis.org/review/r971208d.pdf</td>\n",
       "      <td>Mr. Greenspan's remarks to the Economic Club o...</td>\n",
       "      <td>Remarks by the Chairman of the Board of the U ...</td>\n",
       "      <td>1997-12-02 00:00:00</td>\n",
       "      <td>Mr. Greenspan's remarks to the Economic Club o...</td>\n",
       "      <td>Alan Greenspan</td>\n",
       "      <td>1997-12-02</td>\n",
       "      <td>1997-12-02</td>\n",
       "    </tr>\n",
       "    <tr>\n",
       "      <th>33</th>\n",
       "      <td>https://www.bis.org/review/r971202b.pdf</td>\n",
       "      <td>Mr. McDonough gives a US perspective on Econom...</td>\n",
       "      <td>Remarks by the President of the Federal Reserv...</td>\n",
       "      <td>1997-11-17 00:00:00</td>\n",
       "      <td>Mr. McDonough gives a US perspective on Econom...</td>\n",
       "      <td>William J McDonough</td>\n",
       "      <td>1997-11-17</td>\n",
       "      <td>1997-11-17</td>\n",
       "    </tr>\n",
       "  </tbody>\n",
       "</table>\n",
       "</div>"
      ],
      "text/plain": [
       "                                        url  \\\n",
       "7   https://www.bis.org/review/r970108b.pdf   \n",
       "11  https://www.bis.org/review/r970512a.pdf   \n",
       "19  https://www.bis.org/review/r980102e.pdf   \n",
       "29  https://www.bis.org/review/r971208d.pdf   \n",
       "33  https://www.bis.org/review/r971202b.pdf   \n",
       "\n",
       "                                                title  \\\n",
       "7   Ms. Rivlin discusses the prudential regulation...   \n",
       "11  Mr. Meyer discusses the economic outlook and t...   \n",
       "19  Mr. Kelley discusses the 'Millennium Bug' from...   \n",
       "29  Mr. Greenspan's remarks to the Economic Club o...   \n",
       "33  Mr. McDonough gives a US perspective on Econom...   \n",
       "\n",
       "                                          description                 date  \\\n",
       "7   Remarks by the Vice Chairman of the Board of G...  1996-12-19 00:00:00   \n",
       "11  Remarks by Mr. Laurence H. Meyer, a member of ...  1997-04-24 00:00:00   \n",
       "19  Remarks by Mr. Edward W. Kelley, Jr., a member...  1997-12-15 00:00:00   \n",
       "29  Remarks by the Chairman of the Board of the U ...  1997-12-02 00:00:00   \n",
       "33  Remarks by the President of the Federal Reserv...  1997-11-17 00:00:00   \n",
       "\n",
       "                                                 text               author  \\\n",
       "7   Ms. Rivlin discusses the prudential regulation...       Alice M Rivlin   \n",
       "11  Mr. Meyer discusses the economic outlook and t...     Laurence H Meyer   \n",
       "19  Mr. Kelley discusses the \"Millennium Bug\" from...  Edward W Kelley, Jr   \n",
       "29  Mr. Greenspan's remarks to the Economic Club o...       Alan Greenspan   \n",
       "33  Mr. McDonough gives a US perspective on Econom...  William J McDonough   \n",
       "\n",
       "         date2 date_datetime  \n",
       "7   1996-12-19    1996-12-19  \n",
       "11  1997-04-24    1997-04-24  \n",
       "19  1997-12-15    1997-12-15  \n",
       "29  1997-12-02    1997-12-02  \n",
       "33  1997-11-17    1997-11-17  "
      ]
     },
     "metadata": {},
     "output_type": "display_data"
    }
   ],
   "source": [
    "print(speeches_1996_2023_frs.dtypes)\n",
    "print()\n",
    "display(speeches_1996_2023_frs.head())"
   ]
  },
  {
   "cell_type": "markdown",
   "id": "0d7f76ca",
   "metadata": {},
   "source": [
    "### Смотрим на данные Индекса S&P500"
   ]
  },
  {
   "cell_type": "code",
   "execution_count": 14,
   "id": "3dc7e33c",
   "metadata": {},
   "outputs": [
    {
     "data": {
      "text/html": [
       "<div>\n",
       "<style scoped>\n",
       "    .dataframe tbody tr th:only-of-type {\n",
       "        vertical-align: middle;\n",
       "    }\n",
       "\n",
       "    .dataframe tbody tr th {\n",
       "        vertical-align: top;\n",
       "    }\n",
       "\n",
       "    .dataframe thead th {\n",
       "        text-align: right;\n",
       "    }\n",
       "</style>\n",
       "<table border=\"1\" class=\"dataframe\">\n",
       "  <thead>\n",
       "    <tr style=\"text-align: right;\">\n",
       "      <th></th>\n",
       "      <th>Date</th>\n",
       "      <th>Open</th>\n",
       "      <th>High</th>\n",
       "      <th>Low</th>\n",
       "      <th>Close</th>\n",
       "      <th>Adj Close</th>\n",
       "      <th>Volume</th>\n",
       "    </tr>\n",
       "  </thead>\n",
       "  <tbody>\n",
       "    <tr>\n",
       "      <th>0</th>\n",
       "      <td>1987-01-02</td>\n",
       "      <td>242.169998</td>\n",
       "      <td>246.449997</td>\n",
       "      <td>242.169998</td>\n",
       "      <td>246.449997</td>\n",
       "      <td>246.449997</td>\n",
       "      <td>91880000</td>\n",
       "    </tr>\n",
       "    <tr>\n",
       "      <th>1</th>\n",
       "      <td>1987-01-05</td>\n",
       "      <td>246.449997</td>\n",
       "      <td>252.570007</td>\n",
       "      <td>246.449997</td>\n",
       "      <td>252.190002</td>\n",
       "      <td>252.190002</td>\n",
       "      <td>181900000</td>\n",
       "    </tr>\n",
       "    <tr>\n",
       "      <th>2</th>\n",
       "      <td>1987-01-06</td>\n",
       "      <td>252.199997</td>\n",
       "      <td>253.990005</td>\n",
       "      <td>252.139999</td>\n",
       "      <td>252.779999</td>\n",
       "      <td>252.779999</td>\n",
       "      <td>189300000</td>\n",
       "    </tr>\n",
       "    <tr>\n",
       "      <th>3</th>\n",
       "      <td>1987-01-07</td>\n",
       "      <td>252.779999</td>\n",
       "      <td>255.720001</td>\n",
       "      <td>252.649994</td>\n",
       "      <td>255.330002</td>\n",
       "      <td>255.330002</td>\n",
       "      <td>190900000</td>\n",
       "    </tr>\n",
       "    <tr>\n",
       "      <th>4</th>\n",
       "      <td>1987-01-08</td>\n",
       "      <td>255.360001</td>\n",
       "      <td>257.279999</td>\n",
       "      <td>254.970001</td>\n",
       "      <td>257.279999</td>\n",
       "      <td>257.279999</td>\n",
       "      <td>194500000</td>\n",
       "    </tr>\n",
       "  </tbody>\n",
       "</table>\n",
       "</div>"
      ],
      "text/plain": [
       "         Date        Open        High         Low       Close   Adj Close  \\\n",
       "0  1987-01-02  242.169998  246.449997  242.169998  246.449997  246.449997   \n",
       "1  1987-01-05  246.449997  252.570007  246.449997  252.190002  252.190002   \n",
       "2  1987-01-06  252.199997  253.990005  252.139999  252.779999  252.779999   \n",
       "3  1987-01-07  252.779999  255.720001  252.649994  255.330002  255.330002   \n",
       "4  1987-01-08  255.360001  257.279999  254.970001  257.279999  257.279999   \n",
       "\n",
       "      Volume  \n",
       "0   91880000  \n",
       "1  181900000  \n",
       "2  189300000  \n",
       "3  190900000  \n",
       "4  194500000  "
      ]
     },
     "metadata": {},
     "output_type": "display_data"
    },
    {
     "name": "stdout",
     "output_type": "stream",
     "text": [
      "\n",
      "(9399, 7)\n"
     ]
    }
   ],
   "source": [
    "#анализируем представленные данные\n",
    "display(spx.head())\n",
    "print()\n",
    "print(spx.shape)"
   ]
  },
  {
   "cell_type": "markdown",
   "id": "2be9872c",
   "metadata": {},
   "source": [
    "Добавили признак date_datetime в формате даты"
   ]
  },
  {
   "cell_type": "code",
   "execution_count": 15,
   "id": "8c6be313",
   "metadata": {},
   "outputs": [],
   "source": [
    "spx['date_datetime'] = pd.to_datetime(spx['Date'], format='%Y-%m-%d')"
   ]
  },
  {
   "cell_type": "code",
   "execution_count": 16,
   "id": "086460ca",
   "metadata": {},
   "outputs": [
    {
     "data": {
      "text/html": [
       "<div>\n",
       "<style scoped>\n",
       "    .dataframe tbody tr th:only-of-type {\n",
       "        vertical-align: middle;\n",
       "    }\n",
       "\n",
       "    .dataframe tbody tr th {\n",
       "        vertical-align: top;\n",
       "    }\n",
       "\n",
       "    .dataframe thead th {\n",
       "        text-align: right;\n",
       "    }\n",
       "</style>\n",
       "<table border=\"1\" class=\"dataframe\">\n",
       "  <thead>\n",
       "    <tr style=\"text-align: right;\">\n",
       "      <th></th>\n",
       "      <th>Date</th>\n",
       "      <th>Open</th>\n",
       "      <th>High</th>\n",
       "      <th>Low</th>\n",
       "      <th>Close</th>\n",
       "      <th>Adj Close</th>\n",
       "      <th>Volume</th>\n",
       "      <th>date_datetime</th>\n",
       "    </tr>\n",
       "  </thead>\n",
       "  <tbody>\n",
       "    <tr>\n",
       "      <th>0</th>\n",
       "      <td>1987-01-02</td>\n",
       "      <td>242.169998</td>\n",
       "      <td>246.449997</td>\n",
       "      <td>242.169998</td>\n",
       "      <td>246.449997</td>\n",
       "      <td>246.449997</td>\n",
       "      <td>91880000</td>\n",
       "      <td>1987-01-02</td>\n",
       "    </tr>\n",
       "    <tr>\n",
       "      <th>1</th>\n",
       "      <td>1987-01-05</td>\n",
       "      <td>246.449997</td>\n",
       "      <td>252.570007</td>\n",
       "      <td>246.449997</td>\n",
       "      <td>252.190002</td>\n",
       "      <td>252.190002</td>\n",
       "      <td>181900000</td>\n",
       "      <td>1987-01-05</td>\n",
       "    </tr>\n",
       "    <tr>\n",
       "      <th>2</th>\n",
       "      <td>1987-01-06</td>\n",
       "      <td>252.199997</td>\n",
       "      <td>253.990005</td>\n",
       "      <td>252.139999</td>\n",
       "      <td>252.779999</td>\n",
       "      <td>252.779999</td>\n",
       "      <td>189300000</td>\n",
       "      <td>1987-01-06</td>\n",
       "    </tr>\n",
       "    <tr>\n",
       "      <th>3</th>\n",
       "      <td>1987-01-07</td>\n",
       "      <td>252.779999</td>\n",
       "      <td>255.720001</td>\n",
       "      <td>252.649994</td>\n",
       "      <td>255.330002</td>\n",
       "      <td>255.330002</td>\n",
       "      <td>190900000</td>\n",
       "      <td>1987-01-07</td>\n",
       "    </tr>\n",
       "    <tr>\n",
       "      <th>4</th>\n",
       "      <td>1987-01-08</td>\n",
       "      <td>255.360001</td>\n",
       "      <td>257.279999</td>\n",
       "      <td>254.970001</td>\n",
       "      <td>257.279999</td>\n",
       "      <td>257.279999</td>\n",
       "      <td>194500000</td>\n",
       "      <td>1987-01-08</td>\n",
       "    </tr>\n",
       "  </tbody>\n",
       "</table>\n",
       "</div>"
      ],
      "text/plain": [
       "         Date        Open        High         Low       Close   Adj Close  \\\n",
       "0  1987-01-02  242.169998  246.449997  242.169998  246.449997  246.449997   \n",
       "1  1987-01-05  246.449997  252.570007  246.449997  252.190002  252.190002   \n",
       "2  1987-01-06  252.199997  253.990005  252.139999  252.779999  252.779999   \n",
       "3  1987-01-07  252.779999  255.720001  252.649994  255.330002  255.330002   \n",
       "4  1987-01-08  255.360001  257.279999  254.970001  257.279999  257.279999   \n",
       "\n",
       "      Volume date_datetime  \n",
       "0   91880000    1987-01-02  \n",
       "1  181900000    1987-01-05  \n",
       "2  189300000    1987-01-06  \n",
       "3  190900000    1987-01-07  \n",
       "4  194500000    1987-01-08  "
      ]
     },
     "metadata": {},
     "output_type": "display_data"
    },
    {
     "name": "stdout",
     "output_type": "stream",
     "text": [
      "\n",
      "Date                     object\n",
      "Open                    float64\n",
      "High                    float64\n",
      "Low                     float64\n",
      "Close                   float64\n",
      "Adj Close               float64\n",
      "Volume                    int64\n",
      "date_datetime    datetime64[ns]\n",
      "dtype: object\n"
     ]
    }
   ],
   "source": [
    "display(spx.head())\n",
    "print()\n",
    "print(spx.dtypes)"
   ]
  },
  {
   "cell_type": "markdown",
   "id": "22d7b06a",
   "metadata": {},
   "source": [
    "Оставили только нужные столбцы"
   ]
  },
  {
   "cell_type": "code",
   "execution_count": 17,
   "id": "ce866237",
   "metadata": {},
   "outputs": [
    {
     "data": {
      "text/html": [
       "<div>\n",
       "<style scoped>\n",
       "    .dataframe tbody tr th:only-of-type {\n",
       "        vertical-align: middle;\n",
       "    }\n",
       "\n",
       "    .dataframe tbody tr th {\n",
       "        vertical-align: top;\n",
       "    }\n",
       "\n",
       "    .dataframe thead th {\n",
       "        text-align: right;\n",
       "    }\n",
       "</style>\n",
       "<table border=\"1\" class=\"dataframe\">\n",
       "  <thead>\n",
       "    <tr style=\"text-align: right;\">\n",
       "      <th></th>\n",
       "      <th>Close</th>\n",
       "      <th>date_datetime</th>\n",
       "    </tr>\n",
       "  </thead>\n",
       "  <tbody>\n",
       "    <tr>\n",
       "      <th>0</th>\n",
       "      <td>246.449997</td>\n",
       "      <td>1987-01-02</td>\n",
       "    </tr>\n",
       "    <tr>\n",
       "      <th>1</th>\n",
       "      <td>252.190002</td>\n",
       "      <td>1987-01-05</td>\n",
       "    </tr>\n",
       "    <tr>\n",
       "      <th>2</th>\n",
       "      <td>252.779999</td>\n",
       "      <td>1987-01-06</td>\n",
       "    </tr>\n",
       "    <tr>\n",
       "      <th>3</th>\n",
       "      <td>255.330002</td>\n",
       "      <td>1987-01-07</td>\n",
       "    </tr>\n",
       "    <tr>\n",
       "      <th>4</th>\n",
       "      <td>257.279999</td>\n",
       "      <td>1987-01-08</td>\n",
       "    </tr>\n",
       "  </tbody>\n",
       "</table>\n",
       "</div>"
      ],
      "text/plain": [
       "        Close date_datetime\n",
       "0  246.449997    1987-01-02\n",
       "1  252.190002    1987-01-05\n",
       "2  252.779999    1987-01-06\n",
       "3  255.330002    1987-01-07\n",
       "4  257.279999    1987-01-08"
      ]
     },
     "metadata": {},
     "output_type": "display_data"
    }
   ],
   "source": [
    "#оставляем нужные столбцы\n",
    "spx_drop = spx.drop(['Date', 'Open', 'High', 'Low', 'Adj Close', 'Volume'], axis=True)\n",
    "display(spx_drop.head())"
   ]
  },
  {
   "cell_type": "markdown",
   "id": "2077e1d1",
   "metadata": {},
   "source": [
    "### Добавили к df с выступлениями значения Индекса S&P500"
   ]
  },
  {
   "cell_type": "code",
   "execution_count": 18,
   "id": "dd0fb1a5",
   "metadata": {},
   "outputs": [],
   "source": [
    "speeches_1996_2023_frs_merge = speeches_1996_2023_frs.merge(spx_drop, on='date_datetime', how='left')"
   ]
  },
  {
   "cell_type": "code",
   "execution_count": 19,
   "id": "f0f9fd41",
   "metadata": {},
   "outputs": [
    {
     "data": {
      "text/html": [
       "<div>\n",
       "<style scoped>\n",
       "    .dataframe tbody tr th:only-of-type {\n",
       "        vertical-align: middle;\n",
       "    }\n",
       "\n",
       "    .dataframe tbody tr th {\n",
       "        vertical-align: top;\n",
       "    }\n",
       "\n",
       "    .dataframe thead th {\n",
       "        text-align: right;\n",
       "    }\n",
       "</style>\n",
       "<table border=\"1\" class=\"dataframe\">\n",
       "  <thead>\n",
       "    <tr style=\"text-align: right;\">\n",
       "      <th></th>\n",
       "      <th>url</th>\n",
       "      <th>title</th>\n",
       "      <th>description</th>\n",
       "      <th>date</th>\n",
       "      <th>text</th>\n",
       "      <th>author</th>\n",
       "      <th>date2</th>\n",
       "      <th>date_datetime</th>\n",
       "      <th>Close</th>\n",
       "    </tr>\n",
       "  </thead>\n",
       "  <tbody>\n",
       "    <tr>\n",
       "      <th>0</th>\n",
       "      <td>https://www.bis.org/review/r970108b.pdf</td>\n",
       "      <td>Ms. Rivlin discusses the prudential regulation...</td>\n",
       "      <td>Remarks by the Vice Chairman of the Board of G...</td>\n",
       "      <td>1996-12-19 00:00:00</td>\n",
       "      <td>Ms. Rivlin discusses the prudential regulation...</td>\n",
       "      <td>Alice M Rivlin</td>\n",
       "      <td>1996-12-19</td>\n",
       "      <td>1996-12-19</td>\n",
       "      <td>745.760010</td>\n",
       "    </tr>\n",
       "    <tr>\n",
       "      <th>1</th>\n",
       "      <td>https://www.bis.org/review/r970512a.pdf</td>\n",
       "      <td>Mr. Meyer discusses the economic outlook and t...</td>\n",
       "      <td>Remarks by Mr. Laurence H. Meyer, a member of ...</td>\n",
       "      <td>1997-04-24 00:00:00</td>\n",
       "      <td>Mr. Meyer discusses the economic outlook and t...</td>\n",
       "      <td>Laurence H Meyer</td>\n",
       "      <td>1997-04-24</td>\n",
       "      <td>1997-04-24</td>\n",
       "      <td>771.179993</td>\n",
       "    </tr>\n",
       "    <tr>\n",
       "      <th>2</th>\n",
       "      <td>https://www.bis.org/review/r980102e.pdf</td>\n",
       "      <td>Mr. Kelley discusses the 'Millennium Bug' from...</td>\n",
       "      <td>Remarks by Mr. Edward W. Kelley, Jr., a member...</td>\n",
       "      <td>1997-12-15 00:00:00</td>\n",
       "      <td>Mr. Kelley discusses the \"Millennium Bug\" from...</td>\n",
       "      <td>Edward W Kelley, Jr</td>\n",
       "      <td>1997-12-15</td>\n",
       "      <td>1997-12-15</td>\n",
       "      <td>963.390015</td>\n",
       "    </tr>\n",
       "    <tr>\n",
       "      <th>3</th>\n",
       "      <td>https://www.bis.org/review/r971208d.pdf</td>\n",
       "      <td>Mr. Greenspan's remarks to the Economic Club o...</td>\n",
       "      <td>Remarks by the Chairman of the Board of the U ...</td>\n",
       "      <td>1997-12-02 00:00:00</td>\n",
       "      <td>Mr. Greenspan's remarks to the Economic Club o...</td>\n",
       "      <td>Alan Greenspan</td>\n",
       "      <td>1997-12-02</td>\n",
       "      <td>1997-12-02</td>\n",
       "      <td>971.679993</td>\n",
       "    </tr>\n",
       "    <tr>\n",
       "      <th>4</th>\n",
       "      <td>https://www.bis.org/review/r971202b.pdf</td>\n",
       "      <td>Mr. McDonough gives a US perspective on Econom...</td>\n",
       "      <td>Remarks by the President of the Federal Reserv...</td>\n",
       "      <td>1997-11-17 00:00:00</td>\n",
       "      <td>Mr. McDonough gives a US perspective on Econom...</td>\n",
       "      <td>William J McDonough</td>\n",
       "      <td>1997-11-17</td>\n",
       "      <td>1997-11-17</td>\n",
       "      <td>946.200012</td>\n",
       "    </tr>\n",
       "  </tbody>\n",
       "</table>\n",
       "</div>"
      ],
      "text/plain": [
       "                                       url  \\\n",
       "0  https://www.bis.org/review/r970108b.pdf   \n",
       "1  https://www.bis.org/review/r970512a.pdf   \n",
       "2  https://www.bis.org/review/r980102e.pdf   \n",
       "3  https://www.bis.org/review/r971208d.pdf   \n",
       "4  https://www.bis.org/review/r971202b.pdf   \n",
       "\n",
       "                                               title  \\\n",
       "0  Ms. Rivlin discusses the prudential regulation...   \n",
       "1  Mr. Meyer discusses the economic outlook and t...   \n",
       "2  Mr. Kelley discusses the 'Millennium Bug' from...   \n",
       "3  Mr. Greenspan's remarks to the Economic Club o...   \n",
       "4  Mr. McDonough gives a US perspective on Econom...   \n",
       "\n",
       "                                         description                 date  \\\n",
       "0  Remarks by the Vice Chairman of the Board of G...  1996-12-19 00:00:00   \n",
       "1  Remarks by Mr. Laurence H. Meyer, a member of ...  1997-04-24 00:00:00   \n",
       "2  Remarks by Mr. Edward W. Kelley, Jr., a member...  1997-12-15 00:00:00   \n",
       "3  Remarks by the Chairman of the Board of the U ...  1997-12-02 00:00:00   \n",
       "4  Remarks by the President of the Federal Reserv...  1997-11-17 00:00:00   \n",
       "\n",
       "                                                text               author  \\\n",
       "0  Ms. Rivlin discusses the prudential regulation...       Alice M Rivlin   \n",
       "1  Mr. Meyer discusses the economic outlook and t...     Laurence H Meyer   \n",
       "2  Mr. Kelley discusses the \"Millennium Bug\" from...  Edward W Kelley, Jr   \n",
       "3  Mr. Greenspan's remarks to the Economic Club o...       Alan Greenspan   \n",
       "4  Mr. McDonough gives a US perspective on Econom...  William J McDonough   \n",
       "\n",
       "        date2 date_datetime       Close  \n",
       "0  1996-12-19    1996-12-19  745.760010  \n",
       "1  1997-04-24    1997-04-24  771.179993  \n",
       "2  1997-12-15    1997-12-15  963.390015  \n",
       "3  1997-12-02    1997-12-02  971.679993  \n",
       "4  1997-11-17    1997-11-17  946.200012  "
      ]
     },
     "metadata": {},
     "output_type": "display_data"
    },
    {
     "name": "stdout",
     "output_type": "stream",
     "text": [
      "\n",
      "(2345, 9)\n"
     ]
    }
   ],
   "source": [
    "display(speeches_1996_2023_frs_merge.head())\n",
    "print()\n",
    "print(speeches_1996_2023_frs_merge.shape)"
   ]
  },
  {
   "cell_type": "markdown",
   "id": "92df82ba",
   "metadata": {},
   "source": [
    "Убрали пропуски в столбце \"Close\""
   ]
  },
  {
   "cell_type": "code",
   "execution_count": 20,
   "id": "86dabe3b",
   "metadata": {},
   "outputs": [
    {
     "name": "stdout",
     "output_type": "stream",
     "text": [
      "url                0\n",
      "title              0\n",
      "description        0\n",
      "date               0\n",
      "text               0\n",
      "author             1\n",
      "date2              0\n",
      "date_datetime      0\n",
      "Close            129\n",
      "dtype: int64\n"
     ]
    }
   ],
   "source": [
    "print(speeches_1996_2023_frs_merge.isna().sum())"
   ]
  },
  {
   "cell_type": "code",
   "execution_count": 21,
   "id": "e9bd08c0",
   "metadata": {},
   "outputs": [],
   "source": [
    "#убираем пропуски\n",
    "speeches_1996_2023_frs_merge = speeches_1996_2023_frs_merge.dropna(subset=['Close'])"
   ]
  },
  {
   "cell_type": "code",
   "execution_count": 22,
   "id": "b4792524",
   "metadata": {},
   "outputs": [
    {
     "name": "stdout",
     "output_type": "stream",
     "text": [
      "url              0\n",
      "title            0\n",
      "description      0\n",
      "date             0\n",
      "text             0\n",
      "author           1\n",
      "date2            0\n",
      "date_datetime    0\n",
      "Close            0\n",
      "dtype: int64\n"
     ]
    }
   ],
   "source": [
    "print(speeches_1996_2023_frs_merge.isna().sum())"
   ]
  },
  {
   "cell_type": "markdown",
   "id": "c6f9f994",
   "metadata": {},
   "source": [
    "Переименовали столбец"
   ]
  },
  {
   "cell_type": "code",
   "execution_count": 23,
   "id": "5c6956ab",
   "metadata": {},
   "outputs": [
    {
     "data": {
      "text/html": [
       "<div>\n",
       "<style scoped>\n",
       "    .dataframe tbody tr th:only-of-type {\n",
       "        vertical-align: middle;\n",
       "    }\n",
       "\n",
       "    .dataframe tbody tr th {\n",
       "        vertical-align: top;\n",
       "    }\n",
       "\n",
       "    .dataframe thead th {\n",
       "        text-align: right;\n",
       "    }\n",
       "</style>\n",
       "<table border=\"1\" class=\"dataframe\">\n",
       "  <thead>\n",
       "    <tr style=\"text-align: right;\">\n",
       "      <th></th>\n",
       "      <th>url</th>\n",
       "      <th>title</th>\n",
       "      <th>description</th>\n",
       "      <th>date</th>\n",
       "      <th>text</th>\n",
       "      <th>author</th>\n",
       "      <th>date2</th>\n",
       "      <th>date_datetime</th>\n",
       "      <th>close</th>\n",
       "    </tr>\n",
       "  </thead>\n",
       "  <tbody>\n",
       "    <tr>\n",
       "      <th>0</th>\n",
       "      <td>https://www.bis.org/review/r970108b.pdf</td>\n",
       "      <td>Ms. Rivlin discusses the prudential regulation...</td>\n",
       "      <td>Remarks by the Vice Chairman of the Board of G...</td>\n",
       "      <td>1996-12-19 00:00:00</td>\n",
       "      <td>Ms. Rivlin discusses the prudential regulation...</td>\n",
       "      <td>Alice M Rivlin</td>\n",
       "      <td>1996-12-19</td>\n",
       "      <td>1996-12-19</td>\n",
       "      <td>745.760010</td>\n",
       "    </tr>\n",
       "    <tr>\n",
       "      <th>1</th>\n",
       "      <td>https://www.bis.org/review/r970512a.pdf</td>\n",
       "      <td>Mr. Meyer discusses the economic outlook and t...</td>\n",
       "      <td>Remarks by Mr. Laurence H. Meyer, a member of ...</td>\n",
       "      <td>1997-04-24 00:00:00</td>\n",
       "      <td>Mr. Meyer discusses the economic outlook and t...</td>\n",
       "      <td>Laurence H Meyer</td>\n",
       "      <td>1997-04-24</td>\n",
       "      <td>1997-04-24</td>\n",
       "      <td>771.179993</td>\n",
       "    </tr>\n",
       "    <tr>\n",
       "      <th>2</th>\n",
       "      <td>https://www.bis.org/review/r980102e.pdf</td>\n",
       "      <td>Mr. Kelley discusses the 'Millennium Bug' from...</td>\n",
       "      <td>Remarks by Mr. Edward W. Kelley, Jr., a member...</td>\n",
       "      <td>1997-12-15 00:00:00</td>\n",
       "      <td>Mr. Kelley discusses the \"Millennium Bug\" from...</td>\n",
       "      <td>Edward W Kelley, Jr</td>\n",
       "      <td>1997-12-15</td>\n",
       "      <td>1997-12-15</td>\n",
       "      <td>963.390015</td>\n",
       "    </tr>\n",
       "    <tr>\n",
       "      <th>3</th>\n",
       "      <td>https://www.bis.org/review/r971208d.pdf</td>\n",
       "      <td>Mr. Greenspan's remarks to the Economic Club o...</td>\n",
       "      <td>Remarks by the Chairman of the Board of the U ...</td>\n",
       "      <td>1997-12-02 00:00:00</td>\n",
       "      <td>Mr. Greenspan's remarks to the Economic Club o...</td>\n",
       "      <td>Alan Greenspan</td>\n",
       "      <td>1997-12-02</td>\n",
       "      <td>1997-12-02</td>\n",
       "      <td>971.679993</td>\n",
       "    </tr>\n",
       "    <tr>\n",
       "      <th>4</th>\n",
       "      <td>https://www.bis.org/review/r971202b.pdf</td>\n",
       "      <td>Mr. McDonough gives a US perspective on Econom...</td>\n",
       "      <td>Remarks by the President of the Federal Reserv...</td>\n",
       "      <td>1997-11-17 00:00:00</td>\n",
       "      <td>Mr. McDonough gives a US perspective on Econom...</td>\n",
       "      <td>William J McDonough</td>\n",
       "      <td>1997-11-17</td>\n",
       "      <td>1997-11-17</td>\n",
       "      <td>946.200012</td>\n",
       "    </tr>\n",
       "  </tbody>\n",
       "</table>\n",
       "</div>"
      ],
      "text/plain": [
       "                                       url  \\\n",
       "0  https://www.bis.org/review/r970108b.pdf   \n",
       "1  https://www.bis.org/review/r970512a.pdf   \n",
       "2  https://www.bis.org/review/r980102e.pdf   \n",
       "3  https://www.bis.org/review/r971208d.pdf   \n",
       "4  https://www.bis.org/review/r971202b.pdf   \n",
       "\n",
       "                                               title  \\\n",
       "0  Ms. Rivlin discusses the prudential regulation...   \n",
       "1  Mr. Meyer discusses the economic outlook and t...   \n",
       "2  Mr. Kelley discusses the 'Millennium Bug' from...   \n",
       "3  Mr. Greenspan's remarks to the Economic Club o...   \n",
       "4  Mr. McDonough gives a US perspective on Econom...   \n",
       "\n",
       "                                         description                 date  \\\n",
       "0  Remarks by the Vice Chairman of the Board of G...  1996-12-19 00:00:00   \n",
       "1  Remarks by Mr. Laurence H. Meyer, a member of ...  1997-04-24 00:00:00   \n",
       "2  Remarks by Mr. Edward W. Kelley, Jr., a member...  1997-12-15 00:00:00   \n",
       "3  Remarks by the Chairman of the Board of the U ...  1997-12-02 00:00:00   \n",
       "4  Remarks by the President of the Federal Reserv...  1997-11-17 00:00:00   \n",
       "\n",
       "                                                text               author  \\\n",
       "0  Ms. Rivlin discusses the prudential regulation...       Alice M Rivlin   \n",
       "1  Mr. Meyer discusses the economic outlook and t...     Laurence H Meyer   \n",
       "2  Mr. Kelley discusses the \"Millennium Bug\" from...  Edward W Kelley, Jr   \n",
       "3  Mr. Greenspan's remarks to the Economic Club o...       Alan Greenspan   \n",
       "4  Mr. McDonough gives a US perspective on Econom...  William J McDonough   \n",
       "\n",
       "        date2 date_datetime       close  \n",
       "0  1996-12-19    1996-12-19  745.760010  \n",
       "1  1997-04-24    1997-04-24  771.179993  \n",
       "2  1997-12-15    1997-12-15  963.390015  \n",
       "3  1997-12-02    1997-12-02  971.679993  \n",
       "4  1997-11-17    1997-11-17  946.200012  "
      ]
     },
     "metadata": {},
     "output_type": "display_data"
    }
   ],
   "source": [
    "#переименовываем столбцы\n",
    "speeches_1996_2023_frs_merge = speeches_1996_2023_frs_merge.rename(columns={'Close': 'close'})\n",
    "display(speeches_1996_2023_frs_merge.head())"
   ]
  },
  {
   "cell_type": "markdown",
   "id": "c26e0813",
   "metadata": {},
   "source": [
    "Оставили только необходимые столбцы"
   ]
  },
  {
   "cell_type": "code",
   "execution_count": 26,
   "id": "5413f253",
   "metadata": {},
   "outputs": [
    {
     "data": {
      "text/html": [
       "<div>\n",
       "<style scoped>\n",
       "    .dataframe tbody tr th:only-of-type {\n",
       "        vertical-align: middle;\n",
       "    }\n",
       "\n",
       "    .dataframe tbody tr th {\n",
       "        vertical-align: top;\n",
       "    }\n",
       "\n",
       "    .dataframe thead th {\n",
       "        text-align: right;\n",
       "    }\n",
       "</style>\n",
       "<table border=\"1\" class=\"dataframe\">\n",
       "  <thead>\n",
       "    <tr style=\"text-align: right;\">\n",
       "      <th></th>\n",
       "      <th>text</th>\n",
       "      <th>close</th>\n",
       "    </tr>\n",
       "  </thead>\n",
       "  <tbody>\n",
       "    <tr>\n",
       "      <th>0</th>\n",
       "      <td>Ms. Rivlin discusses the prudential regulation...</td>\n",
       "      <td>745.760010</td>\n",
       "    </tr>\n",
       "    <tr>\n",
       "      <th>1</th>\n",
       "      <td>Mr. Meyer discusses the economic outlook and t...</td>\n",
       "      <td>771.179993</td>\n",
       "    </tr>\n",
       "    <tr>\n",
       "      <th>2</th>\n",
       "      <td>Mr. Kelley discusses the \"Millennium Bug\" from...</td>\n",
       "      <td>963.390015</td>\n",
       "    </tr>\n",
       "    <tr>\n",
       "      <th>3</th>\n",
       "      <td>Mr. Greenspan's remarks to the Economic Club o...</td>\n",
       "      <td>971.679993</td>\n",
       "    </tr>\n",
       "    <tr>\n",
       "      <th>4</th>\n",
       "      <td>Mr. McDonough gives a US perspective on Econom...</td>\n",
       "      <td>946.200012</td>\n",
       "    </tr>\n",
       "    <tr>\n",
       "      <th>5</th>\n",
       "      <td>Mr. Greenspan's remarks at the Center for Fina...</td>\n",
       "      <td>927.510010</td>\n",
       "    </tr>\n",
       "    <tr>\n",
       "      <th>6</th>\n",
       "      <td>Mr. Greenspan's testimony before the House of ...</td>\n",
       "      <td>916.659973</td>\n",
       "    </tr>\n",
       "    <tr>\n",
       "      <th>7</th>\n",
       "      <td>Remarks by Ms. Phillips at the Asset/Liability...</td>\n",
       "      <td>940.760010</td>\n",
       "    </tr>\n",
       "    <tr>\n",
       "      <th>8</th>\n",
       "      <td>Ms. Phillips discusses trends and challenges i...</td>\n",
       "      <td>903.679993</td>\n",
       "    </tr>\n",
       "    <tr>\n",
       "      <th>9</th>\n",
       "      <td>Mr. Kelley's testimony to the US House of Repr...</td>\n",
       "      <td>940.760010</td>\n",
       "    </tr>\n",
       "    <tr>\n",
       "      <th>10</th>\n",
       "      <td>Mr. Greenspan's testimony before the Joint Eco...</td>\n",
       "      <td>919.159973</td>\n",
       "    </tr>\n",
       "    <tr>\n",
       "      <th>11</th>\n",
       "      <td>Ms. Phillips reassesses the stock market crash...</td>\n",
       "      <td>965.719971</td>\n",
       "    </tr>\n",
       "    <tr>\n",
       "      <th>12</th>\n",
       "      <td>Mr. Greenspan inaugurates a series of economic...</td>\n",
       "      <td>970.280029</td>\n",
       "    </tr>\n",
       "    <tr>\n",
       "      <th>13</th>\n",
       "      <td>Mr. Meyer focuses on the effect of globalizati...</td>\n",
       "      <td>970.280029</td>\n",
       "    </tr>\n",
       "    <tr>\n",
       "      <th>14</th>\n",
       "      <td>Remarks by the Chairman\\nMr. Greenspan conside...</td>\n",
       "      <td>970.280029</td>\n",
       "    </tr>\n",
       "    <tr>\n",
       "      <th>15</th>\n",
       "      <td>Mr. Greenspan's testimony before the US House ...</td>\n",
       "      <td>973.840027</td>\n",
       "    </tr>\n",
       "    <tr>\n",
       "      <th>16</th>\n",
       "      <td>Ms. Phillips' testimony before the Subcommitte...</td>\n",
       "      <td>973.840027</td>\n",
       "    </tr>\n",
       "    <tr>\n",
       "      <th>18</th>\n",
       "      <td>Ms. Phillips discusses the Federal Reserve Boa...</td>\n",
       "      <td>955.409973</td>\n",
       "    </tr>\n",
       "    <tr>\n",
       "      <th>19</th>\n",
       "      <td>Mr. Kelley looks at the role of the Federal Re...</td>\n",
       "      <td>951.929993</td>\n",
       "    </tr>\n",
       "    <tr>\n",
       "      <th>20</th>\n",
       "      <td>Ms. Phillips discusses derivatives and risk ma...</td>\n",
       "      <td>947.280029</td>\n",
       "    </tr>\n",
       "  </tbody>\n",
       "</table>\n",
       "</div>"
      ],
      "text/plain": [
       "                                                 text       close\n",
       "0   Ms. Rivlin discusses the prudential regulation...  745.760010\n",
       "1   Mr. Meyer discusses the economic outlook and t...  771.179993\n",
       "2   Mr. Kelley discusses the \"Millennium Bug\" from...  963.390015\n",
       "3   Mr. Greenspan's remarks to the Economic Club o...  971.679993\n",
       "4   Mr. McDonough gives a US perspective on Econom...  946.200012\n",
       "5   Mr. Greenspan's remarks at the Center for Fina...  927.510010\n",
       "6   Mr. Greenspan's testimony before the House of ...  916.659973\n",
       "7   Remarks by Ms. Phillips at the Asset/Liability...  940.760010\n",
       "8   Ms. Phillips discusses trends and challenges i...  903.679993\n",
       "9   Mr. Kelley's testimony to the US House of Repr...  940.760010\n",
       "10  Mr. Greenspan's testimony before the Joint Eco...  919.159973\n",
       "11  Ms. Phillips reassesses the stock market crash...  965.719971\n",
       "12  Mr. Greenspan inaugurates a series of economic...  970.280029\n",
       "13  Mr. Meyer focuses on the effect of globalizati...  970.280029\n",
       "14  Remarks by the Chairman\\nMr. Greenspan conside...  970.280029\n",
       "15  Mr. Greenspan's testimony before the US House ...  973.840027\n",
       "16  Ms. Phillips' testimony before the Subcommitte...  973.840027\n",
       "18  Ms. Phillips discusses the Federal Reserve Boa...  955.409973\n",
       "19  Mr. Kelley looks at the role of the Federal Re...  951.929993\n",
       "20  Ms. Phillips discusses derivatives and risk ma...  947.280029"
      ]
     },
     "metadata": {},
     "output_type": "display_data"
    }
   ],
   "source": [
    "#убираем лишние столбцы\n",
    "speeches_final = speeches_1996_2023_frs_merge.drop\\\n",
    "(['url', 'title', 'description', 'date', 'author', 'date2', 'date_datetime'], axis=True)\n",
    "display(speeches_final.head(20))"
   ]
  },
  {
   "cell_type": "markdown",
   "id": "dca7d59c",
   "metadata": {},
   "source": [
    "Обновили индексы"
   ]
  },
  {
   "cell_type": "code",
   "execution_count": 37,
   "id": "c8ed9f87",
   "metadata": {},
   "outputs": [
    {
     "data": {
      "text/html": [
       "<div>\n",
       "<style scoped>\n",
       "    .dataframe tbody tr th:only-of-type {\n",
       "        vertical-align: middle;\n",
       "    }\n",
       "\n",
       "    .dataframe tbody tr th {\n",
       "        vertical-align: top;\n",
       "    }\n",
       "\n",
       "    .dataframe thead th {\n",
       "        text-align: right;\n",
       "    }\n",
       "</style>\n",
       "<table border=\"1\" class=\"dataframe\">\n",
       "  <thead>\n",
       "    <tr style=\"text-align: right;\">\n",
       "      <th></th>\n",
       "      <th>text</th>\n",
       "      <th>close</th>\n",
       "    </tr>\n",
       "  </thead>\n",
       "  <tbody>\n",
       "    <tr>\n",
       "      <th>0</th>\n",
       "      <td>Ms. Rivlin discusses the prudential regulation...</td>\n",
       "      <td>745.760010</td>\n",
       "    </tr>\n",
       "    <tr>\n",
       "      <th>1</th>\n",
       "      <td>Mr. Meyer discusses the economic outlook and t...</td>\n",
       "      <td>771.179993</td>\n",
       "    </tr>\n",
       "    <tr>\n",
       "      <th>2</th>\n",
       "      <td>Mr. Kelley discusses the \"Millennium Bug\" from...</td>\n",
       "      <td>963.390015</td>\n",
       "    </tr>\n",
       "    <tr>\n",
       "      <th>3</th>\n",
       "      <td>Mr. Greenspan's remarks to the Economic Club o...</td>\n",
       "      <td>971.679993</td>\n",
       "    </tr>\n",
       "    <tr>\n",
       "      <th>4</th>\n",
       "      <td>Mr. McDonough gives a US perspective on Econom...</td>\n",
       "      <td>946.200012</td>\n",
       "    </tr>\n",
       "    <tr>\n",
       "      <th>5</th>\n",
       "      <td>Mr. Greenspan's remarks at the Center for Fina...</td>\n",
       "      <td>927.510010</td>\n",
       "    </tr>\n",
       "    <tr>\n",
       "      <th>6</th>\n",
       "      <td>Mr. Greenspan's testimony before the House of ...</td>\n",
       "      <td>916.659973</td>\n",
       "    </tr>\n",
       "    <tr>\n",
       "      <th>7</th>\n",
       "      <td>Remarks by Ms. Phillips at the Asset/Liability...</td>\n",
       "      <td>940.760010</td>\n",
       "    </tr>\n",
       "    <tr>\n",
       "      <th>8</th>\n",
       "      <td>Ms. Phillips discusses trends and challenges i...</td>\n",
       "      <td>903.679993</td>\n",
       "    </tr>\n",
       "    <tr>\n",
       "      <th>9</th>\n",
       "      <td>Mr. Kelley's testimony to the US House of Repr...</td>\n",
       "      <td>940.760010</td>\n",
       "    </tr>\n",
       "    <tr>\n",
       "      <th>10</th>\n",
       "      <td>Mr. Greenspan's testimony before the Joint Eco...</td>\n",
       "      <td>919.159973</td>\n",
       "    </tr>\n",
       "    <tr>\n",
       "      <th>11</th>\n",
       "      <td>Ms. Phillips reassesses the stock market crash...</td>\n",
       "      <td>965.719971</td>\n",
       "    </tr>\n",
       "    <tr>\n",
       "      <th>12</th>\n",
       "      <td>Mr. Greenspan inaugurates a series of economic...</td>\n",
       "      <td>970.280029</td>\n",
       "    </tr>\n",
       "    <tr>\n",
       "      <th>13</th>\n",
       "      <td>Mr. Meyer focuses on the effect of globalizati...</td>\n",
       "      <td>970.280029</td>\n",
       "    </tr>\n",
       "    <tr>\n",
       "      <th>14</th>\n",
       "      <td>Remarks by the Chairman\\nMr. Greenspan conside...</td>\n",
       "      <td>970.280029</td>\n",
       "    </tr>\n",
       "    <tr>\n",
       "      <th>15</th>\n",
       "      <td>Mr. Greenspan's testimony before the US House ...</td>\n",
       "      <td>973.840027</td>\n",
       "    </tr>\n",
       "    <tr>\n",
       "      <th>16</th>\n",
       "      <td>Ms. Phillips' testimony before the Subcommitte...</td>\n",
       "      <td>973.840027</td>\n",
       "    </tr>\n",
       "    <tr>\n",
       "      <th>17</th>\n",
       "      <td>Ms. Phillips discusses the Federal Reserve Boa...</td>\n",
       "      <td>955.409973</td>\n",
       "    </tr>\n",
       "    <tr>\n",
       "      <th>18</th>\n",
       "      <td>Mr. Kelley looks at the role of the Federal Re...</td>\n",
       "      <td>951.929993</td>\n",
       "    </tr>\n",
       "    <tr>\n",
       "      <th>19</th>\n",
       "      <td>Ms. Phillips discusses derivatives and risk ma...</td>\n",
       "      <td>947.280029</td>\n",
       "    </tr>\n",
       "  </tbody>\n",
       "</table>\n",
       "</div>"
      ],
      "text/plain": [
       "                                                 text       close\n",
       "0   Ms. Rivlin discusses the prudential regulation...  745.760010\n",
       "1   Mr. Meyer discusses the economic outlook and t...  771.179993\n",
       "2   Mr. Kelley discusses the \"Millennium Bug\" from...  963.390015\n",
       "3   Mr. Greenspan's remarks to the Economic Club o...  971.679993\n",
       "4   Mr. McDonough gives a US perspective on Econom...  946.200012\n",
       "5   Mr. Greenspan's remarks at the Center for Fina...  927.510010\n",
       "6   Mr. Greenspan's testimony before the House of ...  916.659973\n",
       "7   Remarks by Ms. Phillips at the Asset/Liability...  940.760010\n",
       "8   Ms. Phillips discusses trends and challenges i...  903.679993\n",
       "9   Mr. Kelley's testimony to the US House of Repr...  940.760010\n",
       "10  Mr. Greenspan's testimony before the Joint Eco...  919.159973\n",
       "11  Ms. Phillips reassesses the stock market crash...  965.719971\n",
       "12  Mr. Greenspan inaugurates a series of economic...  970.280029\n",
       "13  Mr. Meyer focuses on the effect of globalizati...  970.280029\n",
       "14  Remarks by the Chairman\\nMr. Greenspan conside...  970.280029\n",
       "15  Mr. Greenspan's testimony before the US House ...  973.840027\n",
       "16  Ms. Phillips' testimony before the Subcommitte...  973.840027\n",
       "17  Ms. Phillips discusses the Federal Reserve Boa...  955.409973\n",
       "18  Mr. Kelley looks at the role of the Federal Re...  951.929993\n",
       "19  Ms. Phillips discusses derivatives and risk ma...  947.280029"
      ]
     },
     "metadata": {},
     "output_type": "display_data"
    },
    {
     "name": "stdout",
     "output_type": "stream",
     "text": [
      "\n",
      "(2216, 2)\n"
     ]
    }
   ],
   "source": [
    "speeches_final = speeches_final.reset_index(drop=True)\n",
    "display(speeches_final.head(20))\n",
    "print()\n",
    "print(speeches_final.shape)"
   ]
  },
  {
   "cell_type": "markdown",
   "id": "a1aefe3b",
   "metadata": {},
   "source": [
    "Текст на кирилице отсутствует"
   ]
  },
  {
   "cell_type": "code",
   "execution_count": 35,
   "id": "1d2f533e",
   "metadata": {},
   "outputs": [
    {
     "name": "stdout",
     "output_type": "stream",
     "text": [
      "0\n",
      "0.0\n"
     ]
    }
   ],
   "source": [
    "#нет ли кирилицы в данных\n",
    "pattern = r'[а-яА-ЯёЁ]'\n",
    "kirill_list = []\n",
    "n = 0\n",
    "for i in range(0, len(speeches_final)):\n",
    "    if re.search(pattern, speeches_final.loc[i, 'text']):\n",
    "        n += 1\n",
    "        kirill_list.append(i)\n",
    "print(n)\n",
    "print(n / len(speeches_final))"
   ]
  },
  {
   "cell_type": "markdown",
   "id": "587055d6",
   "metadata": {},
   "source": [
    "Осуществили токенизацию и лемматизацию текста"
   ]
  },
  {
   "cell_type": "code",
   "execution_count": 36,
   "id": "31332720",
   "metadata": {
    "scrolled": false
   },
   "outputs": [
    {
     "name": "stdout",
     "output_type": "stream",
     "text": [
      "Wall time: 1h 5min 14s\n"
     ]
    }
   ],
   "source": [
    "%%time\n",
    "#лемматизируем текст\n",
    "def get_wordnet_pos(word):\n",
    "    \"\"\"Map POS tag to first character lemmatize() accepts\"\"\"\n",
    "    tag = nltk.pos_tag([word])[0][1][0].upper()\n",
    "    tag_dict = {\"J\": wordnet.ADJ,\n",
    "                \"N\": wordnet.NOUN,\n",
    "                \"V\": wordnet.VERB,\n",
    "                \"R\": wordnet.ADV}\n",
    "    return tag_dict.get(tag, wordnet.NOUN)\n",
    "# 1. Init Lemmatizer\n",
    "lemmatizer = WordNetLemmatizer()\n",
    "# 3. Lemmatize a Sentence with the appropriate POS tag\n",
    "lemm_list = []\n",
    "for i in range(0, len(speeches_final)):\n",
    "    latin = re.sub(r'[^a-zA-Z ]', ' ', speeches_final.loc[i, 'text'])\n",
    "    latin_lemm = [lemmatizer.lemmatize(w, get_wordnet_pos(w)) for w in nltk.word_tokenize(latin)]\n",
    "    latin_lemm_join = ' '.join(latin_lemm)\n",
    "    lemm_list.append(latin_lemm_join)"
   ]
  },
  {
   "cell_type": "code",
   "execution_count": 38,
   "id": "23a05850",
   "metadata": {},
   "outputs": [
    {
     "name": "stdout",
     "output_type": "stream",
     "text": [
      "2216\n"
     ]
    }
   ],
   "source": [
    "#длина списка\n",
    "print(len(lemm_list))"
   ]
  },
  {
   "cell_type": "markdown",
   "id": "e85b6db9",
   "metadata": {},
   "source": [
    "Присоединили лемматизированный текст к основному df"
   ]
  },
  {
   "cell_type": "code",
   "execution_count": 39,
   "id": "c52f90c0",
   "metadata": {},
   "outputs": [
    {
     "data": {
      "text/html": [
       "<div>\n",
       "<style scoped>\n",
       "    .dataframe tbody tr th:only-of-type {\n",
       "        vertical-align: middle;\n",
       "    }\n",
       "\n",
       "    .dataframe tbody tr th {\n",
       "        vertical-align: top;\n",
       "    }\n",
       "\n",
       "    .dataframe thead th {\n",
       "        text-align: right;\n",
       "    }\n",
       "</style>\n",
       "<table border=\"1\" class=\"dataframe\">\n",
       "  <thead>\n",
       "    <tr style=\"text-align: right;\">\n",
       "      <th></th>\n",
       "      <th>text</th>\n",
       "      <th>close</th>\n",
       "      <th>lemm_text</th>\n",
       "    </tr>\n",
       "  </thead>\n",
       "  <tbody>\n",
       "    <tr>\n",
       "      <th>0</th>\n",
       "      <td>Ms. Rivlin discusses the prudential regulation...</td>\n",
       "      <td>745.760010</td>\n",
       "      <td>Ms Rivlin discus the prudential regulation of ...</td>\n",
       "    </tr>\n",
       "    <tr>\n",
       "      <th>1</th>\n",
       "      <td>Mr. Meyer discusses the economic outlook and t...</td>\n",
       "      <td>771.179993</td>\n",
       "      <td>Mr Meyer discus the economic outlook and the c...</td>\n",
       "    </tr>\n",
       "    <tr>\n",
       "      <th>2</th>\n",
       "      <td>Mr. Kelley discusses the \"Millennium Bug\" from...</td>\n",
       "      <td>963.390015</td>\n",
       "      <td>Mr Kelley discus the Millennium Bug from a pub...</td>\n",
       "    </tr>\n",
       "    <tr>\n",
       "      <th>3</th>\n",
       "      <td>Mr. Greenspan's remarks to the Economic Club o...</td>\n",
       "      <td>971.679993</td>\n",
       "      <td>Mr Greenspan s remark to the Economic Club of ...</td>\n",
       "    </tr>\n",
       "    <tr>\n",
       "      <th>4</th>\n",
       "      <td>Mr. McDonough gives a US perspective on Econom...</td>\n",
       "      <td>946.200012</td>\n",
       "      <td>Mr McDonough give a US perspective on Economic...</td>\n",
       "    </tr>\n",
       "  </tbody>\n",
       "</table>\n",
       "</div>"
      ],
      "text/plain": [
       "                                                text       close  \\\n",
       "0  Ms. Rivlin discusses the prudential regulation...  745.760010   \n",
       "1  Mr. Meyer discusses the economic outlook and t...  771.179993   \n",
       "2  Mr. Kelley discusses the \"Millennium Bug\" from...  963.390015   \n",
       "3  Mr. Greenspan's remarks to the Economic Club o...  971.679993   \n",
       "4  Mr. McDonough gives a US perspective on Econom...  946.200012   \n",
       "\n",
       "                                           lemm_text  \n",
       "0  Ms Rivlin discus the prudential regulation of ...  \n",
       "1  Mr Meyer discus the economic outlook and the c...  \n",
       "2  Mr Kelley discus the Millennium Bug from a pub...  \n",
       "3  Mr Greenspan s remark to the Economic Club of ...  \n",
       "4  Mr McDonough give a US perspective on Economic...  "
      ]
     },
     "metadata": {},
     "output_type": "display_data"
    }
   ],
   "source": [
    "#присоединяем Series к DataFrame\n",
    "lemm_text = pd.Series(lemm_list, name='lemm_text')\n",
    "speeches_final_lemm = pd.concat([speeches_final, lemm_text.to_frame()], axis=1)\n",
    "display(speeches_final_lemm.head())"
   ]
  },
  {
   "cell_type": "code",
   "execution_count": 51,
   "id": "9e87744f",
   "metadata": {},
   "outputs": [
    {
     "name": "stdout",
     "output_type": "stream",
     "text": [
      "text          object\n",
      "close        float64\n",
      "lemm_text     object\n",
      "dtype: object\n"
     ]
    }
   ],
   "source": [
    "print(speeches_final_lemm.dtypes)"
   ]
  },
  {
   "cell_type": "markdown",
   "id": "d3d4070e",
   "metadata": {},
   "source": [
    "Добавили поле со значением Индекса S&P500 в формате int"
   ]
  },
  {
   "cell_type": "code",
   "execution_count": 53,
   "id": "50f2d35b",
   "metadata": {},
   "outputs": [
    {
     "name": "stdout",
     "output_type": "stream",
     "text": [
      "text          object\n",
      "close        float64\n",
      "lemm_text     object\n",
      "close_int      int32\n",
      "dtype: object\n"
     ]
    },
    {
     "data": {
      "text/html": [
       "<div>\n",
       "<style scoped>\n",
       "    .dataframe tbody tr th:only-of-type {\n",
       "        vertical-align: middle;\n",
       "    }\n",
       "\n",
       "    .dataframe tbody tr th {\n",
       "        vertical-align: top;\n",
       "    }\n",
       "\n",
       "    .dataframe thead th {\n",
       "        text-align: right;\n",
       "    }\n",
       "</style>\n",
       "<table border=\"1\" class=\"dataframe\">\n",
       "  <thead>\n",
       "    <tr style=\"text-align: right;\">\n",
       "      <th></th>\n",
       "      <th>text</th>\n",
       "      <th>close</th>\n",
       "      <th>lemm_text</th>\n",
       "      <th>close_int</th>\n",
       "    </tr>\n",
       "  </thead>\n",
       "  <tbody>\n",
       "    <tr>\n",
       "      <th>0</th>\n",
       "      <td>Ms. Rivlin discusses the prudential regulation...</td>\n",
       "      <td>745.760010</td>\n",
       "      <td>Ms Rivlin discus the prudential regulation of ...</td>\n",
       "      <td>745</td>\n",
       "    </tr>\n",
       "    <tr>\n",
       "      <th>1</th>\n",
       "      <td>Mr. Meyer discusses the economic outlook and t...</td>\n",
       "      <td>771.179993</td>\n",
       "      <td>Mr Meyer discus the economic outlook and the c...</td>\n",
       "      <td>771</td>\n",
       "    </tr>\n",
       "    <tr>\n",
       "      <th>2</th>\n",
       "      <td>Mr. Kelley discusses the \"Millennium Bug\" from...</td>\n",
       "      <td>963.390015</td>\n",
       "      <td>Mr Kelley discus the Millennium Bug from a pub...</td>\n",
       "      <td>963</td>\n",
       "    </tr>\n",
       "    <tr>\n",
       "      <th>3</th>\n",
       "      <td>Mr. Greenspan's remarks to the Economic Club o...</td>\n",
       "      <td>971.679993</td>\n",
       "      <td>Mr Greenspan s remark to the Economic Club of ...</td>\n",
       "      <td>971</td>\n",
       "    </tr>\n",
       "    <tr>\n",
       "      <th>4</th>\n",
       "      <td>Mr. McDonough gives a US perspective on Econom...</td>\n",
       "      <td>946.200012</td>\n",
       "      <td>Mr McDonough give a US perspective on Economic...</td>\n",
       "      <td>946</td>\n",
       "    </tr>\n",
       "  </tbody>\n",
       "</table>\n",
       "</div>"
      ],
      "text/plain": [
       "                                                text       close  \\\n",
       "0  Ms. Rivlin discusses the prudential regulation...  745.760010   \n",
       "1  Mr. Meyer discusses the economic outlook and t...  771.179993   \n",
       "2  Mr. Kelley discusses the \"Millennium Bug\" from...  963.390015   \n",
       "3  Mr. Greenspan's remarks to the Economic Club o...  971.679993   \n",
       "4  Mr. McDonough gives a US perspective on Econom...  946.200012   \n",
       "\n",
       "                                           lemm_text  close_int  \n",
       "0  Ms Rivlin discus the prudential regulation of ...        745  \n",
       "1  Mr Meyer discus the economic outlook and the c...        771  \n",
       "2  Mr Kelley discus the Millennium Bug from a pub...        963  \n",
       "3  Mr Greenspan s remark to the Economic Club of ...        971  \n",
       "4  Mr McDonough give a US perspective on Economic...        946  "
      ]
     },
     "metadata": {},
     "output_type": "display_data"
    }
   ],
   "source": [
    "speeches_final_lemm['close_int'] = speeches_final_lemm['close'].astype(int)\n",
    "print(speeches_final_lemm.dtypes)\n",
    "display(speeches_final_lemm.head())"
   ]
  },
  {
   "cell_type": "markdown",
   "id": "4a9d54e9",
   "metadata": {},
   "source": [
    "Загрузили перечень стоп-слов английского языка для последующего использования"
   ]
  },
  {
   "cell_type": "code",
   "execution_count": 40,
   "id": "dda2d934",
   "metadata": {},
   "outputs": [],
   "source": [
    "#англоязычные стоп-слова\n",
    "stopwords = set(stopwords.words('english'))"
   ]
  },
  {
   "cell_type": "markdown",
   "id": "482189c0",
   "metadata": {},
   "source": [
    "### Работа с моделями"
   ]
  },
  {
   "cell_type": "markdown",
   "id": "c6664a08",
   "metadata": {},
   "source": [
    "- Создали счетчик для TF-IDF, оценивающего важность каждого слова\n",
    "- Разбили представленные данные на две выборки\n",
    "- Посчитали TF-IDF для каждой выборки\n",
    "- Обучили модели с использованием Линейной регрессии и Решающего дерева, оценили их качество\n",
    "- По итогам сравнения качества моделей наилучший результат получили у модели, построенной с использованием Линейной регрессии, качество модели R2 составило 0.82\n",
    "- Качество достаточно высокое - можно попробовать использовать данную модель для прогнозирования реакции рынков на выступления глав ЦБ"
   ]
  },
  {
   "cell_type": "code",
   "execution_count": 41,
   "id": "77912ae4",
   "metadata": {},
   "outputs": [],
   "source": [
    "#создаем счетчик для TF-IDF\n",
    "count_tf_idf = TfidfVectorizer(stop_words=stopwords)"
   ]
  },
  {
   "cell_type": "code",
   "execution_count": 54,
   "id": "3fbededf",
   "metadata": {},
   "outputs": [],
   "source": [
    "#разбиваем данные на выборки\n",
    "train, test = train_test_split(speeches_final_lemm, test_size=0.25, random_state=777)"
   ]
  },
  {
   "cell_type": "code",
   "execution_count": 55,
   "id": "1f8c8569",
   "metadata": {},
   "outputs": [
    {
     "name": "stdout",
     "output_type": "stream",
     "text": [
      "train (1662, 4)\n",
      "test (554, 4)\n"
     ]
    }
   ],
   "source": [
    "#проверяем размеры выборок\n",
    "print('train', train.shape)\n",
    "print('test', test.shape)"
   ]
  },
  {
   "cell_type": "code",
   "execution_count": 56,
   "id": "b99968d8",
   "metadata": {},
   "outputs": [],
   "source": [
    "#считаем TF-IDF (оценка важности слова)\n",
    "#train\n",
    "tf_idf_train = count_tf_idf.fit_transform(train['lemm_text'])\n",
    "#Если данные разделены на обучающую и тестовую выборки, функцию fit() запускайте только на обучающей\n",
    "#test\n",
    "tf_idf_test = count_tf_idf.transform(test['lemm_text'])"
   ]
  },
  {
   "cell_type": "code",
   "execution_count": 60,
   "id": "d307698d",
   "metadata": {},
   "outputs": [
    {
     "name": "stdout",
     "output_type": "stream",
     "text": [
      "R2 = 0.8217413076001703\n"
     ]
    }
   ],
   "source": [
    "#LinearRegression\n",
    "model_lr = LinearRegression()\n",
    "model_lr.fit(tf_idf_train, train['close_int'])\n",
    "predictions = model_lr.predict(tf_idf_test)\n",
    "print(\"R2 =\", r2_score(test['close_int'], predictions))"
   ]
  },
  {
   "cell_type": "code",
   "execution_count": 61,
   "id": "e8b0bab4",
   "metadata": {},
   "outputs": [
    {
     "name": "stdout",
     "output_type": "stream",
     "text": [
      "1\n",
      "R2 = 0.49991967642254775\n",
      "\n",
      "2\n",
      "R2 = 0.544738973804904\n",
      "\n",
      "3\n",
      "R2 = 0.6126915997473803\n",
      "\n",
      "4\n",
      "R2 = 0.6302338652688134\n",
      "\n",
      "5\n",
      "R2 = 0.6201632726033104\n",
      "\n",
      "Wall time: 1.93 s\n"
     ]
    }
   ],
   "source": [
    "%%time\n",
    "#дерево решений\n",
    "for depth in range(1, 6):\n",
    "    model_dt = DecisionTreeRegressor(random_state=12345, max_depth=depth)\n",
    "    model_dt.fit(tf_idf_train, train['close_int'])\n",
    "    predictions = model_dt.predict(tf_idf_test)\n",
    "    print(depth)\n",
    "    print(\"R2 =\", r2_score(test['close_int'], predictions))\n",
    "    print()"
   ]
  },
  {
   "cell_type": "code",
   "execution_count": null,
   "id": "292a868c",
   "metadata": {},
   "outputs": [],
   "source": []
  }
 ],
 "metadata": {
  "kernelspec": {
   "display_name": "Python 3 (ipykernel)",
   "language": "python",
   "name": "python3"
  },
  "language_info": {
   "codemirror_mode": {
    "name": "ipython",
    "version": 3
   },
   "file_extension": ".py",
   "mimetype": "text/x-python",
   "name": "python",
   "nbconvert_exporter": "python",
   "pygments_lexer": "ipython3",
   "version": "3.9.13"
  }
 },
 "nbformat": 4,
 "nbformat_minor": 5
}
