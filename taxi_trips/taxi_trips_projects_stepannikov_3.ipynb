{
 "cells": [
  {
   "cell_type": "markdown",
   "id": "eff3790f-f7d8-4bef-802a-797da8a021a9",
   "metadata": {},
   "source": [
    "# ПРОЕКТ \"ПРОГНОЗИРОВАНИЕ СПРОСА НА ТАКСИ\""
   ]
  },
  {
   "cell_type": "markdown",
   "id": "dac618b9-c605-43e4-b996-392dcd77f09d",
   "metadata": {},
   "source": [
    "В рамках проекта перед нами поставлена задача предсказать кол-во заказов такси на следующий час в каждом округе (community)"
   ]
  },
  {
   "cell_type": "code",
   "execution_count": 1,
   "id": "e92ac4df-8b20-4d34-a99f-5d6fcc003117",
   "metadata": {},
   "outputs": [],
   "source": [
    "#импортируем из библиотеки PySpark объект SparkContext \n",
    "#отвечает за операции с кластером в Spark\n",
    "from pyspark import SparkContext, SparkConf\n",
    "from pyspark.sql import SparkSession, Window\n",
    "from pyspark.sql.types import *\n",
    "import pyspark.sql.functions as F\n",
    "from pyspark.sql.functions import *"
   ]
  },
  {
   "cell_type": "code",
   "execution_count": 2,
   "id": "1418cc28-968a-4e8e-91a3-eb7bfbfe6048",
   "metadata": {},
   "outputs": [],
   "source": [
    "import pandas as pd\n",
    "import numpy as np\n",
    "import matplotlib.pyplot as plt\n",
    "from statsmodels.tsa.seasonal import seasonal_decompose\n",
    "import statistics"
   ]
  },
  {
   "cell_type": "code",
   "execution_count": 3,
   "id": "f628372c-7369-4e57-816b-8ea2067a0582",
   "metadata": {},
   "outputs": [],
   "source": [
    "from functools import reduce"
   ]
  },
  {
   "cell_type": "code",
   "execution_count": 4,
   "id": "8f25218f-8f27-496b-abaa-bb7cfe3a67f1",
   "metadata": {},
   "outputs": [],
   "source": [
    "from pyspark.ml.regression import LinearRegression\n",
    "from pyspark.ml.feature import VectorAssembler\n",
    "from pyspark.ml.tuning import CrossValidator, ParamGridBuilder\n",
    "from pyspark.ml.evaluation import RegressionEvaluator"
   ]
  },
  {
   "cell_type": "code",
   "execution_count": 5,
   "id": "9d791769-99cb-4dde-9b6b-359c53e52899",
   "metadata": {},
   "outputs": [],
   "source": [
    "#задаем случайное число\n",
    "SEED = 58"
   ]
  },
  {
   "cell_type": "code",
   "execution_count": 6,
   "id": "11f8f04e-220c-4f00-b8e9-a03acd0be8ec",
   "metadata": {},
   "outputs": [],
   "source": [
    "# Вводим Spark Master IP, который выдаст нам скрипт\n",
    "SPARK_MASTER_IP = '172.18.0.2'\n",
    "spark = SparkSession.builder.appName(\"pyspark-taxi-forecasting\") \\\n",
    "    .master(f\"spark://{SPARK_MASTER_IP}:7077\") \\\n",
    "    .config(\"spark.executor.cores\", 1) \\\n",
    "    .config(\"spark.task.cpus\", 1) \\\n",
    "    .getOrCreate()"
   ]
  },
  {
   "cell_type": "code",
   "execution_count": 7,
   "id": "e81b8c87-d850-4693-8a34-b32d67f77b88",
   "metadata": {},
   "outputs": [
    {
     "data": {
      "text/html": [
       "\n",
       "            <div>\n",
       "                <p><b>SparkSession - in-memory</b></p>\n",
       "                \n",
       "        <div>\n",
       "            <p><b>SparkContext</b></p>\n",
       "\n",
       "            <p><a href=\"http://9f5206a69f4c:4040\">Spark UI</a></p>\n",
       "\n",
       "            <dl>\n",
       "              <dt>Version</dt>\n",
       "                <dd><code>v3.4.1</code></dd>\n",
       "              <dt>Master</dt>\n",
       "                <dd><code>spark://172.18.0.2:7077</code></dd>\n",
       "              <dt>AppName</dt>\n",
       "                <dd><code>pyspark-taxi-forecasting</code></dd>\n",
       "            </dl>\n",
       "        </div>\n",
       "        \n",
       "            </div>\n",
       "        "
      ],
      "text/plain": [
       "<pyspark.sql.session.SparkSession at 0x7f7b9a221050>"
      ]
     },
     "execution_count": 7,
     "metadata": {},
     "output_type": "execute_result"
    }
   ],
   "source": [
    "spark"
   ]
  },
  {
   "cell_type": "code",
   "execution_count": 8,
   "id": "dc06a85d-ccb1-4e29-a4ef-9f4fd8bf27b3",
   "metadata": {},
   "outputs": [
    {
     "data": {
      "text/html": [
       "\n",
       "        <div>\n",
       "            <p><b>SparkContext</b></p>\n",
       "\n",
       "            <p><a href=\"http://9f5206a69f4c:4040\">Spark UI</a></p>\n",
       "\n",
       "            <dl>\n",
       "              <dt>Version</dt>\n",
       "                <dd><code>v3.4.1</code></dd>\n",
       "              <dt>Master</dt>\n",
       "                <dd><code>spark://172.18.0.2:7077</code></dd>\n",
       "              <dt>AppName</dt>\n",
       "                <dd><code>pyspark-taxi-forecasting</code></dd>\n",
       "            </dl>\n",
       "        </div>\n",
       "        "
      ],
      "text/plain": [
       "<SparkContext master=spark://172.18.0.2:7077 appName=pyspark-taxi-forecasting>"
      ]
     },
     "execution_count": 8,
     "metadata": {},
     "output_type": "execute_result"
    }
   ],
   "source": [
    "#sparkContext - точка входа в Spark приложение\n",
    "sc = spark.sparkContext\n",
    "sc"
   ]
  },
  {
   "cell_type": "markdown",
   "id": "c208ddcf-63e0-4074-a051-cdb85f90cf84",
   "metadata": {},
   "source": [
    "## Загрузка данных из csv файлов в DataFrame"
   ]
  },
  {
   "cell_type": "code",
   "execution_count": 9,
   "id": "22c9ae81-a067-45ad-9652-5c7a2bb36437",
   "metadata": {},
   "outputs": [],
   "source": [
    "# определяем схему, соответствующую строке в файле данных csv.\n",
    "#nullable enable: задает контекст заметки, допускающий значение NULL\n",
    "schema = StructType([\n",
    "    StructField(\"Trip ID\", StringType(), nullable=True),\n",
    "    StructField(\"Taxi ID\", StringType(), nullable=True),\n",
    "    StructField(\"Trip Start Timestamp\", StringType(), nullable=True),\n",
    "    StructField(\"Trip End Timestamp\", StringType(), nullable=True),\n",
    "    StructField(\"Trip Seconds\", FloatType(), nullable=True),\n",
    "    StructField(\"Trip Miles\", FloatType(), nullable=True),\n",
    "    StructField(\"Pickup Census Tract\", FloatType(), nullable=True),\n",
    "    StructField(\"Dropoff Census Tract\", FloatType(), nullable=True),\n",
    "    StructField(\"Pickup Community Area\", FloatType(), nullable=True),\n",
    "    StructField(\"Dropoff Community Area\", FloatType(), nullable=True),\n",
    "    StructField(\"Fare\", FloatType(), nullable=True),\n",
    "    StructField(\"Tips\", FloatType(), nullable=True),\n",
    "    StructField(\"Tolls\", FloatType(), nullable=True),\n",
    "    StructField(\"Extras\", FloatType(), nullable=True),\n",
    "    StructField(\"Trip Total\", FloatType(), nullable=True),\n",
    "    StructField(\"Payment Type\", StringType(), nullable=True),\n",
    "    StructField(\"Company\", StringType(), nullable=True),\n",
    "    StructField(\"Pickup Centroid Latitude\", FloatType(), nullable=True),\n",
    "    StructField(\"Pickup Centroid Longitude\", FloatType(), nullable=True),\n",
    "    StructField(\"Pickup Centroid Location\", StringType(), nullable=True),\n",
    "    StructField(\"Dropoff Centroid Latitude\", FloatType(), nullable=True),\n",
    "    StructField(\"Dropoff Centroid Longitude\", FloatType(), nullable=True),\n",
    "    StructField(\"Dropoff Centroid Location\", StringType(), nullable=True)]\n",
    ")"
   ]
  },
  {
   "cell_type": "code",
   "execution_count": 10,
   "id": "369fe35a-4011-468a-8b60-bf74dd75e29b",
   "metadata": {},
   "outputs": [],
   "source": [
    "TAXI_DATA_22 = 'Taxi_Trips_-_2022.csv'\n",
    "TAXI_DATA_23 = 'Taxi_Trips_-_2023.csv'"
   ]
  },
  {
   "cell_type": "code",
   "execution_count": 11,
   "id": "d60443a0-9875-4b49-86f7-31502228a0e3",
   "metadata": {},
   "outputs": [],
   "source": [
    "df = spark.read.csv(path=[TAXI_DATA_22, TAXI_DATA_23], schema=schema, header=True).cache()"
   ]
  },
  {
   "cell_type": "code",
   "execution_count": 12,
   "id": "acd7bc54-6a3b-43ae-94c8-2daaa1de4b7e",
   "metadata": {},
   "outputs": [
    {
     "data": {
      "text/html": [
       "<div>\n",
       "<style scoped>\n",
       "    .dataframe tbody tr th:only-of-type {\n",
       "        vertical-align: middle;\n",
       "    }\n",
       "\n",
       "    .dataframe tbody tr th {\n",
       "        vertical-align: top;\n",
       "    }\n",
       "\n",
       "    .dataframe thead th {\n",
       "        text-align: right;\n",
       "    }\n",
       "</style>\n",
       "<table border=\"1\" class=\"dataframe\">\n",
       "  <thead>\n",
       "    <tr style=\"text-align: right;\">\n",
       "      <th></th>\n",
       "      <th>Trip ID</th>\n",
       "      <th>Taxi ID</th>\n",
       "      <th>Trip Start Timestamp</th>\n",
       "      <th>Trip End Timestamp</th>\n",
       "      <th>Trip Seconds</th>\n",
       "      <th>Trip Miles</th>\n",
       "      <th>Pickup Census Tract</th>\n",
       "      <th>Dropoff Census Tract</th>\n",
       "      <th>Pickup Community Area</th>\n",
       "      <th>Dropoff Community Area</th>\n",
       "      <th>...</th>\n",
       "      <th>Extras</th>\n",
       "      <th>Trip Total</th>\n",
       "      <th>Payment Type</th>\n",
       "      <th>Company</th>\n",
       "      <th>Pickup Centroid Latitude</th>\n",
       "      <th>Pickup Centroid Longitude</th>\n",
       "      <th>Pickup Centroid Location</th>\n",
       "      <th>Dropoff Centroid Latitude</th>\n",
       "      <th>Dropoff Centroid Longitude</th>\n",
       "      <th>Dropoff Centroid Location</th>\n",
       "    </tr>\n",
       "  </thead>\n",
       "  <tbody>\n",
       "    <tr>\n",
       "      <th>0</th>\n",
       "      <td>bcfa19f2539021c054809d4c3993d226996ae095</td>\n",
       "      <td>368ce5511598af2cc07efdb68067d381174fdac1d47a28...</td>\n",
       "      <td>01/01/2022 12:00:00 AM</td>\n",
       "      <td>01/01/2022 12:00:00 AM</td>\n",
       "      <td>152.0</td>\n",
       "      <td>0.100000</td>\n",
       "      <td>NaN</td>\n",
       "      <td>NaN</td>\n",
       "      <td>NaN</td>\n",
       "      <td>NaN</td>\n",
       "      <td>...</td>\n",
       "      <td>0.0</td>\n",
       "      <td>3.75</td>\n",
       "      <td>Cash</td>\n",
       "      <td>Medallion Leasin</td>\n",
       "      <td>NaN</td>\n",
       "      <td>NaN</td>\n",
       "      <td>None</td>\n",
       "      <td>NaN</td>\n",
       "      <td>NaN</td>\n",
       "      <td>None</td>\n",
       "    </tr>\n",
       "    <tr>\n",
       "      <th>1</th>\n",
       "      <td>2aba69ff015f9ea8e7bff43cab7eddb228f34a12</td>\n",
       "      <td>449fa4909552757130d09d98ebc7770e2dd94579036b0e...</td>\n",
       "      <td>01/01/2022 12:00:00 AM</td>\n",
       "      <td>01/01/2022 12:30:00 AM</td>\n",
       "      <td>2360.0</td>\n",
       "      <td>17.440001</td>\n",
       "      <td>NaN</td>\n",
       "      <td>NaN</td>\n",
       "      <td>NaN</td>\n",
       "      <td>8.0</td>\n",
       "      <td>...</td>\n",
       "      <td>5.0</td>\n",
       "      <td>52.75</td>\n",
       "      <td>Cash</td>\n",
       "      <td>Flash Cab</td>\n",
       "      <td>NaN</td>\n",
       "      <td>NaN</td>\n",
       "      <td>None</td>\n",
       "      <td>41.899601</td>\n",
       "      <td>-87.633308</td>\n",
       "      <td>POINT (-87.6333080367 41.899602111)</td>\n",
       "    </tr>\n",
       "    <tr>\n",
       "      <th>2</th>\n",
       "      <td>54d812a0b88f8f9707825261014b3563a0a60ace</td>\n",
       "      <td>f98ae5e71fdda8806710af321dce58002146886c013f41...</td>\n",
       "      <td>01/01/2022 12:00:00 AM</td>\n",
       "      <td>01/01/2022 12:00:00 AM</td>\n",
       "      <td>536.0</td>\n",
       "      <td>4.830000</td>\n",
       "      <td>NaN</td>\n",
       "      <td>NaN</td>\n",
       "      <td>28.0</td>\n",
       "      <td>22.0</td>\n",
       "      <td>...</td>\n",
       "      <td>0.0</td>\n",
       "      <td>14.75</td>\n",
       "      <td>Cash</td>\n",
       "      <td>Globe Taxi</td>\n",
       "      <td>41.874004</td>\n",
       "      <td>-87.663521</td>\n",
       "      <td>POINT (-87.6635175498 41.874005383)</td>\n",
       "      <td>41.922760</td>\n",
       "      <td>-87.699158</td>\n",
       "      <td>POINT (-87.6991553432 41.9227606205)</td>\n",
       "    </tr>\n",
       "    <tr>\n",
       "      <th>3</th>\n",
       "      <td>7125b9e03a0f16c2dfb5eaf73ed057dc51eb68ef</td>\n",
       "      <td>8eca35a570101ad24c638f1f43eecce9d0cb7843e13a75...</td>\n",
       "      <td>01/01/2022 12:00:00 AM</td>\n",
       "      <td>01/01/2022 12:15:00 AM</td>\n",
       "      <td>897.0</td>\n",
       "      <td>2.070000</td>\n",
       "      <td>NaN</td>\n",
       "      <td>NaN</td>\n",
       "      <td>8.0</td>\n",
       "      <td>32.0</td>\n",
       "      <td>...</td>\n",
       "      <td>1.5</td>\n",
       "      <td>11.25</td>\n",
       "      <td>Cash</td>\n",
       "      <td>Sun Taxi</td>\n",
       "      <td>41.899601</td>\n",
       "      <td>-87.633308</td>\n",
       "      <td>POINT (-87.6333080367 41.899602111)</td>\n",
       "      <td>41.878864</td>\n",
       "      <td>-87.625191</td>\n",
       "      <td>POINT (-87.6251921424 41.8788655841)</td>\n",
       "    </tr>\n",
       "    <tr>\n",
       "      <th>4</th>\n",
       "      <td>f1a650ee419b4e52d766432e6f86eca3457bfb37</td>\n",
       "      <td>e2d8418fcdb061eee0a4318fba0a6a1200aaff0143feb0...</td>\n",
       "      <td>01/01/2022 12:00:00 AM</td>\n",
       "      <td>01/01/2022 12:30:00 AM</td>\n",
       "      <td>2200.0</td>\n",
       "      <td>2.480000</td>\n",
       "      <td>NaN</td>\n",
       "      <td>NaN</td>\n",
       "      <td>8.0</td>\n",
       "      <td>32.0</td>\n",
       "      <td>...</td>\n",
       "      <td>0.0</td>\n",
       "      <td>11.50</td>\n",
       "      <td>Mobile</td>\n",
       "      <td>Chicago Independents</td>\n",
       "      <td>41.899601</td>\n",
       "      <td>-87.633308</td>\n",
       "      <td>POINT (-87.6333080367 41.899602111)</td>\n",
       "      <td>41.878864</td>\n",
       "      <td>-87.625191</td>\n",
       "      <td>POINT (-87.6251921424 41.8788655841)</td>\n",
       "    </tr>\n",
       "  </tbody>\n",
       "</table>\n",
       "<p>5 rows × 23 columns</p>\n",
       "</div>"
      ],
      "text/plain": [
       "                                    Trip ID  \\\n",
       "0  bcfa19f2539021c054809d4c3993d226996ae095   \n",
       "1  2aba69ff015f9ea8e7bff43cab7eddb228f34a12   \n",
       "2  54d812a0b88f8f9707825261014b3563a0a60ace   \n",
       "3  7125b9e03a0f16c2dfb5eaf73ed057dc51eb68ef   \n",
       "4  f1a650ee419b4e52d766432e6f86eca3457bfb37   \n",
       "\n",
       "                                             Taxi ID    Trip Start Timestamp  \\\n",
       "0  368ce5511598af2cc07efdb68067d381174fdac1d47a28...  01/01/2022 12:00:00 AM   \n",
       "1  449fa4909552757130d09d98ebc7770e2dd94579036b0e...  01/01/2022 12:00:00 AM   \n",
       "2  f98ae5e71fdda8806710af321dce58002146886c013f41...  01/01/2022 12:00:00 AM   \n",
       "3  8eca35a570101ad24c638f1f43eecce9d0cb7843e13a75...  01/01/2022 12:00:00 AM   \n",
       "4  e2d8418fcdb061eee0a4318fba0a6a1200aaff0143feb0...  01/01/2022 12:00:00 AM   \n",
       "\n",
       "       Trip End Timestamp  Trip Seconds  Trip Miles  Pickup Census Tract  \\\n",
       "0  01/01/2022 12:00:00 AM         152.0    0.100000                  NaN   \n",
       "1  01/01/2022 12:30:00 AM        2360.0   17.440001                  NaN   \n",
       "2  01/01/2022 12:00:00 AM         536.0    4.830000                  NaN   \n",
       "3  01/01/2022 12:15:00 AM         897.0    2.070000                  NaN   \n",
       "4  01/01/2022 12:30:00 AM        2200.0    2.480000                  NaN   \n",
       "\n",
       "   Dropoff Census Tract  Pickup Community Area  Dropoff Community Area  ...  \\\n",
       "0                   NaN                    NaN                     NaN  ...   \n",
       "1                   NaN                    NaN                     8.0  ...   \n",
       "2                   NaN                   28.0                    22.0  ...   \n",
       "3                   NaN                    8.0                    32.0  ...   \n",
       "4                   NaN                    8.0                    32.0  ...   \n",
       "\n",
       "   Extras  Trip Total  Payment Type               Company  \\\n",
       "0     0.0        3.75          Cash      Medallion Leasin   \n",
       "1     5.0       52.75          Cash             Flash Cab   \n",
       "2     0.0       14.75          Cash            Globe Taxi   \n",
       "3     1.5       11.25          Cash              Sun Taxi   \n",
       "4     0.0       11.50        Mobile  Chicago Independents   \n",
       "\n",
       "   Pickup Centroid Latitude Pickup Centroid Longitude  \\\n",
       "0                       NaN                       NaN   \n",
       "1                       NaN                       NaN   \n",
       "2                 41.874004                -87.663521   \n",
       "3                 41.899601                -87.633308   \n",
       "4                 41.899601                -87.633308   \n",
       "\n",
       "              Pickup Centroid Location  Dropoff Centroid Latitude  \\\n",
       "0                                 None                        NaN   \n",
       "1                                 None                  41.899601   \n",
       "2  POINT (-87.6635175498 41.874005383)                  41.922760   \n",
       "3  POINT (-87.6333080367 41.899602111)                  41.878864   \n",
       "4  POINT (-87.6333080367 41.899602111)                  41.878864   \n",
       "\n",
       "   Dropoff Centroid Longitude             Dropoff Centroid Location  \n",
       "0                         NaN                                  None  \n",
       "1                  -87.633308   POINT (-87.6333080367 41.899602111)  \n",
       "2                  -87.699158  POINT (-87.6991553432 41.9227606205)  \n",
       "3                  -87.625191  POINT (-87.6251921424 41.8788655841)  \n",
       "4                  -87.625191  POINT (-87.6251921424 41.8788655841)  \n",
       "\n",
       "[5 rows x 23 columns]"
      ]
     },
     "metadata": {},
     "output_type": "display_data"
    }
   ],
   "source": [
    "display(df.limit(5).toPandas())"
   ]
  },
  {
   "cell_type": "markdown",
   "id": "625cfd12-8f81-4cd3-98dc-4cc09ced4c3d",
   "metadata": {},
   "source": [
    "Наш df содержит более 10 млн записей"
   ]
  },
  {
   "cell_type": "code",
   "execution_count": 13,
   "id": "97eab915-1610-4531-a470-528090637851",
   "metadata": {},
   "outputs": [
    {
     "name": "stdout",
     "output_type": "stream",
     "text": [
      "10166155\n"
     ]
    }
   ],
   "source": [
    "print(df.count())"
   ]
  },
  {
   "cell_type": "markdown",
   "id": "9555bd87-5003-46d2-8121-76b99de70678",
   "metadata": {},
   "source": [
    "Trip ID - уникальный идентификатор поездки"
   ]
  },
  {
   "cell_type": "code",
   "execution_count": 14,
   "id": "8b9305c0-899b-4a51-9ee4-ada9be356353",
   "metadata": {},
   "outputs": [
    {
     "name": "stdout",
     "output_type": "stream",
     "text": [
      "+--------------------+\n",
      "|             Trip ID|\n",
      "+--------------------+\n",
      "|bcfa19f2539021c05...|\n",
      "|2aba69ff015f9ea8e...|\n",
      "|54d812a0b88f8f970...|\n",
      "|7125b9e03a0f16c2d...|\n",
      "|f1a650ee419b4e52d...|\n",
      "+--------------------+\n",
      "only showing top 5 rows\n",
      "\n"
     ]
    },
    {
     "data": {
      "text/plain": [
       "None"
      ]
     },
     "metadata": {},
     "output_type": "display_data"
    }
   ],
   "source": [
    "display(df[['Trip ID']].show(5))"
   ]
  },
  {
   "cell_type": "markdown",
   "id": "9c8e9280-5c90-40b4-9144-45620e8673d1",
   "metadata": {},
   "source": [
    "## Исследовательский анализ данных и обработка данных"
   ]
  },
  {
   "cell_type": "markdown",
   "id": "896fb233-a432-480e-be68-b635c67acd6c",
   "metadata": {},
   "source": [
    "- Предварительно сделали репрезентативную выборку, в ней более 1 млн записей\n",
    "- Медианное значение поездок - 15 мин. по длительности и 4 км. по протяженности\r",
    "- Медианное значение оплаты поездок, включающей чаевые и доп. плату, составляет 17 долларов США \r",
    "- \n",
    "Чаще всего клиенты оплачивают поздки с помощью кредитных карт и наличными. На третьем месте по популярности - мобильный телеонn"
   ]
  },
  {
   "cell_type": "markdown",
   "id": "baa70f04-bace-41ee-937f-4b9256c6f137",
   "metadata": {},
   "source": [
    "В рамках обработки данных:\n",
    "- явные дубликаты не выялены\n",
    "- убрали бесполезные для анализа признаки\n",
    "- изменили названия столбцов\n",
    "- для удобства анализа добавили новые признаки TripMinutes и TripKm\n",
    "- отработали аномалии в столбцах TripMinutes, TripKm, TripTotal\n",
    "- отработали пропуски в столбцах, характеризующих место посадки и высадки пассажира: PickupCommunityArea, DropoffCommunityArea, PickupCentroidLocation, DropoffCentroidLocation"
   ]
  },
  {
   "cell_type": "markdown",
   "id": "9f8f097a-8e5f-41d4-99f7-967faeb287be",
   "metadata": {},
   "source": [
    "- По аналогии с выборкой обработали данные в генеральной совокупности\n",
    "- Сжали представленную информацию в почасовые данные\n",
    "- В качестве новых временных признаков добавили день недели и час, кол-во заказов в предыдущий час, предыдущий час день назад и предыдущий час неделю назад"
   ]
  },
  {
   "cell_type": "markdown",
   "id": "aec67bfc-00d8-454f-9a8f-ec653e1ce326",
   "metadata": {},
   "source": [
    "### Делаем релевантную выборку"
   ]
  },
  {
   "cell_type": "code",
   "execution_count": 15,
   "id": "e20ced9f-1f42-41a3-a6f0-3b5ada7446be",
   "metadata": {},
   "outputs": [],
   "source": [
    "fractions = df.select('Trip Start Timestamp').distinct().withColumn('fraction', lit(0.1)).rdd.collectAsMap()"
   ]
  },
  {
   "cell_type": "code",
   "execution_count": 16,
   "id": "725a0a89-6e2e-408b-9b1a-9df2c71e4737",
   "metadata": {},
   "outputs": [],
   "source": [
    "sampled_df = df.sampleBy('Trip Start Timestamp', fractions, SEED).cache()"
   ]
  },
  {
   "cell_type": "markdown",
   "id": "9ae4d5a8-55c7-4908-913a-9d92e5d08fa4",
   "metadata": {},
   "source": [
    "В получившейся выборке более 1 млн записей"
   ]
  },
  {
   "cell_type": "code",
   "execution_count": 17,
   "id": "78b11fcb-7d33-4fea-8cbe-bc5b7c611d71",
   "metadata": {},
   "outputs": [
    {
     "name": "stdout",
     "output_type": "stream",
     "text": [
      "1016620\n"
     ]
    }
   ],
   "source": [
    "print(sampled_df.count())"
   ]
  },
  {
   "cell_type": "markdown",
   "id": "c338c435-d90a-429a-ada3-9189a966b47a",
   "metadata": {},
   "source": [
    "### Исследовательский анализ и обработка данных"
   ]
  },
  {
   "cell_type": "markdown",
   "id": "edaf4e90-0efd-49c0-abaf-1c6a50b71170",
   "metadata": {},
   "source": [
    "Явные дубликаты не выявлены"
   ]
  },
  {
   "cell_type": "code",
   "execution_count": 18,
   "id": "c7e1bfe3-7ec1-464e-9c2a-9842c84d05ee",
   "metadata": {},
   "outputs": [
    {
     "name": "stdout",
     "output_type": "stream",
     "text": [
      "1016620\n"
     ]
    }
   ],
   "source": [
    "#явные дубликаты\n",
    "print(sampled_df.distinct().count())"
   ]
  },
  {
   "cell_type": "markdown",
   "id": "1fbd6c03-ec5c-4d19-a68f-ff1ef17cf14c",
   "metadata": {},
   "source": [
    "Убрали бесполезные для анализа признаки"
   ]
  },
  {
   "cell_type": "code",
   "execution_count": 19,
   "id": "4e514465-eb4d-4854-a4a1-e7ea29258b8c",
   "metadata": {},
   "outputs": [],
   "source": [
    "unessen_col = ['Taxi ID', 'Company', 'Fare', 'Tips', 'Tolls', 'Extras', 'Pickup Census Tract',\\\n",
    "                                 'Dropoff Census Tract', 'Pickup Centroid Latitude', 'Pickup Centroid Longitude',\\\n",
    "                                   'Dropoff Centroid Latitude', 'Dropoff Centroid Longitude']"
   ]
  },
  {
   "cell_type": "code",
   "execution_count": 20,
   "id": "10c1eb1f-2e32-428c-ba16-0eea7b3a24ce",
   "metadata": {},
   "outputs": [],
   "source": [
    "sampled_df_essen = sampled_df.drop(*unessen_col)"
   ]
  },
  {
   "cell_type": "code",
   "execution_count": 21,
   "id": "33da635a-3b2b-43c8-98f9-22778e9996a4",
   "metadata": {},
   "outputs": [
    {
     "data": {
      "text/html": [
       "<div>\n",
       "<style scoped>\n",
       "    .dataframe tbody tr th:only-of-type {\n",
       "        vertical-align: middle;\n",
       "    }\n",
       "\n",
       "    .dataframe tbody tr th {\n",
       "        vertical-align: top;\n",
       "    }\n",
       "\n",
       "    .dataframe thead th {\n",
       "        text-align: right;\n",
       "    }\n",
       "</style>\n",
       "<table border=\"1\" class=\"dataframe\">\n",
       "  <thead>\n",
       "    <tr style=\"text-align: right;\">\n",
       "      <th></th>\n",
       "      <th>Trip ID</th>\n",
       "      <th>Trip Start Timestamp</th>\n",
       "      <th>Trip End Timestamp</th>\n",
       "      <th>Trip Seconds</th>\n",
       "      <th>Trip Miles</th>\n",
       "      <th>Pickup Community Area</th>\n",
       "      <th>Dropoff Community Area</th>\n",
       "      <th>Trip Total</th>\n",
       "      <th>Payment Type</th>\n",
       "      <th>Pickup Centroid Location</th>\n",
       "      <th>Dropoff Centroid Location</th>\n",
       "    </tr>\n",
       "  </thead>\n",
       "  <tbody>\n",
       "    <tr>\n",
       "      <th>0</th>\n",
       "      <td>3f11e5abdb93e75abfb97bb9c27d166ebcf0abd4</td>\n",
       "      <td>01/01/2022 12:00:00 AM</td>\n",
       "      <td>01/01/2022 12:00:00 AM</td>\n",
       "      <td>300.0</td>\n",
       "      <td>1.40</td>\n",
       "      <td>33.0</td>\n",
       "      <td>33.0</td>\n",
       "      <td>6.750000</td>\n",
       "      <td>Cash</td>\n",
       "      <td>POINT (-87.6203346241 41.8571838585)</td>\n",
       "      <td>POINT (-87.6203346241 41.8571838585)</td>\n",
       "    </tr>\n",
       "    <tr>\n",
       "      <th>1</th>\n",
       "      <td>e585d6e2ea7ab5c9c4d75447b8cb74d9df08fab4</td>\n",
       "      <td>01/01/2022 12:00:00 AM</td>\n",
       "      <td>01/01/2022 12:00:00 AM</td>\n",
       "      <td>360.0</td>\n",
       "      <td>1.20</td>\n",
       "      <td>32.0</td>\n",
       "      <td>28.0</td>\n",
       "      <td>9.750000</td>\n",
       "      <td>Credit Card</td>\n",
       "      <td>POINT (-87.6251921424 41.8788655841)</td>\n",
       "      <td>POINT (-87.6635175498 41.874005383)</td>\n",
       "    </tr>\n",
       "    <tr>\n",
       "      <th>2</th>\n",
       "      <td>3184bc678ef5f2cdd230cde6098eab9239282804</td>\n",
       "      <td>01/01/2022 12:00:00 AM</td>\n",
       "      <td>01/01/2022 12:15:00 AM</td>\n",
       "      <td>424.0</td>\n",
       "      <td>1.27</td>\n",
       "      <td>8.0</td>\n",
       "      <td>7.0</td>\n",
       "      <td>11.250000</td>\n",
       "      <td>Credit Card</td>\n",
       "      <td>POINT (-87.6333080367 41.899602111)</td>\n",
       "      <td>POINT (-87.6494887289 41.9226862843)</td>\n",
       "    </tr>\n",
       "    <tr>\n",
       "      <th>3</th>\n",
       "      <td>c15cd6d8c616db38c8df51b4cfc2bfaa4bd70076</td>\n",
       "      <td>01/01/2022 12:00:00 AM</td>\n",
       "      <td>01/01/2022 01:00:00 AM</td>\n",
       "      <td>3073.0</td>\n",
       "      <td>10.85</td>\n",
       "      <td>1.0</td>\n",
       "      <td>NaN</td>\n",
       "      <td>37.500000</td>\n",
       "      <td>Cash</td>\n",
       "      <td>POINT (-87.6701668569 42.0096228806)</td>\n",
       "      <td>None</td>\n",
       "    </tr>\n",
       "    <tr>\n",
       "      <th>4</th>\n",
       "      <td>0107b1f0ac4333e551bf5344cc4882f69167b1ca</td>\n",
       "      <td>01/01/2022 12:15:00 AM</td>\n",
       "      <td>01/01/2022 12:30:00 AM</td>\n",
       "      <td>663.0</td>\n",
       "      <td>0.84</td>\n",
       "      <td>8.0</td>\n",
       "      <td>8.0</td>\n",
       "      <td>16.200001</td>\n",
       "      <td>Credit Card</td>\n",
       "      <td>POINT (-87.6378442095 41.8932163595)</td>\n",
       "      <td>POINT (-87.6262149064 41.8925077809)</td>\n",
       "    </tr>\n",
       "  </tbody>\n",
       "</table>\n",
       "</div>"
      ],
      "text/plain": [
       "                                    Trip ID    Trip Start Timestamp  \\\n",
       "0  3f11e5abdb93e75abfb97bb9c27d166ebcf0abd4  01/01/2022 12:00:00 AM   \n",
       "1  e585d6e2ea7ab5c9c4d75447b8cb74d9df08fab4  01/01/2022 12:00:00 AM   \n",
       "2  3184bc678ef5f2cdd230cde6098eab9239282804  01/01/2022 12:00:00 AM   \n",
       "3  c15cd6d8c616db38c8df51b4cfc2bfaa4bd70076  01/01/2022 12:00:00 AM   \n",
       "4  0107b1f0ac4333e551bf5344cc4882f69167b1ca  01/01/2022 12:15:00 AM   \n",
       "\n",
       "       Trip End Timestamp  Trip Seconds  Trip Miles  Pickup Community Area  \\\n",
       "0  01/01/2022 12:00:00 AM         300.0        1.40                   33.0   \n",
       "1  01/01/2022 12:00:00 AM         360.0        1.20                   32.0   \n",
       "2  01/01/2022 12:15:00 AM         424.0        1.27                    8.0   \n",
       "3  01/01/2022 01:00:00 AM        3073.0       10.85                    1.0   \n",
       "4  01/01/2022 12:30:00 AM         663.0        0.84                    8.0   \n",
       "\n",
       "   Dropoff Community Area  Trip Total Payment Type  \\\n",
       "0                    33.0    6.750000         Cash   \n",
       "1                    28.0    9.750000  Credit Card   \n",
       "2                     7.0   11.250000  Credit Card   \n",
       "3                     NaN   37.500000         Cash   \n",
       "4                     8.0   16.200001  Credit Card   \n",
       "\n",
       "               Pickup Centroid Location             Dropoff Centroid Location  \n",
       "0  POINT (-87.6203346241 41.8571838585)  POINT (-87.6203346241 41.8571838585)  \n",
       "1  POINT (-87.6251921424 41.8788655841)   POINT (-87.6635175498 41.874005383)  \n",
       "2   POINT (-87.6333080367 41.899602111)  POINT (-87.6494887289 41.9226862843)  \n",
       "3  POINT (-87.6701668569 42.0096228806)                                  None  \n",
       "4  POINT (-87.6378442095 41.8932163595)  POINT (-87.6262149064 41.8925077809)  "
      ]
     },
     "metadata": {},
     "output_type": "display_data"
    }
   ],
   "source": [
    "display(sampled_df_essen.limit(5).toPandas())"
   ]
  },
  {
   "cell_type": "markdown",
   "id": "dfbb0928-b225-4e81-b2ca-67648c398569",
   "metadata": {},
   "source": [
    "Изменили названия столбцов"
   ]
  },
  {
   "cell_type": "code",
   "execution_count": 22,
   "id": "f3908c9e-ee60-4401-a2a5-d3d20f2d2052",
   "metadata": {},
   "outputs": [],
   "source": [
    "oldColumns = sampled_df_essen.schema.names\n",
    "newColumns = ['TripID', 'TripStartTimestamp', 'TripEndTimestamp', 'TripSeconds', 'TripMiles', 'PickupCommunityArea',\\\n",
    "              'DropoffCommunityArea', 'TripTotal', 'PaymentType', 'PickupCentroidLocation', 'DropoffCentroidLocation']\n",
    "\n",
    "sampled_df_new_names = reduce(lambda sampled_df_essen, idx: sampled_df_essen.withColumnRenamed(oldColumns[idx], newColumns[idx]),\\\n",
    "                              range(len(oldColumns)), sampled_df_essen)"
   ]
  },
  {
   "cell_type": "code",
   "execution_count": 23,
   "id": "694e6105-a390-46bd-b1d7-5d22a46e5dfb",
   "metadata": {},
   "outputs": [
    {
     "data": {
      "text/html": [
       "<div>\n",
       "<style scoped>\n",
       "    .dataframe tbody tr th:only-of-type {\n",
       "        vertical-align: middle;\n",
       "    }\n",
       "\n",
       "    .dataframe tbody tr th {\n",
       "        vertical-align: top;\n",
       "    }\n",
       "\n",
       "    .dataframe thead th {\n",
       "        text-align: right;\n",
       "    }\n",
       "</style>\n",
       "<table border=\"1\" class=\"dataframe\">\n",
       "  <thead>\n",
       "    <tr style=\"text-align: right;\">\n",
       "      <th></th>\n",
       "      <th>TripID</th>\n",
       "      <th>TripStartTimestamp</th>\n",
       "      <th>TripEndTimestamp</th>\n",
       "      <th>TripSeconds</th>\n",
       "      <th>TripMiles</th>\n",
       "      <th>PickupCommunityArea</th>\n",
       "      <th>DropoffCommunityArea</th>\n",
       "      <th>TripTotal</th>\n",
       "      <th>PaymentType</th>\n",
       "      <th>PickupCentroidLocation</th>\n",
       "      <th>DropoffCentroidLocation</th>\n",
       "    </tr>\n",
       "  </thead>\n",
       "  <tbody>\n",
       "    <tr>\n",
       "      <th>0</th>\n",
       "      <td>3f11e5abdb93e75abfb97bb9c27d166ebcf0abd4</td>\n",
       "      <td>01/01/2022 12:00:00 AM</td>\n",
       "      <td>01/01/2022 12:00:00 AM</td>\n",
       "      <td>300.0</td>\n",
       "      <td>1.40</td>\n",
       "      <td>33.0</td>\n",
       "      <td>33.0</td>\n",
       "      <td>6.750000</td>\n",
       "      <td>Cash</td>\n",
       "      <td>POINT (-87.6203346241 41.8571838585)</td>\n",
       "      <td>POINT (-87.6203346241 41.8571838585)</td>\n",
       "    </tr>\n",
       "    <tr>\n",
       "      <th>1</th>\n",
       "      <td>e585d6e2ea7ab5c9c4d75447b8cb74d9df08fab4</td>\n",
       "      <td>01/01/2022 12:00:00 AM</td>\n",
       "      <td>01/01/2022 12:00:00 AM</td>\n",
       "      <td>360.0</td>\n",
       "      <td>1.20</td>\n",
       "      <td>32.0</td>\n",
       "      <td>28.0</td>\n",
       "      <td>9.750000</td>\n",
       "      <td>Credit Card</td>\n",
       "      <td>POINT (-87.6251921424 41.8788655841)</td>\n",
       "      <td>POINT (-87.6635175498 41.874005383)</td>\n",
       "    </tr>\n",
       "    <tr>\n",
       "      <th>2</th>\n",
       "      <td>3184bc678ef5f2cdd230cde6098eab9239282804</td>\n",
       "      <td>01/01/2022 12:00:00 AM</td>\n",
       "      <td>01/01/2022 12:15:00 AM</td>\n",
       "      <td>424.0</td>\n",
       "      <td>1.27</td>\n",
       "      <td>8.0</td>\n",
       "      <td>7.0</td>\n",
       "      <td>11.250000</td>\n",
       "      <td>Credit Card</td>\n",
       "      <td>POINT (-87.6333080367 41.899602111)</td>\n",
       "      <td>POINT (-87.6494887289 41.9226862843)</td>\n",
       "    </tr>\n",
       "    <tr>\n",
       "      <th>3</th>\n",
       "      <td>c15cd6d8c616db38c8df51b4cfc2bfaa4bd70076</td>\n",
       "      <td>01/01/2022 12:00:00 AM</td>\n",
       "      <td>01/01/2022 01:00:00 AM</td>\n",
       "      <td>3073.0</td>\n",
       "      <td>10.85</td>\n",
       "      <td>1.0</td>\n",
       "      <td>NaN</td>\n",
       "      <td>37.500000</td>\n",
       "      <td>Cash</td>\n",
       "      <td>POINT (-87.6701668569 42.0096228806)</td>\n",
       "      <td>None</td>\n",
       "    </tr>\n",
       "    <tr>\n",
       "      <th>4</th>\n",
       "      <td>0107b1f0ac4333e551bf5344cc4882f69167b1ca</td>\n",
       "      <td>01/01/2022 12:15:00 AM</td>\n",
       "      <td>01/01/2022 12:30:00 AM</td>\n",
       "      <td>663.0</td>\n",
       "      <td>0.84</td>\n",
       "      <td>8.0</td>\n",
       "      <td>8.0</td>\n",
       "      <td>16.200001</td>\n",
       "      <td>Credit Card</td>\n",
       "      <td>POINT (-87.6378442095 41.8932163595)</td>\n",
       "      <td>POINT (-87.6262149064 41.8925077809)</td>\n",
       "    </tr>\n",
       "  </tbody>\n",
       "</table>\n",
       "</div>"
      ],
      "text/plain": [
       "                                     TripID      TripStartTimestamp  \\\n",
       "0  3f11e5abdb93e75abfb97bb9c27d166ebcf0abd4  01/01/2022 12:00:00 AM   \n",
       "1  e585d6e2ea7ab5c9c4d75447b8cb74d9df08fab4  01/01/2022 12:00:00 AM   \n",
       "2  3184bc678ef5f2cdd230cde6098eab9239282804  01/01/2022 12:00:00 AM   \n",
       "3  c15cd6d8c616db38c8df51b4cfc2bfaa4bd70076  01/01/2022 12:00:00 AM   \n",
       "4  0107b1f0ac4333e551bf5344cc4882f69167b1ca  01/01/2022 12:15:00 AM   \n",
       "\n",
       "         TripEndTimestamp  TripSeconds  TripMiles  PickupCommunityArea  \\\n",
       "0  01/01/2022 12:00:00 AM        300.0       1.40                 33.0   \n",
       "1  01/01/2022 12:00:00 AM        360.0       1.20                 32.0   \n",
       "2  01/01/2022 12:15:00 AM        424.0       1.27                  8.0   \n",
       "3  01/01/2022 01:00:00 AM       3073.0      10.85                  1.0   \n",
       "4  01/01/2022 12:30:00 AM        663.0       0.84                  8.0   \n",
       "\n",
       "   DropoffCommunityArea  TripTotal  PaymentType  \\\n",
       "0                  33.0   6.750000         Cash   \n",
       "1                  28.0   9.750000  Credit Card   \n",
       "2                   7.0  11.250000  Credit Card   \n",
       "3                   NaN  37.500000         Cash   \n",
       "4                   8.0  16.200001  Credit Card   \n",
       "\n",
       "                 PickupCentroidLocation               DropoffCentroidLocation  \n",
       "0  POINT (-87.6203346241 41.8571838585)  POINT (-87.6203346241 41.8571838585)  \n",
       "1  POINT (-87.6251921424 41.8788655841)   POINT (-87.6635175498 41.874005383)  \n",
       "2   POINT (-87.6333080367 41.899602111)  POINT (-87.6494887289 41.9226862843)  \n",
       "3  POINT (-87.6701668569 42.0096228806)                                  None  \n",
       "4  POINT (-87.6378442095 41.8932163595)  POINT (-87.6262149064 41.8925077809)  "
      ]
     },
     "metadata": {},
     "output_type": "display_data"
    }
   ],
   "source": [
    "display(sampled_df_new_names.limit(5).toPandas())"
   ]
  },
  {
   "cell_type": "markdown",
   "id": "f4a1c435-47ff-40ce-bbde-0ee75d93123e",
   "metadata": {},
   "source": [
    "Проанализируем столбцы TripSeconds и TripMiles. Для удобства переведем их в TripMinutes и TripKm"
   ]
  },
  {
   "cell_type": "code",
   "execution_count": 24,
   "id": "92ebaccf-015f-4755-b98b-185fecabefc9",
   "metadata": {},
   "outputs": [],
   "source": [
    "#TripSeconds, TripMiles\n",
    "#Протяжённость Чикаго с юга на север составляет 41,810 километра, с запада на восток — от 34,443 км на юге до 34,241 км на севере\n",
    "sampled_df_new_col = sampled_df_new_names.withColumn('TripMinutes', sampled_df_new_names['TripSeconds'] / 60)"
   ]
  },
  {
   "cell_type": "code",
   "execution_count": 25,
   "id": "e44a80c4-a17c-49bd-ba02-36b1e46864ef",
   "metadata": {},
   "outputs": [],
   "source": [
    "sampled_df_new_col_2 = sampled_df_new_col.withColumn('TripKm', sampled_df_new_col['TripMiles'] * 1.61)"
   ]
  },
  {
   "cell_type": "code",
   "execution_count": 26,
   "id": "83fd47d7-352c-4b54-872c-e6808ccfaab6",
   "metadata": {},
   "outputs": [
    {
     "data": {
      "text/html": [
       "<div>\n",
       "<style scoped>\n",
       "    .dataframe tbody tr th:only-of-type {\n",
       "        vertical-align: middle;\n",
       "    }\n",
       "\n",
       "    .dataframe tbody tr th {\n",
       "        vertical-align: top;\n",
       "    }\n",
       "\n",
       "    .dataframe thead th {\n",
       "        text-align: right;\n",
       "    }\n",
       "</style>\n",
       "<table border=\"1\" class=\"dataframe\">\n",
       "  <thead>\n",
       "    <tr style=\"text-align: right;\">\n",
       "      <th></th>\n",
       "      <th>TripID</th>\n",
       "      <th>TripStartTimestamp</th>\n",
       "      <th>TripEndTimestamp</th>\n",
       "      <th>TripSeconds</th>\n",
       "      <th>TripMiles</th>\n",
       "      <th>PickupCommunityArea</th>\n",
       "      <th>DropoffCommunityArea</th>\n",
       "      <th>TripTotal</th>\n",
       "      <th>PaymentType</th>\n",
       "      <th>PickupCentroidLocation</th>\n",
       "      <th>DropoffCentroidLocation</th>\n",
       "      <th>TripMinutes</th>\n",
       "      <th>TripKm</th>\n",
       "    </tr>\n",
       "  </thead>\n",
       "  <tbody>\n",
       "    <tr>\n",
       "      <th>0</th>\n",
       "      <td>3f11e5abdb93e75abfb97bb9c27d166ebcf0abd4</td>\n",
       "      <td>01/01/2022 12:00:00 AM</td>\n",
       "      <td>01/01/2022 12:00:00 AM</td>\n",
       "      <td>300.0</td>\n",
       "      <td>1.40</td>\n",
       "      <td>33.0</td>\n",
       "      <td>33.0</td>\n",
       "      <td>6.750000</td>\n",
       "      <td>Cash</td>\n",
       "      <td>POINT (-87.6203346241 41.8571838585)</td>\n",
       "      <td>POINT (-87.6203346241 41.8571838585)</td>\n",
       "      <td>5.000000</td>\n",
       "      <td>2.254000</td>\n",
       "    </tr>\n",
       "    <tr>\n",
       "      <th>1</th>\n",
       "      <td>e585d6e2ea7ab5c9c4d75447b8cb74d9df08fab4</td>\n",
       "      <td>01/01/2022 12:00:00 AM</td>\n",
       "      <td>01/01/2022 12:00:00 AM</td>\n",
       "      <td>360.0</td>\n",
       "      <td>1.20</td>\n",
       "      <td>32.0</td>\n",
       "      <td>28.0</td>\n",
       "      <td>9.750000</td>\n",
       "      <td>Credit Card</td>\n",
       "      <td>POINT (-87.6251921424 41.8788655841)</td>\n",
       "      <td>POINT (-87.6635175498 41.874005383)</td>\n",
       "      <td>6.000000</td>\n",
       "      <td>1.932000</td>\n",
       "    </tr>\n",
       "    <tr>\n",
       "      <th>2</th>\n",
       "      <td>3184bc678ef5f2cdd230cde6098eab9239282804</td>\n",
       "      <td>01/01/2022 12:00:00 AM</td>\n",
       "      <td>01/01/2022 12:15:00 AM</td>\n",
       "      <td>424.0</td>\n",
       "      <td>1.27</td>\n",
       "      <td>8.0</td>\n",
       "      <td>7.0</td>\n",
       "      <td>11.250000</td>\n",
       "      <td>Credit Card</td>\n",
       "      <td>POINT (-87.6333080367 41.899602111)</td>\n",
       "      <td>POINT (-87.6494887289 41.9226862843)</td>\n",
       "      <td>7.066667</td>\n",
       "      <td>2.044700</td>\n",
       "    </tr>\n",
       "    <tr>\n",
       "      <th>3</th>\n",
       "      <td>c15cd6d8c616db38c8df51b4cfc2bfaa4bd70076</td>\n",
       "      <td>01/01/2022 12:00:00 AM</td>\n",
       "      <td>01/01/2022 01:00:00 AM</td>\n",
       "      <td>3073.0</td>\n",
       "      <td>10.85</td>\n",
       "      <td>1.0</td>\n",
       "      <td>NaN</td>\n",
       "      <td>37.500000</td>\n",
       "      <td>Cash</td>\n",
       "      <td>POINT (-87.6701668569 42.0096228806)</td>\n",
       "      <td>None</td>\n",
       "      <td>51.216667</td>\n",
       "      <td>17.468501</td>\n",
       "    </tr>\n",
       "    <tr>\n",
       "      <th>4</th>\n",
       "      <td>0107b1f0ac4333e551bf5344cc4882f69167b1ca</td>\n",
       "      <td>01/01/2022 12:15:00 AM</td>\n",
       "      <td>01/01/2022 12:30:00 AM</td>\n",
       "      <td>663.0</td>\n",
       "      <td>0.84</td>\n",
       "      <td>8.0</td>\n",
       "      <td>8.0</td>\n",
       "      <td>16.200001</td>\n",
       "      <td>Credit Card</td>\n",
       "      <td>POINT (-87.6378442095 41.8932163595)</td>\n",
       "      <td>POINT (-87.6262149064 41.8925077809)</td>\n",
       "      <td>11.050000</td>\n",
       "      <td>1.352400</td>\n",
       "    </tr>\n",
       "  </tbody>\n",
       "</table>\n",
       "</div>"
      ],
      "text/plain": [
       "                                     TripID      TripStartTimestamp  \\\n",
       "0  3f11e5abdb93e75abfb97bb9c27d166ebcf0abd4  01/01/2022 12:00:00 AM   \n",
       "1  e585d6e2ea7ab5c9c4d75447b8cb74d9df08fab4  01/01/2022 12:00:00 AM   \n",
       "2  3184bc678ef5f2cdd230cde6098eab9239282804  01/01/2022 12:00:00 AM   \n",
       "3  c15cd6d8c616db38c8df51b4cfc2bfaa4bd70076  01/01/2022 12:00:00 AM   \n",
       "4  0107b1f0ac4333e551bf5344cc4882f69167b1ca  01/01/2022 12:15:00 AM   \n",
       "\n",
       "         TripEndTimestamp  TripSeconds  TripMiles  PickupCommunityArea  \\\n",
       "0  01/01/2022 12:00:00 AM        300.0       1.40                 33.0   \n",
       "1  01/01/2022 12:00:00 AM        360.0       1.20                 32.0   \n",
       "2  01/01/2022 12:15:00 AM        424.0       1.27                  8.0   \n",
       "3  01/01/2022 01:00:00 AM       3073.0      10.85                  1.0   \n",
       "4  01/01/2022 12:30:00 AM        663.0       0.84                  8.0   \n",
       "\n",
       "   DropoffCommunityArea  TripTotal  PaymentType  \\\n",
       "0                  33.0   6.750000         Cash   \n",
       "1                  28.0   9.750000  Credit Card   \n",
       "2                   7.0  11.250000  Credit Card   \n",
       "3                   NaN  37.500000         Cash   \n",
       "4                   8.0  16.200001  Credit Card   \n",
       "\n",
       "                 PickupCentroidLocation               DropoffCentroidLocation  \\\n",
       "0  POINT (-87.6203346241 41.8571838585)  POINT (-87.6203346241 41.8571838585)   \n",
       "1  POINT (-87.6251921424 41.8788655841)   POINT (-87.6635175498 41.874005383)   \n",
       "2   POINT (-87.6333080367 41.899602111)  POINT (-87.6494887289 41.9226862843)   \n",
       "3  POINT (-87.6701668569 42.0096228806)                                  None   \n",
       "4  POINT (-87.6378442095 41.8932163595)  POINT (-87.6262149064 41.8925077809)   \n",
       "\n",
       "   TripMinutes     TripKm  \n",
       "0     5.000000   2.254000  \n",
       "1     6.000000   1.932000  \n",
       "2     7.066667   2.044700  \n",
       "3    51.216667  17.468501  \n",
       "4    11.050000   1.352400  "
      ]
     },
     "metadata": {},
     "output_type": "display_data"
    }
   ],
   "source": [
    "display(sampled_df_new_col_2.limit(5).toPandas())"
   ]
  },
  {
   "cell_type": "markdown",
   "id": "efbcd00b-ded9-49ab-9ea6-f9a0496d9eac",
   "metadata": {},
   "source": [
    "Медианное значение поездок - 15 мин. по длительности и 4 км. по протяженности. Однако встречаются и поездки длительностью более 23 часов и протяженностью более 1400 км. Скорее всего это выбросы - поработаем с ними дальше.  "
   ]
  },
  {
   "cell_type": "code",
   "execution_count": 27,
   "id": "55500380-2b37-47c1-b11d-74f28faf0a9a",
   "metadata": {},
   "outputs": [
    {
     "name": "stdout",
     "output_type": "stream",
     "text": [
      "TripMinutes\n",
      "  summary         TripMinutes\n",
      "0   count             1016416\n",
      "1    mean   20.18132890470038\n",
      "2  stddev  30.330069953042447\n",
      "3     min                 0.0\n",
      "4     25%                7.75\n",
      "5     50%  14.766666666666667\n",
      "6     75%  27.533333333333335\n",
      "7     max              1439.0\n"
     ]
    },
    {
     "data": {
      "image/png": "[encoded data removed]",
      "text/plain": [
       "<Figure size 800x800 with 1 Axes>"
      ]
     },
     "metadata": {},
     "output_type": "display_data"
    },
    {
     "name": "stdout",
     "output_type": "stream",
     "text": [
      "\n",
      "TripKm\n",
      "  summary              TripKm\n",
      "0   count             1016615\n",
      "1    mean   10.12246274661567\n",
      "2  stddev  12.721624748280412\n",
      "3     min                 0.0\n",
      "4     25%  1.4489999616146088\n",
      "5     50%   4.347000076770783\n",
      "6     75%  18.176899938583375\n",
      "7     max  3360.9555786132814\n"
     ]
    },
    {
     "data": {
      "image/png": "[encoded data removed]",
      "text/plain": [
       "<Figure size 800x800 with 1 Axes>"
      ]
     },
     "metadata": {},
     "output_type": "display_data"
    },
    {
     "name": "stdout",
     "output_type": "stream",
     "text": [
      "\n"
     ]
    }
   ],
   "source": [
    "for sign in ['TripMinutes', 'TripKm']:\n",
    "    print(sign)\n",
    "    print(sampled_df_new_col_2[[sign]].summary().toPandas())\n",
    "    sampled_df_new_col_2.select(sign).toPandas().boxplot(figsize=(8, 8))\n",
    "    plt.title('график \"Ящик с усами\"')\n",
    "    plt.show()\n",
    "    print()"
   ]
  },
  {
   "cell_type": "markdown",
   "id": "e2dbbff0-6d57-459a-a8b1-765c4e194410",
   "metadata": {},
   "source": [
    "Посмотрим на столбцы TripStartTimestamp и TripEndTimestamp"
   ]
  },
  {
   "cell_type": "markdown",
   "id": "5bdbaee4-f65d-4f47-92ce-63d3833a91c5",
   "metadata": {},
   "source": [
    "В нашей выборке представлены данные с 1 января по 31 декабря 2022 г."
   ]
  },
  {
   "cell_type": "code",
   "execution_count": 28,
   "id": "97d746a9-69aa-4e2c-ab0b-c210ad5425f7",
   "metadata": {},
   "outputs": [
    {
     "name": "stdout",
     "output_type": "stream",
     "text": [
      "  summary      TripStartTimestamp\n",
      "0   count                 1016620\n",
      "1    mean                    None\n",
      "2  stddev                    None\n",
      "3     min  01/01/2022 01:00:00 AM\n",
      "4     25%                    None\n",
      "5     50%                    None\n",
      "6     75%                    None\n",
      "7     max  12/31/2022 12:45:00 PM\n",
      "\n",
      "  summary        TripEndTimestamp\n",
      "0   count                 1016594\n",
      "1    mean                    None\n",
      "2  stddev                    None\n",
      "3     min  01/01/2022 01:00:00 AM\n",
      "4     25%                    None\n",
      "5     50%                    None\n",
      "6     75%                    None\n",
      "7     max  12/31/2022 12:45:00 PM\n",
      "\n"
     ]
    }
   ],
   "source": [
    "#TripStartTimestamp, TripEndTimestamp\n",
    "for sign in ['TripStartTimestamp', 'TripEndTimestamp']:\n",
    "    print(sampled_df_new_col_2[[sign]].summary().toPandas())\n",
    "    print()"
   ]
  },
  {
   "cell_type": "markdown",
   "id": "2b134cea-efa4-413b-a6d8-309edbf38ac9",
   "metadata": {},
   "source": [
    "ДОБАВИТЬ ГРАФИК С ДИНАМИКОЙ"
   ]
  },
  {
   "cell_type": "markdown",
   "id": "fdcf08ce-92f9-438b-a9f8-464d85567580",
   "metadata": {},
   "source": [
    "В столбцах PickupCommunityArea и DropoffCommunityArea нам дана информация о номерах общественных зон (CommunityArea), где поездка началась и закончилась"
   ]
  },
  {
   "cell_type": "code",
   "execution_count": 29,
   "id": "cb3343e4-f557-4b9d-b197-7b496c236019",
   "metadata": {},
   "outputs": [
    {
     "data": {
      "text/html": [
       "<div>\n",
       "<style scoped>\n",
       "    .dataframe tbody tr th:only-of-type {\n",
       "        vertical-align: middle;\n",
       "    }\n",
       "\n",
       "    .dataframe tbody tr th {\n",
       "        vertical-align: top;\n",
       "    }\n",
       "\n",
       "    .dataframe thead th {\n",
       "        text-align: right;\n",
       "    }\n",
       "</style>\n",
       "<table border=\"1\" class=\"dataframe\">\n",
       "  <thead>\n",
       "    <tr style=\"text-align: right;\">\n",
       "      <th></th>\n",
       "      <th>PickupCommunityArea</th>\n",
       "      <th>DropoffCommunityArea</th>\n",
       "    </tr>\n",
       "  </thead>\n",
       "  <tbody>\n",
       "    <tr>\n",
       "      <th>0</th>\n",
       "      <td>33.0</td>\n",
       "      <td>33.0</td>\n",
       "    </tr>\n",
       "    <tr>\n",
       "      <th>1</th>\n",
       "      <td>32.0</td>\n",
       "      <td>28.0</td>\n",
       "    </tr>\n",
       "    <tr>\n",
       "      <th>2</th>\n",
       "      <td>8.0</td>\n",
       "      <td>7.0</td>\n",
       "    </tr>\n",
       "    <tr>\n",
       "      <th>3</th>\n",
       "      <td>1.0</td>\n",
       "      <td>NaN</td>\n",
       "    </tr>\n",
       "    <tr>\n",
       "      <th>4</th>\n",
       "      <td>8.0</td>\n",
       "      <td>8.0</td>\n",
       "    </tr>\n",
       "  </tbody>\n",
       "</table>\n",
       "</div>"
      ],
      "text/plain": [
       "   PickupCommunityArea  DropoffCommunityArea\n",
       "0                 33.0                  33.0\n",
       "1                 32.0                  28.0\n",
       "2                  8.0                   7.0\n",
       "3                  1.0                   NaN\n",
       "4                  8.0                   8.0"
      ]
     },
     "metadata": {},
     "output_type": "display_data"
    }
   ],
   "source": [
    "#PickupCommunityArea, DropoffCommunityArea\n",
    "display(sampled_df_new_col_2[['PickupCommunityArea', 'DropoffCommunityArea']].limit(5).toPandas())"
   ]
  },
  {
   "cell_type": "code",
   "execution_count": 30,
   "id": "32e8e3eb-3163-427a-be9e-b739b6c3f57d",
   "metadata": {},
   "outputs": [
    {
     "name": "stdout",
     "output_type": "stream",
     "text": [
      "+-------------------+--------------------+\n",
      "|PickupCommunityArea|DropoffCommunityArea|\n",
      "+-------------------+--------------------+\n",
      "|               76.0|                28.0|\n",
      "|                8.0|                28.0|\n",
      "|               38.0|                41.0|\n",
      "|               77.0|                 2.0|\n",
      "|               56.0|                24.0|\n",
      "|               34.0|                28.0|\n",
      "|               12.0|                10.0|\n",
      "|               40.0|                33.0|\n",
      "|               61.0|                71.0|\n",
      "|               40.0|                60.0|\n",
      "|               52.0|                39.0|\n",
      "|               53.0|                75.0|\n",
      "|               23.0|                19.0|\n",
      "|               64.0|                 8.0|\n",
      "|               16.0|                 5.0|\n",
      "|               37.0|                38.0|\n",
      "|               47.0|                34.0|\n",
      "|                8.0|                43.0|\n",
      "|               77.0|                32.0|\n",
      "|               65.0|                32.0|\n",
      "+-------------------+--------------------+\n",
      "only showing top 20 rows\n",
      "\n",
      "None\n"
     ]
    }
   ],
   "source": [
    "print(sampled_df_new_col_2[['PickupCommunityArea', 'DropoffCommunityArea']].distinct().show())"
   ]
  },
  {
   "cell_type": "code",
   "execution_count": 31,
   "id": "a5c2a401-0796-4786-b9a5-1527974c628b",
   "metadata": {},
   "outputs": [
    {
     "name": "stdout",
     "output_type": "stream",
     "text": [
      "+-------------------+--------------------------+\n",
      "|PickupCommunityArea|count(PickupCommunityArea)|\n",
      "+-------------------+--------------------------+\n",
      "|                8.0|                    229881|\n",
      "|               76.0|                    173349|\n",
      "|               32.0|                    164386|\n",
      "|               28.0|                     87170|\n",
      "|               33.0|                     37766|\n",
      "|                6.0|                     36056|\n",
      "|               56.0|                     31649|\n",
      "|                7.0|                     23111|\n",
      "|                3.0|                     15926|\n",
      "|               77.0|                     11965|\n",
      "|               24.0|                     11571|\n",
      "|                2.0|                      7715|\n",
      "|               41.0|                      7051|\n",
      "|               35.0|                      5699|\n",
      "|                1.0|                      5671|\n",
      "|               38.0|                      5225|\n",
      "|               43.0|                      5209|\n",
      "|               22.0|                      4770|\n",
      "|               16.0|                      4760|\n",
      "|               44.0|                      4388|\n",
      "+-------------------+--------------------------+\n",
      "only showing top 20 rows\n",
      "\n",
      "None\n"
     ]
    }
   ],
   "source": [
    "#PickupCommunityArea\n",
    "print(sampled_df_new_col_2.groupBy('PickupCommunityArea').agg({'PickupCommunityArea': 'count'}).sort('count(PickupCommunityArea)', \\\n",
    "                                                                                     ascending=False).show())"
   ]
  },
  {
   "cell_type": "code",
   "execution_count": 32,
   "id": "99015018-57bb-4e31-944c-ff685b633cba",
   "metadata": {},
   "outputs": [
    {
     "name": "stdout",
     "output_type": "stream",
     "text": [
      "+--------------------+---------------------------+\n",
      "|DropoffCommunityArea|count(DropoffCommunityArea)|\n",
      "+--------------------+---------------------------+\n",
      "|                 8.0|                     234019|\n",
      "|                32.0|                     156121|\n",
      "|                28.0|                      90816|\n",
      "|                76.0|                      55831|\n",
      "|                 6.0|                      47036|\n",
      "|                33.0|                      41911|\n",
      "|                 7.0|                      40071|\n",
      "|                24.0|                      26690|\n",
      "|                 3.0|                      19932|\n",
      "|                77.0|                      15325|\n",
      "|                56.0|                      14734|\n",
      "|                22.0|                      11630|\n",
      "|                41.0|                       9386|\n",
      "|                 2.0|                       8767|\n",
      "|                 1.0|                       7523|\n",
      "|                 5.0|                       7513|\n",
      "|                 4.0|                       7122|\n",
      "|                16.0|                       6966|\n",
      "|                35.0|                       6840|\n",
      "|                43.0|                       6334|\n",
      "+--------------------+---------------------------+\n",
      "only showing top 20 rows\n",
      "\n",
      "None\n"
     ]
    }
   ],
   "source": [
    "#DropoffCommunityArea\n",
    "print(sampled_df_new_col_2.groupBy('DropoffCommunityArea').agg({'DropoffCommunityArea': 'count'}).sort('count(DropoffCommunityArea)', \\\n",
    "                                                                                     ascending=False).show())"
   ]
  },
  {
   "cell_type": "markdown",
   "id": "7f4cf39c-8e22-4e17-b057-5caa6b28ab94",
   "metadata": {},
   "source": [
    "В столбцах PickupCentroidLocation и DropoffCentroidLocation нам дана информация о координатах центра общественной зоны или переписного участка (census tract)"
   ]
  },
  {
   "cell_type": "code",
   "execution_count": 33,
   "id": "37869ce5-63e3-4651-961b-8af91cd47718",
   "metadata": {},
   "outputs": [
    {
     "name": "stdout",
     "output_type": "stream",
     "text": [
      "+----------------------+-----------------------+\n",
      "|PickupCentroidLocation|DropoffCentroidLocation|\n",
      "+----------------------+-----------------------+\n",
      "|  POINT (-87.631863...|   POINT (-87.635760...|\n",
      "|  POINT (-87.620762...|                   null|\n",
      "|  POINT (-87.903039...|   POINT (-87.640901...|\n",
      "|  POINT (-87.620334...|   POINT (-87.683834...|\n",
      "|  POINT (-87.619710...|   POINT (-87.632746...|\n",
      "|  POINT (-87.534902...|   POINT (-87.572717...|\n",
      "|                  null|   POINT (-87.620762...|\n",
      "|  POINT (-87.617931...|   POINT (-87.635739...|\n",
      "|  POINT (-87.656305...|   POINT (-87.602350...|\n",
      "|  POINT (-87.617931...|   POINT (-87.586348...|\n",
      "|  POINT (-87.663517...|   POINT (-87.723583...|\n",
      "|  POINT (-87.625192...|   POINT (-87.765501...|\n",
      "|  POINT (-87.594925...|   POINT (-87.602847...|\n",
      "|  POINT (-87.655998...|   POINT (-87.696435...|\n",
      "|  POINT (-87.669054...|   POINT (-87.713192...|\n",
      "|  POINT (-87.687515...|   POINT (-87.596183...|\n",
      "|  POINT (-87.913624...|   POINT (-87.592310...|\n",
      "|  POINT (-87.648787...|                   null|\n",
      "|  POINT (-87.618868...|   POINT (-87.626214...|\n",
      "|  POINT (-87.615969...|   POINT (-87.617859...|\n",
      "+----------------------+-----------------------+\n",
      "only showing top 20 rows\n",
      "\n",
      "None\n"
     ]
    }
   ],
   "source": [
    "#PickupCentroidLocation, DropoffCentroidLocation\n",
    "print(sampled_df_new_col_2[['PickupCentroidLocation', 'DropoffCentroidLocation']].distinct().show())"
   ]
  },
  {
   "cell_type": "markdown",
   "id": "99005997-3535-45b0-9f38-57fb51316f0c",
   "metadata": {},
   "source": [
    "Медианное значение оплаты поездок, включающей чаевые и доп. плату, составляет 17 долларов США. При этом встречаются аномальные значения от 500 до 9000 долларов США, отработаем их в дальнейшем"
   ]
  },
  {
   "cell_type": "code",
   "execution_count": 34,
   "id": "5a05125c-43ad-4ba4-bb24-78fa5136b855",
   "metadata": {},
   "outputs": [
    {
     "name": "stdout",
     "output_type": "stream",
     "text": [
      "  summary          TripTotal\n",
      "0   count            1015724\n",
      "1    mean  27.03746241742529\n",
      "2  stddev  50.58114062598745\n",
      "3     min                0.0\n",
      "4     25%               10.0\n",
      "5     50%              17.25\n",
      "6     75%              41.25\n",
      "7     max            9700.31\n"
     ]
    },
    {
     "data": {
      "image/png": "[encoded data removed]",
      "text/plain": [
       "<Figure size 800x800 with 1 Axes>"
      ]
     },
     "metadata": {},
     "output_type": "display_data"
    }
   ],
   "source": [
    "#TripTotal\n",
    "print(sampled_df_new_col_2[['TripTotal']].summary().toPandas())\n",
    "sampled_df_new_col_2.select('TripTotal').toPandas().boxplot(figsize=(8, 8))\n",
    "plt.title('график \"Ящик с усами\"')\n",
    "plt.show()"
   ]
  },
  {
   "cell_type": "markdown",
   "id": "1bc50454-94c4-45df-9879-321929ed7d9e",
   "metadata": {},
   "source": [
    "Также нам предоставлена информация о способах оплаты проезда"
   ]
  },
  {
   "cell_type": "code",
   "execution_count": 35,
   "id": "3cd41b3e-5d37-4a18-a6d5-d99d6c21fa11",
   "metadata": {},
   "outputs": [
    {
     "name": "stdout",
     "output_type": "stream",
     "text": [
      "+-----------+\n",
      "|PaymentType|\n",
      "+-----------+\n",
      "|    Prepaid|\n",
      "|Credit Card|\n",
      "|  No Charge|\n",
      "|    Unknown|\n",
      "|     Prcard|\n",
      "|       Cash|\n",
      "|    Dispute|\n",
      "|     Mobile|\n",
      "+-----------+\n",
      "\n",
      "None\n"
     ]
    }
   ],
   "source": [
    "#PaymentType\n",
    "print(sampled_df_new_col_2[['PaymentType']].distinct().show())"
   ]
  },
  {
   "cell_type": "markdown",
   "id": "eec9a7d3-94b7-48ef-a9f4-d84aebfd243e",
   "metadata": {},
   "source": [
    "Чаще всего клиенты оплачивают поздки с помощью кредитных карт и наличными. На третьем месте по популярности - мобильный телефон"
   ]
  },
  {
   "cell_type": "code",
   "execution_count": 36,
   "id": "dd17c984-b51a-4622-a2bf-f55c118d2456",
   "metadata": {},
   "outputs": [
    {
     "name": "stdout",
     "output_type": "stream",
     "text": [
      "+-----------+------------------+\n",
      "|PaymentType|count(PaymentType)|\n",
      "+-----------+------------------+\n",
      "|Credit Card|            399983|\n",
      "|       Cash|            320116|\n",
      "|     Mobile|            150900|\n",
      "|     Prcard|             96589|\n",
      "|    Unknown|             48114|\n",
      "|  No Charge|               484|\n",
      "|    Dispute|               433|\n",
      "|    Prepaid|                 1|\n",
      "+-----------+------------------+\n",
      "\n",
      "None\n"
     ]
    }
   ],
   "source": [
    "print(sampled_df_new_col_2.groupBy('PaymentType').agg({'PaymentType': 'count'}).sort('count(PaymentType)', \\\n",
    "                                                                                     ascending=False).show())"
   ]
  },
  {
   "cell_type": "markdown",
   "id": "1d0344b1-d95d-44b5-8f3f-4c5b38c42b6f",
   "metadata": {},
   "source": [
    "#### Аномалии"
   ]
  },
  {
   "cell_type": "markdown",
   "id": "20efd523-6374-49b8-8ac9-fee41fd1c114",
   "metadata": {},
   "source": [
    "Доля аномальных значений в признаках TripMinutes (более 6 ч.), TripKm (более 400 км.) мала - избавимся от них"
   ]
  },
  {
   "cell_type": "code",
   "execution_count": 37,
   "id": "41dee179-1db6-4dfd-88dc-362e81a7031e",
   "metadata": {},
   "outputs": [
    {
     "name": "stdout",
     "output_type": "stream",
     "text": [
      "Доля аномальных значений в TripMinutes 0.0008685644586964648\n",
      "Доля аномальных значений в TripKm 1.9673034172060356e-05\n"
     ]
    }
   ],
   "source": [
    "#TripMinutes, TripKm\n",
    "print('Доля аномальных значений в', 'TripMinutes', sampled_df_new_col_2.select('TripID').\\\n",
    "      where(sampled_df_new_col_2.TripMinutes > 360).count() / sampled_df_new_col_2[['TripID']].count())\n",
    "print('Доля аномальных значений в', 'TripKm', sampled_df_new_col_2.select('TripID').\\\n",
    "      where(sampled_df_new_col_2.TripKm > 400).count() / sampled_df_new_col_2[['TripID']].count())"
   ]
  },
  {
   "cell_type": "markdown",
   "id": "7dc4c9df-ab51-418c-bd36-8ca5b4d24698",
   "metadata": {},
   "source": [
    "Доля нулевых значений в признаках TripMinutes и TripKm существенно больше, однако это также аномалия, от которой необходимо избавиться"
   ]
  },
  {
   "cell_type": "code",
   "execution_count": 38,
   "id": "fb75d2a5-4659-43b9-a609-9d4856862ef9",
   "metadata": {},
   "outputs": [
    {
     "name": "stdout",
     "output_type": "stream",
     "text": [
      "Доля нулевых значений в TripMinutes 0.022774488009285672\n",
      "Доля нулевых значений в TripKm 0.11785032755601897\n"
     ]
    }
   ],
   "source": [
    "print('Доля нулевых значений в', 'TripMinutes', sampled_df_new_col_2.select('TripID').\\\n",
    "      where(sampled_df_new_col_2.TripMinutes == 0).count() / sampled_df_new_col_2[['TripID']].count())\n",
    "print('Доля нулевых значений в', 'TripKm', sampled_df_new_col_2.select('TripID').\\\n",
    "      where(sampled_df_new_col_2.TripKm == 0).count() / sampled_df_new_col_2[['TripID']].count())"
   ]
  },
  {
   "cell_type": "markdown",
   "id": "65ed0aa7-f1e9-4ed4-8f32-430459299e32",
   "metadata": {},
   "source": [
    "Доля аномальных и нулевых значений в TripTotal незначительна"
   ]
  },
  {
   "cell_type": "code",
   "execution_count": 39,
   "id": "34fa824a-4b58-43e5-bfd5-f6fae62975ad",
   "metadata": {},
   "outputs": [
    {
     "name": "stdout",
     "output_type": "stream",
     "text": [
      "Доля аномальных значений в TripTotal 0.00014164584603883456\n",
      "Доля нулевых значений в TripTotal 0.0008665971552792587\n"
     ]
    }
   ],
   "source": [
    "#TripTotal\n",
    "print('Доля аномальных значений в', 'TripTotal', sampled_df_new_col_2.select('TripID').\\\n",
    "      where(sampled_df_new_col_2.TripTotal > 500).count() / sampled_df_new_col_2[['TripID']].count())\n",
    "print('Доля нулевых значений в', 'TripTotal', sampled_df_new_col_2.select('TripID').\\\n",
    "      where(sampled_df_new_col_2.TripTotal == 0).count() / sampled_df_new_col_2[['TripID']].count())"
   ]
  },
  {
   "cell_type": "markdown",
   "id": "79b84235-c23c-45ce-88a4-48a3794fdcee",
   "metadata": {},
   "source": [
    "Избавились от аномалий"
   ]
  },
  {
   "cell_type": "code",
   "execution_count": 40,
   "id": "3c0a9930-a5bf-4d34-88ab-61b0f1b9a595",
   "metadata": {},
   "outputs": [],
   "source": [
    "sampled_df_no_anom = sampled_df_new_col_2.where(sampled_df_new_col_2.TripMinutes <= 360)\n",
    "sampled_df_no_anom = sampled_df_no_anom.where(sampled_df_no_anom.TripKm <= 360)\n",
    "sampled_df_no_anom = sampled_df_no_anom.where(sampled_df_no_anom.TripMinutes > 0)\n",
    "sampled_df_no_anom = sampled_df_no_anom.where(sampled_df_no_anom.TripKm > 0)\n",
    "sampled_df_no_anom = sampled_df_no_anom.where(sampled_df_no_anom.TripTotal < 500)\n",
    "sampled_df_no_anom = sampled_df_no_anom.where(sampled_df_no_anom.TripTotal > 0)"
   ]
  },
  {
   "cell_type": "markdown",
   "id": "658bb09a-b188-4454-9b22-5444a6e8c9d3",
   "metadata": {},
   "source": [
    "Наша выборка сократилась на 12%"
   ]
  },
  {
   "cell_type": "code",
   "execution_count": 41,
   "id": "876aceff-d931-4413-b9e5-d1f200417b5e",
   "metadata": {},
   "outputs": [
    {
     "name": "stdout",
     "output_type": "stream",
     "text": [
      "1016620\n",
      "893717\n",
      "-0.12089374594243674\n"
     ]
    }
   ],
   "source": [
    "print(sampled_df_new_col_2[['TripID']].count())\n",
    "print(sampled_df_no_anom[['TripID']].count())\n",
    "print((sampled_df_no_anom[['TripID']].count() / sampled_df_new_col_2[['TripID']].count()) - 1)"
   ]
  },
  {
   "cell_type": "markdown",
   "id": "5db21e76-716c-4c84-92ed-5db81d6f05d7",
   "metadata": {},
   "source": [
    "#### Пропуски"
   ]
  },
  {
   "cell_type": "markdown",
   "id": "dd2f90d8-97b3-429e-9857-747df8078f40",
   "metadata": {},
   "source": [
    "Пропуски зафиксированы в столбцах, характеризующих место посадки и высадки пассажира: PickupCommunityArea, DropoffCommunityArea, PickupCentroidLocation, DropoffCentroidLocation. Максимальная доля пропусков в указанных столбцах не превышает 10%. В описании сказано, что указанные поля могут быть пустыми, если поездка началась/закончилась за пределами Чикаго. Заполним пропуски в столбцах PickupCommunityArea, DropoffCommunityArea произвольным значением (например, 99.0), которое будет обозначать \"за пределами Чикаго\". От столбцов PickupCentroidLocation и DropoffCentroidLocation в целом в дальнейшем мы избавимся"
   ]
  },
  {
   "cell_type": "code",
   "execution_count": 42,
   "id": "91e51f8d-eda4-46ef-ba91-96a5d2ff80a2",
   "metadata": {},
   "outputs": [
    {
     "name": "stdout",
     "output_type": "stream",
     "text": [
      "+------+------------------+----------------+-----------+---------+-------------------+--------------------+---------+-----------+----------------------+-----------------------+-----------+------+\n",
      "|TripID|TripStartTimestamp|TripEndTimestamp|TripSeconds|TripMiles|PickupCommunityArea|DropoffCommunityArea|TripTotal|PaymentType|PickupCentroidLocation|DropoffCentroidLocation|TripMinutes|TripKm|\n",
      "+------+------------------+----------------+-----------+---------+-------------------+--------------------+---------+-----------+----------------------+-----------------------+-----------+------+\n",
      "|     0|                 0|               0|          0|        0|              59251|               85827|        0|          0|                 59144|                  80351|          0|     0|\n",
      "+------+------------------+----------------+-----------+---------+-------------------+--------------------+---------+-----------+----------------------+-----------------------+-----------+------+\n",
      "\n"
     ]
    }
   ],
   "source": [
    "sampled_df_no_anom.select([F.count(F.when(F.col(c).isNull(), c)).alias(c) for c in sampled_df_no_anom.columns]).show()"
   ]
  },
  {
   "cell_type": "code",
   "execution_count": 43,
   "id": "94a1e4b5-cd7a-40f0-bc0f-303e123cf30b",
   "metadata": {},
   "outputs": [],
   "source": [
    "sampled_df_no_anom = sampled_df_no_anom.fillna(99.0)"
   ]
  },
  {
   "cell_type": "markdown",
   "id": "a0b268a8-eeb7-4654-8adc-428af8070b25",
   "metadata": {},
   "source": [
    "От столбцов PickupCentroidLocation и DropoffCentroidLocation избавимся в дальнейшем"
   ]
  },
  {
   "cell_type": "code",
   "execution_count": 44,
   "id": "7b103548-4562-4320-8dcf-74391ff95c44",
   "metadata": {},
   "outputs": [
    {
     "name": "stdout",
     "output_type": "stream",
     "text": [
      "+------+------------------+----------------+-----------+---------+-------------------+--------------------+---------+-----------+----------------------+-----------------------+-----------+------+\n",
      "|TripID|TripStartTimestamp|TripEndTimestamp|TripSeconds|TripMiles|PickupCommunityArea|DropoffCommunityArea|TripTotal|PaymentType|PickupCentroidLocation|DropoffCentroidLocation|TripMinutes|TripKm|\n",
      "+------+------------------+----------------+-----------+---------+-------------------+--------------------+---------+-----------+----------------------+-----------------------+-----------+------+\n",
      "|     0|                 0|               0|          0|        0|                  0|                   0|        0|          0|                 59144|                  80351|          0|     0|\n",
      "+------+------------------+----------------+-----------+---------+-------------------+--------------------+---------+-----------+----------------------+-----------------------+-----------+------+\n",
      "\n"
     ]
    }
   ],
   "source": [
    "#повторная проверка\n",
    "sampled_df_no_anom.select([F.count(F.when(F.col(c).isNull(), c)).alias(c) for c in sampled_df_no_anom.columns]).show()"
   ]
  },
  {
   "cell_type": "markdown",
   "id": "72f51d8f-ca71-48fc-9102-f0b896ccfb6f",
   "metadata": {},
   "source": [
    "#### Повторно убираем бесполезные признаки"
   ]
  },
  {
   "cell_type": "code",
   "execution_count": 45,
   "id": "3ff6fde4-90d5-49c1-ab1a-390dbb2370e6",
   "metadata": {},
   "outputs": [
    {
     "name": "stdout",
     "output_type": "stream",
     "text": [
      "root\n",
      " |-- TripID: string (nullable = true)\n",
      " |-- TripStartTimestamp: string (nullable = true)\n",
      " |-- TripEndTimestamp: string (nullable = true)\n",
      " |-- TripSeconds: float (nullable = false)\n",
      " |-- TripMiles: float (nullable = false)\n",
      " |-- PickupCommunityArea: float (nullable = false)\n",
      " |-- DropoffCommunityArea: float (nullable = false)\n",
      " |-- TripTotal: float (nullable = false)\n",
      " |-- PaymentType: string (nullable = true)\n",
      " |-- PickupCentroidLocation: string (nullable = true)\n",
      " |-- DropoffCentroidLocation: string (nullable = true)\n",
      " |-- TripMinutes: double (nullable = false)\n",
      " |-- TripKm: double (nullable = false)\n",
      "\n"
     ]
    }
   ],
   "source": [
    "sampled_df_no_anom.printSchema()"
   ]
  },
  {
   "cell_type": "code",
   "execution_count": 46,
   "id": "2c263b1b-2291-4947-aeed-632b89e9942c",
   "metadata": {},
   "outputs": [],
   "source": [
    "#повторно убрать бесполезные признаки\n",
    "unessen_col = ['TripSeconds', 'TripMiles', 'PickupCentroidLocation', 'DropoffCentroidLocation', 'TripStartDate',\\\n",
    "               'TripEndTimestamp']\n",
    "sampled_df_essen_2 = sampled_df_no_anom.drop(*unessen_col)"
   ]
  },
  {
   "cell_type": "markdown",
   "id": "e064eb60-a2e8-4438-b4f9-da611a59f077",
   "metadata": {},
   "source": [
    "### Анализ трендов и сезонности"
   ]
  },
  {
   "cell_type": "markdown",
   "id": "dd603975-3c68-48d3-9495-0c3397acca29",
   "metadata": {},
   "source": [
    "ДОДЕЛАТЬ"
   ]
  },
  {
   "cell_type": "raw",
   "id": "24cd20d8-d314-4e10-b76a-13bab0a05afe",
   "metadata": {},
   "source": [
    "sampled_df_essen_2.printSchema()"
   ]
  },
  {
   "cell_type": "raw",
   "id": "e6d139b4-64b8-4a16-bfdd-4f213dfd6d42",
   "metadata": {},
   "source": [
    "unessen_col = ['PickupCommunityArea', 'DropoffCommunityArea', 'TripTotal', 'PaymentType', 'TripMinutes', 'TripKm']\n",
    "sampled_df_essen_2 = sampled_df_essen_2.drop(*unessen_col)"
   ]
  },
  {
   "cell_type": "raw",
   "id": "a74e83f6-e8ba-421e-92cf-7db595bf9f24",
   "metadata": {},
   "source": [
    "display(sampled_df_essen_2.limit(5).toPandas())"
   ]
  },
  {
   "cell_type": "markdown",
   "id": "e1b19168-cae4-4e1b-82de-4ca25e2987bf",
   "metadata": {},
   "source": [
    "ВЫДЕЛИТЬ ЧАС"
   ]
  },
  {
   "cell_type": "raw",
   "id": "995f28bc-f032-49b0-a80f-9b96c005375d",
   "metadata": {},
   "source": [
    "#сжали в почасовые данные\n",
    "sampled_df_hours = sampled_df_essen_2.groupBy(F.date_trunc('hour', 'TripStartTimestamp').alias('date_hour')) \\\n",
    "                   .agg(F.count('TripID').alias('count_orders'), \n",
    "                        ).sort('date_hour', ascending=True)"
   ]
  },
  {
   "cell_type": "raw",
   "id": "07b7e6a6-4733-4a29-8ef3-fd49b7c00977",
   "metadata": {},
   "source": [
    "sampled_df_hours.printSchema()"
   ]
  },
  {
   "cell_type": "raw",
   "id": "659f9c74-8d32-43ed-992d-073c4aa34ba9",
   "metadata": {},
   "source": [
    "display(sampled_df_hours.limit(5).toPandas())"
   ]
  },
  {
   "cell_type": "raw",
   "id": "9c6f6c88-f3c4-4c84-bba7-1a1311febdd4",
   "metadata": {},
   "source": [
    "sampled_df_seas_anl = sampled_df_hours.toPandas()"
   ]
  },
  {
   "cell_type": "markdown",
   "id": "2a26873e-5387-46ce-abe0-7c73fe1a51bc",
   "metadata": {},
   "source": [
    "Даты расположены в хронологическом порядке"
   ]
  },
  {
   "cell_type": "raw",
   "id": "dcdb80a3-8b04-4da5-a134-ebc9e195a035",
   "metadata": {},
   "source": [
    "print(sampled_df_seas_anl.index.is_monotonic)"
   ]
  },
  {
   "cell_type": "raw",
   "id": "07e15cea-c2cb-4d97-9f5e-a410ee983700",
   "metadata": {},
   "source": [
    "#устанавливаем столбец date_hour в качестве индекса\n",
    "sampled_df_seas_anl = sampled_df_seas_anl.set_index('date_hour')\n",
    "display(sampled_df_seas_anl.head(10))"
   ]
  },
  {
   "cell_type": "raw",
   "id": "b20a2cb9-c298-4fbf-9e48-d9bf92f0527f",
   "metadata": {},
   "source": [
    "#анализируем тренды и сезонность\n",
    "decomposed = seasonal_decompose(sampled_df_seas_anl)\n",
    "plt.figure(figsize=(6, 8))\n",
    "\n",
    "plt.subplot(311)\n",
    "decomposed.trend.plot(ax=plt.gca(), grid=True)\n",
    "plt.title('Trend')\n",
    "\n",
    "plt.subplot(312)\n",
    "decomposed.seasonal.plot(ax=plt.gca(), grid=True)\n",
    "#decomposed.seasonal.tail.plot(ax=plt.gca())\n",
    "plt.title('Seasonality')\n",
    "\n",
    "plt.subplot(313)\n",
    "decomposed.resid.plot(ax=plt.gca(), grid=True)\n",
    "plt.title('Residuals')\n",
    "plt.tight_layout()"
   ]
  },
  {
   "cell_type": "markdown",
   "id": "4ad39e13-bc17-485a-9653-c4cf76a67f82",
   "metadata": {},
   "source": [
    "### По аналогии с нашей выборкой поработаем со всеми представленными данными"
   ]
  },
  {
   "cell_type": "markdown",
   "id": "fe75d8d9-2a24-4d4d-931e-5501c7cea339",
   "metadata": {},
   "source": [
    "Избавились от бесполезных признаков в представенной генеральной совокупности"
   ]
  },
  {
   "cell_type": "code",
   "execution_count": 47,
   "id": "56b4a8aa-16d3-4d18-8673-7088bab33b8a",
   "metadata": {},
   "outputs": [],
   "source": [
    "#избавляемся от бесполезных признаков\n",
    "unessen_col = ['Taxi ID', 'Company', 'Fare', 'Tips', 'Tolls', 'Extras', 'Pickup Census Tract',\\\n",
    "                                 'Dropoff Census Tract', 'Pickup Centroid Latitude', 'Pickup Centroid Longitude',\\\n",
    "                                   'Dropoff Centroid Latitude', 'Dropoff Centroid Longitude']"
   ]
  },
  {
   "cell_type": "code",
   "execution_count": 48,
   "id": "edfd5c92-af6f-4504-9d86-356915317530",
   "metadata": {},
   "outputs": [
    {
     "data": {
      "text/html": [
       "<div>\n",
       "<style scoped>\n",
       "    .dataframe tbody tr th:only-of-type {\n",
       "        vertical-align: middle;\n",
       "    }\n",
       "\n",
       "    .dataframe tbody tr th {\n",
       "        vertical-align: top;\n",
       "    }\n",
       "\n",
       "    .dataframe thead th {\n",
       "        text-align: right;\n",
       "    }\n",
       "</style>\n",
       "<table border=\"1\" class=\"dataframe\">\n",
       "  <thead>\n",
       "    <tr style=\"text-align: right;\">\n",
       "      <th></th>\n",
       "      <th>Trip ID</th>\n",
       "      <th>Trip Start Timestamp</th>\n",
       "      <th>Trip End Timestamp</th>\n",
       "      <th>Trip Seconds</th>\n",
       "      <th>Trip Miles</th>\n",
       "      <th>Pickup Community Area</th>\n",
       "      <th>Dropoff Community Area</th>\n",
       "      <th>Trip Total</th>\n",
       "      <th>Payment Type</th>\n",
       "      <th>Pickup Centroid Location</th>\n",
       "      <th>Dropoff Centroid Location</th>\n",
       "    </tr>\n",
       "  </thead>\n",
       "  <tbody>\n",
       "    <tr>\n",
       "      <th>0</th>\n",
       "      <td>bcfa19f2539021c054809d4c3993d226996ae095</td>\n",
       "      <td>01/01/2022 12:00:00 AM</td>\n",
       "      <td>01/01/2022 12:00:00 AM</td>\n",
       "      <td>152.0</td>\n",
       "      <td>0.100000</td>\n",
       "      <td>NaN</td>\n",
       "      <td>NaN</td>\n",
       "      <td>3.75</td>\n",
       "      <td>Cash</td>\n",
       "      <td>None</td>\n",
       "      <td>None</td>\n",
       "    </tr>\n",
       "    <tr>\n",
       "      <th>1</th>\n",
       "      <td>2aba69ff015f9ea8e7bff43cab7eddb228f34a12</td>\n",
       "      <td>01/01/2022 12:00:00 AM</td>\n",
       "      <td>01/01/2022 12:30:00 AM</td>\n",
       "      <td>2360.0</td>\n",
       "      <td>17.440001</td>\n",
       "      <td>NaN</td>\n",
       "      <td>8.0</td>\n",
       "      <td>52.75</td>\n",
       "      <td>Cash</td>\n",
       "      <td>None</td>\n",
       "      <td>POINT (-87.6333080367 41.899602111)</td>\n",
       "    </tr>\n",
       "    <tr>\n",
       "      <th>2</th>\n",
       "      <td>54d812a0b88f8f9707825261014b3563a0a60ace</td>\n",
       "      <td>01/01/2022 12:00:00 AM</td>\n",
       "      <td>01/01/2022 12:00:00 AM</td>\n",
       "      <td>536.0</td>\n",
       "      <td>4.830000</td>\n",
       "      <td>28.0</td>\n",
       "      <td>22.0</td>\n",
       "      <td>14.75</td>\n",
       "      <td>Cash</td>\n",
       "      <td>POINT (-87.6635175498 41.874005383)</td>\n",
       "      <td>POINT (-87.6991553432 41.9227606205)</td>\n",
       "    </tr>\n",
       "    <tr>\n",
       "      <th>3</th>\n",
       "      <td>7125b9e03a0f16c2dfb5eaf73ed057dc51eb68ef</td>\n",
       "      <td>01/01/2022 12:00:00 AM</td>\n",
       "      <td>01/01/2022 12:15:00 AM</td>\n",
       "      <td>897.0</td>\n",
       "      <td>2.070000</td>\n",
       "      <td>8.0</td>\n",
       "      <td>32.0</td>\n",
       "      <td>11.25</td>\n",
       "      <td>Cash</td>\n",
       "      <td>POINT (-87.6333080367 41.899602111)</td>\n",
       "      <td>POINT (-87.6251921424 41.8788655841)</td>\n",
       "    </tr>\n",
       "    <tr>\n",
       "      <th>4</th>\n",
       "      <td>f1a650ee419b4e52d766432e6f86eca3457bfb37</td>\n",
       "      <td>01/01/2022 12:00:00 AM</td>\n",
       "      <td>01/01/2022 12:30:00 AM</td>\n",
       "      <td>2200.0</td>\n",
       "      <td>2.480000</td>\n",
       "      <td>8.0</td>\n",
       "      <td>32.0</td>\n",
       "      <td>11.50</td>\n",
       "      <td>Mobile</td>\n",
       "      <td>POINT (-87.6333080367 41.899602111)</td>\n",
       "      <td>POINT (-87.6251921424 41.8788655841)</td>\n",
       "    </tr>\n",
       "  </tbody>\n",
       "</table>\n",
       "</div>"
      ],
      "text/plain": [
       "                                    Trip ID    Trip Start Timestamp  \\\n",
       "0  bcfa19f2539021c054809d4c3993d226996ae095  01/01/2022 12:00:00 AM   \n",
       "1  2aba69ff015f9ea8e7bff43cab7eddb228f34a12  01/01/2022 12:00:00 AM   \n",
       "2  54d812a0b88f8f9707825261014b3563a0a60ace  01/01/2022 12:00:00 AM   \n",
       "3  7125b9e03a0f16c2dfb5eaf73ed057dc51eb68ef  01/01/2022 12:00:00 AM   \n",
       "4  f1a650ee419b4e52d766432e6f86eca3457bfb37  01/01/2022 12:00:00 AM   \n",
       "\n",
       "       Trip End Timestamp  Trip Seconds  Trip Miles  Pickup Community Area  \\\n",
       "0  01/01/2022 12:00:00 AM         152.0    0.100000                    NaN   \n",
       "1  01/01/2022 12:30:00 AM        2360.0   17.440001                    NaN   \n",
       "2  01/01/2022 12:00:00 AM         536.0    4.830000                   28.0   \n",
       "3  01/01/2022 12:15:00 AM         897.0    2.070000                    8.0   \n",
       "4  01/01/2022 12:30:00 AM        2200.0    2.480000                    8.0   \n",
       "\n",
       "   Dropoff Community Area  Trip Total Payment Type  \\\n",
       "0                     NaN        3.75         Cash   \n",
       "1                     8.0       52.75         Cash   \n",
       "2                    22.0       14.75         Cash   \n",
       "3                    32.0       11.25         Cash   \n",
       "4                    32.0       11.50       Mobile   \n",
       "\n",
       "              Pickup Centroid Location             Dropoff Centroid Location  \n",
       "0                                 None                                  None  \n",
       "1                                 None   POINT (-87.6333080367 41.899602111)  \n",
       "2  POINT (-87.6635175498 41.874005383)  POINT (-87.6991553432 41.9227606205)  \n",
       "3  POINT (-87.6333080367 41.899602111)  POINT (-87.6251921424 41.8788655841)  \n",
       "4  POINT (-87.6333080367 41.899602111)  POINT (-87.6251921424 41.8788655841)  "
      ]
     },
     "metadata": {},
     "output_type": "display_data"
    }
   ],
   "source": [
    "df_essen = df.drop(*unessen_col)\n",
    "display(df_essen.limit(5).toPandas())"
   ]
  },
  {
   "cell_type": "markdown",
   "id": "2bb59f68-6ed8-4545-bb31-74192a41c088",
   "metadata": {},
   "source": [
    "В генеральной совокупности явные дубликаты также не выявлены"
   ]
  },
  {
   "cell_type": "code",
   "execution_count": 49,
   "id": "7def33b9-0bcf-43ba-be5b-38e8538207a6",
   "metadata": {},
   "outputs": [
    {
     "name": "stdout",
     "output_type": "stream",
     "text": [
      "10166155\n",
      "10166155\n"
     ]
    }
   ],
   "source": [
    "#явные дубликаты\n",
    "print(df_essen.count())\n",
    "print(df_essen.distinct().count())"
   ]
  },
  {
   "cell_type": "markdown",
   "id": "8f06b42c-2b45-4459-a809-c28bb511ff0d",
   "metadata": {},
   "source": [
    "Изменили названия столбцов"
   ]
  },
  {
   "cell_type": "code",
   "execution_count": 50,
   "id": "0f37dc2b-a743-4705-83ed-dbd4fbeff253",
   "metadata": {},
   "outputs": [
    {
     "data": {
      "text/html": [
       "<div>\n",
       "<style scoped>\n",
       "    .dataframe tbody tr th:only-of-type {\n",
       "        vertical-align: middle;\n",
       "    }\n",
       "\n",
       "    .dataframe tbody tr th {\n",
       "        vertical-align: top;\n",
       "    }\n",
       "\n",
       "    .dataframe thead th {\n",
       "        text-align: right;\n",
       "    }\n",
       "</style>\n",
       "<table border=\"1\" class=\"dataframe\">\n",
       "  <thead>\n",
       "    <tr style=\"text-align: right;\">\n",
       "      <th></th>\n",
       "      <th>TripID</th>\n",
       "      <th>TripStartTimestamp</th>\n",
       "      <th>TripEndTimestamp</th>\n",
       "      <th>TripSeconds</th>\n",
       "      <th>TripMiles</th>\n",
       "      <th>PickupCommunityArea</th>\n",
       "      <th>DropoffCommunityArea</th>\n",
       "      <th>TripTotal</th>\n",
       "      <th>PaymentType</th>\n",
       "      <th>PickupCentroidLocation</th>\n",
       "      <th>DropoffCentroidLocation</th>\n",
       "    </tr>\n",
       "  </thead>\n",
       "  <tbody>\n",
       "    <tr>\n",
       "      <th>0</th>\n",
       "      <td>bcfa19f2539021c054809d4c3993d226996ae095</td>\n",
       "      <td>01/01/2022 12:00:00 AM</td>\n",
       "      <td>01/01/2022 12:00:00 AM</td>\n",
       "      <td>152.0</td>\n",
       "      <td>0.100000</td>\n",
       "      <td>NaN</td>\n",
       "      <td>NaN</td>\n",
       "      <td>3.75</td>\n",
       "      <td>Cash</td>\n",
       "      <td>None</td>\n",
       "      <td>None</td>\n",
       "    </tr>\n",
       "    <tr>\n",
       "      <th>1</th>\n",
       "      <td>2aba69ff015f9ea8e7bff43cab7eddb228f34a12</td>\n",
       "      <td>01/01/2022 12:00:00 AM</td>\n",
       "      <td>01/01/2022 12:30:00 AM</td>\n",
       "      <td>2360.0</td>\n",
       "      <td>17.440001</td>\n",
       "      <td>NaN</td>\n",
       "      <td>8.0</td>\n",
       "      <td>52.75</td>\n",
       "      <td>Cash</td>\n",
       "      <td>None</td>\n",
       "      <td>POINT (-87.6333080367 41.899602111)</td>\n",
       "    </tr>\n",
       "    <tr>\n",
       "      <th>2</th>\n",
       "      <td>54d812a0b88f8f9707825261014b3563a0a60ace</td>\n",
       "      <td>01/01/2022 12:00:00 AM</td>\n",
       "      <td>01/01/2022 12:00:00 AM</td>\n",
       "      <td>536.0</td>\n",
       "      <td>4.830000</td>\n",
       "      <td>28.0</td>\n",
       "      <td>22.0</td>\n",
       "      <td>14.75</td>\n",
       "      <td>Cash</td>\n",
       "      <td>POINT (-87.6635175498 41.874005383)</td>\n",
       "      <td>POINT (-87.6991553432 41.9227606205)</td>\n",
       "    </tr>\n",
       "    <tr>\n",
       "      <th>3</th>\n",
       "      <td>7125b9e03a0f16c2dfb5eaf73ed057dc51eb68ef</td>\n",
       "      <td>01/01/2022 12:00:00 AM</td>\n",
       "      <td>01/01/2022 12:15:00 AM</td>\n",
       "      <td>897.0</td>\n",
       "      <td>2.070000</td>\n",
       "      <td>8.0</td>\n",
       "      <td>32.0</td>\n",
       "      <td>11.25</td>\n",
       "      <td>Cash</td>\n",
       "      <td>POINT (-87.6333080367 41.899602111)</td>\n",
       "      <td>POINT (-87.6251921424 41.8788655841)</td>\n",
       "    </tr>\n",
       "    <tr>\n",
       "      <th>4</th>\n",
       "      <td>f1a650ee419b4e52d766432e6f86eca3457bfb37</td>\n",
       "      <td>01/01/2022 12:00:00 AM</td>\n",
       "      <td>01/01/2022 12:30:00 AM</td>\n",
       "      <td>2200.0</td>\n",
       "      <td>2.480000</td>\n",
       "      <td>8.0</td>\n",
       "      <td>32.0</td>\n",
       "      <td>11.50</td>\n",
       "      <td>Mobile</td>\n",
       "      <td>POINT (-87.6333080367 41.899602111)</td>\n",
       "      <td>POINT (-87.6251921424 41.8788655841)</td>\n",
       "    </tr>\n",
       "  </tbody>\n",
       "</table>\n",
       "</div>"
      ],
      "text/plain": [
       "                                     TripID      TripStartTimestamp  \\\n",
       "0  bcfa19f2539021c054809d4c3993d226996ae095  01/01/2022 12:00:00 AM   \n",
       "1  2aba69ff015f9ea8e7bff43cab7eddb228f34a12  01/01/2022 12:00:00 AM   \n",
       "2  54d812a0b88f8f9707825261014b3563a0a60ace  01/01/2022 12:00:00 AM   \n",
       "3  7125b9e03a0f16c2dfb5eaf73ed057dc51eb68ef  01/01/2022 12:00:00 AM   \n",
       "4  f1a650ee419b4e52d766432e6f86eca3457bfb37  01/01/2022 12:00:00 AM   \n",
       "\n",
       "         TripEndTimestamp  TripSeconds  TripMiles  PickupCommunityArea  \\\n",
       "0  01/01/2022 12:00:00 AM        152.0   0.100000                  NaN   \n",
       "1  01/01/2022 12:30:00 AM       2360.0  17.440001                  NaN   \n",
       "2  01/01/2022 12:00:00 AM        536.0   4.830000                 28.0   \n",
       "3  01/01/2022 12:15:00 AM        897.0   2.070000                  8.0   \n",
       "4  01/01/2022 12:30:00 AM       2200.0   2.480000                  8.0   \n",
       "\n",
       "   DropoffCommunityArea  TripTotal PaymentType  \\\n",
       "0                   NaN       3.75        Cash   \n",
       "1                   8.0      52.75        Cash   \n",
       "2                  22.0      14.75        Cash   \n",
       "3                  32.0      11.25        Cash   \n",
       "4                  32.0      11.50      Mobile   \n",
       "\n",
       "                PickupCentroidLocation               DropoffCentroidLocation  \n",
       "0                                 None                                  None  \n",
       "1                                 None   POINT (-87.6333080367 41.899602111)  \n",
       "2  POINT (-87.6635175498 41.874005383)  POINT (-87.6991553432 41.9227606205)  \n",
       "3  POINT (-87.6333080367 41.899602111)  POINT (-87.6251921424 41.8788655841)  \n",
       "4  POINT (-87.6333080367 41.899602111)  POINT (-87.6251921424 41.8788655841)  "
      ]
     },
     "metadata": {},
     "output_type": "display_data"
    }
   ],
   "source": [
    "#изменяем названия столбцов\n",
    "oldColumns = df_essen.schema.names\n",
    "newColumns = ['TripID', 'TripStartTimestamp', 'TripEndTimestamp', 'TripSeconds', 'TripMiles', 'PickupCommunityArea',\\\n",
    "              'DropoffCommunityArea', 'TripTotal', 'PaymentType', 'PickupCentroidLocation', 'DropoffCentroidLocation']\n",
    "df_new_names = reduce(lambda df_essen, idx: df_essen.withColumnRenamed(oldColumns[idx], newColumns[idx]),\\\n",
    "                              range(len(oldColumns)), df_essen)\n",
    "display(df_new_names.limit(5).toPandas())"
   ]
  },
  {
   "cell_type": "markdown",
   "id": "26050232-d250-41df-899f-435802b1e7d2",
   "metadata": {},
   "source": [
    "Добавили новые признаки"
   ]
  },
  {
   "cell_type": "code",
   "execution_count": 51,
   "id": "3567f801-2053-4660-8fb3-b795af7b6069",
   "metadata": {},
   "outputs": [
    {
     "data": {
      "text/html": [
       "<div>\n",
       "<style scoped>\n",
       "    .dataframe tbody tr th:only-of-type {\n",
       "        vertical-align: middle;\n",
       "    }\n",
       "\n",
       "    .dataframe tbody tr th {\n",
       "        vertical-align: top;\n",
       "    }\n",
       "\n",
       "    .dataframe thead th {\n",
       "        text-align: right;\n",
       "    }\n",
       "</style>\n",
       "<table border=\"1\" class=\"dataframe\">\n",
       "  <thead>\n",
       "    <tr style=\"text-align: right;\">\n",
       "      <th></th>\n",
       "      <th>TripID</th>\n",
       "      <th>TripStartTimestamp</th>\n",
       "      <th>TripEndTimestamp</th>\n",
       "      <th>TripSeconds</th>\n",
       "      <th>TripMiles</th>\n",
       "      <th>PickupCommunityArea</th>\n",
       "      <th>DropoffCommunityArea</th>\n",
       "      <th>TripTotal</th>\n",
       "      <th>PaymentType</th>\n",
       "      <th>PickupCentroidLocation</th>\n",
       "      <th>DropoffCentroidLocation</th>\n",
       "      <th>TripMinutes</th>\n",
       "      <th>TripKm</th>\n",
       "    </tr>\n",
       "  </thead>\n",
       "  <tbody>\n",
       "    <tr>\n",
       "      <th>0</th>\n",
       "      <td>bcfa19f2539021c054809d4c3993d226996ae095</td>\n",
       "      <td>01/01/2022 12:00:00 AM</td>\n",
       "      <td>01/01/2022 12:00:00 AM</td>\n",
       "      <td>152.0</td>\n",
       "      <td>0.100000</td>\n",
       "      <td>NaN</td>\n",
       "      <td>NaN</td>\n",
       "      <td>3.75</td>\n",
       "      <td>Cash</td>\n",
       "      <td>None</td>\n",
       "      <td>None</td>\n",
       "      <td>2.533333</td>\n",
       "      <td>0.161000</td>\n",
       "    </tr>\n",
       "    <tr>\n",
       "      <th>1</th>\n",
       "      <td>2aba69ff015f9ea8e7bff43cab7eddb228f34a12</td>\n",
       "      <td>01/01/2022 12:00:00 AM</td>\n",
       "      <td>01/01/2022 12:30:00 AM</td>\n",
       "      <td>2360.0</td>\n",
       "      <td>17.440001</td>\n",
       "      <td>NaN</td>\n",
       "      <td>8.0</td>\n",
       "      <td>52.75</td>\n",
       "      <td>Cash</td>\n",
       "      <td>None</td>\n",
       "      <td>POINT (-87.6333080367 41.899602111)</td>\n",
       "      <td>39.333333</td>\n",
       "      <td>28.078401</td>\n",
       "    </tr>\n",
       "    <tr>\n",
       "      <th>2</th>\n",
       "      <td>54d812a0b88f8f9707825261014b3563a0a60ace</td>\n",
       "      <td>01/01/2022 12:00:00 AM</td>\n",
       "      <td>01/01/2022 12:00:00 AM</td>\n",
       "      <td>536.0</td>\n",
       "      <td>4.830000</td>\n",
       "      <td>28.0</td>\n",
       "      <td>22.0</td>\n",
       "      <td>14.75</td>\n",
       "      <td>Cash</td>\n",
       "      <td>POINT (-87.6635175498 41.874005383)</td>\n",
       "      <td>POINT (-87.6991553432 41.9227606205)</td>\n",
       "      <td>8.933333</td>\n",
       "      <td>7.776300</td>\n",
       "    </tr>\n",
       "    <tr>\n",
       "      <th>3</th>\n",
       "      <td>7125b9e03a0f16c2dfb5eaf73ed057dc51eb68ef</td>\n",
       "      <td>01/01/2022 12:00:00 AM</td>\n",
       "      <td>01/01/2022 12:15:00 AM</td>\n",
       "      <td>897.0</td>\n",
       "      <td>2.070000</td>\n",
       "      <td>8.0</td>\n",
       "      <td>32.0</td>\n",
       "      <td>11.25</td>\n",
       "      <td>Cash</td>\n",
       "      <td>POINT (-87.6333080367 41.899602111)</td>\n",
       "      <td>POINT (-87.6251921424 41.8788655841)</td>\n",
       "      <td>14.950000</td>\n",
       "      <td>3.332700</td>\n",
       "    </tr>\n",
       "    <tr>\n",
       "      <th>4</th>\n",
       "      <td>f1a650ee419b4e52d766432e6f86eca3457bfb37</td>\n",
       "      <td>01/01/2022 12:00:00 AM</td>\n",
       "      <td>01/01/2022 12:30:00 AM</td>\n",
       "      <td>2200.0</td>\n",
       "      <td>2.480000</td>\n",
       "      <td>8.0</td>\n",
       "      <td>32.0</td>\n",
       "      <td>11.50</td>\n",
       "      <td>Mobile</td>\n",
       "      <td>POINT (-87.6333080367 41.899602111)</td>\n",
       "      <td>POINT (-87.6251921424 41.8788655841)</td>\n",
       "      <td>36.666667</td>\n",
       "      <td>3.992800</td>\n",
       "    </tr>\n",
       "  </tbody>\n",
       "</table>\n",
       "</div>"
      ],
      "text/plain": [
       "                                     TripID      TripStartTimestamp  \\\n",
       "0  bcfa19f2539021c054809d4c3993d226996ae095  01/01/2022 12:00:00 AM   \n",
       "1  2aba69ff015f9ea8e7bff43cab7eddb228f34a12  01/01/2022 12:00:00 AM   \n",
       "2  54d812a0b88f8f9707825261014b3563a0a60ace  01/01/2022 12:00:00 AM   \n",
       "3  7125b9e03a0f16c2dfb5eaf73ed057dc51eb68ef  01/01/2022 12:00:00 AM   \n",
       "4  f1a650ee419b4e52d766432e6f86eca3457bfb37  01/01/2022 12:00:00 AM   \n",
       "\n",
       "         TripEndTimestamp  TripSeconds  TripMiles  PickupCommunityArea  \\\n",
       "0  01/01/2022 12:00:00 AM        152.0   0.100000                  NaN   \n",
       "1  01/01/2022 12:30:00 AM       2360.0  17.440001                  NaN   \n",
       "2  01/01/2022 12:00:00 AM        536.0   4.830000                 28.0   \n",
       "3  01/01/2022 12:15:00 AM        897.0   2.070000                  8.0   \n",
       "4  01/01/2022 12:30:00 AM       2200.0   2.480000                  8.0   \n",
       "\n",
       "   DropoffCommunityArea  TripTotal PaymentType  \\\n",
       "0                   NaN       3.75        Cash   \n",
       "1                   8.0      52.75        Cash   \n",
       "2                  22.0      14.75        Cash   \n",
       "3                  32.0      11.25        Cash   \n",
       "4                  32.0      11.50      Mobile   \n",
       "\n",
       "                PickupCentroidLocation               DropoffCentroidLocation  \\\n",
       "0                                 None                                  None   \n",
       "1                                 None   POINT (-87.6333080367 41.899602111)   \n",
       "2  POINT (-87.6635175498 41.874005383)  POINT (-87.6991553432 41.9227606205)   \n",
       "3  POINT (-87.6333080367 41.899602111)  POINT (-87.6251921424 41.8788655841)   \n",
       "4  POINT (-87.6333080367 41.899602111)  POINT (-87.6251921424 41.8788655841)   \n",
       "\n",
       "   TripMinutes     TripKm  \n",
       "0     2.533333   0.161000  \n",
       "1    39.333333  28.078401  \n",
       "2     8.933333   7.776300  \n",
       "3    14.950000   3.332700  \n",
       "4    36.666667   3.992800  "
      ]
     },
     "metadata": {},
     "output_type": "display_data"
    }
   ],
   "source": [
    "#добавим новые столбцы TripMinutes и TripKm\n",
    "df_new_col = df_new_names.withColumn('TripMinutes', df_new_names['TripSeconds'] / 60)\n",
    "df_new_col_2 = df_new_col.withColumn('TripKm', df_new_col['TripMiles'] * 1.61)\n",
    "display(df_new_col_2.limit(5).toPandas())"
   ]
  },
  {
   "cell_type": "markdown",
   "id": "099bca74-24ca-4ec0-a667-40331df66094",
   "metadata": {},
   "source": [
    "Устранили аномалии"
   ]
  },
  {
   "cell_type": "code",
   "execution_count": 52,
   "id": "7a6babd6-ad8e-4751-bb4d-7158687b62d7",
   "metadata": {},
   "outputs": [],
   "source": [
    "#работаем с аномалиями\n",
    "df_no_anom = df_new_col_2.where(df_new_col_2.TripMinutes <= 360)\n",
    "df_no_anom = df_no_anom.where(df_no_anom.TripKm <= 360)\n",
    "df_no_anom = df_no_anom.where(df_no_anom.TripMinutes > 0)\n",
    "df_no_anom = df_no_anom.where(df_no_anom.TripKm > 0)\n",
    "df_no_anom = df_no_anom.where(df_no_anom.TripTotal < 500)\n",
    "df_no_anom = df_no_anom.where(df_no_anom.TripTotal > 0)"
   ]
  },
  {
   "cell_type": "markdown",
   "id": "c9215e7a-effb-4ba7-9b04-fa083168b7b1",
   "metadata": {},
   "source": [
    "Генеральная совокупность сократилась на 12%"
   ]
  },
  {
   "cell_type": "code",
   "execution_count": 53,
   "id": "b0a2f7b8-306d-48a9-b6a6-09c3cf60afa4",
   "metadata": {},
   "outputs": [
    {
     "name": "stdout",
     "output_type": "stream",
     "text": [
      "10166155\n",
      "8937715\n",
      "-0.1208362453651356\n"
     ]
    }
   ],
   "source": [
    "print(df_new_col_2[['TripID']].count())\n",
    "print(df_no_anom[['TripID']].count())\n",
    "print((df_no_anom[['TripID']].count() / df_new_col_2[['TripID']].count()) - 1)"
   ]
  },
  {
   "cell_type": "markdown",
   "id": "b9543e72-a978-4b16-b017-04c7ebd4387e",
   "metadata": {},
   "source": [
    "Отработали пропуски в столбцах PickupCommunityArea и DropoffCommunityArea"
   ]
  },
  {
   "cell_type": "code",
   "execution_count": 54,
   "id": "1907c573-5ae2-4054-9d1c-ea5f713b4eff",
   "metadata": {},
   "outputs": [
    {
     "name": "stdout",
     "output_type": "stream",
     "text": [
      "+------+------------------+----------------+-----------+---------+-------------------+--------------------+---------+-----------+----------------------+-----------------------+-----------+------+\n",
      "|TripID|TripStartTimestamp|TripEndTimestamp|TripSeconds|TripMiles|PickupCommunityArea|DropoffCommunityArea|TripTotal|PaymentType|PickupCentroidLocation|DropoffCentroidLocation|TripMinutes|TripKm|\n",
      "+------+------------------+----------------+-----------+---------+-------------------+--------------------+---------+-----------+----------------------+-----------------------+-----------+------+\n",
      "|     0|                 0|               0|          0|        0|             589950|              855318|        0|          0|                588919|                 801168|          0|     0|\n",
      "+------+------------------+----------------+-----------+---------+-------------------+--------------------+---------+-----------+----------------------+-----------------------+-----------+------+\n",
      "\n"
     ]
    }
   ],
   "source": [
    "#отрабатываем пропуски\n",
    "df_no_anom.select([F.count(F.when(F.col(c).isNull(), c)).alias(c) for c in df_no_anom.columns]).show()"
   ]
  },
  {
   "cell_type": "code",
   "execution_count": 55,
   "id": "f4b3e877-a2da-433c-a8c0-a1c4d7e24122",
   "metadata": {},
   "outputs": [
    {
     "name": "stdout",
     "output_type": "stream",
     "text": [
      "+------+------------------+----------------+-----------+---------+-------------------+--------------------+---------+-----------+----------------------+-----------------------+-----------+------+\n",
      "|TripID|TripStartTimestamp|TripEndTimestamp|TripSeconds|TripMiles|PickupCommunityArea|DropoffCommunityArea|TripTotal|PaymentType|PickupCentroidLocation|DropoffCentroidLocation|TripMinutes|TripKm|\n",
      "+------+------------------+----------------+-----------+---------+-------------------+--------------------+---------+-----------+----------------------+-----------------------+-----------+------+\n",
      "|     0|                 0|               0|          0|        0|                  0|                   0|        0|          0|                588919|                 801168|          0|     0|\n",
      "+------+------------------+----------------+-----------+---------+-------------------+--------------------+---------+-----------+----------------------+-----------------------+-----------+------+\n",
      "\n"
     ]
    }
   ],
   "source": [
    "df_no_anom = df_no_anom.fillna(99.0)\n",
    "df_no_anom.select([F.count(F.when(F.col(c).isNull(), c)).alias(c) for c in df_no_anom.columns]).show()"
   ]
  },
  {
   "cell_type": "markdown",
   "id": "18dd6e05-ec85-4f4d-a54b-dffd571fb51b",
   "metadata": {},
   "source": [
    "Повторно убрали бесполезные признаки"
   ]
  },
  {
   "cell_type": "code",
   "execution_count": 56,
   "id": "bba07ee0-39bc-4dd6-b2b9-eb87182081bf",
   "metadata": {},
   "outputs": [],
   "source": [
    "#повторно убрать бесполезные признаки\n",
    "unessen_col = ['TripSeconds', 'TripMiles', 'PickupCentroidLocation', 'DropoffCentroidLocation', 'TripStartDate',\\\n",
    "               'TripEndTimestamp', 'TripID', 'DropoffCommunityArea', 'PaymentType']\n",
    "df_essen_2 = df_no_anom.drop(*unessen_col)"
   ]
  },
  {
   "cell_type": "code",
   "execution_count": 57,
   "id": "c7cb704a-192f-4ed1-b0c6-735d90918678",
   "metadata": {},
   "outputs": [
    {
     "name": "stdout",
     "output_type": "stream",
     "text": [
      "root\n",
      " |-- TripStartTimestamp: timestamp (nullable = true)\n",
      " |-- PickupCommunityArea: float (nullable = false)\n",
      " |-- TripTotal: float (nullable = false)\n",
      " |-- TripMinutes: double (nullable = false)\n",
      " |-- TripKm: double (nullable = false)\n",
      "\n"
     ]
    },
    {
     "name": "stderr",
     "output_type": "stream",
     "text": [
      "/usr/local/spark/python/pyspark/sql/pandas/conversion.py:251: FutureWarning: Passing unit-less datetime64 dtype to .astype is deprecated and will raise in a future version. Pass 'datetime64[ns]' instead\n",
      "  series = series.astype(t, copy=False)\n"
     ]
    },
    {
     "data": {
      "text/html": [
       "<div>\n",
       "<style scoped>\n",
       "    .dataframe tbody tr th:only-of-type {\n",
       "        vertical-align: middle;\n",
       "    }\n",
       "\n",
       "    .dataframe tbody tr th {\n",
       "        vertical-align: top;\n",
       "    }\n",
       "\n",
       "    .dataframe thead th {\n",
       "        text-align: right;\n",
       "    }\n",
       "</style>\n",
       "<table border=\"1\" class=\"dataframe\">\n",
       "  <thead>\n",
       "    <tr style=\"text-align: right;\">\n",
       "      <th></th>\n",
       "      <th>TripStartTimestamp</th>\n",
       "      <th>PickupCommunityArea</th>\n",
       "      <th>TripTotal</th>\n",
       "      <th>TripMinutes</th>\n",
       "      <th>TripKm</th>\n",
       "    </tr>\n",
       "  </thead>\n",
       "  <tbody>\n",
       "    <tr>\n",
       "      <th>0</th>\n",
       "      <td>2022-01-01</td>\n",
       "      <td>99.0</td>\n",
       "      <td>3.75</td>\n",
       "      <td>2.533333</td>\n",
       "      <td>0.161000</td>\n",
       "    </tr>\n",
       "    <tr>\n",
       "      <th>1</th>\n",
       "      <td>2022-01-01</td>\n",
       "      <td>99.0</td>\n",
       "      <td>52.75</td>\n",
       "      <td>39.333333</td>\n",
       "      <td>28.078401</td>\n",
       "    </tr>\n",
       "    <tr>\n",
       "      <th>2</th>\n",
       "      <td>2022-01-01</td>\n",
       "      <td>28.0</td>\n",
       "      <td>14.75</td>\n",
       "      <td>8.933333</td>\n",
       "      <td>7.776300</td>\n",
       "    </tr>\n",
       "    <tr>\n",
       "      <th>3</th>\n",
       "      <td>2022-01-01</td>\n",
       "      <td>8.0</td>\n",
       "      <td>11.25</td>\n",
       "      <td>14.950000</td>\n",
       "      <td>3.332700</td>\n",
       "    </tr>\n",
       "    <tr>\n",
       "      <th>4</th>\n",
       "      <td>2022-01-01</td>\n",
       "      <td>8.0</td>\n",
       "      <td>11.50</td>\n",
       "      <td>36.666667</td>\n",
       "      <td>3.992800</td>\n",
       "    </tr>\n",
       "  </tbody>\n",
       "</table>\n",
       "</div>"
      ],
      "text/plain": [
       "  TripStartTimestamp  PickupCommunityArea  TripTotal  TripMinutes     TripKm\n",
       "0         2022-01-01                 99.0       3.75     2.533333   0.161000\n",
       "1         2022-01-01                 99.0      52.75    39.333333  28.078401\n",
       "2         2022-01-01                 28.0      14.75     8.933333   7.776300\n",
       "3         2022-01-01                  8.0      11.25    14.950000   3.332700\n",
       "4         2022-01-01                  8.0      11.50    36.666667   3.992800"
      ]
     },
     "metadata": {},
     "output_type": "display_data"
    }
   ],
   "source": [
    "#изменили тип данных TripStartTimestamp, TripEndTimestamp, \n",
    "df_chan_typ = df_essen_2.withColumn('TripStartTimestamp',\\\n",
    "                                                    F.to_timestamp(col('TripStartTimestamp'),'MM/dd/yyyy hh:mm:ss a'))\n",
    "df_chan_typ.printSchema()\n",
    "display(df_chan_typ.limit(5).toPandas())"
   ]
  },
  {
   "cell_type": "markdown",
   "id": "42c4468c-c7b6-4000-b5d5-f2dbe2ee9a14",
   "metadata": {},
   "source": [
    "Сжали в почасовые данные"
   ]
  },
  {
   "cell_type": "code",
   "execution_count": 58,
   "id": "45e895b9-bbdc-479f-b124-dfea42f4ca7d",
   "metadata": {},
   "outputs": [],
   "source": [
    "df_hours = df_chan_typ.groupBy(F.date_trunc('hour', 'TripStartTimestamp').alias('date_hour'), 'PickupCommunityArea') \\\n",
    "                   .agg(F.sum('TripTotal').alias('sum_trip_total'),\n",
    "                        F.sum('TripMinutes').alias('sum_trip_minutes'),\n",
    "                        F.sum('TripKm').alias('sum_trip_km'),\n",
    "                        F.count('*').alias('count_orders'), \n",
    "                        ).sort('date_hour', ascending=True)"
   ]
  },
  {
   "cell_type": "code",
   "execution_count": 59,
   "id": "d61ff2e0-b970-47e7-b1ba-1eb873410ca5",
   "metadata": {},
   "outputs": [
    {
     "name": "stdout",
     "output_type": "stream",
     "text": [
      "root\n",
      " |-- date_hour: timestamp (nullable = true)\n",
      " |-- PickupCommunityArea: float (nullable = false)\n",
      " |-- sum_trip_total: double (nullable = true)\n",
      " |-- sum_trip_minutes: double (nullable = true)\n",
      " |-- sum_trip_km: double (nullable = true)\n",
      " |-- count_orders: long (nullable = false)\n",
      "\n"
     ]
    }
   ],
   "source": [
    "df_hours.printSchema()"
   ]
  },
  {
   "cell_type": "markdown",
   "id": "fbf90adb-35e2-4c3b-8be1-e73edba7f558",
   "metadata": {},
   "source": [
    "### Добавляем новые признаки"
   ]
  },
  {
   "cell_type": "markdown",
   "id": "0139f1e5-ea8b-4bf0-9320-41e30a516876",
   "metadata": {},
   "source": [
    "В качестве новых признаков добавили день недели и час"
   ]
  },
  {
   "cell_type": "code",
   "execution_count": 60,
   "id": "dd36decc-e0fa-43a9-820d-3ef9dcd49957",
   "metadata": {
    "scrolled": true
   },
   "outputs": [],
   "source": [
    "#день недели, час\n",
    "df_new_time_ser_col = df_hours.withColumn('day_of_week', dayofweek('date_hour'))\n",
    "df_new_time_ser_col = df_new_time_ser_col.withColumn('hour', hour('date_hour'))"
   ]
  },
  {
   "cell_type": "code",
   "execution_count": 61,
   "id": "55ab2e2f-5679-412d-81d5-ce02351117b1",
   "metadata": {},
   "outputs": [
    {
     "name": "stderr",
     "output_type": "stream",
     "text": [
      "/usr/local/spark/python/pyspark/sql/pandas/conversion.py:251: FutureWarning: Passing unit-less datetime64 dtype to .astype is deprecated and will raise in a future version. Pass 'datetime64[ns]' instead\n",
      "  series = series.astype(t, copy=False)\n"
     ]
    },
    {
     "data": {
      "text/html": [
       "<div>\n",
       "<style scoped>\n",
       "    .dataframe tbody tr th:only-of-type {\n",
       "        vertical-align: middle;\n",
       "    }\n",
       "\n",
       "    .dataframe tbody tr th {\n",
       "        vertical-align: top;\n",
       "    }\n",
       "\n",
       "    .dataframe thead th {\n",
       "        text-align: right;\n",
       "    }\n",
       "</style>\n",
       "<table border=\"1\" class=\"dataframe\">\n",
       "  <thead>\n",
       "    <tr style=\"text-align: right;\">\n",
       "      <th></th>\n",
       "      <th>date_hour</th>\n",
       "      <th>PickupCommunityArea</th>\n",
       "      <th>sum_trip_total</th>\n",
       "      <th>sum_trip_minutes</th>\n",
       "      <th>sum_trip_km</th>\n",
       "      <th>count_orders</th>\n",
       "      <th>day_of_week</th>\n",
       "      <th>hour</th>\n",
       "    </tr>\n",
       "  </thead>\n",
       "  <tbody>\n",
       "    <tr>\n",
       "      <th>0</th>\n",
       "      <td>2022-01-01</td>\n",
       "      <td>25.0</td>\n",
       "      <td>63.25</td>\n",
       "      <td>44.516667</td>\n",
       "      <td>37.496900</td>\n",
       "      <td>2</td>\n",
       "      <td>7</td>\n",
       "      <td>0</td>\n",
       "    </tr>\n",
       "    <tr>\n",
       "      <th>1</th>\n",
       "      <td>2022-01-01</td>\n",
       "      <td>41.0</td>\n",
       "      <td>68.00</td>\n",
       "      <td>71.166667</td>\n",
       "      <td>21.767200</td>\n",
       "      <td>2</td>\n",
       "      <td>7</td>\n",
       "      <td>0</td>\n",
       "    </tr>\n",
       "    <tr>\n",
       "      <th>2</th>\n",
       "      <td>2022-01-01</td>\n",
       "      <td>33.0</td>\n",
       "      <td>93.27</td>\n",
       "      <td>86.600000</td>\n",
       "      <td>42.326901</td>\n",
       "      <td>4</td>\n",
       "      <td>7</td>\n",
       "      <td>0</td>\n",
       "    </tr>\n",
       "    <tr>\n",
       "      <th>3</th>\n",
       "      <td>2022-01-01</td>\n",
       "      <td>48.0</td>\n",
       "      <td>34.25</td>\n",
       "      <td>25.983333</td>\n",
       "      <td>19.947901</td>\n",
       "      <td>1</td>\n",
       "      <td>7</td>\n",
       "      <td>0</td>\n",
       "    </tr>\n",
       "    <tr>\n",
       "      <th>4</th>\n",
       "      <td>2022-01-01</td>\n",
       "      <td>2.0</td>\n",
       "      <td>36.50</td>\n",
       "      <td>31.633333</td>\n",
       "      <td>16.599101</td>\n",
       "      <td>3</td>\n",
       "      <td>7</td>\n",
       "      <td>0</td>\n",
       "    </tr>\n",
       "  </tbody>\n",
       "</table>\n",
       "</div>"
      ],
      "text/plain": [
       "   date_hour  PickupCommunityArea  sum_trip_total  sum_trip_minutes  \\\n",
       "0 2022-01-01                 25.0           63.25         44.516667   \n",
       "1 2022-01-01                 41.0           68.00         71.166667   \n",
       "2 2022-01-01                 33.0           93.27         86.600000   \n",
       "3 2022-01-01                 48.0           34.25         25.983333   \n",
       "4 2022-01-01                  2.0           36.50         31.633333   \n",
       "\n",
       "   sum_trip_km  count_orders  day_of_week  hour  \n",
       "0    37.496900             2            7     0  \n",
       "1    21.767200             2            7     0  \n",
       "2    42.326901             4            7     0  \n",
       "3    19.947901             1            7     0  \n",
       "4    16.599101             3            7     0  "
      ]
     },
     "metadata": {},
     "output_type": "display_data"
    }
   ],
   "source": [
    "display(df_new_time_ser_col.limit(5).toPandas())"
   ]
  },
  {
   "cell_type": "code",
   "execution_count": 62,
   "id": "bd684a83-d9ae-40b7-b5e1-c21b3b568240",
   "metadata": {},
   "outputs": [
    {
     "name": "stdout",
     "output_type": "stream",
     "text": [
      "+----+\n",
      "|hour|\n",
      "+----+\n",
      "|  12|\n",
      "|  22|\n",
      "|   1|\n",
      "|  13|\n",
      "|  16|\n",
      "|   6|\n",
      "|   3|\n",
      "|  20|\n",
      "|   5|\n",
      "|  19|\n",
      "|  15|\n",
      "|  17|\n",
      "|   9|\n",
      "|   4|\n",
      "|   8|\n",
      "|  23|\n",
      "|   7|\n",
      "|  10|\n",
      "|  21|\n",
      "|  11|\n",
      "+----+\n",
      "only showing top 20 rows\n",
      "\n"
     ]
    }
   ],
   "source": [
    "df_new_time_ser_col[['hour']].distinct().show()"
   ]
  },
  {
   "cell_type": "markdown",
   "id": "801c8d66-3a1c-48b6-84be-fdc5c3057a3f",
   "metadata": {},
   "source": [
    "Также в качестве дополнительных признаков выбрали кол-во заказов в предыдущий час, предыдущий час день назад и предыдущий час неделю назад"
   ]
  },
  {
   "cell_type": "code",
   "execution_count": 63,
   "id": "b3c73e38-4c94-4a6d-8893-be7387df7882",
   "metadata": {},
   "outputs": [],
   "source": [
    "#лаги\n",
    "w = Window.partitionBy(\"PickupCommunityArea\").orderBy(\"date_hour\")\n",
    "df_lag = df_new_time_ser_col.withColumn(\"count_orders_prev_hour\", lag(\"count_orders\", 1, 0).over(w))"
   ]
  },
  {
   "cell_type": "code",
   "execution_count": 64,
   "id": "f5483abe-0dd9-47ea-bb8b-2ae19b716c77",
   "metadata": {},
   "outputs": [],
   "source": [
    "df_lag = df_lag.withColumn(\"count_orders_prev_day\", lag(\"count_orders\", 24, 0).over(w))\n",
    "df_lag = df_lag.withColumn(\"count_orders_prev_week\", lag(\"count_orders\", 168, 0).over(w))"
   ]
  },
  {
   "cell_type": "code",
   "execution_count": 65,
   "id": "4a813283-748b-406e-b57f-fcb5ec50d97f",
   "metadata": {},
   "outputs": [
    {
     "name": "stderr",
     "output_type": "stream",
     "text": [
      "/usr/local/spark/python/pyspark/sql/pandas/conversion.py:251: FutureWarning: Passing unit-less datetime64 dtype to .astype is deprecated and will raise in a future version. Pass 'datetime64[ns]' instead\n",
      "  series = series.astype(t, copy=False)\n"
     ]
    },
    {
     "data": {
      "text/html": [
       "<div>\n",
       "<style scoped>\n",
       "    .dataframe tbody tr th:only-of-type {\n",
       "        vertical-align: middle;\n",
       "    }\n",
       "\n",
       "    .dataframe tbody tr th {\n",
       "        vertical-align: top;\n",
       "    }\n",
       "\n",
       "    .dataframe thead th {\n",
       "        text-align: right;\n",
       "    }\n",
       "</style>\n",
       "<table border=\"1\" class=\"dataframe\">\n",
       "  <thead>\n",
       "    <tr style=\"text-align: right;\">\n",
       "      <th></th>\n",
       "      <th>date_hour</th>\n",
       "      <th>PickupCommunityArea</th>\n",
       "      <th>sum_trip_total</th>\n",
       "      <th>sum_trip_minutes</th>\n",
       "      <th>sum_trip_km</th>\n",
       "      <th>count_orders</th>\n",
       "      <th>day_of_week</th>\n",
       "      <th>hour</th>\n",
       "      <th>count_orders_prev_hour</th>\n",
       "      <th>count_orders_prev_day</th>\n",
       "      <th>count_orders_prev_week</th>\n",
       "    </tr>\n",
       "  </thead>\n",
       "  <tbody>\n",
       "    <tr>\n",
       "      <th>0</th>\n",
       "      <td>2022-01-01 00:00:00</td>\n",
       "      <td>2.0</td>\n",
       "      <td>36.50</td>\n",
       "      <td>31.633333</td>\n",
       "      <td>16.599101</td>\n",
       "      <td>3</td>\n",
       "      <td>7</td>\n",
       "      <td>0</td>\n",
       "      <td>0</td>\n",
       "      <td>0</td>\n",
       "      <td>0</td>\n",
       "    </tr>\n",
       "    <tr>\n",
       "      <th>1</th>\n",
       "      <td>2022-01-01 01:00:00</td>\n",
       "      <td>2.0</td>\n",
       "      <td>31.50</td>\n",
       "      <td>30.200000</td>\n",
       "      <td>18.482799</td>\n",
       "      <td>1</td>\n",
       "      <td>7</td>\n",
       "      <td>1</td>\n",
       "      <td>3</td>\n",
       "      <td>0</td>\n",
       "      <td>0</td>\n",
       "    </tr>\n",
       "    <tr>\n",
       "      <th>2</th>\n",
       "      <td>2022-01-01 05:00:00</td>\n",
       "      <td>2.0</td>\n",
       "      <td>213.50</td>\n",
       "      <td>124.800000</td>\n",
       "      <td>65.639700</td>\n",
       "      <td>4</td>\n",
       "      <td>7</td>\n",
       "      <td>5</td>\n",
       "      <td>1</td>\n",
       "      <td>0</td>\n",
       "      <td>0</td>\n",
       "    </tr>\n",
       "    <tr>\n",
       "      <th>3</th>\n",
       "      <td>2022-01-01 06:00:00</td>\n",
       "      <td>2.0</td>\n",
       "      <td>88.25</td>\n",
       "      <td>101.850000</td>\n",
       "      <td>43.598799</td>\n",
       "      <td>3</td>\n",
       "      <td>7</td>\n",
       "      <td>6</td>\n",
       "      <td>4</td>\n",
       "      <td>0</td>\n",
       "      <td>0</td>\n",
       "    </tr>\n",
       "    <tr>\n",
       "      <th>4</th>\n",
       "      <td>2022-01-01 07:00:00</td>\n",
       "      <td>2.0</td>\n",
       "      <td>12.50</td>\n",
       "      <td>8.416667</td>\n",
       "      <td>4.186000</td>\n",
       "      <td>2</td>\n",
       "      <td>7</td>\n",
       "      <td>7</td>\n",
       "      <td>3</td>\n",
       "      <td>0</td>\n",
       "      <td>0</td>\n",
       "    </tr>\n",
       "  </tbody>\n",
       "</table>\n",
       "</div>"
      ],
      "text/plain": [
       "            date_hour  PickupCommunityArea  sum_trip_total  sum_trip_minutes  \\\n",
       "0 2022-01-01 00:00:00                  2.0           36.50         31.633333   \n",
       "1 2022-01-01 01:00:00                  2.0           31.50         30.200000   \n",
       "2 2022-01-01 05:00:00                  2.0          213.50        124.800000   \n",
       "3 2022-01-01 06:00:00                  2.0           88.25        101.850000   \n",
       "4 2022-01-01 07:00:00                  2.0           12.50          8.416667   \n",
       "\n",
       "   sum_trip_km  count_orders  day_of_week  hour  count_orders_prev_hour  \\\n",
       "0    16.599101             3            7     0                       0   \n",
       "1    18.482799             1            7     1                       3   \n",
       "2    65.639700             4            7     5                       1   \n",
       "3    43.598799             3            7     6                       4   \n",
       "4     4.186000             2            7     7                       3   \n",
       "\n",
       "   count_orders_prev_day  count_orders_prev_week  \n",
       "0                      0                       0  \n",
       "1                      0                       0  \n",
       "2                      0                       0  \n",
       "3                      0                       0  \n",
       "4                      0                       0  "
      ]
     },
     "metadata": {},
     "output_type": "display_data"
    }
   ],
   "source": [
    "display(df_lag.limit(5).toPandas())"
   ]
  },
  {
   "cell_type": "markdown",
   "id": "5fe97856-1aee-494c-8c42-4d9dc5e9aecf",
   "metadata": {},
   "source": [
    "## Работа с моделями"
   ]
  },
  {
   "cell_type": "markdown",
   "id": "5c0ecba2-1a36-4e0f-b86e-ba8803325549",
   "metadata": {},
   "source": [
    "Определили функцию для разделения генеральной совокупности на обучающую и тестовую"
   ]
  },
  {
   "cell_type": "code",
   "execution_count": 66,
   "id": "b95a6e40-343a-46b7-90e3-f3be0dc10dff",
   "metadata": {},
   "outputs": [],
   "source": [
    "def prep_samples(df, area):\n",
    "    df_area = df.select('*').where(df.PickupCommunityArea == area)\n",
    "    #делим выборку на обучающую и тестовую\n",
    "    train, test = df_area.randomSplit([0.75, 0.25], seed=SEED)\n",
    "    return train, test"
   ]
  },
  {
   "cell_type": "markdown",
   "id": "2f89324e-b99b-4cad-9332-8603869b04bb",
   "metadata": {},
   "source": [
    "Все необходимые нам признаки численные, поэтому определили функцию для осуществления только масштабирования переменных, их кодирование не требуется"
   ]
  },
  {
   "cell_type": "code",
   "execution_count": 67,
   "id": "ab3286ba-dadc-41ff-ad05-897ce8166119",
   "metadata": {},
   "outputs": [],
   "source": [
    "#масштабирование\n",
    "def make_scal(tr, te, sign):\n",
    "    df_test_train = tr.select(\n",
    "    mean(col(sign)).alias(sign + '_mean'),\n",
    "    stddev(col(sign)).alias(sign + '_std')\n",
    ").collect()\n",
    "    df_test_test = te.select(\n",
    "    mean(col(sign)).alias(sign + '_mean'),\n",
    "    stddev(col(sign)).alias(sign + '_std')\n",
    ").collect()\n",
    "    \n",
    "    mean_train = df_test_train[0][sign + '_mean']\n",
    "    std_train = df_test_train[0][sign + '_std']\n",
    "       \n",
    "    mean_test = df_test_test[0][sign + '_mean']\n",
    "    std_test = df_test_test[0][sign + '_std']\n",
    "    return mean_train, std_train, mean_test, std_test"
   ]
  },
  {
   "cell_type": "markdown",
   "id": "96283b6d-ce85-42cb-8126-beafe08fc2f0",
   "metadata": {},
   "source": [
    "СТОИТ ЕЩЕ НЕСКОЛЬКО МОДЕЛЕЙ ДОБАВИТЬ"
   ]
  },
  {
   "cell_type": "markdown",
   "id": "23217c08-4118-4d07-9b16-3af22257c418",
   "metadata": {},
   "source": [
    "Запустили определенные выше функции, а также непосредственно создание и обучение модели (grid search, кросс-валидацию) в цикле по каждому community. В качестве модели выбрали логистическую регрессию"
   ]
  },
  {
   "cell_type": "code",
   "execution_count": 68,
   "id": "5ae2eded-70b6-4ca9-949b-546dba5f75a7",
   "metadata": {},
   "outputs": [
    {
     "name": "stdout",
     "output_type": "stream",
     "text": [
      "регион № 18.0\n",
      "MAE лучшей модели 0.09396952100163687\n",
      "\n",
      "регион № 64.0\n",
      "MAE лучшей модели 0.2000311008273246\n",
      "\n",
      "регион № 47.0\n",
      "MAE лучшей модели 0.2034014452424896\n",
      "\n",
      "регион № 9.0\n",
      "MAE лучшей модели 0.15660929983561714\n",
      "\n",
      "регион № 58.0\n",
      "MAE лучшей модели 0.2854495180876481\n",
      "\n",
      "регион № 5.0\n",
      "MAE лучшей модели 0.6008343408157935\n",
      "\n",
      "регион № 39.0\n",
      "MAE лучшей модели 0.6542573378147853\n",
      "\n",
      "регион № 17.0\n",
      "MAE лучшей модели 0.24908014048371777\n",
      "\n",
      "регион № 30.0\n",
      "MAE лучшей модели 0.32379860637864155\n",
      "\n",
      "регион № 26.0\n",
      "MAE лучшей модели 0.26443340823472705\n",
      "\n",
      "регион № 41.0\n",
      "MAE лучшей модели 0.9157311175056282\n",
      "\n",
      "регион № 99.0\n",
      "MAE лучшей модели 3.6610184311656147\n",
      "\n",
      "регион № 29.0\n",
      "MAE лучшей модели 0.30754668772029947\n",
      "\n",
      "регион № 23.0\n",
      "MAE лучшей модели 0.3275954045288012\n",
      "\n",
      "регион № 11.0\n",
      "MAE лучшей модели 0.45356716833254324\n",
      "\n",
      "регион № 67.0\n",
      "MAE лучшей модели 0.3150973719409819\n",
      "\n",
      "регион № 49.0\n",
      "MAE лучшей модели 0.42457576167856875\n",
      "\n",
      "регион № 7.0\n",
      "MAE лучшей модели 1.7852228078244519\n",
      "\n",
      "регион № 2.0\n",
      "MAE лучшей модели 0.9088679879861458\n",
      "\n",
      "регион № 56.0\n",
      "MAE лучшей модели 1.5938731245375013\n",
      "\n",
      "регион № 14.0\n",
      "MAE лучшей модели 0.4838261333645585\n",
      "\n",
      "регион № 54.0\n",
      "MAE лучшей модели 0.22670884301313124\n",
      "\n",
      "регион № 3.0\n",
      "MAE лучшей модели 1.46312979098119\n",
      "\n",
      "регион № 21.0\n",
      "MAE лучшей модели 0.4428911421129096\n",
      "\n",
      "регион № 55.0\n",
      "MAE лучшей модели 0.2526216230317608\n",
      "\n",
      "регион № 38.0\n",
      "MAE лучшей модели 0.7017879940274192\n",
      "\n",
      "регион № 51.0\n",
      "MAE лучшей модели 0.36254313776911273\n",
      "\n",
      "регион № 48.0\n",
      "MAE лучшей модели 0.3595952837682539\n",
      "\n",
      "регион № 66.0\n",
      "MAE лучшей модели 0.27816687058286327\n",
      "\n",
      "регион № 72.0\n",
      "MAE лучшей модели 0.2933992350645276\n",
      "\n",
      "регион № 70.0\n",
      "MAE лучшей модели 0.28481177110945405\n",
      "\n",
      "регион № 65.0\n",
      "MAE лучшей модели 0.23614397775152265\n",
      "\n",
      "регион № 43.0\n",
      "MAE лучшей модели 0.6559181328676368\n",
      "\n",
      "регион № 10.0\n",
      "MAE лучшей модели 0.5053717622626869\n",
      "\n",
      "регион № 27.0\n",
      "MAE лучшей модели 0.3255890365641263\n",
      "\n",
      "регион № 53.0\n",
      "MAE лучшей модели 0.3121388692324153\n",
      "\n",
      "регион № 68.0\n",
      "MAE лучшей модели 0.3639964364897787\n",
      "\n",
      "регион № 40.0\n",
      "MAE лучшей модели 0.366969300610865\n",
      "\n",
      "регион № 12.0\n",
      "MAE лучшей модели 0.3282142150048797\n",
      "\n",
      "регион № 77.0\n",
      "MAE лучшей модели 1.250648438587404\n",
      "\n",
      "регион № 20.0\n",
      "MAE лучшей модели 0.1381019081288742\n",
      "\n",
      "регион № 57.0\n",
      "MAE лучшей модели 0.1959834129817525\n",
      "\n",
      "регион № 35.0\n",
      "MAE лучшей модели 0.7407571767002646\n",
      "\n",
      "регион № 1.0\n",
      "MAE лучшей модели 0.8234151750407518\n",
      "\n",
      "регион № 6.0\n",
      "MAE лучшей модели 2.6527002264121076\n",
      "\n",
      "регион № 34.0\n",
      "MAE лучшей модели 0.44272391368609104\n",
      "\n",
      "регион № 71.0\n",
      "MAE лучшей модели 0.345204482223392\n",
      "\n",
      "регион № 8.0\n",
      "MAE лучшей модели 11.103134356500819\n",
      "\n",
      "регион № 50.0\n",
      "MAE лучшей модели 0.33718291045650634\n",
      "\n",
      "регион № 76.0\n",
      "MAE лучшей модели 4.196921482627616\n",
      "\n",
      "регион № 24.0\n",
      "MAE лучшей модели 1.2328890284684069\n",
      "\n",
      "регион № 69.0\n",
      "MAE лучшей модели 0.5075342814914663\n",
      "\n",
      "регион № 44.0\n",
      "MAE лучшей модели 0.5399204319281404\n",
      "\n",
      "регион № 16.0\n",
      "MAE лучшей модели 0.6310916216292934\n",
      "\n",
      "регион № 42.0\n",
      "MAE лучшей модели 0.5798382322821704\n",
      "\n",
      "регион № 45.0\n",
      "MAE лучшей модели 0.34145608749240297\n",
      "\n",
      "регион № 62.0\n",
      "MAE лучшей модели 0.14228429003974588\n",
      "\n",
      "регион № 46.0\n",
      "MAE лучшей модели 0.3664864137669596\n",
      "\n",
      "регион № 52.0\n",
      "MAE лучшей модели 0.22142627156741515\n",
      "\n",
      "регион № 22.0\n",
      "MAE лучшей модели 0.710323516123887\n",
      "\n",
      "регион № 59.0\n",
      "MAE лучшей модели 0.7582638676838509\n",
      "\n",
      "регион № 32.0\n",
      "MAE лучшей модели 10.68546801631751\n",
      "\n",
      "регион № 19.0\n",
      "MAE лучшей модели 0.28564677250340564\n",
      "\n",
      "регион № 25.0\n",
      "MAE лучшей модели 0.4097745304353714\n",
      "\n",
      "регион № 36.0\n",
      "MAE лучшей модели 0.41668068793010077\n",
      "\n",
      "регион № 33.0\n",
      "MAE лучшей модели 4.472653609901265\n",
      "\n",
      "регион № 15.0\n",
      "MAE лучшей модели 0.44321281567478543\n",
      "\n",
      "регион № 4.0\n",
      "MAE лучшей модели 0.7607420984724617\n",
      "CPU times: user 32 s, sys: 25.6 s, total: 57.6 s\n",
      "Wall time: 1h 46min 17s\n"
     ]
    }
   ],
   "source": [
    "%%time\n",
    "\n",
    "mae_list = []\n",
    "area_list = []\n",
    "model_list = []\n",
    "index = 1\n",
    "\n",
    "#for a in [8.0, 99.0]:\n",
    "df_areas = df_lag[['PickupCommunityArea']].distinct().toPandas()\n",
    "for a in df_areas['PickupCommunityArea']:\n",
    "    print('регион №', a)\n",
    "    #делим на выборки\n",
    "    train, test = prep_samples(df_lag, a)\n",
    "    #print('размеры выборок')\n",
    "    #print('train', (train.count(), len(train.columns)))\n",
    "    #print('test', (test.count(), len(test.columns)))\n",
    "    #print()\n",
    "    #масштабируем\n",
    "    for s in ['sum_trip_total', 'sum_trip_minutes', 'sum_trip_km', 'day_of_week', 'hour', 'count_orders_prev_hour', 'count_orders_prev_day', 'count_orders_prev_week']:\n",
    "        m_train, s_train, m_test, s_test = make_scal(train, test, s)\n",
    "        train = train.withColumn(s + '_scal', (train[s] - m_train) / s_train)\n",
    "        test = test.withColumn(s + '_scal', (test[s] - m_test) / s_test)\n",
    "    #print('train_scaled')\n",
    "    #display(train.limit(5).toPandas())\n",
    "    #print('test_scaled')\n",
    "    #display(test.limit(5).toPandas())\n",
    "    #убираем лишние столбцы\n",
    "    unessen_col = ['date_hour', 'PickupCommunityArea', 'sum_trip_total', 'sum_trip_minutes', 'sum_trip_km', 'day_of_week', 'hour', 'count_orders_prev_hour',\\\n",
    "               'count_orders_prev_day', 'count_orders_prev_week']\n",
    "    train_ess_col = train.drop(*unessen_col)\n",
    "    #print('train_scaled_essential_signs')\n",
    "    #display(train_ess_col.limit(5).toPandas())\n",
    "    #определяем целевой и обучающие признаки\n",
    "    features = ['sum_trip_total_scal', 'sum_trip_minutes_scal', 'sum_trip_km_scal', 'day_of_week_scal', 'hour_scal', 'count_orders_prev_hour_scal',\\\n",
    "            'count_orders_prev_day_scal', 'count_orders_prev_week_scal']\n",
    "    target = 'count_orders'\n",
    "    attributes = features + [target]\n",
    "    sample = train_ess_col.select(attributes)\n",
    "    #создаем вектор\n",
    "    assembler = VectorAssembler(inputCols=features, outputCol='features')\n",
    "    output = assembler.transform(sample)\n",
    "    #определяем модель логистической регрессии\n",
    "    lin_reg = LinearRegression(featuresCol='features', labelCol='count_orders')\n",
    "    #используем grid_search для подбора гипер-параметров\n",
    "    grid_search = ParamGridBuilder() \\\n",
    "    .addGrid(lin_reg.regParam, [0.0, 0.01, 0.1]) \\\n",
    "    .addGrid(lin_reg.elasticNetParam, [0.5, 1.0]) \\\n",
    "    .build()\n",
    "    evaluator = RegressionEvaluator(predictionCol='prediction', labelCol='count_orders')\n",
    "    #обучаем модель кросс-валидацией\n",
    "    cv = CrossValidator(estimator=lin_reg,\n",
    "                    estimatorParamMaps=grid_search,\n",
    "                    evaluator=evaluator)\n",
    "    #cv_model == 'cv_model' + '_' + str(a)\n",
    "    cv_model = cv.fit(output)\n",
    "    #получаем оценку лучшей модели\n",
    "    best_mae = cv_model.bestModel.summary.meanAbsoluteError\n",
    "    print('MAE лучшей модели', best_mae)\n",
    "    mae_list.append(best_mae)\n",
    "    area_list.append(a)\n",
    "    model_list.append(cv_model)\n",
    "    if index > 67:\n",
    "        break\n",
    "    else:\n",
    "        index += 1\n",
    "        print()\n",
    "    #print()"
   ]
  },
  {
   "cell_type": "markdown",
   "id": "e0684178-e939-4e54-b225-5dcfa57be44b",
   "metadata": {},
   "source": [
    "Медианное значение MAE лучших моделей по всем регионам составило 0.41"
   ]
  },
  {
   "cell_type": "code",
   "execution_count": 69,
   "id": "4d01f6d0-f37d-4c8d-8293-2993bc8eaec6",
   "metadata": {},
   "outputs": [
    {
     "name": "stdout",
     "output_type": "stream",
     "text": [
      "0.41322760918273604\n"
     ]
    }
   ],
   "source": [
    "print(statistics.median(mae_list))"
   ]
  },
  {
   "cell_type": "code",
   "execution_count": 70,
   "id": "815c3b2f-70e3-4588-9f3f-7439732139a1",
   "metadata": {},
   "outputs": [
    {
     "data": {
      "text/html": [
       "<div>\n",
       "<style scoped>\n",
       "    .dataframe tbody tr th:only-of-type {\n",
       "        vertical-align: middle;\n",
       "    }\n",
       "\n",
       "    .dataframe tbody tr th {\n",
       "        vertical-align: top;\n",
       "    }\n",
       "\n",
       "    .dataframe thead th {\n",
       "        text-align: right;\n",
       "    }\n",
       "</style>\n",
       "<table border=\"1\" class=\"dataframe\">\n",
       "  <thead>\n",
       "    <tr style=\"text-align: right;\">\n",
       "      <th></th>\n",
       "      <th>area number</th>\n",
       "      <th>mae</th>\n",
       "      <th>model name</th>\n",
       "    </tr>\n",
       "  </thead>\n",
       "  <tbody>\n",
       "    <tr>\n",
       "      <th>0</th>\n",
       "      <td>18.0</td>\n",
       "      <td>0.09397</td>\n",
       "      <td>CrossValidatorModel_1c837044810b</td>\n",
       "    </tr>\n",
       "    <tr>\n",
       "      <th>40</th>\n",
       "      <td>20.0</td>\n",
       "      <td>0.138102</td>\n",
       "      <td>CrossValidatorModel_d4b4b4100c89</td>\n",
       "    </tr>\n",
       "    <tr>\n",
       "      <th>56</th>\n",
       "      <td>62.0</td>\n",
       "      <td>0.142284</td>\n",
       "      <td>CrossValidatorModel_6b049391a946</td>\n",
       "    </tr>\n",
       "    <tr>\n",
       "      <th>3</th>\n",
       "      <td>9.0</td>\n",
       "      <td>0.156609</td>\n",
       "      <td>CrossValidatorModel_64dace4a23a1</td>\n",
       "    </tr>\n",
       "    <tr>\n",
       "      <th>41</th>\n",
       "      <td>57.0</td>\n",
       "      <td>0.195983</td>\n",
       "      <td>CrossValidatorModel_78adf2ecdce3</td>\n",
       "    </tr>\n",
       "    <tr>\n",
       "      <th>...</th>\n",
       "      <td>...</td>\n",
       "      <td>...</td>\n",
       "      <td>...</td>\n",
       "    </tr>\n",
       "    <tr>\n",
       "      <th>11</th>\n",
       "      <td>99.0</td>\n",
       "      <td>3.661018</td>\n",
       "      <td>CrossValidatorModel_79c98ff18d82</td>\n",
       "    </tr>\n",
       "    <tr>\n",
       "      <th>49</th>\n",
       "      <td>76.0</td>\n",
       "      <td>4.196921</td>\n",
       "      <td>CrossValidatorModel_a68684cc3542</td>\n",
       "    </tr>\n",
       "    <tr>\n",
       "      <th>65</th>\n",
       "      <td>33.0</td>\n",
       "      <td>4.472654</td>\n",
       "      <td>CrossValidatorModel_71ab8fec7b79</td>\n",
       "    </tr>\n",
       "    <tr>\n",
       "      <th>61</th>\n",
       "      <td>32.0</td>\n",
       "      <td>10.685468</td>\n",
       "      <td>CrossValidatorModel_2574b7a7740b</td>\n",
       "    </tr>\n",
       "    <tr>\n",
       "      <th>47</th>\n",
       "      <td>8.0</td>\n",
       "      <td>11.103134</td>\n",
       "      <td>CrossValidatorModel_c7444668bc55</td>\n",
       "    </tr>\n",
       "  </tbody>\n",
       "</table>\n",
       "<p>68 rows × 3 columns</p>\n",
       "</div>"
      ],
      "text/plain": [
       "   area number        mae                        model name\n",
       "0         18.0    0.09397  CrossValidatorModel_1c837044810b\n",
       "40        20.0   0.138102  CrossValidatorModel_d4b4b4100c89\n",
       "56        62.0   0.142284  CrossValidatorModel_6b049391a946\n",
       "3          9.0   0.156609  CrossValidatorModel_64dace4a23a1\n",
       "41        57.0   0.195983  CrossValidatorModel_78adf2ecdce3\n",
       "..         ...        ...                               ...\n",
       "11        99.0   3.661018  CrossValidatorModel_79c98ff18d82\n",
       "49        76.0   4.196921  CrossValidatorModel_a68684cc3542\n",
       "65        33.0   4.472654  CrossValidatorModel_71ab8fec7b79\n",
       "61        32.0  10.685468  CrossValidatorModel_2574b7a7740b\n",
       "47         8.0  11.103134  CrossValidatorModel_c7444668bc55\n",
       "\n",
       "[68 rows x 3 columns]"
      ]
     },
     "metadata": {},
     "output_type": "display_data"
    }
   ],
   "source": [
    "results = pd.DataFrame(np.column_stack([area_list, mae_list, model_list]),\n",
    "                               columns=['area number', 'mae', 'model name']).sort_values('mae')\n",
    "display(results)"
   ]
  },
  {
   "cell_type": "markdown",
   "id": "5ea0555e-62ae-48ff-a4f3-7b0519f966cb",
   "metadata": {},
   "source": [
    "## Проверяем качество последней модели на тесте"
   ]
  },
  {
   "cell_type": "markdown",
   "id": "f381b307-d034-427a-88f9-64623f0c4893",
   "metadata": {},
   "source": [
    "ИЛИ КАКУЮ МОДЕЛЬ ЛУЧШЕ ПРОВЕРЯТЬ?"
   ]
  },
  {
   "cell_type": "markdown",
   "id": "7451a899-a531-47ae-83cb-e7a53d2fde2f",
   "metadata": {},
   "source": [
    "На тестовой выборке значение MAE модели последнего региона составило 0.77"
   ]
  },
  {
   "cell_type": "code",
   "execution_count": 71,
   "id": "4331fb96-db0f-4a99-9c5d-6e6dada7cd9d",
   "metadata": {},
   "outputs": [],
   "source": [
    "test_ess_col = test.drop(*unessen_col)\n",
    "sample_test = test_ess_col.select(attributes)\n",
    "output_test = assembler.transform(sample_test)"
   ]
  },
  {
   "cell_type": "code",
   "execution_count": 72,
   "id": "787d080c-4ab3-4e00-b14f-f7a84027b4da",
   "metadata": {
    "scrolled": true
   },
   "outputs": [],
   "source": [
    "#display(output_test.limit(5).toPandas())"
   ]
  },
  {
   "cell_type": "code",
   "execution_count": 73,
   "id": "96c6ce2d-b5ad-4106-b052-338c8538b937",
   "metadata": {},
   "outputs": [],
   "source": [
    "#делаем предсказания\n",
    "pred = cv_model.transform(output_test)"
   ]
  },
  {
   "cell_type": "code",
   "execution_count": 74,
   "id": "79094b10-8fba-4e6b-bb92-39e234d99da4",
   "metadata": {},
   "outputs": [],
   "source": [
    "#display(pred.limit(5).toPandas())"
   ]
  },
  {
   "cell_type": "code",
   "execution_count": 75,
   "id": "7fc3e6ec-cee7-41c7-a6bb-8f53caa82630",
   "metadata": {},
   "outputs": [],
   "source": [
    "#рассчитываем MAE\n",
    "pred_new_col = pred.withColumn('abs', abs(pred['count_orders'] - pred['prediction']))"
   ]
  },
  {
   "cell_type": "code",
   "execution_count": 76,
   "id": "467b867e-0bd5-405b-a210-584bafe1d532",
   "metadata": {
    "scrolled": true
   },
   "outputs": [],
   "source": [
    "#display(pred_new_col.limit(5).toPandas())"
   ]
  },
  {
   "cell_type": "code",
   "execution_count": 77,
   "id": "cd9e67c9-0eaf-4339-8234-206ae1ebe011",
   "metadata": {},
   "outputs": [
    {
     "name": "stdout",
     "output_type": "stream",
     "text": [
      "MAE 0.7675979105309225\n"
     ]
    }
   ],
   "source": [
    "pred_new_col_pd = pred_new_col.toPandas()\n",
    "print('MAE', pred_new_col_pd['abs'].sum() / pred_new_col_pd['abs'].count())"
   ]
  },
  {
   "cell_type": "markdown",
   "id": "da3b0de4-31a9-46ae-bbe9-47082c72dd0c",
   "metadata": {},
   "source": [
    "ДОБАВИТЬ МАТРИЦУ ОШИБОК"
   ]
  },
  {
   "cell_type": "raw",
   "id": "edc0101c-f037-47c9-a2a5-8a7ebc9fe49d",
   "metadata": {},
   "source": [
    "rdd = sc.parallelize(\n",
    "    [\n",
    "        (0., 1.), \n",
    "        (0., 0.), \n",
    "        (0., 0.), \n",
    "        (1., 1.), \n",
    "        (1.,0.), \n",
    "        (1.,0.),\n",
    "        (1.,1.),\n",
    "        (1.,1.)\n",
    "    ]\n",
    ")"
   ]
  },
  {
   "cell_type": "raw",
   "id": "f050064d-7809-4c53-a5dc-57ed54f2475e",
   "metadata": {},
   "source": [
    "df = sqlContext.createDataFrame(rdd, [pred['prediction'], pred['count_orders']])"
   ]
  },
  {
   "cell_type": "markdown",
   "id": "868e1807-5695-4582-aae5-87de371b2cdd",
   "metadata": {},
   "source": [
    "ДОБАВИТЬ ВАЖНОСТЬ ПРИЗНАКОВ"
   ]
  },
  {
   "cell_type": "raw",
   "id": "37af2043-e82d-42af-809b-08442f6aa4ae",
   "metadata": {},
   "source": [
    "cv_model.featureImportances"
   ]
  },
  {
   "cell_type": "markdown",
   "id": "2249fdad-488b-4987-ae29-ddefcee7459b",
   "metadata": {},
   "source": [
    "## Общий вывод по итогам проведенной работы"
   ]
  },
  {
   "cell_type": "markdown",
   "id": "9ada95d0-6a97-4a25-bb5a-e61915921d1f",
   "metadata": {},
   "source": [
    "- В рамках проекта перед нами была поставлена задача создать модель, которая бы предсказывала кол-во заказов такси на следующий час в каждом округе (community).\n",
    "- Предварительно данные из csv файлов объединили в один DataFrame.\n",
    "- Для проведения исследовательского анализа и обработки данных создали репрезентативную выборку.\n",
    "- В рамках обработки данных проверили наличие дубликатов, убрали бесполезные для анализа признаки, изменили названия столбцов, добавили новые признаки, отработали аномалии и пропуси.\n",
    "- \n",
    "По аналогии с выборкой обработали данные в генеральной совокупост .и- \r\n",
    "Сжали представленную информацию в почасовыданные.ы- е\r\n",
    "В качестве новых временных признаков добавили день недели и час, кол-во заказов в предыдущий час, предыдущий час день назад и предыдущий час недел н.а.зад"
   ]
  },
  {
   "cell_type": "markdown",
   "id": "670d4422-c0fc-4a4c-a413-8e949c3db3db",
   "metadata": {},
   "source": [
    "В рамках работы с моделями:\n",
    "- разделили генеральную совокупность на обучающую и тестовую\n",
    "- провели масштабирование численных признаков, кодирование признаков не требуется\n",
    "- в качестве модели выбрали логистическую регрессию\n",
    "- гипер-параметры выбрали с помощью grid search\n",
    "- обучение и оценку MAE лучшей модели провели с использованием кросс-валидации"
   ]
  },
  {
   "cell_type": "markdown",
   "id": "b63c48af-ad4e-4949-8d6f-8b529a4cbe0b",
   "metadata": {},
   "source": [
    "**Медианное значение MAE лучших моделей по всем регионам составило 0.41**"
   ]
  },
  {
   "cell_type": "markdown",
   "id": "3bf12c58-ff2e-4fee-a8b5-7bea5ac94864",
   "metadata": {},
   "source": [
    "На тестовой выборке значение MAE модели последнего региона составило 0.77"
   ]
  },
  {
   "cell_type": "markdown",
   "id": "88c98551-2111-4539-a481-99bb18bdd233",
   "metadata": {},
   "source": [
    "В рамках развития работы над проектом запланировано:\n"
   ]
  },
  {
   "cell_type": "markdown",
   "id": "1bf5df29-47bc-4883-92bf-b03f26472dc0",
   "metadata": {},
   "source": [
    "- добавить анализ трендов и сезонности\n",
    "- добавить несколько ML моделей\n",
    "- добавить матрицу ошибок\n",
    "- добавить важность признаков"
   ]
  },
  {
   "cell_type": "code",
   "execution_count": null,
   "id": "b74529b4-15a9-4d6c-ba48-9391f7822d29",
   "metadata": {},
   "outputs": [],
   "source": []
  }
 ],
 "metadata": {
  "kernelspec": {
   "display_name": "Python 3 (ipykernel)",
   "language": "python",
   "name": "python3"
  },
  "language_info": {
   "codemirror_mode": {
    "name": "ipython",
    "version": 3
   },
   "file_extension": ".py",
   "mimetype": "text/x-python",
   "name": "python",
   "nbconvert_exporter": "python",
   "pygments_lexer": "ipython3",
   "version": "3.11.5"
  }
 },
 "nbformat": 4,
 "nbformat_minor": 5
}
